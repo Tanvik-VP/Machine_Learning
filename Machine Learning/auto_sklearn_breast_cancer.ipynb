{
 "cells": [
  {
   "cell_type": "markdown",
   "metadata": {
    "id": "TcrTahPom1pH"
   },
   "source": [
    "Fitting classification model using auto-sklearn"
   ]
  },
  {
   "cell_type": "code",
   "execution_count": 1,
   "metadata": {
    "colab": {
     "base_uri": "https://localhost:8080/"
    },
    "id": "JhiglVnKm85L",
    "outputId": "b33632d0-0281-4311-9c27-b30a6a211e9a"
   },
   "outputs": [
    {
     "name": "stdout",
     "output_type": "stream",
     "text": [
      "Looking in indexes: https://pypi.org/simple, https://us-python.pkg.dev/colab-wheels/public/simple/\n",
      "Requirement already satisfied: auto-sklearn in /usr/local/lib/python3.7/dist-packages (0.14.7)\n",
      "Requirement already satisfied: distro in /usr/local/lib/python3.7/dist-packages (from auto-sklearn) (1.7.0)\n",
      "Requirement already satisfied: joblib in /usr/local/lib/python3.7/dist-packages (from auto-sklearn) (1.1.0)\n",
      "Requirement already satisfied: setuptools in /usr/local/lib/python3.7/dist-packages (from auto-sklearn) (57.4.0)\n",
      "Requirement already satisfied: scikit-learn<0.25.0,>=0.24.0 in /usr/local/lib/python3.7/dist-packages (from auto-sklearn) (0.24.2)\n",
      "Requirement already satisfied: typing-extensions in /usr/local/lib/python3.7/dist-packages (from auto-sklearn) (4.1.1)\n",
      "Requirement already satisfied: pyyaml in /usr/local/lib/python3.7/dist-packages (from auto-sklearn) (6.0)\n",
      "Requirement already satisfied: scipy>=1.7.0 in /usr/local/lib/python3.7/dist-packages (from auto-sklearn) (1.7.3)\n",
      "Requirement already satisfied: threadpoolctl in /usr/local/lib/python3.7/dist-packages (from auto-sklearn) (3.1.0)\n",
      "Requirement already satisfied: pynisher<0.7,>=0.6.3 in /usr/local/lib/python3.7/dist-packages (from auto-sklearn) (0.6.4)\n",
      "Requirement already satisfied: pandas>=1.0 in /usr/local/lib/python3.7/dist-packages (from auto-sklearn) (1.3.5)\n",
      "Requirement already satisfied: pyrfr<0.9,>=0.8.1 in /usr/local/lib/python3.7/dist-packages (from auto-sklearn) (0.8.3)\n",
      "Requirement already satisfied: ConfigSpace<0.5,>=0.4.21 in /usr/local/lib/python3.7/dist-packages (from auto-sklearn) (0.4.21)\n",
      "Requirement already satisfied: numpy>=1.9.0 in /usr/local/lib/python3.7/dist-packages (from auto-sklearn) (1.21.6)\n",
      "Requirement already satisfied: liac-arff in /usr/local/lib/python3.7/dist-packages (from auto-sklearn) (2.5.0)\n",
      "Requirement already satisfied: dask>=2021.12 in /usr/local/lib/python3.7/dist-packages (from auto-sklearn) (2022.2.0)\n",
      "Requirement already satisfied: smac<1.3,>=1.2 in /usr/local/lib/python3.7/dist-packages (from auto-sklearn) (1.2)\n",
      "Requirement already satisfied: distributed>=2012.12 in /usr/local/lib/python3.7/dist-packages (from auto-sklearn) (2022.2.0)\n",
      "Requirement already satisfied: pyparsing in /usr/local/lib/python3.7/dist-packages (from ConfigSpace<0.5,>=0.4.21->auto-sklearn) (3.0.9)\n",
      "Requirement already satisfied: cython in /usr/local/lib/python3.7/dist-packages (from ConfigSpace<0.5,>=0.4.21->auto-sklearn) (0.29.30)\n",
      "Requirement already satisfied: cloudpickle>=1.1.1 in /usr/local/lib/python3.7/dist-packages (from dask>=2021.12->auto-sklearn) (2.1.0)\n",
      "Requirement already satisfied: packaging>=20.0 in /usr/local/lib/python3.7/dist-packages (from dask>=2021.12->auto-sklearn) (21.3)\n",
      "Requirement already satisfied: partd>=0.3.10 in /usr/local/lib/python3.7/dist-packages (from dask>=2021.12->auto-sklearn) (1.2.0)\n",
      "Requirement already satisfied: toolz>=0.8.2 in /usr/local/lib/python3.7/dist-packages (from dask>=2021.12->auto-sklearn) (0.11.2)\n",
      "Requirement already satisfied: fsspec>=0.6.0 in /usr/local/lib/python3.7/dist-packages (from dask>=2021.12->auto-sklearn) (2022.5.0)\n",
      "Requirement already satisfied: tblib>=1.6.0 in /usr/local/lib/python3.7/dist-packages (from distributed>=2012.12->auto-sklearn) (1.7.0)\n",
      "Requirement already satisfied: sortedcontainers!=2.0.0,!=2.0.1 in /usr/local/lib/python3.7/dist-packages (from distributed>=2012.12->auto-sklearn) (2.4.0)\n",
      "Requirement already satisfied: psutil>=5.0 in /usr/local/lib/python3.7/dist-packages (from distributed>=2012.12->auto-sklearn) (5.4.8)\n",
      "Requirement already satisfied: click>=6.6 in /usr/local/lib/python3.7/dist-packages (from distributed>=2012.12->auto-sklearn) (7.1.2)\n",
      "Requirement already satisfied: msgpack>=0.6.0 in /usr/local/lib/python3.7/dist-packages (from distributed>=2012.12->auto-sklearn) (1.0.4)\n",
      "Requirement already satisfied: zict>=0.1.3 in /usr/local/lib/python3.7/dist-packages (from distributed>=2012.12->auto-sklearn) (2.2.0)\n",
      "Requirement already satisfied: tornado>=5 in /usr/local/lib/python3.7/dist-packages (from distributed>=2012.12->auto-sklearn) (5.1.1)\n",
      "Requirement already satisfied: jinja2 in /usr/local/lib/python3.7/dist-packages (from distributed>=2012.12->auto-sklearn) (2.11.3)\n",
      "Requirement already satisfied: pytz>=2017.3 in /usr/local/lib/python3.7/dist-packages (from pandas>=1.0->auto-sklearn) (2022.1)\n",
      "Requirement already satisfied: python-dateutil>=2.7.3 in /usr/local/lib/python3.7/dist-packages (from pandas>=1.0->auto-sklearn) (2.8.2)\n",
      "Requirement already satisfied: locket in /usr/local/lib/python3.7/dist-packages (from partd>=0.3.10->dask>=2021.12->auto-sklearn) (1.0.0)\n",
      "Requirement already satisfied: six>=1.5 in /usr/local/lib/python3.7/dist-packages (from python-dateutil>=2.7.3->pandas>=1.0->auto-sklearn) (1.15.0)\n",
      "Requirement already satisfied: emcee>=3.0.0 in /usr/local/lib/python3.7/dist-packages (from smac<1.3,>=1.2->auto-sklearn) (3.1.2)\n",
      "Requirement already satisfied: heapdict in /usr/local/lib/python3.7/dist-packages (from zict>=0.1.3->distributed>=2012.12->auto-sklearn) (1.0.1)\n",
      "Requirement already satisfied: MarkupSafe>=0.23 in /usr/local/lib/python3.7/dist-packages (from jinja2->distributed>=2012.12->auto-sklearn) (2.0.1)\n",
      "Looking in indexes: https://pypi.org/simple, https://us-python.pkg.dev/colab-wheels/public/simple/\n",
      "Requirement already satisfied: scipy in /usr/local/lib/python3.7/dist-packages (1.7.3)\n",
      "Requirement already satisfied: numpy<1.23.0,>=1.16.5 in /usr/local/lib/python3.7/dist-packages (from scipy) (1.21.6)\n"
     ]
    }
   ],
   "source": [
    "!pip3 install auto-sklearn\n",
    "!pip3 install scipy"
   ]
  },
  {
   "cell_type": "code",
   "execution_count": 19,
   "metadata": {
    "id": "sgcBbCQ4rJ0B"
   },
   "outputs": [],
   "source": [
    "import os\n",
    "import matplotlib.pyplot as plt\n",
    "import seaborn as sns\n",
    "import pandas as pd\n",
    "import numpy as np\n",
    "from collections import OrderedDict\n",
    "\n",
    "from sklearn import datasets\n",
    "from sklearn.preprocessing import label_binarize, LabelBinarizer\n",
    "from sklearn.model_selection import train_test_split, GridSearchCV\n",
    "\n",
    "from sklearn.linear_model import LogisticRegression\n",
    "from sklearn.ensemble import GradientBoostingClassifier\n",
    "\n",
    "from sklearn.metrics import precision_recall_curve\n",
    "from sklearn.metrics import classification_report\n",
    "from sklearn.metrics import roc_curve, auc\n",
    "\n",
    "DISPLAY_PRECISION = 4\n",
    "pd.set_option(\"display.precision\", DISPLAY_PRECISION)"
   ]
  },
  {
   "cell_type": "code",
   "execution_count": 2,
   "metadata": {
    "id": "-aUyLJQnm9D1"
   },
   "outputs": [],
   "source": [
    "# https://automl.github.io/auto-sklearn/master/index.html\n",
    "from pprint import pprint\n",
    "\n",
    "import sklearn.datasets\n",
    "import sklearn.metrics\n",
    "\n",
    "import autosklearn.classification"
   ]
  },
  {
   "cell_type": "code",
   "execution_count": 10,
   "metadata": {
    "colab": {
     "base_uri": "https://localhost:8080/"
    },
    "id": "5eUetrq0pEIc",
    "outputId": "25eb4c33-91fe-4de6-cd85-fec64b57d09b"
   },
   "outputs": [
    {
     "name": "stdout",
     "output_type": "stream",
     "text": [
      "{'data': array([[1.799e+01, 1.038e+01, 1.228e+02, ..., 2.654e-01, 4.601e-01,\n",
      "        1.189e-01],\n",
      "       [2.057e+01, 1.777e+01, 1.329e+02, ..., 1.860e-01, 2.750e-01,\n",
      "        8.902e-02],\n",
      "       [1.969e+01, 2.125e+01, 1.300e+02, ..., 2.430e-01, 3.613e-01,\n",
      "        8.758e-02],\n",
      "       ...,\n",
      "       [1.660e+01, 2.808e+01, 1.083e+02, ..., 1.418e-01, 2.218e-01,\n",
      "        7.820e-02],\n",
      "       [2.060e+01, 2.933e+01, 1.401e+02, ..., 2.650e-01, 4.087e-01,\n",
      "        1.240e-01],\n",
      "       [7.760e+00, 2.454e+01, 4.792e+01, ..., 0.000e+00, 2.871e-01,\n",
      "        7.039e-02]]), 'target': array([0, 0, 0, 0, 0, 0, 0, 0, 0, 0, 0, 0, 0, 0, 0, 0, 0, 0, 0, 1, 1, 1,\n",
      "       0, 0, 0, 0, 0, 0, 0, 0, 0, 0, 0, 0, 0, 0, 0, 1, 0, 0, 0, 0, 0, 0,\n",
      "       0, 0, 1, 0, 1, 1, 1, 1, 1, 0, 0, 1, 0, 0, 1, 1, 1, 1, 0, 1, 0, 0,\n",
      "       1, 1, 1, 1, 0, 1, 0, 0, 1, 0, 1, 0, 0, 1, 1, 1, 0, 0, 1, 0, 0, 0,\n",
      "       1, 1, 1, 0, 1, 1, 0, 0, 1, 1, 1, 0, 0, 1, 1, 1, 1, 0, 1, 1, 0, 1,\n",
      "       1, 1, 1, 1, 1, 1, 1, 0, 0, 0, 1, 0, 0, 1, 1, 1, 0, 0, 1, 0, 1, 0,\n",
      "       0, 1, 0, 0, 1, 1, 0, 1, 1, 0, 1, 1, 1, 1, 0, 1, 1, 1, 1, 1, 1, 1,\n",
      "       1, 1, 0, 1, 1, 1, 1, 0, 0, 1, 0, 1, 1, 0, 0, 1, 1, 0, 0, 1, 1, 1,\n",
      "       1, 0, 1, 1, 0, 0, 0, 1, 0, 1, 0, 1, 1, 1, 0, 1, 1, 0, 0, 1, 0, 0,\n",
      "       0, 0, 1, 0, 0, 0, 1, 0, 1, 0, 1, 1, 0, 1, 0, 0, 0, 0, 1, 1, 0, 0,\n",
      "       1, 1, 1, 0, 1, 1, 1, 1, 1, 0, 0, 1, 1, 0, 1, 1, 0, 0, 1, 0, 1, 1,\n",
      "       1, 1, 0, 1, 1, 1, 1, 1, 0, 1, 0, 0, 0, 0, 0, 0, 0, 0, 0, 0, 0, 0,\n",
      "       0, 0, 1, 1, 1, 1, 1, 1, 0, 1, 0, 1, 1, 0, 1, 1, 0, 1, 0, 0, 1, 1,\n",
      "       1, 1, 1, 1, 1, 1, 1, 1, 1, 1, 1, 0, 1, 1, 0, 1, 0, 1, 1, 1, 1, 1,\n",
      "       1, 1, 1, 1, 1, 1, 1, 1, 1, 0, 1, 1, 1, 0, 1, 0, 1, 1, 1, 1, 0, 0,\n",
      "       0, 1, 1, 1, 1, 0, 1, 0, 1, 0, 1, 1, 1, 0, 1, 1, 1, 1, 1, 1, 1, 0,\n",
      "       0, 0, 1, 1, 1, 1, 1, 1, 1, 1, 1, 1, 1, 0, 0, 1, 0, 0, 0, 1, 0, 0,\n",
      "       1, 1, 1, 1, 1, 0, 1, 1, 1, 1, 1, 0, 1, 1, 1, 0, 1, 1, 0, 0, 1, 1,\n",
      "       1, 1, 1, 1, 0, 1, 1, 1, 1, 1, 1, 1, 0, 1, 1, 1, 1, 1, 0, 1, 1, 0,\n",
      "       1, 1, 1, 1, 1, 1, 1, 1, 1, 1, 1, 1, 0, 1, 0, 0, 1, 0, 1, 1, 1, 1,\n",
      "       1, 0, 1, 1, 0, 1, 0, 1, 1, 0, 1, 0, 1, 1, 1, 1, 1, 1, 1, 1, 0, 0,\n",
      "       1, 1, 1, 1, 1, 1, 0, 1, 1, 1, 1, 1, 1, 1, 1, 1, 1, 0, 1, 1, 1, 1,\n",
      "       1, 1, 1, 0, 1, 0, 1, 1, 0, 1, 1, 1, 1, 1, 0, 0, 1, 0, 1, 0, 1, 1,\n",
      "       1, 1, 1, 0, 1, 1, 0, 1, 0, 1, 0, 0, 1, 1, 1, 0, 1, 1, 1, 1, 1, 1,\n",
      "       1, 1, 1, 1, 1, 0, 1, 0, 0, 1, 1, 1, 1, 1, 1, 1, 1, 1, 1, 1, 1, 1,\n",
      "       1, 1, 1, 1, 1, 1, 1, 1, 1, 1, 1, 1, 0, 0, 0, 0, 0, 0, 1]), 'frame': None, 'target_names': array(['malignant', 'benign'], dtype='<U9'), 'DESCR': '.. _breast_cancer_dataset:\\n\\nBreast cancer wisconsin (diagnostic) dataset\\n--------------------------------------------\\n\\n**Data Set Characteristics:**\\n\\n    :Number of Instances: 569\\n\\n    :Number of Attributes: 30 numeric, predictive attributes and the class\\n\\n    :Attribute Information:\\n        - radius (mean of distances from center to points on the perimeter)\\n        - texture (standard deviation of gray-scale values)\\n        - perimeter\\n        - area\\n        - smoothness (local variation in radius lengths)\\n        - compactness (perimeter^2 / area - 1.0)\\n        - concavity (severity of concave portions of the contour)\\n        - concave points (number of concave portions of the contour)\\n        - symmetry\\n        - fractal dimension (\"coastline approximation\" - 1)\\n\\n        The mean, standard error, and \"worst\" or largest (mean of the three\\n        worst/largest values) of these features were computed for each image,\\n        resulting in 30 features.  For instance, field 0 is Mean Radius, field\\n        10 is Radius SE, field 20 is Worst Radius.\\n\\n        - class:\\n                - WDBC-Malignant\\n                - WDBC-Benign\\n\\n    :Summary Statistics:\\n\\n    ===================================== ====== ======\\n                                           Min    Max\\n    ===================================== ====== ======\\n    radius (mean):                        6.981  28.11\\n    texture (mean):                       9.71   39.28\\n    perimeter (mean):                     43.79  188.5\\n    area (mean):                          143.5  2501.0\\n    smoothness (mean):                    0.053  0.163\\n    compactness (mean):                   0.019  0.345\\n    concavity (mean):                     0.0    0.427\\n    concave points (mean):                0.0    0.201\\n    symmetry (mean):                      0.106  0.304\\n    fractal dimension (mean):             0.05   0.097\\n    radius (standard error):              0.112  2.873\\n    texture (standard error):             0.36   4.885\\n    perimeter (standard error):           0.757  21.98\\n    area (standard error):                6.802  542.2\\n    smoothness (standard error):          0.002  0.031\\n    compactness (standard error):         0.002  0.135\\n    concavity (standard error):           0.0    0.396\\n    concave points (standard error):      0.0    0.053\\n    symmetry (standard error):            0.008  0.079\\n    fractal dimension (standard error):   0.001  0.03\\n    radius (worst):                       7.93   36.04\\n    texture (worst):                      12.02  49.54\\n    perimeter (worst):                    50.41  251.2\\n    area (worst):                         185.2  4254.0\\n    smoothness (worst):                   0.071  0.223\\n    compactness (worst):                  0.027  1.058\\n    concavity (worst):                    0.0    1.252\\n    concave points (worst):               0.0    0.291\\n    symmetry (worst):                     0.156  0.664\\n    fractal dimension (worst):            0.055  0.208\\n    ===================================== ====== ======\\n\\n    :Missing Attribute Values: None\\n\\n    :Class Distribution: 212 - Malignant, 357 - Benign\\n\\n    :Creator:  Dr. William H. Wolberg, W. Nick Street, Olvi L. Mangasarian\\n\\n    :Donor: Nick Street\\n\\n    :Date: November, 1995\\n\\nThis is a copy of UCI ML Breast Cancer Wisconsin (Diagnostic) datasets.\\nhttps://goo.gl/U2Uwz2\\n\\nFeatures are computed from a digitized image of a fine needle\\naspirate (FNA) of a breast mass.  They describe\\ncharacteristics of the cell nuclei present in the image.\\n\\nSeparating plane described above was obtained using\\nMultisurface Method-Tree (MSM-T) [K. P. Bennett, \"Decision Tree\\nConstruction Via Linear Programming.\" Proceedings of the 4th\\nMidwest Artificial Intelligence and Cognitive Science Society,\\npp. 97-101, 1992], a classification method which uses linear\\nprogramming to construct a decision tree.  Relevant features\\nwere selected using an exhaustive search in the space of 1-4\\nfeatures and 1-3 separating planes.\\n\\nThe actual linear program used to obtain the separating plane\\nin the 3-dimensional space is that described in:\\n[K. P. Bennett and O. L. Mangasarian: \"Robust Linear\\nProgramming Discrimination of Two Linearly Inseparable Sets\",\\nOptimization Methods and Software 1, 1992, 23-34].\\n\\nThis database is also available through the UW CS ftp server:\\n\\nftp ftp.cs.wisc.edu\\ncd math-prog/cpo-dataset/machine-learn/WDBC/\\n\\n.. topic:: References\\n\\n   - W.N. Street, W.H. Wolberg and O.L. Mangasarian. Nuclear feature extraction \\n     for breast tumor diagnosis. IS&T/SPIE 1993 International Symposium on \\n     Electronic Imaging: Science and Technology, volume 1905, pages 861-870,\\n     San Jose, CA, 1993.\\n   - O.L. Mangasarian, W.N. Street and W.H. Wolberg. Breast cancer diagnosis and \\n     prognosis via linear programming. Operations Research, 43(4), pages 570-577, \\n     July-August 1995.\\n   - W.H. Wolberg, W.N. Street, and O.L. Mangasarian. Machine learning techniques\\n     to diagnose breast cancer from fine-needle aspirates. Cancer Letters 77 (1994) \\n     163-171.', 'feature_names': array(['mean radius', 'mean texture', 'mean perimeter', 'mean area',\n",
      "       'mean smoothness', 'mean compactness', 'mean concavity',\n",
      "       'mean concave points', 'mean symmetry', 'mean fractal dimension',\n",
      "       'radius error', 'texture error', 'perimeter error', 'area error',\n",
      "       'smoothness error', 'compactness error', 'concavity error',\n",
      "       'concave points error', 'symmetry error',\n",
      "       'fractal dimension error', 'worst radius', 'worst texture',\n",
      "       'worst perimeter', 'worst area', 'worst smoothness',\n",
      "       'worst compactness', 'worst concavity', 'worst concave points',\n",
      "       'worst symmetry', 'worst fractal dimension'], dtype='<U23'), 'filename': '/usr/local/lib/python3.7/dist-packages/sklearn/datasets/data/breast_cancer.csv'}\n"
     ]
    }
   ],
   "source": [
    "from sklearn.datasets import load_breast_cancer\n",
    "data = load_breast_cancer()\n",
    "type(data)\n",
    "print(data)"
   ]
  },
  {
   "cell_type": "code",
   "execution_count": 16,
   "metadata": {
    "colab": {
     "base_uri": "https://localhost:8080/"
    },
    "id": "Od9gL_dUp1iL",
    "outputId": "9fe341a5-6199-45bd-c4f7-6c1be87ba068"
   },
   "outputs": [
    {
     "name": "stdout",
     "output_type": "stream",
     "text": [
      "The sklearn breast cancer dataset keys:\n",
      "dict_keys(['data', 'target', 'frame', 'target_names', 'DESCR', 'feature_names', 'filename'])\n",
      "---\n",
      "There are 2 target classes:\n",
      "li_classes ['benign', 'malignant']\n",
      "---\n",
      "Target class distribution from a total of 569 target values:\n",
      "0    357\n",
      "1    212\n",
      "dtype: int64\n",
      "---\n",
      "Describe dataframe, first 6 columns:\n",
      "       mean radius  mean texture  mean perimeter    mean area  mean smoothness  mean compactness\n",
      "count   569.000000    569.000000      569.000000   569.000000       569.000000        569.000000\n",
      "mean     14.127292     19.289649       91.969033   654.889104         0.096360          0.104341\n",
      "std       3.524049      4.301036       24.298981   351.914129         0.014064          0.052813\n",
      "min       6.981000      9.710000       43.790000   143.500000         0.052630          0.019380\n",
      "25%      11.700000     16.170000       75.170000   420.300000         0.086370          0.064920\n",
      "50%      13.370000     18.840000       86.240000   551.100000         0.095870          0.092630\n",
      "75%      15.780000     21.800000      104.100000   782.700000         0.105300          0.130400\n",
      "max      28.110000     39.280000      188.500000  2501.000000         0.163400          0.345400\n"
     ]
    }
   ],
   "source": [
    "print(\"The sklearn breast cancer dataset keys:\")\n",
    "print(data.keys()) # dict_keys(['target_names', 'target', 'feature_names', 'data', 'DESCR'])\n",
    "print(\"---\")\n",
    "\n",
    "# Note that we need to reverse the original '0' and '1' mapping in order to end up with this mapping:\n",
    "# Benign = 0 (negative class)\n",
    "# Malignant = 1 (positive class)\n",
    "\n",
    "li_classes = [data.target_names[1], data.target_names[0]]\n",
    "li_target = [1 if x==0 else 0 for x in list(data.target)]\n",
    "li_ftrs = list(data.feature_names)\n",
    "\n",
    "print(\"There are 2 target classes:\")\n",
    "print(\"li_classes\", li_classes)\n",
    "print(\"---\")\n",
    "print(\"Target class distribution from a total of %d target values:\" % len(li_target))\n",
    "print(pd.Series(li_target).value_counts())\n",
    "print(\"---\")\n",
    "\n",
    "df_all = pd.DataFrame(data.data[:,:], columns=li_ftrs)\n",
    "print(\"Describe dataframe, first 6 columns:\")\n",
    "print(df_all.iloc[:,:6].describe().to_string())"
   ]
  },
  {
   "cell_type": "markdown",
   "metadata": {
    "id": "1dVOvz0RqTGi"
   },
   "source": [
    "The tagged data set is from the \"Breast Cancer Wisconsin (Diagnostic) Database\" freely available in python's sklearn library, for details see:\n",
    "https://archive.ics.uci.edu/ml/datasets/Breast+Cancer+Wisconsin+%28Diagnostic%29\n",
    "\n",
    "Number of Samples: 569\n",
    "Number of Features: 30 numeric, predictive attributes\n",
    "Number of Classes: 2\n",
    "Features are computed from a digitized image of a fine needle aspirate (FNA) of a breast mass. They describe characteristics of the cell nuclei present in the image. Ten real-valued features are computed for each cell nucleus. The mean, standard error and 'worst' or largest (mean of the three largest values) of these features were computed for each image, resulting in 30 features. For instance, the radius measurements are for the 'mean radius', 'standard error of the radius', and 'worst radius'. All feature values are recoded with four significant digits.\n",
    "\n",
    "The two target classes correspond to negative outcomes (Benign) and positive outcomes (Malignant).\n",
    "\n",
    "This original data set will be randomly split into two sets for train and test purposes."
   ]
  },
  {
   "cell_type": "markdown",
   "metadata": {
    "id": "LCnh6fM2r23N"
   },
   "source": [
    "Create a correlation heatmap of absolute correlation scores"
   ]
  },
  {
   "cell_type": "code",
   "execution_count": 20,
   "metadata": {
    "colab": {
     "base_uri": "https://localhost:8080/"
    },
    "id": "ATDD2DWSsGsu",
    "outputId": "942aa048-8ed8-4b7a-97c1-f2dea07305db"
   },
   "outputs": [
    {
     "name": "stdout",
     "output_type": "stream",
     "text": [
      "X_train_0.shape, y_train.shape (284, 30) (284,)\n",
      "X_test_0.shape, y_test.shape (285, 30) (285,)\n"
     ]
    }
   ],
   "source": [
    "TEST_SIZE_RATIO = 0.5  # split into 2 equally sized train and test sets\n",
    "\n",
    "# Setup X and y\n",
    "X = df_all\n",
    "y = pd.Series(li_target)\n",
    "\n",
    "X_train_0, X_test_0, y_train, y_test = train_test_split(X, y, test_size=TEST_SIZE_RATIO, random_state=0)\n",
    "print(\"X_train_0.shape, y_train.shape\", X_train_0.shape, y_train.shape)\n",
    "print(\"X_test_0.shape, y_test.shape\", X_test_0.shape, y_test.shape)"
   ]
  },
  {
   "cell_type": "code",
   "execution_count": 21,
   "metadata": {
    "colab": {
     "base_uri": "https://localhost:8080/",
     "height": 807
    },
    "id": "qpnTtv8frwq2",
    "outputId": "f60d0d69-d377-4e4b-ab5c-03bccd986cba"
   },
   "outputs": [
    {
     "name": "stdout",
     "output_type": "stream",
     "text": [
      "Function correlation_matrix: X.shape, y.shape, yX.shape: (284, 30) (284,) (284, 31)\n",
      "\n"
     ]
    },
    {
     "data": {
      "image/png": "[encoded data removed]",
      "text/plain": [
       "<Figure size 720x720 with 2 Axes>"
      ]
     },
     "metadata": {
      "needs_background": "light"
     },
     "output_type": "display_data"
    }
   ],
   "source": [
    "def correlation_matrix(y, X, is_plot=False):\n",
    "  # Calculate and plot the correlation symmetrical matrix\n",
    "  # Return:\n",
    "  # yX - concatenated data\n",
    "  # yX_corr - correlation matrix, pearson correlation of values from -1 to +1\n",
    "  # yX_abs_corr - correlation matrix, absolute values\n",
    "  \n",
    "  yX = pd.concat([y, X], axis=1)\n",
    "  yX = yX.rename(columns={0: 'TARGET'})  # rename first column\n",
    "\n",
    "  print(\"Function correlation_matrix: X.shape, y.shape, yX.shape:\", X.shape, y.shape, yX.shape)\n",
    "  print()\n",
    "\n",
    "  # Get feature correlations and transform to dataframe\n",
    "  yX_corr = yX.corr(method='pearson')\n",
    "\n",
    "  # Convert to abolute values\n",
    "  yX_abs_corr = np.abs(yX_corr) \n",
    "  \n",
    "  if is_plot:\n",
    "    plt.figure(figsize=(10, 10))\n",
    "    plt.imshow(yX_abs_corr, cmap='RdYlGn', interpolation='none', aspect='auto')\n",
    "    plt.colorbar()\n",
    "    plt.xticks(range(len(yX_abs_corr)), yX_abs_corr.columns, rotation='vertical')\n",
    "    plt.yticks(range(len(yX_abs_corr)), yX_abs_corr.columns);\n",
    "    plt.suptitle('Pearson Correlation Heat Map (absolute values)', fontsize=15, fontweight='bold')\n",
    "    plt.show()\n",
    "  \n",
    "  return yX, yX_corr, yX_abs_corr\n",
    "\n",
    "# Build the correlation matrix for the train data\n",
    "yX, yX_corr, yX_abs_corr = correlation_matrix(y_train, X_train_0, is_plot=True)  "
   ]
  },
  {
   "cell_type": "markdown",
   "metadata": {
    "id": "PbE3ebLbscXO"
   },
   "source": [
    "The code below is from the auto-sklearn example so the naming convention of the datasets and fields may be different from what was done earlier"
   ]
  },
  {
   "cell_type": "code",
   "execution_count": 24,
   "metadata": {
    "id": "UHAfbHdrm9KF"
   },
   "outputs": [],
   "source": [
    "X, y = sklearn.datasets.load_breast_cancer(return_X_y=True)\n",
    "X_train, X_test, y_train, y_test = \\\n",
    "    sklearn.model_selection.train_test_split(X, y, random_state=1)\n"
   ]
  },
  {
   "cell_type": "code",
   "execution_count": 25,
   "metadata": {
    "colab": {
     "base_uri": "https://localhost:8080/"
    },
    "id": "fCSOR14Nm9PU",
    "outputId": "ebba0ce7-3755-46be-a223-b7959fb387d6"
   },
   "outputs": [
    {
     "data": {
      "text/plain": [
       "AutoSklearnClassifier(per_run_time_limit=30, time_left_for_this_task=120,\n",
       "                      tmp_folder='/tmp/autosklearn_classification_example_tmp')"
      ]
     },
     "execution_count": 25,
     "metadata": {},
     "output_type": "execute_result"
    }
   ],
   "source": [
    "automl = autosklearn.classification.AutoSklearnClassifier(\n",
    "    time_left_for_this_task=120,\n",
    "    per_run_time_limit=30,\n",
    "    tmp_folder='/tmp/autosklearn_classification_example_tmp',\n",
    ")\n",
    "automl.fit(X_train, y_train, dataset_name='breast_cancer')\n"
   ]
  },
  {
   "cell_type": "code",
   "execution_count": 26,
   "metadata": {
    "colab": {
     "base_uri": "https://localhost:8080/"
    },
    "id": "oIPSRmj2m9Vj",
    "outputId": "ed979469-8648-4d7e-8a3e-c5a46297e9fa"
   },
   "outputs": [
    {
     "name": "stdout",
     "output_type": "stream",
     "text": [
      "          rank  ensemble_weight                 type    cost  duration\n",
      "model_id                                                              \n",
      "7            1             0.08          extra_trees  0.0142    1.7704\n",
      "16           2             0.02    gradient_boosting  0.0213    1.1929\n",
      "2            3             0.02        random_forest  0.0284    1.9927\n",
      "36           4             0.08  k_nearest_neighbors  0.0284    1.0155\n",
      "26           5             0.04          extra_trees  0.0284    2.6830\n",
      "13           6             0.02    gradient_boosting  0.0284    1.5754\n",
      "22           7             0.08    gradient_boosting  0.0284    1.3222\n",
      "3            8             0.12                  mlp  0.0284    1.2585\n",
      "11           9             0.02        random_forest  0.0284    2.6738\n",
      "8           10             0.04        random_forest  0.0355    2.2746\n",
      "37          11             0.06    gradient_boosting  0.0355    1.7949\n",
      "5           12             0.02        random_forest  0.0355    2.4364\n",
      "9           13             0.02          extra_trees  0.0426    2.1016\n",
      "27          14             0.10          extra_trees  0.0426    2.1493\n",
      "34          15             0.06        random_forest  0.0426    2.2340\n",
      "23          16             0.02                  mlp  0.0496    3.1415\n",
      "35          17             0.04          extra_trees  0.0567    1.8354\n",
      "32          18             0.04          extra_trees  0.0638    1.8994\n",
      "38          19             0.06          extra_trees  0.0638    2.5179\n",
      "24          20             0.02        random_forest  0.0709    2.0594\n",
      "20          21             0.02   passive_aggressive  0.0780    0.8740\n",
      "30          22             0.02             adaboost  0.0780    1.4559\n"
     ]
    }
   ],
   "source": [
    "print(automl.leaderboard())"
   ]
  },
  {
   "cell_type": "code",
   "execution_count": 27,
   "metadata": {
    "colab": {
     "base_uri": "https://localhost:8080/"
    },
    "id": "TpF6oB5zuuBp",
    "outputId": "b29b6f9e-1a12-4f46-8a07-49c77d38ca93"
   },
   "outputs": [
    {
     "name": "stdout",
     "output_type": "stream",
     "text": [
      "{   2: {   'balancing': Balancing(random_state=1),\n",
      "           'classifier': <autosklearn.pipeline.components.classification.ClassifierChoice object at 0x7f2e610e8e10>,\n",
      "           'cost': 0.028368794326241176,\n",
      "           'data_preprocessor': <autosklearn.pipeline.components.data_preprocessing.DataPreprocessorChoice object at 0x7f2e5b16cf90>,\n",
      "           'ensemble_weight': 0.02,\n",
      "           'feature_preprocessor': <autosklearn.pipeline.components.feature_preprocessing.FeaturePreprocessorChoice object at 0x7f2e610e8610>,\n",
      "           'model_id': 2,\n",
      "           'rank': 3,\n",
      "           'sklearn_classifier': RandomForestClassifier(max_features=5, n_estimators=512, n_jobs=1,\n",
      "                       random_state=1, warm_start=True)},\n",
      "    3: {   'balancing': Balancing(random_state=1),\n",
      "           'classifier': <autosklearn.pipeline.components.classification.ClassifierChoice object at 0x7f2e600a0210>,\n",
      "           'cost': 0.028368794326241176,\n",
      "           'data_preprocessor': <autosklearn.pipeline.components.data_preprocessing.DataPreprocessorChoice object at 0x7f2e5b100610>,\n",
      "           'ensemble_weight': 0.12,\n",
      "           'feature_preprocessor': <autosklearn.pipeline.components.feature_preprocessing.FeaturePreprocessorChoice object at 0x7f2e600a0d90>,\n",
      "           'model_id': 3,\n",
      "           'rank': 4,\n",
      "           'sklearn_classifier': MLPClassifier(activation='tanh', alpha=0.0001363185819149026, beta_1=0.999,\n",
      "              beta_2=0.9, early_stopping=True,\n",
      "              hidden_layer_sizes=(115, 115, 115),\n",
      "              learning_rate_init=0.00018009776276177523, max_iter=32,\n",
      "              n_iter_no_change=32, random_state=1, verbose=0, warm_start=True)},\n",
      "    5: {   'balancing': Balancing(random_state=1, strategy='weighting'),\n",
      "           'classifier': <autosklearn.pipeline.components.classification.ClassifierChoice object at 0x7f2e5a9f61d0>,\n",
      "           'cost': 0.03546099290780147,\n",
      "           'data_preprocessor': <autosklearn.pipeline.components.data_preprocessing.DataPreprocessorChoice object at 0x7f2e5a551810>,\n",
      "           'ensemble_weight': 0.02,\n",
      "           'feature_preprocessor': <autosklearn.pipeline.components.feature_preprocessing.FeaturePreprocessorChoice object at 0x7f2e5aa5dd90>,\n",
      "           'model_id': 5,\n",
      "           'rank': 10,\n",
      "           'sklearn_classifier': RandomForestClassifier(criterion='entropy', max_features=3, min_samples_leaf=2,\n",
      "                       n_estimators=512, n_jobs=1, random_state=1,\n",
      "                       warm_start=True)},\n",
      "    7: {   'balancing': Balancing(random_state=1),\n",
      "           'classifier': <autosklearn.pipeline.components.classification.ClassifierChoice object at 0x7f2e5b18aa50>,\n",
      "           'cost': 0.014184397163120588,\n",
      "           'data_preprocessor': <autosklearn.pipeline.components.data_preprocessing.DataPreprocessorChoice object at 0x7f2e5b1cbb10>,\n",
      "           'ensemble_weight': 0.08,\n",
      "           'feature_preprocessor': <autosklearn.pipeline.components.feature_preprocessing.FeaturePreprocessorChoice object at 0x7f2e5b054350>,\n",
      "           'model_id': 7,\n",
      "           'rank': 1,\n",
      "           'sklearn_classifier': ExtraTreesClassifier(max_features=34, min_samples_leaf=3, min_samples_split=11,\n",
      "                     n_estimators=512, n_jobs=1, random_state=1,\n",
      "                     warm_start=True)},\n",
      "    8: {   'balancing': Balancing(random_state=1, strategy='weighting'),\n",
      "           'classifier': <autosklearn.pipeline.components.classification.ClassifierChoice object at 0x7f2e5a9f4050>,\n",
      "           'cost': 0.03546099290780147,\n",
      "           'data_preprocessor': <autosklearn.pipeline.components.data_preprocessing.DataPreprocessorChoice object at 0x7f2e5b0fc590>,\n",
      "           'ensemble_weight': 0.04,\n",
      "           'feature_preprocessor': <autosklearn.pipeline.components.feature_preprocessing.FeaturePreprocessorChoice object at 0x7f2e5aa32210>,\n",
      "           'model_id': 8,\n",
      "           'rank': 11,\n",
      "           'sklearn_classifier': RandomForestClassifier(max_features=2, min_samples_leaf=2, n_estimators=512,\n",
      "                       n_jobs=1, random_state=1, warm_start=True)},\n",
      "    9: {   'balancing': Balancing(random_state=1, strategy='weighting'),\n",
      "           'classifier': <autosklearn.pipeline.components.classification.ClassifierChoice object at 0x7f2e5a13ab50>,\n",
      "           'cost': 0.04255319148936165,\n",
      "           'data_preprocessor': <autosklearn.pipeline.components.data_preprocessing.DataPreprocessorChoice object at 0x7f2e5b08f150>,\n",
      "           'ensemble_weight': 0.02,\n",
      "           'feature_preprocessor': <autosklearn.pipeline.components.feature_preprocessing.FeaturePreprocessorChoice object at 0x7f2e5a1a0490>,\n",
      "           'model_id': 9,\n",
      "           'rank': 13,\n",
      "           'sklearn_classifier': ExtraTreesClassifier(max_features=9, min_samples_split=10, n_estimators=512,\n",
      "                     n_jobs=1, random_state=1, warm_start=True)},\n",
      "    11: {   'balancing': Balancing(random_state=1),\n",
      "            'classifier': <autosklearn.pipeline.components.classification.ClassifierChoice object at 0x7f2e60d75dd0>,\n",
      "            'cost': 0.028368794326241176,\n",
      "            'data_preprocessor': <autosklearn.pipeline.components.data_preprocessing.DataPreprocessorChoice object at 0x7f2e5b16c4d0>,\n",
      "            'ensemble_weight': 0.02,\n",
      "            'feature_preprocessor': <autosklearn.pipeline.components.feature_preprocessing.FeaturePreprocessorChoice object at 0x7f2e60d75190>,\n",
      "            'model_id': 11,\n",
      "            'rank': 5,\n",
      "            'sklearn_classifier': RandomForestClassifier(criterion='entropy', max_features=23, min_samples_leaf=7,\n",
      "                       n_estimators=512, n_jobs=1, random_state=1,\n",
      "                       warm_start=True)},\n",
      "    13: {   'balancing': Balancing(random_state=1, strategy='weighting'),\n",
      "            'classifier': <autosklearn.pipeline.components.classification.ClassifierChoice object at 0x7f2e608404d0>,\n",
      "            'cost': 0.028368794326241176,\n",
      "            'data_preprocessor': <autosklearn.pipeline.components.data_preprocessing.DataPreprocessorChoice object at 0x7f2e61818850>,\n",
      "            'ensemble_weight': 0.02,\n",
      "            'feature_preprocessor': <autosklearn.pipeline.components.feature_preprocessing.FeaturePreprocessorChoice object at 0x7f2e5ffdd8d0>,\n",
      "            'model_id': 13,\n",
      "            'rank': 6,\n",
      "            'sklearn_classifier': HistGradientBoostingClassifier(early_stopping=False,\n",
      "                               l2_regularization=1.0647401999412075e-10,\n",
      "                               learning_rate=0.08291320147381159, max_iter=512,\n",
      "                               max_leaf_nodes=39, n_iter_no_change=0,\n",
      "                               random_state=1, validation_fraction=None,\n",
      "                               warm_start=True)},\n",
      "    16: {   'balancing': Balancing(random_state=1, strategy='weighting'),\n",
      "            'classifier': <autosklearn.pipeline.components.classification.ClassifierChoice object at 0x7f2e5b1270d0>,\n",
      "            'cost': 0.021276595744680882,\n",
      "            'data_preprocessor': <autosklearn.pipeline.components.data_preprocessing.DataPreprocessorChoice object at 0x7f2e5b189690>,\n",
      "            'ensemble_weight': 0.02,\n",
      "            'feature_preprocessor': <autosklearn.pipeline.components.feature_preprocessing.FeaturePreprocessorChoice object at 0x7f2e5b127750>,\n",
      "            'model_id': 16,\n",
      "            'rank': 2,\n",
      "            'sklearn_classifier': HistGradientBoostingClassifier(early_stopping=True,\n",
      "                               l2_regularization=3.387912939529945e-10,\n",
      "                               learning_rate=0.30755227194768237, max_iter=128,\n",
      "                               max_leaf_nodes=60, min_samples_leaf=39,\n",
      "                               n_iter_no_change=18, random_state=1,\n",
      "                               validation_fraction=None, warm_start=True)},\n",
      "    20: {   'balancing': Balancing(random_state=1),\n",
      "            'classifier': <autosklearn.pipeline.components.classification.ClassifierChoice object at 0x7f2e59ebb490>,\n",
      "            'cost': 0.07801418439716312,\n",
      "            'data_preprocessor': <autosklearn.pipeline.components.data_preprocessing.DataPreprocessorChoice object at 0x7f2e5a105bd0>,\n",
      "            'ensemble_weight': 0.02,\n",
      "            'feature_preprocessor': <autosklearn.pipeline.components.feature_preprocessing.FeaturePreprocessorChoice object at 0x7f2e59ebbe10>,\n",
      "            'model_id': 20,\n",
      "            'rank': 21,\n",
      "            'sklearn_classifier': PassiveAggressiveClassifier(C=0.14268277711454813, max_iter=32, random_state=1,\n",
      "                            tol=0.0002600768160857831, warm_start=True)},\n",
      "    22: {   'balancing': Balancing(random_state=1),\n",
      "            'classifier': <autosklearn.pipeline.components.classification.ClassifierChoice object at 0x7f2e5afb4fd0>,\n",
      "            'cost': 0.028368794326241176,\n",
      "            'data_preprocessor': <autosklearn.pipeline.components.data_preprocessing.DataPreprocessorChoice object at 0x7f2e5fff2590>,\n",
      "            'ensemble_weight': 0.08,\n",
      "            'feature_preprocessor': <autosklearn.pipeline.components.feature_preprocessing.FeaturePreprocessorChoice object at 0x7f2e5b0be0d0>,\n",
      "            'model_id': 22,\n",
      "            'rank': 7,\n",
      "            'sklearn_classifier': HistGradientBoostingClassifier(early_stopping=True,\n",
      "                               l2_regularization=8.057778875694463e-05,\n",
      "                               learning_rate=0.09179220974965213, max_iter=256,\n",
      "                               max_leaf_nodes=200, n_iter_no_change=18,\n",
      "                               random_state=1,\n",
      "                               validation_fraction=0.14295295806077554,\n",
      "                               warm_start=True)},\n",
      "    23: {   'balancing': Balancing(random_state=1, strategy='weighting'),\n",
      "            'classifier': <autosklearn.pipeline.components.classification.ClassifierChoice object at 0x7f2e59baa9d0>,\n",
      "            'cost': 0.049645390070921946,\n",
      "            'data_preprocessor': <autosklearn.pipeline.components.data_preprocessing.DataPreprocessorChoice object at 0x7f2e5a4ba050>,\n",
      "            'ensemble_weight': 0.02,\n",
      "            'feature_preprocessor': <autosklearn.pipeline.components.feature_preprocessing.FeaturePreprocessorChoice object at 0x7f2e59baa110>,\n",
      "            'model_id': 23,\n",
      "            'rank': 16,\n",
      "            'sklearn_classifier': MLPClassifier(alpha=0.02847755502162456, beta_1=0.999, beta_2=0.9,\n",
      "              hidden_layer_sizes=(123, 123),\n",
      "              learning_rate_init=0.000421568792103947, max_iter=256,\n",
      "              n_iter_no_change=32, random_state=1, validation_fraction=0.0,\n",
      "              verbose=0, warm_start=True)},\n",
      "    24: {   'balancing': Balancing(random_state=1),\n",
      "            'classifier': <autosklearn.pipeline.components.classification.ClassifierChoice object at 0x7f2e59f23f10>,\n",
      "            'cost': 0.07092198581560283,\n",
      "            'data_preprocessor': <autosklearn.pipeline.components.data_preprocessing.DataPreprocessorChoice object at 0x7f2e5a51f290>,\n",
      "            'ensemble_weight': 0.02,\n",
      "            'feature_preprocessor': <autosklearn.pipeline.components.feature_preprocessing.FeaturePreprocessorChoice object at 0x7f2e5a0ba610>,\n",
      "            'model_id': 24,\n",
      "            'rank': 20,\n",
      "            'sklearn_classifier': RandomForestClassifier(criterion='entropy', max_features=16, n_estimators=512,\n",
      "                       n_jobs=1, random_state=1, warm_start=True)},\n",
      "    26: {   'balancing': Balancing(random_state=1),\n",
      "            'classifier': <autosklearn.pipeline.components.classification.ClassifierChoice object at 0x7f2e5afbebd0>,\n",
      "            'cost': 0.028368794326241176,\n",
      "            'data_preprocessor': <autosklearn.pipeline.components.data_preprocessing.DataPreprocessorChoice object at 0x7f2e61848ed0>,\n",
      "            'ensemble_weight': 0.04,\n",
      "            'feature_preprocessor': <autosklearn.pipeline.components.feature_preprocessing.FeaturePreprocessorChoice object at 0x7f2e5afbe7d0>,\n",
      "            'model_id': 26,\n",
      "            'rank': 8,\n",
      "            'sklearn_classifier': ExtraTreesClassifier(criterion='entropy', max_features=414, min_samples_leaf=2,\n",
      "                     min_samples_split=19, n_estimators=512, n_jobs=1,\n",
      "                     random_state=1, warm_start=True)},\n",
      "    27: {   'balancing': Balancing(random_state=1, strategy='weighting'),\n",
      "            'classifier': <autosklearn.pipeline.components.classification.ClassifierChoice object at 0x7f2e5a4cbdd0>,\n",
      "            'cost': 0.04255319148936165,\n",
      "            'data_preprocessor': <autosklearn.pipeline.components.data_preprocessing.DataPreprocessorChoice object at 0x7f2e5a902e90>,\n",
      "            'ensemble_weight': 0.1,\n",
      "            'feature_preprocessor': <autosklearn.pipeline.components.feature_preprocessing.FeaturePreprocessorChoice object at 0x7f2e5a4cb690>,\n",
      "            'model_id': 27,\n",
      "            'rank': 14,\n",
      "            'sklearn_classifier': ExtraTreesClassifier(bootstrap=True, criterion='entropy', max_features=24,\n",
      "                     min_samples_leaf=20, min_samples_split=5, n_estimators=512,\n",
      "                     n_jobs=1, random_state=1, warm_start=True)},\n",
      "    30: {   'balancing': Balancing(random_state=1, strategy='weighting'),\n",
      "            'classifier': <autosklearn.pipeline.components.classification.ClassifierChoice object at 0x7f2e59bf2b10>,\n",
      "            'cost': 0.07801418439716312,\n",
      "            'data_preprocessor': <autosklearn.pipeline.components.data_preprocessing.DataPreprocessorChoice object at 0x7f2e5a132bd0>,\n",
      "            'ensemble_weight': 0.02,\n",
      "            'feature_preprocessor': <autosklearn.pipeline.components.feature_preprocessing.FeaturePreprocessorChoice object at 0x7f2e5928b890>,\n",
      "            'model_id': 30,\n",
      "            'rank': 22,\n",
      "            'sklearn_classifier': AdaBoostClassifier(algorithm='SAMME',\n",
      "                   base_estimator=DecisionTreeClassifier(max_depth=7),\n",
      "                   learning_rate=0.02920859465461962, n_estimators=96,\n",
      "                   random_state=1)},\n",
      "    32: {   'balancing': Balancing(random_state=1, strategy='weighting'),\n",
      "            'classifier': <autosklearn.pipeline.components.classification.ClassifierChoice object at 0x7f2e5a168e50>,\n",
      "            'cost': 0.06382978723404253,\n",
      "            'data_preprocessor': <autosklearn.pipeline.components.data_preprocessing.DataPreprocessorChoice object at 0x7f2e59ba6a50>,\n",
      "            'ensemble_weight': 0.04,\n",
      "            'feature_preprocessor': <autosklearn.pipeline.components.feature_preprocessing.FeaturePreprocessorChoice object at 0x7f2e5a19ce90>,\n",
      "            'model_id': 32,\n",
      "            'rank': 18,\n",
      "            'sklearn_classifier': ExtraTreesClassifier(criterion='entropy', max_features=1, min_samples_leaf=17,\n",
      "                     min_samples_split=4, n_estimators=512, n_jobs=1,\n",
      "                     random_state=1, warm_start=True)},\n",
      "    34: {   'balancing': Balancing(random_state=1),\n",
      "            'classifier': <autosklearn.pipeline.components.classification.ClassifierChoice object at 0x7f2e59b88b90>,\n",
      "            'cost': 0.04255319148936165,\n",
      "            'data_preprocessor': <autosklearn.pipeline.components.data_preprocessing.DataPreprocessorChoice object at 0x7f2e5a533d50>,\n",
      "            'ensemble_weight': 0.06,\n",
      "            'feature_preprocessor': <autosklearn.pipeline.components.feature_preprocessing.FeaturePreprocessorChoice object at 0x7f2e5a4f0dd0>,\n",
      "            'model_id': 34,\n",
      "            'rank': 15,\n",
      "            'sklearn_classifier': RandomForestClassifier(max_features=6, min_samples_leaf=8, min_samples_split=3,\n",
      "                       n_estimators=512, n_jobs=1, random_state=1,\n",
      "                       warm_start=True)},\n",
      "    35: {   'balancing': Balancing(random_state=1),\n",
      "            'classifier': <autosklearn.pipeline.components.classification.ClassifierChoice object at 0x7f2e5a15bbd0>,\n",
      "            'cost': 0.05673758865248224,\n",
      "            'data_preprocessor': <autosklearn.pipeline.components.data_preprocessing.DataPreprocessorChoice object at 0x7f2e5a4db1d0>,\n",
      "            'ensemble_weight': 0.04,\n",
      "            'feature_preprocessor': <autosklearn.pipeline.components.feature_preprocessing.FeaturePreprocessorChoice object at 0x7f2e5a157fd0>,\n",
      "            'model_id': 35,\n",
      "            'rank': 17,\n",
      "            'sklearn_classifier': ExtraTreesClassifier(bootstrap=True, criterion='entropy', max_features=4,\n",
      "                     min_samples_leaf=15, min_samples_split=7, n_estimators=512,\n",
      "                     n_jobs=1, random_state=1, warm_start=True)},\n",
      "    36: {   'balancing': Balancing(random_state=1),\n",
      "            'classifier': <autosklearn.pipeline.components.classification.ClassifierChoice object at 0x7f2e5b0fc0d0>,\n",
      "            'cost': 0.028368794326241176,\n",
      "            'data_preprocessor': <autosklearn.pipeline.components.data_preprocessing.DataPreprocessorChoice object at 0x7f2e5a551050>,\n",
      "            'ensemble_weight': 0.08,\n",
      "            'feature_preprocessor': <autosklearn.pipeline.components.feature_preprocessing.FeaturePreprocessorChoice object at 0x7f2e5b106610>,\n",
      "            'model_id': 36,\n",
      "            'rank': 9,\n",
      "            'sklearn_classifier': KNeighborsClassifier(p=1)},\n",
      "    37: {   'balancing': Balancing(random_state=1),\n",
      "            'classifier': <autosklearn.pipeline.components.classification.ClassifierChoice object at 0x7f2e5a9f48d0>,\n",
      "            'cost': 0.03546099290780147,\n",
      "            'data_preprocessor': <autosklearn.pipeline.components.data_preprocessing.DataPreprocessorChoice object at 0x7f2e5aa5a4d0>,\n",
      "            'ensemble_weight': 0.06,\n",
      "            'feature_preprocessor': <autosklearn.pipeline.components.feature_preprocessing.FeaturePreprocessorChoice object at 0x7f2e5aa6ccd0>,\n",
      "            'model_id': 37,\n",
      "            'rank': 12,\n",
      "            'sklearn_classifier': HistGradientBoostingClassifier(early_stopping=False,\n",
      "                               l2_regularization=9.55669308729784e-09,\n",
      "                               learning_rate=0.02332806904732657, max_iter=512,\n",
      "                               max_leaf_nodes=185, min_samples_leaf=2,\n",
      "                               n_iter_no_change=0, random_state=1,\n",
      "                               validation_fraction=None, warm_start=True)},\n",
      "    38: {   'balancing': Balancing(random_state=1),\n",
      "            'classifier': <autosklearn.pipeline.components.classification.ClassifierChoice object at 0x7f2e5a1130d0>,\n",
      "            'cost': 0.06382978723404253,\n",
      "            'data_preprocessor': <autosklearn.pipeline.components.data_preprocessing.DataPreprocessorChoice object at 0x7f2e5a1553d0>,\n",
      "            'ensemble_weight': 0.06,\n",
      "            'feature_preprocessor': <autosklearn.pipeline.components.feature_preprocessing.FeaturePreprocessorChoice object at 0x7f2e5a10e9d0>,\n",
      "            'model_id': 38,\n",
      "            'rank': 19,\n",
      "            'sklearn_classifier': ExtraTreesClassifier(bootstrap=True, max_features=26, min_samples_leaf=19,\n",
      "                     min_samples_split=14, n_estimators=512, n_jobs=1,\n",
      "                     random_state=1, warm_start=True)}}\n"
     ]
    }
   ],
   "source": [
    "pprint(automl.show_models(), indent=4)"
   ]
  },
  {
   "cell_type": "code",
   "execution_count": 28,
   "metadata": {
    "colab": {
     "base_uri": "https://localhost:8080/"
    },
    "id": "K-ZY9c9XuxSt",
    "outputId": "988a8d23-6089-4bc5-8eb7-ac64e349bd96"
   },
   "outputs": [
    {
     "name": "stdout",
     "output_type": "stream",
     "text": [
      "Accuracy score: 0.951048951048951\n"
     ]
    }
   ],
   "source": [
    "predictions = automl.predict(X_test)\n",
    "print(\"Accuracy score:\", sklearn.metrics.accuracy_score(y_test, predictions))"
   ]
  },
  {
   "cell_type": "code",
   "execution_count": null,
   "metadata": {
    "id": "GE0KrH7GuxtC"
   },
   "outputs": [],
   "source": []
  },
  {
   "cell_type": "code",
   "execution_count": null,
   "metadata": {
    "id": "3eH9k9YJuyDS"
   },
   "outputs": [],
   "source": []
  }
 ],
 "metadata": {
  "colab": {
   "collapsed_sections": [],
   "name": "auto-sklearn-breast-cancer example.ipynb",
   "provenance": []
  },
  "gpuClass": "standard",
  "kernelspec": {
   "display_name": "Python 3 (ipykernel)",
   "language": "python",
   "name": "python3"
  },
  "language_info": {
   "codemirror_mode": {
    "name": "ipython",
    "version": 3
   },
   "file_extension": ".py",
   "mimetype": "text/x-python",
   "name": "python",
   "nbconvert_exporter": "python",
   "pygments_lexer": "ipython3",
   "version": "3.10.6"
  }
 },
 "nbformat": 4,
 "nbformat_minor": 1
}
