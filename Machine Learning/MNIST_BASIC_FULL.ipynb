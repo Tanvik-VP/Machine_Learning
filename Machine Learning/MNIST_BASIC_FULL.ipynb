{
 "cells": [
  {
   "cell_type": "code",
   "execution_count": 86,
   "metadata": {
    "colab": {
     "base_uri": "https://localhost:8080/",
     "height": 1000
    },
    "id": "GDY4_DsjJ7-n",
    "outputId": "11a70fbc-2f1f-41f7-873b-616a292f5214"
   },
   "outputs": [
    {
     "name": "stdout",
     "output_type": "stream",
     "text": [
      "Requirement already satisfied: tensorflow-gpu==2.0.0 in /usr/local/lib/python3.7/dist-packages (2.0.0)\n",
      "Requirement already satisfied: grpcio in /usr/local/lib/python3.7/dist-packages (1.43.0)\n",
      "Requirement already satisfied: tensorflow-estimator<2.1.0,>=2.0.0 in /usr/local/lib/python3.7/dist-packages (from tensorflow-gpu==2.0.0) (2.0.1)\n",
      "Requirement already satisfied: gast==0.2.2 in /usr/local/lib/python3.7/dist-packages (from tensorflow-gpu==2.0.0) (0.2.2)\n",
      "Requirement already satisfied: google-pasta>=0.1.6 in /usr/local/lib/python3.7/dist-packages (from tensorflow-gpu==2.0.0) (0.2.0)\n",
      "Requirement already satisfied: six>=1.10.0 in /usr/local/lib/python3.7/dist-packages (from tensorflow-gpu==2.0.0) (1.15.0)\n",
      "Requirement already satisfied: wrapt>=1.11.1 in /usr/local/lib/python3.7/dist-packages (from tensorflow-gpu==2.0.0) (1.13.3)\n",
      "Requirement already satisfied: tensorboard<2.1.0,>=2.0.0 in /usr/local/lib/python3.7/dist-packages (from tensorflow-gpu==2.0.0) (2.0.2)\n",
      "Requirement already satisfied: numpy<2.0,>=1.16.0 in /usr/local/lib/python3.7/dist-packages (from tensorflow-gpu==2.0.0) (1.19.5)\n",
      "Requirement already satisfied: absl-py>=0.7.0 in /usr/local/lib/python3.7/dist-packages (from tensorflow-gpu==2.0.0) (0.12.0)\n",
      "Requirement already satisfied: keras-preprocessing>=1.0.5 in /usr/local/lib/python3.7/dist-packages (from tensorflow-gpu==2.0.0) (1.1.2)\n",
      "Requirement already satisfied: astor>=0.6.0 in /usr/local/lib/python3.7/dist-packages (from tensorflow-gpu==2.0.0) (0.8.1)\n",
      "Requirement already satisfied: wheel>=0.26 in /usr/local/lib/python3.7/dist-packages (from tensorflow-gpu==2.0.0) (0.37.0)\n",
      "Requirement already satisfied: termcolor>=1.1.0 in /usr/local/lib/python3.7/dist-packages (from tensorflow-gpu==2.0.0) (1.1.0)\n",
      "Requirement already satisfied: opt-einsum>=2.3.2 in /usr/local/lib/python3.7/dist-packages (from tensorflow-gpu==2.0.0) (3.3.0)\n",
      "Requirement already satisfied: keras-applications>=1.0.8 in /usr/local/lib/python3.7/dist-packages (from tensorflow-gpu==2.0.0) (1.0.8)\n",
      "Requirement already satisfied: protobuf>=3.6.1 in /usr/local/lib/python3.7/dist-packages (from tensorflow-gpu==2.0.0) (3.17.3)\n",
      "Requirement already satisfied: h5py in /usr/local/lib/python3.7/dist-packages (from keras-applications>=1.0.8->tensorflow-gpu==2.0.0) (3.1.0)\n",
      "Requirement already satisfied: werkzeug>=0.11.15 in /usr/local/lib/python3.7/dist-packages (from tensorboard<2.1.0,>=2.0.0->tensorflow-gpu==2.0.0) (1.0.1)\n",
      "Requirement already satisfied: setuptools>=41.0.0 in /usr/local/lib/python3.7/dist-packages (from tensorboard<2.1.0,>=2.0.0->tensorflow-gpu==2.0.0) (57.4.0)\n",
      "Requirement already satisfied: markdown>=2.6.8 in /usr/local/lib/python3.7/dist-packages (from tensorboard<2.1.0,>=2.0.0->tensorflow-gpu==2.0.0) (3.3.6)\n",
      "Requirement already satisfied: requests<3,>=2.21.0 in /usr/local/lib/python3.7/dist-packages (from tensorboard<2.1.0,>=2.0.0->tensorflow-gpu==2.0.0) (2.23.0)\n",
      "Requirement already satisfied: google-auth-oauthlib<0.5,>=0.4.1 in /usr/local/lib/python3.7/dist-packages (from tensorboard<2.1.0,>=2.0.0->tensorflow-gpu==2.0.0) (0.4.6)\n",
      "Requirement already satisfied: google-auth<2,>=1.6.3 in /usr/local/lib/python3.7/dist-packages (from tensorboard<2.1.0,>=2.0.0->tensorflow-gpu==2.0.0) (1.35.0)\n",
      "Requirement already satisfied: pyasn1-modules>=0.2.1 in /usr/local/lib/python3.7/dist-packages (from google-auth<2,>=1.6.3->tensorboard<2.1.0,>=2.0.0->tensorflow-gpu==2.0.0) (0.2.8)\n",
      "Requirement already satisfied: rsa<5,>=3.1.4 in /usr/local/lib/python3.7/dist-packages (from google-auth<2,>=1.6.3->tensorboard<2.1.0,>=2.0.0->tensorflow-gpu==2.0.0) (4.8)\n",
      "Requirement already satisfied: cachetools<5.0,>=2.0.0 in /usr/local/lib/python3.7/dist-packages (from google-auth<2,>=1.6.3->tensorboard<2.1.0,>=2.0.0->tensorflow-gpu==2.0.0) (4.2.4)\n",
      "Requirement already satisfied: requests-oauthlib>=0.7.0 in /usr/local/lib/python3.7/dist-packages (from google-auth-oauthlib<0.5,>=0.4.1->tensorboard<2.1.0,>=2.0.0->tensorflow-gpu==2.0.0) (1.3.0)\n",
      "Requirement already satisfied: importlib-metadata>=4.4 in /usr/local/lib/python3.7/dist-packages (from markdown>=2.6.8->tensorboard<2.1.0,>=2.0.0->tensorflow-gpu==2.0.0) (4.8.2)\n",
      "Requirement already satisfied: typing-extensions>=3.6.4 in /usr/local/lib/python3.7/dist-packages (from importlib-metadata>=4.4->markdown>=2.6.8->tensorboard<2.1.0,>=2.0.0->tensorflow-gpu==2.0.0) (3.10.0.2)\n",
      "Requirement already satisfied: zipp>=0.5 in /usr/local/lib/python3.7/dist-packages (from importlib-metadata>=4.4->markdown>=2.6.8->tensorboard<2.1.0,>=2.0.0->tensorflow-gpu==2.0.0) (3.6.0)\n",
      "Requirement already satisfied: pyasn1<0.5.0,>=0.4.6 in /usr/local/lib/python3.7/dist-packages (from pyasn1-modules>=0.2.1->google-auth<2,>=1.6.3->tensorboard<2.1.0,>=2.0.0->tensorflow-gpu==2.0.0) (0.4.8)\n",
      "Requirement already satisfied: chardet<4,>=3.0.2 in /usr/local/lib/python3.7/dist-packages (from requests<3,>=2.21.0->tensorboard<2.1.0,>=2.0.0->tensorflow-gpu==2.0.0) (3.0.4)\n",
      "Requirement already satisfied: urllib3!=1.25.0,!=1.25.1,<1.26,>=1.21.1 in /usr/local/lib/python3.7/dist-packages (from requests<3,>=2.21.0->tensorboard<2.1.0,>=2.0.0->tensorflow-gpu==2.0.0) (1.24.3)\n",
      "Requirement already satisfied: idna<3,>=2.5 in /usr/local/lib/python3.7/dist-packages (from requests<3,>=2.21.0->tensorboard<2.1.0,>=2.0.0->tensorflow-gpu==2.0.0) (2.10)\n",
      "Requirement already satisfied: certifi>=2017.4.17 in /usr/local/lib/python3.7/dist-packages (from requests<3,>=2.21.0->tensorboard<2.1.0,>=2.0.0->tensorflow-gpu==2.0.0) (2021.10.8)\n",
      "Requirement already satisfied: oauthlib>=3.0.0 in /usr/local/lib/python3.7/dist-packages (from requests-oauthlib>=0.7.0->google-auth-oauthlib<0.5,>=0.4.1->tensorboard<2.1.0,>=2.0.0->tensorflow-gpu==2.0.0) (3.1.1)\n",
      "Requirement already satisfied: cached-property in /usr/local/lib/python3.7/dist-packages (from h5py->keras-applications>=1.0.8->tensorflow-gpu==2.0.0) (1.5.2)\n"
     ]
    },
    {
     "ename": "MessageError",
     "evalue": "ignored",
     "output_type": "error",
     "traceback": [
      "\u001b[0;31m---------------------------------------------------------------------------\u001b[0m",
      "\u001b[0;31mMessageError\u001b[0m                              Traceback (most recent call last)",
      "\u001b[0;32m<ipython-input-86-079b1d13f69e>\u001b[0m in \u001b[0;36m<module>\u001b[0;34m()\u001b[0m\n\u001b[1;32m      3\u001b[0m \u001b[0mget_ipython\u001b[0m\u001b[0;34m(\u001b[0m\u001b[0;34m)\u001b[0m\u001b[0;34m.\u001b[0m\u001b[0msystem\u001b[0m\u001b[0;34m(\u001b[0m\u001b[0;34m'pip install -U tensorflow-gpu==2.0.0 grpcio'\u001b[0m\u001b[0;34m)\u001b[0m\u001b[0;34m\u001b[0m\u001b[0;34m\u001b[0m\u001b[0m\n\u001b[1;32m      4\u001b[0m \u001b[0;32mimport\u001b[0m \u001b[0mfastbook\u001b[0m\u001b[0;34m\u001b[0m\u001b[0;34m\u001b[0m\u001b[0m\n\u001b[0;32m----> 5\u001b[0;31m \u001b[0mfastbook\u001b[0m\u001b[0;34m.\u001b[0m\u001b[0msetup_book\u001b[0m\u001b[0;34m(\u001b[0m\u001b[0;34m)\u001b[0m\u001b[0;34m\u001b[0m\u001b[0;34m\u001b[0m\u001b[0m\n\u001b[0m",
      "\u001b[0;32m/usr/local/lib/python3.7/dist-packages/fastbook/__init__.py\u001b[0m in \u001b[0;36msetup_book\u001b[0;34m()\u001b[0m\n\u001b[1;32m     38\u001b[0m \u001b[0;34m\u001b[0m\u001b[0m\n\u001b[1;32m     39\u001b[0m \u001b[0;32mdef\u001b[0m \u001b[0msetup_book\u001b[0m\u001b[0;34m(\u001b[0m\u001b[0;34m)\u001b[0m\u001b[0;34m:\u001b[0m\u001b[0;34m\u001b[0m\u001b[0;34m\u001b[0m\u001b[0m\n\u001b[0;32m---> 40\u001b[0;31m     \u001b[0;32mif\u001b[0m \u001b[0mIN_COLAB\u001b[0m\u001b[0;34m:\u001b[0m \u001b[0;32mreturn\u001b[0m \u001b[0msetup_colab\u001b[0m\u001b[0;34m(\u001b[0m\u001b[0;34m)\u001b[0m\u001b[0;34m\u001b[0m\u001b[0;34m\u001b[0m\u001b[0m\n\u001b[0m\u001b[1;32m     41\u001b[0m \u001b[0;34m\u001b[0m\u001b[0m\n\u001b[1;32m     42\u001b[0m \u001b[0;32mdef\u001b[0m \u001b[0mgv\u001b[0m\u001b[0;34m(\u001b[0m\u001b[0ms\u001b[0m\u001b[0;34m)\u001b[0m\u001b[0;34m:\u001b[0m \u001b[0;32mreturn\u001b[0m \u001b[0mgraphviz\u001b[0m\u001b[0;34m.\u001b[0m\u001b[0mSource\u001b[0m\u001b[0;34m(\u001b[0m\u001b[0;34m'digraph G{ rankdir=\"LR\"'\u001b[0m \u001b[0;34m+\u001b[0m \u001b[0ms\u001b[0m \u001b[0;34m+\u001b[0m \u001b[0;34m'; }'\u001b[0m\u001b[0;34m)\u001b[0m\u001b[0;34m\u001b[0m\u001b[0;34m\u001b[0m\u001b[0m\n",
      "\u001b[0;32m/usr/local/lib/python3.7/dist-packages/fastbook/__init__.py\u001b[0m in \u001b[0;36msetup_colab\u001b[0;34m()\u001b[0m\n\u001b[1;32m     35\u001b[0m     \u001b[0mgdrive\u001b[0m \u001b[0;34m=\u001b[0m \u001b[0mPath\u001b[0m\u001b[0;34m(\u001b[0m\u001b[0;34m'/content/gdrive/My Drive'\u001b[0m\u001b[0;34m)\u001b[0m\u001b[0;34m\u001b[0m\u001b[0;34m\u001b[0m\u001b[0m\n\u001b[1;32m     36\u001b[0m     \u001b[0;32mfrom\u001b[0m \u001b[0mgoogle\u001b[0m\u001b[0;34m.\u001b[0m\u001b[0mcolab\u001b[0m \u001b[0;32mimport\u001b[0m \u001b[0mdrive\u001b[0m\u001b[0;34m\u001b[0m\u001b[0;34m\u001b[0m\u001b[0m\n\u001b[0;32m---> 37\u001b[0;31m     \u001b[0;32mif\u001b[0m \u001b[0;32mnot\u001b[0m \u001b[0mgdrive\u001b[0m\u001b[0;34m.\u001b[0m\u001b[0mexists\u001b[0m\u001b[0;34m(\u001b[0m\u001b[0;34m)\u001b[0m\u001b[0;34m:\u001b[0m \u001b[0mdrive\u001b[0m\u001b[0;34m.\u001b[0m\u001b[0mmount\u001b[0m\u001b[0;34m(\u001b[0m\u001b[0mstr\u001b[0m\u001b[0;34m(\u001b[0m\u001b[0mgdrive\u001b[0m\u001b[0;34m.\u001b[0m\u001b[0mparent\u001b[0m\u001b[0;34m)\u001b[0m\u001b[0;34m)\u001b[0m\u001b[0;34m\u001b[0m\u001b[0;34m\u001b[0m\u001b[0m\n\u001b[0m\u001b[1;32m     38\u001b[0m \u001b[0;34m\u001b[0m\u001b[0m\n\u001b[1;32m     39\u001b[0m \u001b[0;32mdef\u001b[0m \u001b[0msetup_book\u001b[0m\u001b[0;34m(\u001b[0m\u001b[0;34m)\u001b[0m\u001b[0;34m:\u001b[0m\u001b[0;34m\u001b[0m\u001b[0;34m\u001b[0m\u001b[0m\n",
      "\u001b[0;32m/usr/local/lib/python3.7/dist-packages/google/colab/drive.py\u001b[0m in \u001b[0;36mmount\u001b[0;34m(mountpoint, force_remount, timeout_ms, use_metadata_server)\u001b[0m\n\u001b[1;32m    111\u001b[0m       \u001b[0mtimeout_ms\u001b[0m\u001b[0;34m=\u001b[0m\u001b[0mtimeout_ms\u001b[0m\u001b[0;34m,\u001b[0m\u001b[0;34m\u001b[0m\u001b[0;34m\u001b[0m\u001b[0m\n\u001b[1;32m    112\u001b[0m       \u001b[0muse_metadata_server\u001b[0m\u001b[0;34m=\u001b[0m\u001b[0muse_metadata_server\u001b[0m\u001b[0;34m,\u001b[0m\u001b[0;34m\u001b[0m\u001b[0;34m\u001b[0m\u001b[0m\n\u001b[0;32m--> 113\u001b[0;31m       ephemeral=ephemeral)\n\u001b[0m\u001b[1;32m    114\u001b[0m \u001b[0;34m\u001b[0m\u001b[0m\n\u001b[1;32m    115\u001b[0m \u001b[0;34m\u001b[0m\u001b[0m\n",
      "\u001b[0;32m/usr/local/lib/python3.7/dist-packages/google/colab/drive.py\u001b[0m in \u001b[0;36m_mount\u001b[0;34m(mountpoint, force_remount, timeout_ms, use_metadata_server, ephemeral)\u001b[0m\n\u001b[1;32m    134\u001b[0m   \u001b[0;32mif\u001b[0m \u001b[0mephemeral\u001b[0m\u001b[0;34m:\u001b[0m\u001b[0;34m\u001b[0m\u001b[0;34m\u001b[0m\u001b[0m\n\u001b[1;32m    135\u001b[0m     _message.blocking_request(\n\u001b[0;32m--> 136\u001b[0;31m         'request_auth', request={'authType': 'dfs_ephemeral'}, timeout_sec=None)\n\u001b[0m\u001b[1;32m    137\u001b[0m \u001b[0;34m\u001b[0m\u001b[0m\n\u001b[1;32m    138\u001b[0m   \u001b[0mmountpoint\u001b[0m \u001b[0;34m=\u001b[0m \u001b[0m_os\u001b[0m\u001b[0;34m.\u001b[0m\u001b[0mpath\u001b[0m\u001b[0;34m.\u001b[0m\u001b[0mexpanduser\u001b[0m\u001b[0;34m(\u001b[0m\u001b[0mmountpoint\u001b[0m\u001b[0;34m)\u001b[0m\u001b[0;34m\u001b[0m\u001b[0;34m\u001b[0m\u001b[0m\n",
      "\u001b[0;32m/usr/local/lib/python3.7/dist-packages/google/colab/_message.py\u001b[0m in \u001b[0;36mblocking_request\u001b[0;34m(request_type, request, timeout_sec, parent)\u001b[0m\n\u001b[1;32m    173\u001b[0m   request_id = send_request(\n\u001b[1;32m    174\u001b[0m       request_type, request, parent=parent, expect_reply=True)\n\u001b[0;32m--> 175\u001b[0;31m   \u001b[0;32mreturn\u001b[0m \u001b[0mread_reply_from_input\u001b[0m\u001b[0;34m(\u001b[0m\u001b[0mrequest_id\u001b[0m\u001b[0;34m,\u001b[0m \u001b[0mtimeout_sec\u001b[0m\u001b[0;34m)\u001b[0m\u001b[0;34m\u001b[0m\u001b[0;34m\u001b[0m\u001b[0m\n\u001b[0m",
      "\u001b[0;32m/usr/local/lib/python3.7/dist-packages/google/colab/_message.py\u001b[0m in \u001b[0;36mread_reply_from_input\u001b[0;34m(message_id, timeout_sec)\u001b[0m\n\u001b[1;32m    104\u001b[0m         reply.get('colab_msg_id') == message_id):\n\u001b[1;32m    105\u001b[0m       \u001b[0;32mif\u001b[0m \u001b[0;34m'error'\u001b[0m \u001b[0;32min\u001b[0m \u001b[0mreply\u001b[0m\u001b[0;34m:\u001b[0m\u001b[0;34m\u001b[0m\u001b[0;34m\u001b[0m\u001b[0m\n\u001b[0;32m--> 106\u001b[0;31m         \u001b[0;32mraise\u001b[0m \u001b[0mMessageError\u001b[0m\u001b[0;34m(\u001b[0m\u001b[0mreply\u001b[0m\u001b[0;34m[\u001b[0m\u001b[0;34m'error'\u001b[0m\u001b[0;34m]\u001b[0m\u001b[0;34m)\u001b[0m\u001b[0;34m\u001b[0m\u001b[0;34m\u001b[0m\u001b[0m\n\u001b[0m\u001b[1;32m    107\u001b[0m       \u001b[0;32mreturn\u001b[0m \u001b[0mreply\u001b[0m\u001b[0;34m.\u001b[0m\u001b[0mget\u001b[0m\u001b[0;34m(\u001b[0m\u001b[0;34m'data'\u001b[0m\u001b[0;34m,\u001b[0m \u001b[0;32mNone\u001b[0m\u001b[0;34m)\u001b[0m\u001b[0;34m\u001b[0m\u001b[0;34m\u001b[0m\u001b[0m\n\u001b[1;32m    108\u001b[0m \u001b[0;34m\u001b[0m\u001b[0m\n",
      "\u001b[0;31mMessageError\u001b[0m: Error: credential propagation was unsuccessful"
     ]
    }
   ],
   "source": [
    "#hide\n",
    "!pip install -Uqq fastbook\n",
    "!pip install -U tensorflow-gpu==2.0.0 grpcio\n",
    "import fastbook\n",
    "fastbook.setup_book()\n"
   ]
  },
  {
   "cell_type": "code",
   "execution_count": null,
   "metadata": {
    "id": "SEaZ0eiAJ7-r"
   },
   "outputs": [],
   "source": [
    "#hide\n",
    "from IPython.core.interactiveshell import InteractiveShell\n",
    "InteractiveShell.ast_node_interactivity = \"all\"\n",
    "\n",
    "from fastai.vision.all import *\n",
    "from fastbook import *\n",
    "\n",
    "matplotlib.rc('image', cmap='Greys')"
   ]
  },
  {
   "cell_type": "markdown",
   "metadata": {
    "id": "9VfX0oDSJ7-s"
   },
   "source": [
    "# Under the Hood: Training a Digit Classifier"
   ]
  },
  {
   "cell_type": "markdown",
   "metadata": {
    "id": "xxGSXJkDJ7-t"
   },
   "source": [
    "## Pixels: The Foundations of Computer Vision"
   ]
  },
  {
   "cell_type": "markdown",
   "metadata": {
    "id": "wNnjFcZZJ7-u"
   },
   "source": [
    "## Sidebar: Tenacity and Deep Learning"
   ]
  },
  {
   "cell_type": "markdown",
   "metadata": {
    "id": "wQObhO9SJ7-v"
   },
   "source": [
    "## End sidebar"
   ]
  },
  {
   "cell_type": "code",
   "execution_count": null,
   "metadata": {
    "id": "SZ_5TL0BTeSC"
   },
   "outputs": [],
   "source": [
    "# The MNIST dataset was constructed from two datasets of the US National Institute of Standards and Technology (NIST). \n",
    "# The training set consists of handwritten digits from 250 different people, 50 percent high school students, \n",
    "# and 50 percent employees from the Census Bureau. Note that the test set contains handwritten digits from different people following the same split.\n",
    "# The MNIST dataset is publicly available and consists of the following four parts:\n",
    "#     Training set images: train-images-idx3-ubyte.gz (9.9 MB, 47 MB unzipped, and 60,000 samples)\n",
    "#     Training set labels: train-labels-idx1-ubyte.gz (29 KB, 60 KB unzipped, and 60,000 labels)\n",
    "#     Test set images: t10k-images-idx3-ubyte.gz (1.6 MB, 7.8 MB, unzipped and 10,000 samples)\n",
    "#     Test set labels: t10k-labels-idx1-ubyte.gz (5 KB, 10 KB unzipped, and 10,000 labels)\n",
    "# PyTorch provides two high-level features:\n",
    "#     a) Tensor computation (like NumPy) with strong GPU acceleration\n",
    "#     b) Deep Neural Networks built on a tape-based autodiff system\n",
    "# PyTorch consists of 4 main packages:\n",
    "#       torch: a general purpose array library similar to Numpy that can do computations on GPU when the tensor type is cast to (torch.cuda.TensorFloat)\n",
    "#       torch.autograd: a package for building a computational graph and automatically obtaining gradients\n",
    "#       torch.nn: a neural net library with common layers and cost functions\n",
    "#       torch.optim: an optimization package with common optimization algorithms like SGD,Adam, etc\n",
    "# PyTorch Tensors:\n",
    "# In terms of programming, Tensors can simply be considered multidimensional arrays. \n",
    "# Tensors in PyTorch are similar to NumPy arrays, with the addition being that Tensors \n",
    "# can also be used on a GPU that supports CUDA. PyTorch supports various types of Tensors.\n",
    "# The MNIST dataset contains 28 by 28 grayscale images of single handwritten digits between 0 and 9. 28*28 = 784\n",
    "# The set consists of a total of 70,000 images, the training set having 60,000 and the test set has 10,000. \n",
    "# This means that there are 10 classes of digits, which includes the labels for the numbers 0 to 9."
   ]
  },
  {
   "cell_type": "code",
   "execution_count": 87,
   "metadata": {
    "id": "V24odAU9J7-v"
   },
   "outputs": [],
   "source": [
    "# Download a sample of MNIST that contains images of just these digits\n",
    "path = untar_data(URLs.MNIST_SAMPLE)"
   ]
  },
  {
   "cell_type": "code",
   "execution_count": 88,
   "metadata": {
    "id": "8RCeCWYkJ7-w"
   },
   "outputs": [],
   "source": [
    "#hide\n",
    "Path.BASE_PATH = path"
   ]
  },
  {
   "cell_type": "code",
   "execution_count": 89,
   "metadata": {
    "colab": {
     "base_uri": "https://localhost:8080/"
    },
    "id": "Q0NA6WHUJ7-2",
    "outputId": "ef874beb-a12b-4679-e2a4-a323db37b3ff"
   },
   "outputs": [
    {
     "data": {
      "text/plain": [
       "(#3) [Path('valid'),Path('labels.csv'),Path('train')]"
      ]
     },
     "execution_count": 89,
     "metadata": {},
     "output_type": "execute_result"
    }
   ],
   "source": [
    "# See what’s in this directory by using ls\n",
    "path.ls()"
   ]
  },
  {
   "cell_type": "code",
   "execution_count": 90,
   "metadata": {
    "colab": {
     "base_uri": "https://localhost:8080/"
    },
    "id": "EfDKR8b5J7-4",
    "outputId": "340302bf-3dc2-4bda-be08-78b5ee13367b"
   },
   "outputs": [
    {
     "data": {
      "text/plain": [
       "(#2) [Path('train/7'),Path('train/3')]"
      ]
     },
     "execution_count": 90,
     "metadata": {},
     "output_type": "execute_result"
    }
   ],
   "source": [
    "# The MNIST dataset follows a common layout for machine learning datasets: separate folders for the training set and the validation \n",
    "# (and/or test) set. Let’s see what is inside the training set:\n",
    "(path/'train').ls()"
   ]
  },
  {
   "cell_type": "code",
   "execution_count": 91,
   "metadata": {
    "colab": {
     "base_uri": "https://localhost:8080/"
    },
    "id": "EKC6TbMaJ7-5",
    "outputId": "0758825e-fe5c-4de3-9079-304dfdd31a59"
   },
   "outputs": [
    {
     "data": {
      "text/plain": [
       "(#6131) [Path('train/3/10.png'),Path('train/3/10000.png'),Path('train/3/10011.png'),Path('train/3/10031.png'),Path('train/3/10034.png'),Path('train/3/10042.png'),Path('train/3/10052.png'),Path('train/3/1007.png'),Path('train/3/10074.png'),Path('train/3/10091.png')...]"
      ]
     },
     "execution_count": 91,
     "metadata": {},
     "output_type": "execute_result"
    },
    {
     "data": {
      "text/plain": [
       "(#6265) [Path('train/7/10002.png'),Path('train/7/1001.png'),Path('train/7/10014.png'),Path('train/7/10019.png'),Path('train/7/10039.png'),Path('train/7/10046.png'),Path('train/7/10050.png'),Path('train/7/10063.png'),Path('train/7/10077.png'),Path('train/7/10086.png')...]"
      ]
     },
     "execution_count": 91,
     "metadata": {},
     "output_type": "execute_result"
    }
   ],
   "source": [
    "threes = (path/'train'/'3').ls().sorted()\n",
    "sevens = (path/'train'/'7').ls().sorted()\n",
    "threes\n",
    "sevens\n",
    "# It is full of image files"
   ]
  },
  {
   "cell_type": "code",
   "execution_count": 92,
   "metadata": {
    "colab": {
     "base_uri": "https://localhost:8080/",
     "height": 73
    },
    "id": "LfLIIFZgJ7-5",
    "outputId": "5b721dda-7d4c-469c-de9c-01eedfd60ce8"
   },
   "outputs": [
    {
     "data": {
      "image/png": "[encoded data removed]",
      "text/plain": [
       "<PIL.PngImagePlugin.PngImageFile image mode=L size=28x28 at 0x7F6475E3FF90>"
      ]
     },
     "execution_count": 92,
     "metadata": {},
     "output_type": "execute_result"
    },
    {
     "data": {
      "image/png": "[encoded data removed]",
      "text/plain": [
       "<PIL.PngImagePlugin.PngImageFile image mode=L size=28x28 at 0x7F6475E3FC50>"
      ]
     },
     "execution_count": 92,
     "metadata": {},
     "output_type": "execute_result"
    }
   ],
   "source": [
    "# There’s a folder of 3s, and a folder of 7s. \n",
    "# In machine learning parlance, we say that “3” and “7” are the labels (or targets) in this dataset. \n",
    "# Let us take a look in one of these folders (using sorted to ensure we all get the same order of files):\n",
    "im3_path = threes[1]\n",
    "im3 = Image.open(im3_path)\n",
    "im3\n",
    "im7_path = sevens[1]\n",
    "im7 = Image.open(im7_path)\n",
    "im7"
   ]
  },
  {
   "cell_type": "code",
   "execution_count": 93,
   "metadata": {
    "colab": {
     "base_uri": "https://localhost:8080/"
    },
    "id": "HOQnjZcWJ7-8",
    "outputId": "0a10dea6-80f6-4d46-c1d2-ddf1fb06095e"
   },
   "outputs": [
    {
     "data": {
      "text/plain": [
       "array([[  0,   0,   0,   0,   0,   0],\n",
       "       [  0,   0,   0,   0,   0,  29],\n",
       "       [  0,   0,   0,  48, 166, 224],\n",
       "       [  0,  93, 244, 249, 253, 187],\n",
       "       [  0, 107, 253, 253, 230,  48],\n",
       "       [  0,   3,  20,  20,  15,   0]], dtype=uint8)"
      ]
     },
     "execution_count": 93,
     "metadata": {},
     "output_type": "execute_result"
    }
   ],
   "source": [
    "# Here we are using the Image class from the Python Imaging Library (PIL), which is the most widely used Python package for opening,\n",
    "# manipulating, and viewing images. Jupyter knows about PIL images, so it displays the image for us automatically.\n",
    "# In a computer, everything is represented as a number. \n",
    "# To view the numbers that make up this image, we have to convert it to a NumPy array or a PyTorch tensor. \n",
    "# For instance, here’s what a section of the image looks like converted to a NumPy array:\n",
    "# The 4:10 indicates that we requested the rows from index 4 (inclusive) to 10 (noninclusive) and the same for the columns. Numpy indexes\n",
    "# from top to bottom and from left to right - so this section is located near the top left corner of the image \n",
    "array(im3)[4:10,4:10]"
   ]
  },
  {
   "cell_type": "code",
   "execution_count": 323,
   "metadata": {
    "colab": {
     "base_uri": "https://localhost:8080/"
    },
    "id": "tCMiCvI1J7-8",
    "outputId": "efdddf19-7818-4d40-ed92-8a1db66dad88"
   },
   "outputs": [
    {
     "data": {
      "text/plain": [
       "tensor([[  0,   0,   0,   0,   0,   0,   0,   0,   0,   0,   0,   0,   0,   0,   0,   0,   0,   0,   0,   0,   0,   0,   0,   0,   0,   0,   0,   0],\n",
       "        [  0,   0,   0,   0,   0,   0,   0,   0,   0,   0,   0,   0,   0,   0,   0,   0,   0,   0,   0,   0,   0,   0,   0,   0,   0,   0,   0,   0],\n",
       "        [  0,   0,   0,   0,   0,   0,   0,   0,   0,   0,   0,   0,   0,   0,   0,   0,   0,   0,   0,   0,   0,   0,   0,   0,   0,   0,   0,   0],\n",
       "        [  0,   0,   0,   0,   0,   0,   0,   0,   0,   0,   0,   0,   0,   0,   0,   0,   0,   0,   0,   0,   0,   0,   0,   0,   0,   0,   0,   0],\n",
       "        [  0,   0,   0,   0,   0,   0,   0,   0,   0,   0,   0,   0,   0,   0,   0,   0,   0,   0,   0,   0,   0,   0,   0,   0,   0,   0,   0,   0],\n",
       "        [  0,   0,   0,   0,   0,   0,   0,   0,   0,  29, 150, 195, 254, 255, 254, 176, 193, 150,  96,   0,   0,   0,   0,   0,   0,   0,   0,   0],\n",
       "        [  0,   0,   0,   0,   0,   0,   0,  48, 166, 224, 253, 253, 234, 196, 253, 253, 253, 253, 233,   0,   0,   0,   0,   0,   0,   0,   0,   0],\n",
       "        [  0,   0,   0,   0,   0,  93, 244, 249, 253, 187,  46,  10,   8,   4,  10, 194, 253, 253, 233,   0,   0,   0,   0,   0,   0,   0,   0,   0],\n",
       "        [  0,   0,   0,   0,   0, 107, 253, 253, 230,  48,   0,   0,   0,   0,   0, 192, 253, 253, 156,   0,   0,   0,   0,   0,   0,   0,   0,   0],\n",
       "        [  0,   0,   0,   0,   0,   3,  20,  20,  15,   0,   0,   0,   0,   0,  43, 224, 253, 245,  74,   0,   0,   0,   0,   0,   0,   0,   0,   0],\n",
       "        [  0,   0,   0,   0,   0,   0,   0,   0,   0,   0,   0,   0,   0,   0, 249, 253, 245, 126,   0,   0,   0,   0,   0,   0,   0,   0,   0,   0],\n",
       "        [  0,   0,   0,   0,   0,   0,   0,   0,   0,   0,   0,  14, 101, 223, 253, 248, 124,   0,   0,   0,   0,   0,   0,   0,   0,   0,   0,   0],\n",
       "        [  0,   0,   0,   0,   0,   0,   0,   0,   0,  11, 166, 239, 253, 253, 253, 187,  30,   0,   0,   0,   0,   0,   0,   0,   0,   0,   0,   0],\n",
       "        [  0,   0,   0,   0,   0,   0,   0,   0,   0,  16, 248, 250, 253, 253, 253, 253, 232, 213, 111,   2,   0,   0,   0,   0,   0,   0,   0,   0],\n",
       "        [  0,   0,   0,   0,   0,   0,   0,   0,   0,   0,   0,  43,  98,  98, 208, 253, 253, 253, 253, 187,  22,   0,   0,   0,   0,   0,   0,   0],\n",
       "        [  0,   0,   0,   0,   0,   0,   0,   0,   0,   0,   0,   0,   0,   0,   9,  51, 119, 253, 253, 253,  76,   0,   0,   0,   0,   0,   0,   0],\n",
       "        [  0,   0,   0,   0,   0,   0,   0,   0,   0,   0,   0,   0,   0,   0,   0,   0,   1, 183, 253, 253, 139,   0,   0,   0,   0,   0,   0,   0],\n",
       "        [  0,   0,   0,   0,   0,   0,   0,   0,   0,   0,   0,   0,   0,   0,   0,   0,   0, 182, 253, 253, 104,   0,   0,   0,   0,   0,   0,   0],\n",
       "        [  0,   0,   0,   0,   0,   0,   0,   0,   0,   0,   0,   0,   0,   0,   0,   0,  85, 249, 253, 253,  36,   0,   0,   0,   0,   0,   0,   0],\n",
       "        [  0,   0,   0,   0,   0,   0,   0,   0,   0,   0,   0,   0,   0,   0,   0,  60, 214, 253, 253, 173,  11,   0,   0,   0,   0,   0,   0,   0],\n",
       "        [  0,   0,   0,   0,   0,   0,   0,   0,   0,   0,   0,   0,   0,   0,  98, 247, 253, 253, 226,   9,   0,   0,   0,   0,   0,   0,   0,   0],\n",
       "        [  0,   0,   0,   0,   0,   0,   0,   0,   0,   0,   0,   0,  42, 150, 252, 253, 253, 233,  53,   0,   0,   0,   0,   0,   0,   0,   0,   0],\n",
       "        [  0,   0,   0,   0,   0,   0,  42, 115,  42,  60, 115, 159, 240, 253, 253, 250, 175,  25,   0,   0,   0,   0,   0,   0,   0,   0,   0,   0],\n",
       "        [  0,   0,   0,   0,   0,   0, 187, 253, 253, 253, 253, 253, 253, 253, 197,  86,   0,   0,   0,   0,   0,   0,   0,   0,   0,   0,   0,   0],\n",
       "        [  0,   0,   0,   0,   0,   0, 103, 253, 253, 253, 253, 253, 232,  67,   1,   0,   0,   0,   0,   0,   0,   0,   0,   0,   0,   0,   0,   0],\n",
       "        [  0,   0,   0,   0,   0,   0,   0,   0,   0,   0,   0,   0,   0,   0,   0,   0,   0,   0,   0,   0,   0,   0,   0,   0,   0,   0,   0,   0],\n",
       "        [  0,   0,   0,   0,   0,   0,   0,   0,   0,   0,   0,   0,   0,   0,   0,   0,   0,   0,   0,   0,   0,   0,   0,   0,   0,   0,   0,   0],\n",
       "        [  0,   0,   0,   0,   0,   0,   0,   0,   0,   0,   0,   0,   0,   0,   0,   0,   0,   0,   0,   0,   0,   0,   0,   0,   0,   0,   0,   0]], dtype=torch.uint8)"
      ]
     },
     "execution_count": 323,
     "metadata": {},
     "output_type": "execute_result"
    }
   ],
   "source": [
    "tensor(im3)[0:28,0:28]"
   ]
  },
  {
   "cell_type": "code",
   "execution_count": 95,
   "metadata": {
    "colab": {
     "base_uri": "https://localhost:8080/",
     "height": 363
    },
    "id": "xEb0TB1_WgL7",
    "outputId": "90cbf708-bcfe-458b-d7c9-12aaa9bc2221"
   },
   "outputs": [
    {
     "data": {
      "text/html": [
       "<style  type=\"text/css\" >\n",
       "#T_40d95c1a_7313_11ec_a035_0242ac1c0002row0_col0,#T_40d95c1a_7313_11ec_a035_0242ac1c0002row0_col1,#T_40d95c1a_7313_11ec_a035_0242ac1c0002row0_col2,#T_40d95c1a_7313_11ec_a035_0242ac1c0002row0_col3,#T_40d95c1a_7313_11ec_a035_0242ac1c0002row0_col4,#T_40d95c1a_7313_11ec_a035_0242ac1c0002row0_col5,#T_40d95c1a_7313_11ec_a035_0242ac1c0002row0_col6,#T_40d95c1a_7313_11ec_a035_0242ac1c0002row0_col7,#T_40d95c1a_7313_11ec_a035_0242ac1c0002row0_col8,#T_40d95c1a_7313_11ec_a035_0242ac1c0002row0_col9,#T_40d95c1a_7313_11ec_a035_0242ac1c0002row1_col0,#T_40d95c1a_7313_11ec_a035_0242ac1c0002row1_col1,#T_40d95c1a_7313_11ec_a035_0242ac1c0002row1_col2,#T_40d95c1a_7313_11ec_a035_0242ac1c0002row1_col3,#T_40d95c1a_7313_11ec_a035_0242ac1c0002row1_col4,#T_40d95c1a_7313_11ec_a035_0242ac1c0002row1_col5,#T_40d95c1a_7313_11ec_a035_0242ac1c0002row1_col6,#T_40d95c1a_7313_11ec_a035_0242ac1c0002row1_col7,#T_40d95c1a_7313_11ec_a035_0242ac1c0002row1_col8,#T_40d95c1a_7313_11ec_a035_0242ac1c0002row1_col9,#T_40d95c1a_7313_11ec_a035_0242ac1c0002row2_col0,#T_40d95c1a_7313_11ec_a035_0242ac1c0002row2_col1,#T_40d95c1a_7313_11ec_a035_0242ac1c0002row2_col2,#T_40d95c1a_7313_11ec_a035_0242ac1c0002row2_col3,#T_40d95c1a_7313_11ec_a035_0242ac1c0002row2_col4,#T_40d95c1a_7313_11ec_a035_0242ac1c0002row2_col5,#T_40d95c1a_7313_11ec_a035_0242ac1c0002row2_col6,#T_40d95c1a_7313_11ec_a035_0242ac1c0002row2_col7,#T_40d95c1a_7313_11ec_a035_0242ac1c0002row2_col8,#T_40d95c1a_7313_11ec_a035_0242ac1c0002row2_col9,#T_40d95c1a_7313_11ec_a035_0242ac1c0002row3_col0,#T_40d95c1a_7313_11ec_a035_0242ac1c0002row3_col1,#T_40d95c1a_7313_11ec_a035_0242ac1c0002row3_col2,#T_40d95c1a_7313_11ec_a035_0242ac1c0002row3_col3,#T_40d95c1a_7313_11ec_a035_0242ac1c0002row3_col4,#T_40d95c1a_7313_11ec_a035_0242ac1c0002row3_col5,#T_40d95c1a_7313_11ec_a035_0242ac1c0002row3_col6,#T_40d95c1a_7313_11ec_a035_0242ac1c0002row3_col7,#T_40d95c1a_7313_11ec_a035_0242ac1c0002row3_col8,#T_40d95c1a_7313_11ec_a035_0242ac1c0002row3_col9,#T_40d95c1a_7313_11ec_a035_0242ac1c0002row4_col0,#T_40d95c1a_7313_11ec_a035_0242ac1c0002row4_col1,#T_40d95c1a_7313_11ec_a035_0242ac1c0002row4_col2,#T_40d95c1a_7313_11ec_a035_0242ac1c0002row4_col3,#T_40d95c1a_7313_11ec_a035_0242ac1c0002row4_col4,#T_40d95c1a_7313_11ec_a035_0242ac1c0002row4_col5,#T_40d95c1a_7313_11ec_a035_0242ac1c0002row4_col6,#T_40d95c1a_7313_11ec_a035_0242ac1c0002row4_col7,#T_40d95c1a_7313_11ec_a035_0242ac1c0002row4_col8,#T_40d95c1a_7313_11ec_a035_0242ac1c0002row4_col9,#T_40d95c1a_7313_11ec_a035_0242ac1c0002row5_col0,#T_40d95c1a_7313_11ec_a035_0242ac1c0002row5_col1,#T_40d95c1a_7313_11ec_a035_0242ac1c0002row5_col2,#T_40d95c1a_7313_11ec_a035_0242ac1c0002row5_col3,#T_40d95c1a_7313_11ec_a035_0242ac1c0002row5_col4,#T_40d95c1a_7313_11ec_a035_0242ac1c0002row5_col5,#T_40d95c1a_7313_11ec_a035_0242ac1c0002row5_col6,#T_40d95c1a_7313_11ec_a035_0242ac1c0002row5_col7,#T_40d95c1a_7313_11ec_a035_0242ac1c0002row5_col8,#T_40d95c1a_7313_11ec_a035_0242ac1c0002row6_col0,#T_40d95c1a_7313_11ec_a035_0242ac1c0002row6_col1,#T_40d95c1a_7313_11ec_a035_0242ac1c0002row6_col2,#T_40d95c1a_7313_11ec_a035_0242ac1c0002row6_col3,#T_40d95c1a_7313_11ec_a035_0242ac1c0002row6_col4,#T_40d95c1a_7313_11ec_a035_0242ac1c0002row6_col5,#T_40d95c1a_7313_11ec_a035_0242ac1c0002row6_col6,#T_40d95c1a_7313_11ec_a035_0242ac1c0002row7_col0,#T_40d95c1a_7313_11ec_a035_0242ac1c0002row7_col1,#T_40d95c1a_7313_11ec_a035_0242ac1c0002row7_col2,#T_40d95c1a_7313_11ec_a035_0242ac1c0002row7_col3,#T_40d95c1a_7313_11ec_a035_0242ac1c0002row7_col4,#T_40d95c1a_7313_11ec_a035_0242ac1c0002row8_col0,#T_40d95c1a_7313_11ec_a035_0242ac1c0002row8_col1,#T_40d95c1a_7313_11ec_a035_0242ac1c0002row8_col2,#T_40d95c1a_7313_11ec_a035_0242ac1c0002row8_col3,#T_40d95c1a_7313_11ec_a035_0242ac1c0002row8_col4,#T_40d95c1a_7313_11ec_a035_0242ac1c0002row9_col0,#T_40d95c1a_7313_11ec_a035_0242ac1c0002row9_col1,#T_40d95c1a_7313_11ec_a035_0242ac1c0002row9_col2,#T_40d95c1a_7313_11ec_a035_0242ac1c0002row9_col3,#T_40d95c1a_7313_11ec_a035_0242ac1c0002row9_col4,#T_40d95c1a_7313_11ec_a035_0242ac1c0002row9_col9{\n",
       "            font-size:  6pt;\n",
       "            background-color:  #ffffff;\n",
       "            color:  #000000;\n",
       "        }#T_40d95c1a_7313_11ec_a035_0242ac1c0002row5_col9{\n",
       "            font-size:  6pt;\n",
       "            background-color:  #efefef;\n",
       "            color:  #000000;\n",
       "        }#T_40d95c1a_7313_11ec_a035_0242ac1c0002row6_col7{\n",
       "            font-size:  6pt;\n",
       "            background-color:  #e4e4e4;\n",
       "            color:  #000000;\n",
       "        }#T_40d95c1a_7313_11ec_a035_0242ac1c0002row6_col8{\n",
       "            font-size:  6pt;\n",
       "            background-color:  #6b6b6b;\n",
       "            color:  #000000;\n",
       "        }#T_40d95c1a_7313_11ec_a035_0242ac1c0002row6_col9,#T_40d95c1a_7313_11ec_a035_0242ac1c0002row7_col8,#T_40d95c1a_7313_11ec_a035_0242ac1c0002row8_col5,#T_40d95c1a_7313_11ec_a035_0242ac1c0002row8_col6,#T_40d95c1a_7313_11ec_a035_0242ac1c0002row8_col7{\n",
       "            font-size:  6pt;\n",
       "            background-color:  #000000;\n",
       "            color:  #f1f1f1;\n",
       "        }#T_40d95c1a_7313_11ec_a035_0242ac1c0002row7_col5{\n",
       "            font-size:  6pt;\n",
       "            background-color:  #272727;\n",
       "            color:  #f1f1f1;\n",
       "        }#T_40d95c1a_7313_11ec_a035_0242ac1c0002row7_col6{\n",
       "            font-size:  6pt;\n",
       "            background-color:  #0a0a0a;\n",
       "            color:  #f1f1f1;\n",
       "        }#T_40d95c1a_7313_11ec_a035_0242ac1c0002row7_col7{\n",
       "            font-size:  6pt;\n",
       "            background-color:  #050505;\n",
       "            color:  #f1f1f1;\n",
       "        }#T_40d95c1a_7313_11ec_a035_0242ac1c0002row7_col9{\n",
       "            font-size:  6pt;\n",
       "            background-color:  #333333;\n",
       "            color:  #f1f1f1;\n",
       "        }#T_40d95c1a_7313_11ec_a035_0242ac1c0002row8_col8{\n",
       "            font-size:  6pt;\n",
       "            background-color:  #1b1b1b;\n",
       "            color:  #f1f1f1;\n",
       "        }#T_40d95c1a_7313_11ec_a035_0242ac1c0002row8_col9{\n",
       "            font-size:  6pt;\n",
       "            background-color:  #e0e0e0;\n",
       "            color:  #000000;\n",
       "        }#T_40d95c1a_7313_11ec_a035_0242ac1c0002row9_col5{\n",
       "            font-size:  6pt;\n",
       "            background-color:  #fcfcfc;\n",
       "            color:  #000000;\n",
       "        }#T_40d95c1a_7313_11ec_a035_0242ac1c0002row9_col6,#T_40d95c1a_7313_11ec_a035_0242ac1c0002row9_col7{\n",
       "            font-size:  6pt;\n",
       "            background-color:  #f6f6f6;\n",
       "            color:  #000000;\n",
       "        }#T_40d95c1a_7313_11ec_a035_0242ac1c0002row9_col8{\n",
       "            font-size:  6pt;\n",
       "            background-color:  #f8f8f8;\n",
       "            color:  #000000;\n",
       "        }</style><table id=\"T_40d95c1a_7313_11ec_a035_0242ac1c0002\" class=\"dataframe\"><thead>    <tr>        <th class=\"blank level0\" ></th>        <th class=\"col_heading level0 col0\" >0</th>        <th class=\"col_heading level0 col1\" >1</th>        <th class=\"col_heading level0 col2\" >2</th>        <th class=\"col_heading level0 col3\" >3</th>        <th class=\"col_heading level0 col4\" >4</th>        <th class=\"col_heading level0 col5\" >5</th>        <th class=\"col_heading level0 col6\" >6</th>        <th class=\"col_heading level0 col7\" >7</th>        <th class=\"col_heading level0 col8\" >8</th>        <th class=\"col_heading level0 col9\" >9</th>    </tr></thead><tbody>\n",
       "                <tr>\n",
       "                        <th id=\"T_40d95c1a_7313_11ec_a035_0242ac1c0002level0_row0\" class=\"row_heading level0 row0\" >0</th>\n",
       "                        <td id=\"T_40d95c1a_7313_11ec_a035_0242ac1c0002row0_col0\" class=\"data row0 col0\" >0</td>\n",
       "                        <td id=\"T_40d95c1a_7313_11ec_a035_0242ac1c0002row0_col1\" class=\"data row0 col1\" >0</td>\n",
       "                        <td id=\"T_40d95c1a_7313_11ec_a035_0242ac1c0002row0_col2\" class=\"data row0 col2\" >0</td>\n",
       "                        <td id=\"T_40d95c1a_7313_11ec_a035_0242ac1c0002row0_col3\" class=\"data row0 col3\" >0</td>\n",
       "                        <td id=\"T_40d95c1a_7313_11ec_a035_0242ac1c0002row0_col4\" class=\"data row0 col4\" >0</td>\n",
       "                        <td id=\"T_40d95c1a_7313_11ec_a035_0242ac1c0002row0_col5\" class=\"data row0 col5\" >0</td>\n",
       "                        <td id=\"T_40d95c1a_7313_11ec_a035_0242ac1c0002row0_col6\" class=\"data row0 col6\" >0</td>\n",
       "                        <td id=\"T_40d95c1a_7313_11ec_a035_0242ac1c0002row0_col7\" class=\"data row0 col7\" >0</td>\n",
       "                        <td id=\"T_40d95c1a_7313_11ec_a035_0242ac1c0002row0_col8\" class=\"data row0 col8\" >0</td>\n",
       "                        <td id=\"T_40d95c1a_7313_11ec_a035_0242ac1c0002row0_col9\" class=\"data row0 col9\" >0</td>\n",
       "            </tr>\n",
       "            <tr>\n",
       "                        <th id=\"T_40d95c1a_7313_11ec_a035_0242ac1c0002level0_row1\" class=\"row_heading level0 row1\" >1</th>\n",
       "                        <td id=\"T_40d95c1a_7313_11ec_a035_0242ac1c0002row1_col0\" class=\"data row1 col0\" >0</td>\n",
       "                        <td id=\"T_40d95c1a_7313_11ec_a035_0242ac1c0002row1_col1\" class=\"data row1 col1\" >0</td>\n",
       "                        <td id=\"T_40d95c1a_7313_11ec_a035_0242ac1c0002row1_col2\" class=\"data row1 col2\" >0</td>\n",
       "                        <td id=\"T_40d95c1a_7313_11ec_a035_0242ac1c0002row1_col3\" class=\"data row1 col3\" >0</td>\n",
       "                        <td id=\"T_40d95c1a_7313_11ec_a035_0242ac1c0002row1_col4\" class=\"data row1 col4\" >0</td>\n",
       "                        <td id=\"T_40d95c1a_7313_11ec_a035_0242ac1c0002row1_col5\" class=\"data row1 col5\" >0</td>\n",
       "                        <td id=\"T_40d95c1a_7313_11ec_a035_0242ac1c0002row1_col6\" class=\"data row1 col6\" >0</td>\n",
       "                        <td id=\"T_40d95c1a_7313_11ec_a035_0242ac1c0002row1_col7\" class=\"data row1 col7\" >0</td>\n",
       "                        <td id=\"T_40d95c1a_7313_11ec_a035_0242ac1c0002row1_col8\" class=\"data row1 col8\" >0</td>\n",
       "                        <td id=\"T_40d95c1a_7313_11ec_a035_0242ac1c0002row1_col9\" class=\"data row1 col9\" >0</td>\n",
       "            </tr>\n",
       "            <tr>\n",
       "                        <th id=\"T_40d95c1a_7313_11ec_a035_0242ac1c0002level0_row2\" class=\"row_heading level0 row2\" >2</th>\n",
       "                        <td id=\"T_40d95c1a_7313_11ec_a035_0242ac1c0002row2_col0\" class=\"data row2 col0\" >0</td>\n",
       "                        <td id=\"T_40d95c1a_7313_11ec_a035_0242ac1c0002row2_col1\" class=\"data row2 col1\" >0</td>\n",
       "                        <td id=\"T_40d95c1a_7313_11ec_a035_0242ac1c0002row2_col2\" class=\"data row2 col2\" >0</td>\n",
       "                        <td id=\"T_40d95c1a_7313_11ec_a035_0242ac1c0002row2_col3\" class=\"data row2 col3\" >0</td>\n",
       "                        <td id=\"T_40d95c1a_7313_11ec_a035_0242ac1c0002row2_col4\" class=\"data row2 col4\" >0</td>\n",
       "                        <td id=\"T_40d95c1a_7313_11ec_a035_0242ac1c0002row2_col5\" class=\"data row2 col5\" >0</td>\n",
       "                        <td id=\"T_40d95c1a_7313_11ec_a035_0242ac1c0002row2_col6\" class=\"data row2 col6\" >0</td>\n",
       "                        <td id=\"T_40d95c1a_7313_11ec_a035_0242ac1c0002row2_col7\" class=\"data row2 col7\" >0</td>\n",
       "                        <td id=\"T_40d95c1a_7313_11ec_a035_0242ac1c0002row2_col8\" class=\"data row2 col8\" >0</td>\n",
       "                        <td id=\"T_40d95c1a_7313_11ec_a035_0242ac1c0002row2_col9\" class=\"data row2 col9\" >0</td>\n",
       "            </tr>\n",
       "            <tr>\n",
       "                        <th id=\"T_40d95c1a_7313_11ec_a035_0242ac1c0002level0_row3\" class=\"row_heading level0 row3\" >3</th>\n",
       "                        <td id=\"T_40d95c1a_7313_11ec_a035_0242ac1c0002row3_col0\" class=\"data row3 col0\" >0</td>\n",
       "                        <td id=\"T_40d95c1a_7313_11ec_a035_0242ac1c0002row3_col1\" class=\"data row3 col1\" >0</td>\n",
       "                        <td id=\"T_40d95c1a_7313_11ec_a035_0242ac1c0002row3_col2\" class=\"data row3 col2\" >0</td>\n",
       "                        <td id=\"T_40d95c1a_7313_11ec_a035_0242ac1c0002row3_col3\" class=\"data row3 col3\" >0</td>\n",
       "                        <td id=\"T_40d95c1a_7313_11ec_a035_0242ac1c0002row3_col4\" class=\"data row3 col4\" >0</td>\n",
       "                        <td id=\"T_40d95c1a_7313_11ec_a035_0242ac1c0002row3_col5\" class=\"data row3 col5\" >0</td>\n",
       "                        <td id=\"T_40d95c1a_7313_11ec_a035_0242ac1c0002row3_col6\" class=\"data row3 col6\" >0</td>\n",
       "                        <td id=\"T_40d95c1a_7313_11ec_a035_0242ac1c0002row3_col7\" class=\"data row3 col7\" >0</td>\n",
       "                        <td id=\"T_40d95c1a_7313_11ec_a035_0242ac1c0002row3_col8\" class=\"data row3 col8\" >0</td>\n",
       "                        <td id=\"T_40d95c1a_7313_11ec_a035_0242ac1c0002row3_col9\" class=\"data row3 col9\" >0</td>\n",
       "            </tr>\n",
       "            <tr>\n",
       "                        <th id=\"T_40d95c1a_7313_11ec_a035_0242ac1c0002level0_row4\" class=\"row_heading level0 row4\" >4</th>\n",
       "                        <td id=\"T_40d95c1a_7313_11ec_a035_0242ac1c0002row4_col0\" class=\"data row4 col0\" >0</td>\n",
       "                        <td id=\"T_40d95c1a_7313_11ec_a035_0242ac1c0002row4_col1\" class=\"data row4 col1\" >0</td>\n",
       "                        <td id=\"T_40d95c1a_7313_11ec_a035_0242ac1c0002row4_col2\" class=\"data row4 col2\" >0</td>\n",
       "                        <td id=\"T_40d95c1a_7313_11ec_a035_0242ac1c0002row4_col3\" class=\"data row4 col3\" >0</td>\n",
       "                        <td id=\"T_40d95c1a_7313_11ec_a035_0242ac1c0002row4_col4\" class=\"data row4 col4\" >0</td>\n",
       "                        <td id=\"T_40d95c1a_7313_11ec_a035_0242ac1c0002row4_col5\" class=\"data row4 col5\" >0</td>\n",
       "                        <td id=\"T_40d95c1a_7313_11ec_a035_0242ac1c0002row4_col6\" class=\"data row4 col6\" >0</td>\n",
       "                        <td id=\"T_40d95c1a_7313_11ec_a035_0242ac1c0002row4_col7\" class=\"data row4 col7\" >0</td>\n",
       "                        <td id=\"T_40d95c1a_7313_11ec_a035_0242ac1c0002row4_col8\" class=\"data row4 col8\" >0</td>\n",
       "                        <td id=\"T_40d95c1a_7313_11ec_a035_0242ac1c0002row4_col9\" class=\"data row4 col9\" >0</td>\n",
       "            </tr>\n",
       "            <tr>\n",
       "                        <th id=\"T_40d95c1a_7313_11ec_a035_0242ac1c0002level0_row5\" class=\"row_heading level0 row5\" >5</th>\n",
       "                        <td id=\"T_40d95c1a_7313_11ec_a035_0242ac1c0002row5_col0\" class=\"data row5 col0\" >0</td>\n",
       "                        <td id=\"T_40d95c1a_7313_11ec_a035_0242ac1c0002row5_col1\" class=\"data row5 col1\" >0</td>\n",
       "                        <td id=\"T_40d95c1a_7313_11ec_a035_0242ac1c0002row5_col2\" class=\"data row5 col2\" >0</td>\n",
       "                        <td id=\"T_40d95c1a_7313_11ec_a035_0242ac1c0002row5_col3\" class=\"data row5 col3\" >0</td>\n",
       "                        <td id=\"T_40d95c1a_7313_11ec_a035_0242ac1c0002row5_col4\" class=\"data row5 col4\" >0</td>\n",
       "                        <td id=\"T_40d95c1a_7313_11ec_a035_0242ac1c0002row5_col5\" class=\"data row5 col5\" >0</td>\n",
       "                        <td id=\"T_40d95c1a_7313_11ec_a035_0242ac1c0002row5_col6\" class=\"data row5 col6\" >0</td>\n",
       "                        <td id=\"T_40d95c1a_7313_11ec_a035_0242ac1c0002row5_col7\" class=\"data row5 col7\" >0</td>\n",
       "                        <td id=\"T_40d95c1a_7313_11ec_a035_0242ac1c0002row5_col8\" class=\"data row5 col8\" >0</td>\n",
       "                        <td id=\"T_40d95c1a_7313_11ec_a035_0242ac1c0002row5_col9\" class=\"data row5 col9\" >29</td>\n",
       "            </tr>\n",
       "            <tr>\n",
       "                        <th id=\"T_40d95c1a_7313_11ec_a035_0242ac1c0002level0_row6\" class=\"row_heading level0 row6\" >6</th>\n",
       "                        <td id=\"T_40d95c1a_7313_11ec_a035_0242ac1c0002row6_col0\" class=\"data row6 col0\" >0</td>\n",
       "                        <td id=\"T_40d95c1a_7313_11ec_a035_0242ac1c0002row6_col1\" class=\"data row6 col1\" >0</td>\n",
       "                        <td id=\"T_40d95c1a_7313_11ec_a035_0242ac1c0002row6_col2\" class=\"data row6 col2\" >0</td>\n",
       "                        <td id=\"T_40d95c1a_7313_11ec_a035_0242ac1c0002row6_col3\" class=\"data row6 col3\" >0</td>\n",
       "                        <td id=\"T_40d95c1a_7313_11ec_a035_0242ac1c0002row6_col4\" class=\"data row6 col4\" >0</td>\n",
       "                        <td id=\"T_40d95c1a_7313_11ec_a035_0242ac1c0002row6_col5\" class=\"data row6 col5\" >0</td>\n",
       "                        <td id=\"T_40d95c1a_7313_11ec_a035_0242ac1c0002row6_col6\" class=\"data row6 col6\" >0</td>\n",
       "                        <td id=\"T_40d95c1a_7313_11ec_a035_0242ac1c0002row6_col7\" class=\"data row6 col7\" >48</td>\n",
       "                        <td id=\"T_40d95c1a_7313_11ec_a035_0242ac1c0002row6_col8\" class=\"data row6 col8\" >166</td>\n",
       "                        <td id=\"T_40d95c1a_7313_11ec_a035_0242ac1c0002row6_col9\" class=\"data row6 col9\" >224</td>\n",
       "            </tr>\n",
       "            <tr>\n",
       "                        <th id=\"T_40d95c1a_7313_11ec_a035_0242ac1c0002level0_row7\" class=\"row_heading level0 row7\" >7</th>\n",
       "                        <td id=\"T_40d95c1a_7313_11ec_a035_0242ac1c0002row7_col0\" class=\"data row7 col0\" >0</td>\n",
       "                        <td id=\"T_40d95c1a_7313_11ec_a035_0242ac1c0002row7_col1\" class=\"data row7 col1\" >0</td>\n",
       "                        <td id=\"T_40d95c1a_7313_11ec_a035_0242ac1c0002row7_col2\" class=\"data row7 col2\" >0</td>\n",
       "                        <td id=\"T_40d95c1a_7313_11ec_a035_0242ac1c0002row7_col3\" class=\"data row7 col3\" >0</td>\n",
       "                        <td id=\"T_40d95c1a_7313_11ec_a035_0242ac1c0002row7_col4\" class=\"data row7 col4\" >0</td>\n",
       "                        <td id=\"T_40d95c1a_7313_11ec_a035_0242ac1c0002row7_col5\" class=\"data row7 col5\" >93</td>\n",
       "                        <td id=\"T_40d95c1a_7313_11ec_a035_0242ac1c0002row7_col6\" class=\"data row7 col6\" >244</td>\n",
       "                        <td id=\"T_40d95c1a_7313_11ec_a035_0242ac1c0002row7_col7\" class=\"data row7 col7\" >249</td>\n",
       "                        <td id=\"T_40d95c1a_7313_11ec_a035_0242ac1c0002row7_col8\" class=\"data row7 col8\" >253</td>\n",
       "                        <td id=\"T_40d95c1a_7313_11ec_a035_0242ac1c0002row7_col9\" class=\"data row7 col9\" >187</td>\n",
       "            </tr>\n",
       "            <tr>\n",
       "                        <th id=\"T_40d95c1a_7313_11ec_a035_0242ac1c0002level0_row8\" class=\"row_heading level0 row8\" >8</th>\n",
       "                        <td id=\"T_40d95c1a_7313_11ec_a035_0242ac1c0002row8_col0\" class=\"data row8 col0\" >0</td>\n",
       "                        <td id=\"T_40d95c1a_7313_11ec_a035_0242ac1c0002row8_col1\" class=\"data row8 col1\" >0</td>\n",
       "                        <td id=\"T_40d95c1a_7313_11ec_a035_0242ac1c0002row8_col2\" class=\"data row8 col2\" >0</td>\n",
       "                        <td id=\"T_40d95c1a_7313_11ec_a035_0242ac1c0002row8_col3\" class=\"data row8 col3\" >0</td>\n",
       "                        <td id=\"T_40d95c1a_7313_11ec_a035_0242ac1c0002row8_col4\" class=\"data row8 col4\" >0</td>\n",
       "                        <td id=\"T_40d95c1a_7313_11ec_a035_0242ac1c0002row8_col5\" class=\"data row8 col5\" >107</td>\n",
       "                        <td id=\"T_40d95c1a_7313_11ec_a035_0242ac1c0002row8_col6\" class=\"data row8 col6\" >253</td>\n",
       "                        <td id=\"T_40d95c1a_7313_11ec_a035_0242ac1c0002row8_col7\" class=\"data row8 col7\" >253</td>\n",
       "                        <td id=\"T_40d95c1a_7313_11ec_a035_0242ac1c0002row8_col8\" class=\"data row8 col8\" >230</td>\n",
       "                        <td id=\"T_40d95c1a_7313_11ec_a035_0242ac1c0002row8_col9\" class=\"data row8 col9\" >48</td>\n",
       "            </tr>\n",
       "            <tr>\n",
       "                        <th id=\"T_40d95c1a_7313_11ec_a035_0242ac1c0002level0_row9\" class=\"row_heading level0 row9\" >9</th>\n",
       "                        <td id=\"T_40d95c1a_7313_11ec_a035_0242ac1c0002row9_col0\" class=\"data row9 col0\" >0</td>\n",
       "                        <td id=\"T_40d95c1a_7313_11ec_a035_0242ac1c0002row9_col1\" class=\"data row9 col1\" >0</td>\n",
       "                        <td id=\"T_40d95c1a_7313_11ec_a035_0242ac1c0002row9_col2\" class=\"data row9 col2\" >0</td>\n",
       "                        <td id=\"T_40d95c1a_7313_11ec_a035_0242ac1c0002row9_col3\" class=\"data row9 col3\" >0</td>\n",
       "                        <td id=\"T_40d95c1a_7313_11ec_a035_0242ac1c0002row9_col4\" class=\"data row9 col4\" >0</td>\n",
       "                        <td id=\"T_40d95c1a_7313_11ec_a035_0242ac1c0002row9_col5\" class=\"data row9 col5\" >3</td>\n",
       "                        <td id=\"T_40d95c1a_7313_11ec_a035_0242ac1c0002row9_col6\" class=\"data row9 col6\" >20</td>\n",
       "                        <td id=\"T_40d95c1a_7313_11ec_a035_0242ac1c0002row9_col7\" class=\"data row9 col7\" >20</td>\n",
       "                        <td id=\"T_40d95c1a_7313_11ec_a035_0242ac1c0002row9_col8\" class=\"data row9 col8\" >15</td>\n",
       "                        <td id=\"T_40d95c1a_7313_11ec_a035_0242ac1c0002row9_col9\" class=\"data row9 col9\" >0</td>\n",
       "            </tr>\n",
       "    </tbody></table>"
      ],
      "text/plain": [
       "<pandas.io.formats.style.Styler at 0x7f6476f89550>"
      ]
     },
     "execution_count": 95,
     "metadata": {},
     "output_type": "execute_result"
    }
   ],
   "source": [
    "# We can slice the array to pick just the part with the top of the digit and then use Pandas data frame to color code\n",
    "# the values using a gradient, which shows us clearly how the image is created from the pixel values\n",
    "# The same display from the previous cell is now displayed below\n",
    "im3_t = tensor(im3)\n",
    "df = pd.DataFrame(im3_t[0:10,0:10])\n",
    "df.style.set_properties(**{'font-size':'6pt'}).background_gradient('Greys')\n"
   ]
  },
  {
   "cell_type": "code",
   "execution_count": 96,
   "metadata": {
    "colab": {
     "base_uri": "https://localhost:8080/",
     "height": 394
    },
    "id": "xffS7oZ4J7--",
    "outputId": "342d7e25-e688-458f-e04a-a1bd858de150"
   },
   "outputs": [
    {
     "data": {
      "text/html": [
       "<style  type=\"text/css\" >\n",
       "#T_4316c954_7313_11ec_a035_0242ac1c0002row0_col0,#T_4316c954_7313_11ec_a035_0242ac1c0002row0_col1,#T_4316c954_7313_11ec_a035_0242ac1c0002row0_col2,#T_4316c954_7313_11ec_a035_0242ac1c0002row0_col3,#T_4316c954_7313_11ec_a035_0242ac1c0002row0_col4,#T_4316c954_7313_11ec_a035_0242ac1c0002row0_col5,#T_4316c954_7313_11ec_a035_0242ac1c0002row0_col6,#T_4316c954_7313_11ec_a035_0242ac1c0002row0_col7,#T_4316c954_7313_11ec_a035_0242ac1c0002row0_col8,#T_4316c954_7313_11ec_a035_0242ac1c0002row0_col9,#T_4316c954_7313_11ec_a035_0242ac1c0002row0_col10,#T_4316c954_7313_11ec_a035_0242ac1c0002row0_col11,#T_4316c954_7313_11ec_a035_0242ac1c0002row0_col12,#T_4316c954_7313_11ec_a035_0242ac1c0002row0_col13,#T_4316c954_7313_11ec_a035_0242ac1c0002row0_col14,#T_4316c954_7313_11ec_a035_0242ac1c0002row0_col15,#T_4316c954_7313_11ec_a035_0242ac1c0002row0_col16,#T_4316c954_7313_11ec_a035_0242ac1c0002row0_col17,#T_4316c954_7313_11ec_a035_0242ac1c0002row1_col0,#T_4316c954_7313_11ec_a035_0242ac1c0002row1_col1,#T_4316c954_7313_11ec_a035_0242ac1c0002row1_col2,#T_4316c954_7313_11ec_a035_0242ac1c0002row1_col3,#T_4316c954_7313_11ec_a035_0242ac1c0002row1_col4,#T_4316c954_7313_11ec_a035_0242ac1c0002row1_col15,#T_4316c954_7313_11ec_a035_0242ac1c0002row1_col16,#T_4316c954_7313_11ec_a035_0242ac1c0002row1_col17,#T_4316c954_7313_11ec_a035_0242ac1c0002row2_col0,#T_4316c954_7313_11ec_a035_0242ac1c0002row2_col1,#T_4316c954_7313_11ec_a035_0242ac1c0002row2_col2,#T_4316c954_7313_11ec_a035_0242ac1c0002row2_col15,#T_4316c954_7313_11ec_a035_0242ac1c0002row2_col16,#T_4316c954_7313_11ec_a035_0242ac1c0002row2_col17,#T_4316c954_7313_11ec_a035_0242ac1c0002row3_col0,#T_4316c954_7313_11ec_a035_0242ac1c0002row3_col15,#T_4316c954_7313_11ec_a035_0242ac1c0002row3_col16,#T_4316c954_7313_11ec_a035_0242ac1c0002row3_col17,#T_4316c954_7313_11ec_a035_0242ac1c0002row4_col0,#T_4316c954_7313_11ec_a035_0242ac1c0002row4_col6,#T_4316c954_7313_11ec_a035_0242ac1c0002row4_col7,#T_4316c954_7313_11ec_a035_0242ac1c0002row4_col8,#T_4316c954_7313_11ec_a035_0242ac1c0002row4_col9,#T_4316c954_7313_11ec_a035_0242ac1c0002row4_col10,#T_4316c954_7313_11ec_a035_0242ac1c0002row4_col15,#T_4316c954_7313_11ec_a035_0242ac1c0002row4_col16,#T_4316c954_7313_11ec_a035_0242ac1c0002row4_col17,#T_4316c954_7313_11ec_a035_0242ac1c0002row5_col0,#T_4316c954_7313_11ec_a035_0242ac1c0002row5_col5,#T_4316c954_7313_11ec_a035_0242ac1c0002row5_col6,#T_4316c954_7313_11ec_a035_0242ac1c0002row5_col7,#T_4316c954_7313_11ec_a035_0242ac1c0002row5_col8,#T_4316c954_7313_11ec_a035_0242ac1c0002row5_col9,#T_4316c954_7313_11ec_a035_0242ac1c0002row5_col15,#T_4316c954_7313_11ec_a035_0242ac1c0002row5_col16,#T_4316c954_7313_11ec_a035_0242ac1c0002row5_col17,#T_4316c954_7313_11ec_a035_0242ac1c0002row6_col0,#T_4316c954_7313_11ec_a035_0242ac1c0002row6_col1,#T_4316c954_7313_11ec_a035_0242ac1c0002row6_col2,#T_4316c954_7313_11ec_a035_0242ac1c0002row6_col3,#T_4316c954_7313_11ec_a035_0242ac1c0002row6_col4,#T_4316c954_7313_11ec_a035_0242ac1c0002row6_col5,#T_4316c954_7313_11ec_a035_0242ac1c0002row6_col6,#T_4316c954_7313_11ec_a035_0242ac1c0002row6_col7,#T_4316c954_7313_11ec_a035_0242ac1c0002row6_col8,#T_4316c954_7313_11ec_a035_0242ac1c0002row6_col9,#T_4316c954_7313_11ec_a035_0242ac1c0002row6_col14,#T_4316c954_7313_11ec_a035_0242ac1c0002row6_col15,#T_4316c954_7313_11ec_a035_0242ac1c0002row6_col16,#T_4316c954_7313_11ec_a035_0242ac1c0002row6_col17,#T_4316c954_7313_11ec_a035_0242ac1c0002row7_col0,#T_4316c954_7313_11ec_a035_0242ac1c0002row7_col1,#T_4316c954_7313_11ec_a035_0242ac1c0002row7_col2,#T_4316c954_7313_11ec_a035_0242ac1c0002row7_col3,#T_4316c954_7313_11ec_a035_0242ac1c0002row7_col4,#T_4316c954_7313_11ec_a035_0242ac1c0002row7_col5,#T_4316c954_7313_11ec_a035_0242ac1c0002row7_col6,#T_4316c954_7313_11ec_a035_0242ac1c0002row7_col13,#T_4316c954_7313_11ec_a035_0242ac1c0002row7_col14,#T_4316c954_7313_11ec_a035_0242ac1c0002row7_col15,#T_4316c954_7313_11ec_a035_0242ac1c0002row7_col16,#T_4316c954_7313_11ec_a035_0242ac1c0002row7_col17,#T_4316c954_7313_11ec_a035_0242ac1c0002row8_col0,#T_4316c954_7313_11ec_a035_0242ac1c0002row8_col1,#T_4316c954_7313_11ec_a035_0242ac1c0002row8_col2,#T_4316c954_7313_11ec_a035_0242ac1c0002row8_col3,#T_4316c954_7313_11ec_a035_0242ac1c0002row8_col4,#T_4316c954_7313_11ec_a035_0242ac1c0002row8_col13,#T_4316c954_7313_11ec_a035_0242ac1c0002row8_col14,#T_4316c954_7313_11ec_a035_0242ac1c0002row8_col15,#T_4316c954_7313_11ec_a035_0242ac1c0002row8_col16,#T_4316c954_7313_11ec_a035_0242ac1c0002row8_col17,#T_4316c954_7313_11ec_a035_0242ac1c0002row9_col0,#T_4316c954_7313_11ec_a035_0242ac1c0002row9_col1,#T_4316c954_7313_11ec_a035_0242ac1c0002row9_col2,#T_4316c954_7313_11ec_a035_0242ac1c0002row9_col3,#T_4316c954_7313_11ec_a035_0242ac1c0002row9_col4,#T_4316c954_7313_11ec_a035_0242ac1c0002row9_col16,#T_4316c954_7313_11ec_a035_0242ac1c0002row9_col17,#T_4316c954_7313_11ec_a035_0242ac1c0002row10_col0,#T_4316c954_7313_11ec_a035_0242ac1c0002row10_col1,#T_4316c954_7313_11ec_a035_0242ac1c0002row10_col2,#T_4316c954_7313_11ec_a035_0242ac1c0002row10_col3,#T_4316c954_7313_11ec_a035_0242ac1c0002row10_col4,#T_4316c954_7313_11ec_a035_0242ac1c0002row10_col5,#T_4316c954_7313_11ec_a035_0242ac1c0002row10_col6,#T_4316c954_7313_11ec_a035_0242ac1c0002row10_col17{\n",
       "            font-size:  6pt;\n",
       "            background-color:  #ffffff;\n",
       "            color:  #000000;\n",
       "        }#T_4316c954_7313_11ec_a035_0242ac1c0002row1_col5{\n",
       "            font-size:  6pt;\n",
       "            background-color:  #efefef;\n",
       "            color:  #000000;\n",
       "        }#T_4316c954_7313_11ec_a035_0242ac1c0002row1_col6,#T_4316c954_7313_11ec_a035_0242ac1c0002row1_col13{\n",
       "            font-size:  6pt;\n",
       "            background-color:  #7c7c7c;\n",
       "            color:  #000000;\n",
       "        }#T_4316c954_7313_11ec_a035_0242ac1c0002row1_col7{\n",
       "            font-size:  6pt;\n",
       "            background-color:  #4a4a4a;\n",
       "            color:  #f1f1f1;\n",
       "        }#T_4316c954_7313_11ec_a035_0242ac1c0002row1_col8,#T_4316c954_7313_11ec_a035_0242ac1c0002row1_col9,#T_4316c954_7313_11ec_a035_0242ac1c0002row1_col10,#T_4316c954_7313_11ec_a035_0242ac1c0002row2_col5,#T_4316c954_7313_11ec_a035_0242ac1c0002row2_col6,#T_4316c954_7313_11ec_a035_0242ac1c0002row2_col7,#T_4316c954_7313_11ec_a035_0242ac1c0002row2_col11,#T_4316c954_7313_11ec_a035_0242ac1c0002row2_col12,#T_4316c954_7313_11ec_a035_0242ac1c0002row2_col13,#T_4316c954_7313_11ec_a035_0242ac1c0002row3_col4,#T_4316c954_7313_11ec_a035_0242ac1c0002row3_col12,#T_4316c954_7313_11ec_a035_0242ac1c0002row3_col13,#T_4316c954_7313_11ec_a035_0242ac1c0002row4_col1,#T_4316c954_7313_11ec_a035_0242ac1c0002row4_col2,#T_4316c954_7313_11ec_a035_0242ac1c0002row4_col3,#T_4316c954_7313_11ec_a035_0242ac1c0002row4_col12,#T_4316c954_7313_11ec_a035_0242ac1c0002row4_col13,#T_4316c954_7313_11ec_a035_0242ac1c0002row5_col12,#T_4316c954_7313_11ec_a035_0242ac1c0002row6_col11,#T_4316c954_7313_11ec_a035_0242ac1c0002row9_col11,#T_4316c954_7313_11ec_a035_0242ac1c0002row10_col11,#T_4316c954_7313_11ec_a035_0242ac1c0002row10_col12,#T_4316c954_7313_11ec_a035_0242ac1c0002row10_col13,#T_4316c954_7313_11ec_a035_0242ac1c0002row10_col14,#T_4316c954_7313_11ec_a035_0242ac1c0002row10_col15,#T_4316c954_7313_11ec_a035_0242ac1c0002row10_col16{\n",
       "            font-size:  6pt;\n",
       "            background-color:  #000000;\n",
       "            color:  #f1f1f1;\n",
       "        }#T_4316c954_7313_11ec_a035_0242ac1c0002row1_col11{\n",
       "            font-size:  6pt;\n",
       "            background-color:  #606060;\n",
       "            color:  #f1f1f1;\n",
       "        }#T_4316c954_7313_11ec_a035_0242ac1c0002row1_col12{\n",
       "            font-size:  6pt;\n",
       "            background-color:  #4d4d4d;\n",
       "            color:  #f1f1f1;\n",
       "        }#T_4316c954_7313_11ec_a035_0242ac1c0002row1_col14{\n",
       "            font-size:  6pt;\n",
       "            background-color:  #bbbbbb;\n",
       "            color:  #000000;\n",
       "        }#T_4316c954_7313_11ec_a035_0242ac1c0002row2_col3{\n",
       "            font-size:  6pt;\n",
       "            background-color:  #e4e4e4;\n",
       "            color:  #000000;\n",
       "        }#T_4316c954_7313_11ec_a035_0242ac1c0002row2_col4,#T_4316c954_7313_11ec_a035_0242ac1c0002row8_col6{\n",
       "            font-size:  6pt;\n",
       "            background-color:  #6b6b6b;\n",
       "            color:  #000000;\n",
       "        }#T_4316c954_7313_11ec_a035_0242ac1c0002row2_col8,#T_4316c954_7313_11ec_a035_0242ac1c0002row2_col14,#T_4316c954_7313_11ec_a035_0242ac1c0002row3_col14{\n",
       "            font-size:  6pt;\n",
       "            background-color:  #171717;\n",
       "            color:  #f1f1f1;\n",
       "        }#T_4316c954_7313_11ec_a035_0242ac1c0002row2_col9,#T_4316c954_7313_11ec_a035_0242ac1c0002row3_col11{\n",
       "            font-size:  6pt;\n",
       "            background-color:  #4b4b4b;\n",
       "            color:  #f1f1f1;\n",
       "        }#T_4316c954_7313_11ec_a035_0242ac1c0002row2_col10,#T_4316c954_7313_11ec_a035_0242ac1c0002row7_col10,#T_4316c954_7313_11ec_a035_0242ac1c0002row8_col8,#T_4316c954_7313_11ec_a035_0242ac1c0002row8_col10,#T_4316c954_7313_11ec_a035_0242ac1c0002row9_col8,#T_4316c954_7313_11ec_a035_0242ac1c0002row9_col10{\n",
       "            font-size:  6pt;\n",
       "            background-color:  #010101;\n",
       "            color:  #f1f1f1;\n",
       "        }#T_4316c954_7313_11ec_a035_0242ac1c0002row3_col1{\n",
       "            font-size:  6pt;\n",
       "            background-color:  #272727;\n",
       "            color:  #f1f1f1;\n",
       "        }#T_4316c954_7313_11ec_a035_0242ac1c0002row3_col2{\n",
       "            font-size:  6pt;\n",
       "            background-color:  #0a0a0a;\n",
       "            color:  #f1f1f1;\n",
       "        }#T_4316c954_7313_11ec_a035_0242ac1c0002row3_col3{\n",
       "            font-size:  6pt;\n",
       "            background-color:  #050505;\n",
       "            color:  #f1f1f1;\n",
       "        }#T_4316c954_7313_11ec_a035_0242ac1c0002row3_col5{\n",
       "            font-size:  6pt;\n",
       "            background-color:  #333333;\n",
       "            color:  #f1f1f1;\n",
       "        }#T_4316c954_7313_11ec_a035_0242ac1c0002row3_col6{\n",
       "            font-size:  6pt;\n",
       "            background-color:  #e6e6e6;\n",
       "            color:  #000000;\n",
       "        }#T_4316c954_7313_11ec_a035_0242ac1c0002row3_col7,#T_4316c954_7313_11ec_a035_0242ac1c0002row3_col10{\n",
       "            font-size:  6pt;\n",
       "            background-color:  #fafafa;\n",
       "            color:  #000000;\n",
       "        }#T_4316c954_7313_11ec_a035_0242ac1c0002row3_col8{\n",
       "            font-size:  6pt;\n",
       "            background-color:  #fbfbfb;\n",
       "            color:  #000000;\n",
       "        }#T_4316c954_7313_11ec_a035_0242ac1c0002row3_col9{\n",
       "            font-size:  6pt;\n",
       "            background-color:  #fdfdfd;\n",
       "            color:  #000000;\n",
       "        }#T_4316c954_7313_11ec_a035_0242ac1c0002row4_col4{\n",
       "            font-size:  6pt;\n",
       "            background-color:  #1b1b1b;\n",
       "            color:  #f1f1f1;\n",
       "        }#T_4316c954_7313_11ec_a035_0242ac1c0002row4_col5{\n",
       "            font-size:  6pt;\n",
       "            background-color:  #e0e0e0;\n",
       "            color:  #000000;\n",
       "        }#T_4316c954_7313_11ec_a035_0242ac1c0002row4_col11{\n",
       "            font-size:  6pt;\n",
       "            background-color:  #4e4e4e;\n",
       "            color:  #f1f1f1;\n",
       "        }#T_4316c954_7313_11ec_a035_0242ac1c0002row4_col14{\n",
       "            font-size:  6pt;\n",
       "            background-color:  #767676;\n",
       "            color:  #000000;\n",
       "        }#T_4316c954_7313_11ec_a035_0242ac1c0002row5_col1{\n",
       "            font-size:  6pt;\n",
       "            background-color:  #fcfcfc;\n",
       "            color:  #000000;\n",
       "        }#T_4316c954_7313_11ec_a035_0242ac1c0002row5_col2,#T_4316c954_7313_11ec_a035_0242ac1c0002row5_col3{\n",
       "            font-size:  6pt;\n",
       "            background-color:  #f6f6f6;\n",
       "            color:  #000000;\n",
       "        }#T_4316c954_7313_11ec_a035_0242ac1c0002row5_col4,#T_4316c954_7313_11ec_a035_0242ac1c0002row7_col7{\n",
       "            font-size:  6pt;\n",
       "            background-color:  #f8f8f8;\n",
       "            color:  #000000;\n",
       "        }#T_4316c954_7313_11ec_a035_0242ac1c0002row5_col10,#T_4316c954_7313_11ec_a035_0242ac1c0002row10_col7{\n",
       "            font-size:  6pt;\n",
       "            background-color:  #e8e8e8;\n",
       "            color:  #000000;\n",
       "        }#T_4316c954_7313_11ec_a035_0242ac1c0002row5_col11{\n",
       "            font-size:  6pt;\n",
       "            background-color:  #222222;\n",
       "            color:  #f1f1f1;\n",
       "        }#T_4316c954_7313_11ec_a035_0242ac1c0002row5_col13,#T_4316c954_7313_11ec_a035_0242ac1c0002row6_col12{\n",
       "            font-size:  6pt;\n",
       "            background-color:  #090909;\n",
       "            color:  #f1f1f1;\n",
       "        }#T_4316c954_7313_11ec_a035_0242ac1c0002row5_col14{\n",
       "            font-size:  6pt;\n",
       "            background-color:  #d0d0d0;\n",
       "            color:  #000000;\n",
       "        }#T_4316c954_7313_11ec_a035_0242ac1c0002row6_col10,#T_4316c954_7313_11ec_a035_0242ac1c0002row7_col11,#T_4316c954_7313_11ec_a035_0242ac1c0002row9_col6{\n",
       "            font-size:  6pt;\n",
       "            background-color:  #060606;\n",
       "            color:  #f1f1f1;\n",
       "        }#T_4316c954_7313_11ec_a035_0242ac1c0002row6_col13{\n",
       "            font-size:  6pt;\n",
       "            background-color:  #979797;\n",
       "            color:  #000000;\n",
       "        }#T_4316c954_7313_11ec_a035_0242ac1c0002row7_col8{\n",
       "            font-size:  6pt;\n",
       "            background-color:  #b6b6b6;\n",
       "            color:  #000000;\n",
       "        }#T_4316c954_7313_11ec_a035_0242ac1c0002row7_col9{\n",
       "            font-size:  6pt;\n",
       "            background-color:  #252525;\n",
       "            color:  #f1f1f1;\n",
       "        }#T_4316c954_7313_11ec_a035_0242ac1c0002row7_col12{\n",
       "            font-size:  6pt;\n",
       "            background-color:  #999999;\n",
       "            color:  #000000;\n",
       "        }#T_4316c954_7313_11ec_a035_0242ac1c0002row8_col5{\n",
       "            font-size:  6pt;\n",
       "            background-color:  #f9f9f9;\n",
       "            color:  #000000;\n",
       "        }#T_4316c954_7313_11ec_a035_0242ac1c0002row8_col7{\n",
       "            font-size:  6pt;\n",
       "            background-color:  #101010;\n",
       "            color:  #f1f1f1;\n",
       "        }#T_4316c954_7313_11ec_a035_0242ac1c0002row8_col9,#T_4316c954_7313_11ec_a035_0242ac1c0002row9_col9{\n",
       "            font-size:  6pt;\n",
       "            background-color:  #020202;\n",
       "            color:  #f1f1f1;\n",
       "        }#T_4316c954_7313_11ec_a035_0242ac1c0002row8_col11{\n",
       "            font-size:  6pt;\n",
       "            background-color:  #545454;\n",
       "            color:  #f1f1f1;\n",
       "        }#T_4316c954_7313_11ec_a035_0242ac1c0002row8_col12{\n",
       "            font-size:  6pt;\n",
       "            background-color:  #f1f1f1;\n",
       "            color:  #000000;\n",
       "        }#T_4316c954_7313_11ec_a035_0242ac1c0002row9_col5{\n",
       "            font-size:  6pt;\n",
       "            background-color:  #f7f7f7;\n",
       "            color:  #000000;\n",
       "        }#T_4316c954_7313_11ec_a035_0242ac1c0002row9_col7{\n",
       "            font-size:  6pt;\n",
       "            background-color:  #030303;\n",
       "            color:  #f1f1f1;\n",
       "        }#T_4316c954_7313_11ec_a035_0242ac1c0002row9_col12{\n",
       "            font-size:  6pt;\n",
       "            background-color:  #181818;\n",
       "            color:  #f1f1f1;\n",
       "        }#T_4316c954_7313_11ec_a035_0242ac1c0002row9_col13{\n",
       "            font-size:  6pt;\n",
       "            background-color:  #303030;\n",
       "            color:  #f1f1f1;\n",
       "        }#T_4316c954_7313_11ec_a035_0242ac1c0002row9_col14{\n",
       "            font-size:  6pt;\n",
       "            background-color:  #a9a9a9;\n",
       "            color:  #000000;\n",
       "        }#T_4316c954_7313_11ec_a035_0242ac1c0002row9_col15{\n",
       "            font-size:  6pt;\n",
       "            background-color:  #fefefe;\n",
       "            color:  #000000;\n",
       "        }#T_4316c954_7313_11ec_a035_0242ac1c0002row10_col8,#T_4316c954_7313_11ec_a035_0242ac1c0002row10_col9{\n",
       "            font-size:  6pt;\n",
       "            background-color:  #bababa;\n",
       "            color:  #000000;\n",
       "        }#T_4316c954_7313_11ec_a035_0242ac1c0002row10_col10{\n",
       "            font-size:  6pt;\n",
       "            background-color:  #393939;\n",
       "            color:  #f1f1f1;\n",
       "        }</style><table id=\"T_4316c954_7313_11ec_a035_0242ac1c0002\" class=\"dataframe\"><thead>    <tr>        <th class=\"blank level0\" ></th>        <th class=\"col_heading level0 col0\" >0</th>        <th class=\"col_heading level0 col1\" >1</th>        <th class=\"col_heading level0 col2\" >2</th>        <th class=\"col_heading level0 col3\" >3</th>        <th class=\"col_heading level0 col4\" >4</th>        <th class=\"col_heading level0 col5\" >5</th>        <th class=\"col_heading level0 col6\" >6</th>        <th class=\"col_heading level0 col7\" >7</th>        <th class=\"col_heading level0 col8\" >8</th>        <th class=\"col_heading level0 col9\" >9</th>        <th class=\"col_heading level0 col10\" >10</th>        <th class=\"col_heading level0 col11\" >11</th>        <th class=\"col_heading level0 col12\" >12</th>        <th class=\"col_heading level0 col13\" >13</th>        <th class=\"col_heading level0 col14\" >14</th>        <th class=\"col_heading level0 col15\" >15</th>        <th class=\"col_heading level0 col16\" >16</th>        <th class=\"col_heading level0 col17\" >17</th>    </tr></thead><tbody>\n",
       "                <tr>\n",
       "                        <th id=\"T_4316c954_7313_11ec_a035_0242ac1c0002level0_row0\" class=\"row_heading level0 row0\" >0</th>\n",
       "                        <td id=\"T_4316c954_7313_11ec_a035_0242ac1c0002row0_col0\" class=\"data row0 col0\" >0</td>\n",
       "                        <td id=\"T_4316c954_7313_11ec_a035_0242ac1c0002row0_col1\" class=\"data row0 col1\" >0</td>\n",
       "                        <td id=\"T_4316c954_7313_11ec_a035_0242ac1c0002row0_col2\" class=\"data row0 col2\" >0</td>\n",
       "                        <td id=\"T_4316c954_7313_11ec_a035_0242ac1c0002row0_col3\" class=\"data row0 col3\" >0</td>\n",
       "                        <td id=\"T_4316c954_7313_11ec_a035_0242ac1c0002row0_col4\" class=\"data row0 col4\" >0</td>\n",
       "                        <td id=\"T_4316c954_7313_11ec_a035_0242ac1c0002row0_col5\" class=\"data row0 col5\" >0</td>\n",
       "                        <td id=\"T_4316c954_7313_11ec_a035_0242ac1c0002row0_col6\" class=\"data row0 col6\" >0</td>\n",
       "                        <td id=\"T_4316c954_7313_11ec_a035_0242ac1c0002row0_col7\" class=\"data row0 col7\" >0</td>\n",
       "                        <td id=\"T_4316c954_7313_11ec_a035_0242ac1c0002row0_col8\" class=\"data row0 col8\" >0</td>\n",
       "                        <td id=\"T_4316c954_7313_11ec_a035_0242ac1c0002row0_col9\" class=\"data row0 col9\" >0</td>\n",
       "                        <td id=\"T_4316c954_7313_11ec_a035_0242ac1c0002row0_col10\" class=\"data row0 col10\" >0</td>\n",
       "                        <td id=\"T_4316c954_7313_11ec_a035_0242ac1c0002row0_col11\" class=\"data row0 col11\" >0</td>\n",
       "                        <td id=\"T_4316c954_7313_11ec_a035_0242ac1c0002row0_col12\" class=\"data row0 col12\" >0</td>\n",
       "                        <td id=\"T_4316c954_7313_11ec_a035_0242ac1c0002row0_col13\" class=\"data row0 col13\" >0</td>\n",
       "                        <td id=\"T_4316c954_7313_11ec_a035_0242ac1c0002row0_col14\" class=\"data row0 col14\" >0</td>\n",
       "                        <td id=\"T_4316c954_7313_11ec_a035_0242ac1c0002row0_col15\" class=\"data row0 col15\" >0</td>\n",
       "                        <td id=\"T_4316c954_7313_11ec_a035_0242ac1c0002row0_col16\" class=\"data row0 col16\" >0</td>\n",
       "                        <td id=\"T_4316c954_7313_11ec_a035_0242ac1c0002row0_col17\" class=\"data row0 col17\" >0</td>\n",
       "            </tr>\n",
       "            <tr>\n",
       "                        <th id=\"T_4316c954_7313_11ec_a035_0242ac1c0002level0_row1\" class=\"row_heading level0 row1\" >1</th>\n",
       "                        <td id=\"T_4316c954_7313_11ec_a035_0242ac1c0002row1_col0\" class=\"data row1 col0\" >0</td>\n",
       "                        <td id=\"T_4316c954_7313_11ec_a035_0242ac1c0002row1_col1\" class=\"data row1 col1\" >0</td>\n",
       "                        <td id=\"T_4316c954_7313_11ec_a035_0242ac1c0002row1_col2\" class=\"data row1 col2\" >0</td>\n",
       "                        <td id=\"T_4316c954_7313_11ec_a035_0242ac1c0002row1_col3\" class=\"data row1 col3\" >0</td>\n",
       "                        <td id=\"T_4316c954_7313_11ec_a035_0242ac1c0002row1_col4\" class=\"data row1 col4\" >0</td>\n",
       "                        <td id=\"T_4316c954_7313_11ec_a035_0242ac1c0002row1_col5\" class=\"data row1 col5\" >29</td>\n",
       "                        <td id=\"T_4316c954_7313_11ec_a035_0242ac1c0002row1_col6\" class=\"data row1 col6\" >150</td>\n",
       "                        <td id=\"T_4316c954_7313_11ec_a035_0242ac1c0002row1_col7\" class=\"data row1 col7\" >195</td>\n",
       "                        <td id=\"T_4316c954_7313_11ec_a035_0242ac1c0002row1_col8\" class=\"data row1 col8\" >254</td>\n",
       "                        <td id=\"T_4316c954_7313_11ec_a035_0242ac1c0002row1_col9\" class=\"data row1 col9\" >255</td>\n",
       "                        <td id=\"T_4316c954_7313_11ec_a035_0242ac1c0002row1_col10\" class=\"data row1 col10\" >254</td>\n",
       "                        <td id=\"T_4316c954_7313_11ec_a035_0242ac1c0002row1_col11\" class=\"data row1 col11\" >176</td>\n",
       "                        <td id=\"T_4316c954_7313_11ec_a035_0242ac1c0002row1_col12\" class=\"data row1 col12\" >193</td>\n",
       "                        <td id=\"T_4316c954_7313_11ec_a035_0242ac1c0002row1_col13\" class=\"data row1 col13\" >150</td>\n",
       "                        <td id=\"T_4316c954_7313_11ec_a035_0242ac1c0002row1_col14\" class=\"data row1 col14\" >96</td>\n",
       "                        <td id=\"T_4316c954_7313_11ec_a035_0242ac1c0002row1_col15\" class=\"data row1 col15\" >0</td>\n",
       "                        <td id=\"T_4316c954_7313_11ec_a035_0242ac1c0002row1_col16\" class=\"data row1 col16\" >0</td>\n",
       "                        <td id=\"T_4316c954_7313_11ec_a035_0242ac1c0002row1_col17\" class=\"data row1 col17\" >0</td>\n",
       "            </tr>\n",
       "            <tr>\n",
       "                        <th id=\"T_4316c954_7313_11ec_a035_0242ac1c0002level0_row2\" class=\"row_heading level0 row2\" >2</th>\n",
       "                        <td id=\"T_4316c954_7313_11ec_a035_0242ac1c0002row2_col0\" class=\"data row2 col0\" >0</td>\n",
       "                        <td id=\"T_4316c954_7313_11ec_a035_0242ac1c0002row2_col1\" class=\"data row2 col1\" >0</td>\n",
       "                        <td id=\"T_4316c954_7313_11ec_a035_0242ac1c0002row2_col2\" class=\"data row2 col2\" >0</td>\n",
       "                        <td id=\"T_4316c954_7313_11ec_a035_0242ac1c0002row2_col3\" class=\"data row2 col3\" >48</td>\n",
       "                        <td id=\"T_4316c954_7313_11ec_a035_0242ac1c0002row2_col4\" class=\"data row2 col4\" >166</td>\n",
       "                        <td id=\"T_4316c954_7313_11ec_a035_0242ac1c0002row2_col5\" class=\"data row2 col5\" >224</td>\n",
       "                        <td id=\"T_4316c954_7313_11ec_a035_0242ac1c0002row2_col6\" class=\"data row2 col6\" >253</td>\n",
       "                        <td id=\"T_4316c954_7313_11ec_a035_0242ac1c0002row2_col7\" class=\"data row2 col7\" >253</td>\n",
       "                        <td id=\"T_4316c954_7313_11ec_a035_0242ac1c0002row2_col8\" class=\"data row2 col8\" >234</td>\n",
       "                        <td id=\"T_4316c954_7313_11ec_a035_0242ac1c0002row2_col9\" class=\"data row2 col9\" >196</td>\n",
       "                        <td id=\"T_4316c954_7313_11ec_a035_0242ac1c0002row2_col10\" class=\"data row2 col10\" >253</td>\n",
       "                        <td id=\"T_4316c954_7313_11ec_a035_0242ac1c0002row2_col11\" class=\"data row2 col11\" >253</td>\n",
       "                        <td id=\"T_4316c954_7313_11ec_a035_0242ac1c0002row2_col12\" class=\"data row2 col12\" >253</td>\n",
       "                        <td id=\"T_4316c954_7313_11ec_a035_0242ac1c0002row2_col13\" class=\"data row2 col13\" >253</td>\n",
       "                        <td id=\"T_4316c954_7313_11ec_a035_0242ac1c0002row2_col14\" class=\"data row2 col14\" >233</td>\n",
       "                        <td id=\"T_4316c954_7313_11ec_a035_0242ac1c0002row2_col15\" class=\"data row2 col15\" >0</td>\n",
       "                        <td id=\"T_4316c954_7313_11ec_a035_0242ac1c0002row2_col16\" class=\"data row2 col16\" >0</td>\n",
       "                        <td id=\"T_4316c954_7313_11ec_a035_0242ac1c0002row2_col17\" class=\"data row2 col17\" >0</td>\n",
       "            </tr>\n",
       "            <tr>\n",
       "                        <th id=\"T_4316c954_7313_11ec_a035_0242ac1c0002level0_row3\" class=\"row_heading level0 row3\" >3</th>\n",
       "                        <td id=\"T_4316c954_7313_11ec_a035_0242ac1c0002row3_col0\" class=\"data row3 col0\" >0</td>\n",
       "                        <td id=\"T_4316c954_7313_11ec_a035_0242ac1c0002row3_col1\" class=\"data row3 col1\" >93</td>\n",
       "                        <td id=\"T_4316c954_7313_11ec_a035_0242ac1c0002row3_col2\" class=\"data row3 col2\" >244</td>\n",
       "                        <td id=\"T_4316c954_7313_11ec_a035_0242ac1c0002row3_col3\" class=\"data row3 col3\" >249</td>\n",
       "                        <td id=\"T_4316c954_7313_11ec_a035_0242ac1c0002row3_col4\" class=\"data row3 col4\" >253</td>\n",
       "                        <td id=\"T_4316c954_7313_11ec_a035_0242ac1c0002row3_col5\" class=\"data row3 col5\" >187</td>\n",
       "                        <td id=\"T_4316c954_7313_11ec_a035_0242ac1c0002row3_col6\" class=\"data row3 col6\" >46</td>\n",
       "                        <td id=\"T_4316c954_7313_11ec_a035_0242ac1c0002row3_col7\" class=\"data row3 col7\" >10</td>\n",
       "                        <td id=\"T_4316c954_7313_11ec_a035_0242ac1c0002row3_col8\" class=\"data row3 col8\" >8</td>\n",
       "                        <td id=\"T_4316c954_7313_11ec_a035_0242ac1c0002row3_col9\" class=\"data row3 col9\" >4</td>\n",
       "                        <td id=\"T_4316c954_7313_11ec_a035_0242ac1c0002row3_col10\" class=\"data row3 col10\" >10</td>\n",
       "                        <td id=\"T_4316c954_7313_11ec_a035_0242ac1c0002row3_col11\" class=\"data row3 col11\" >194</td>\n",
       "                        <td id=\"T_4316c954_7313_11ec_a035_0242ac1c0002row3_col12\" class=\"data row3 col12\" >253</td>\n",
       "                        <td id=\"T_4316c954_7313_11ec_a035_0242ac1c0002row3_col13\" class=\"data row3 col13\" >253</td>\n",
       "                        <td id=\"T_4316c954_7313_11ec_a035_0242ac1c0002row3_col14\" class=\"data row3 col14\" >233</td>\n",
       "                        <td id=\"T_4316c954_7313_11ec_a035_0242ac1c0002row3_col15\" class=\"data row3 col15\" >0</td>\n",
       "                        <td id=\"T_4316c954_7313_11ec_a035_0242ac1c0002row3_col16\" class=\"data row3 col16\" >0</td>\n",
       "                        <td id=\"T_4316c954_7313_11ec_a035_0242ac1c0002row3_col17\" class=\"data row3 col17\" >0</td>\n",
       "            </tr>\n",
       "            <tr>\n",
       "                        <th id=\"T_4316c954_7313_11ec_a035_0242ac1c0002level0_row4\" class=\"row_heading level0 row4\" >4</th>\n",
       "                        <td id=\"T_4316c954_7313_11ec_a035_0242ac1c0002row4_col0\" class=\"data row4 col0\" >0</td>\n",
       "                        <td id=\"T_4316c954_7313_11ec_a035_0242ac1c0002row4_col1\" class=\"data row4 col1\" >107</td>\n",
       "                        <td id=\"T_4316c954_7313_11ec_a035_0242ac1c0002row4_col2\" class=\"data row4 col2\" >253</td>\n",
       "                        <td id=\"T_4316c954_7313_11ec_a035_0242ac1c0002row4_col3\" class=\"data row4 col3\" >253</td>\n",
       "                        <td id=\"T_4316c954_7313_11ec_a035_0242ac1c0002row4_col4\" class=\"data row4 col4\" >230</td>\n",
       "                        <td id=\"T_4316c954_7313_11ec_a035_0242ac1c0002row4_col5\" class=\"data row4 col5\" >48</td>\n",
       "                        <td id=\"T_4316c954_7313_11ec_a035_0242ac1c0002row4_col6\" class=\"data row4 col6\" >0</td>\n",
       "                        <td id=\"T_4316c954_7313_11ec_a035_0242ac1c0002row4_col7\" class=\"data row4 col7\" >0</td>\n",
       "                        <td id=\"T_4316c954_7313_11ec_a035_0242ac1c0002row4_col8\" class=\"data row4 col8\" >0</td>\n",
       "                        <td id=\"T_4316c954_7313_11ec_a035_0242ac1c0002row4_col9\" class=\"data row4 col9\" >0</td>\n",
       "                        <td id=\"T_4316c954_7313_11ec_a035_0242ac1c0002row4_col10\" class=\"data row4 col10\" >0</td>\n",
       "                        <td id=\"T_4316c954_7313_11ec_a035_0242ac1c0002row4_col11\" class=\"data row4 col11\" >192</td>\n",
       "                        <td id=\"T_4316c954_7313_11ec_a035_0242ac1c0002row4_col12\" class=\"data row4 col12\" >253</td>\n",
       "                        <td id=\"T_4316c954_7313_11ec_a035_0242ac1c0002row4_col13\" class=\"data row4 col13\" >253</td>\n",
       "                        <td id=\"T_4316c954_7313_11ec_a035_0242ac1c0002row4_col14\" class=\"data row4 col14\" >156</td>\n",
       "                        <td id=\"T_4316c954_7313_11ec_a035_0242ac1c0002row4_col15\" class=\"data row4 col15\" >0</td>\n",
       "                        <td id=\"T_4316c954_7313_11ec_a035_0242ac1c0002row4_col16\" class=\"data row4 col16\" >0</td>\n",
       "                        <td id=\"T_4316c954_7313_11ec_a035_0242ac1c0002row4_col17\" class=\"data row4 col17\" >0</td>\n",
       "            </tr>\n",
       "            <tr>\n",
       "                        <th id=\"T_4316c954_7313_11ec_a035_0242ac1c0002level0_row5\" class=\"row_heading level0 row5\" >5</th>\n",
       "                        <td id=\"T_4316c954_7313_11ec_a035_0242ac1c0002row5_col0\" class=\"data row5 col0\" >0</td>\n",
       "                        <td id=\"T_4316c954_7313_11ec_a035_0242ac1c0002row5_col1\" class=\"data row5 col1\" >3</td>\n",
       "                        <td id=\"T_4316c954_7313_11ec_a035_0242ac1c0002row5_col2\" class=\"data row5 col2\" >20</td>\n",
       "                        <td id=\"T_4316c954_7313_11ec_a035_0242ac1c0002row5_col3\" class=\"data row5 col3\" >20</td>\n",
       "                        <td id=\"T_4316c954_7313_11ec_a035_0242ac1c0002row5_col4\" class=\"data row5 col4\" >15</td>\n",
       "                        <td id=\"T_4316c954_7313_11ec_a035_0242ac1c0002row5_col5\" class=\"data row5 col5\" >0</td>\n",
       "                        <td id=\"T_4316c954_7313_11ec_a035_0242ac1c0002row5_col6\" class=\"data row5 col6\" >0</td>\n",
       "                        <td id=\"T_4316c954_7313_11ec_a035_0242ac1c0002row5_col7\" class=\"data row5 col7\" >0</td>\n",
       "                        <td id=\"T_4316c954_7313_11ec_a035_0242ac1c0002row5_col8\" class=\"data row5 col8\" >0</td>\n",
       "                        <td id=\"T_4316c954_7313_11ec_a035_0242ac1c0002row5_col9\" class=\"data row5 col9\" >0</td>\n",
       "                        <td id=\"T_4316c954_7313_11ec_a035_0242ac1c0002row5_col10\" class=\"data row5 col10\" >43</td>\n",
       "                        <td id=\"T_4316c954_7313_11ec_a035_0242ac1c0002row5_col11\" class=\"data row5 col11\" >224</td>\n",
       "                        <td id=\"T_4316c954_7313_11ec_a035_0242ac1c0002row5_col12\" class=\"data row5 col12\" >253</td>\n",
       "                        <td id=\"T_4316c954_7313_11ec_a035_0242ac1c0002row5_col13\" class=\"data row5 col13\" >245</td>\n",
       "                        <td id=\"T_4316c954_7313_11ec_a035_0242ac1c0002row5_col14\" class=\"data row5 col14\" >74</td>\n",
       "                        <td id=\"T_4316c954_7313_11ec_a035_0242ac1c0002row5_col15\" class=\"data row5 col15\" >0</td>\n",
       "                        <td id=\"T_4316c954_7313_11ec_a035_0242ac1c0002row5_col16\" class=\"data row5 col16\" >0</td>\n",
       "                        <td id=\"T_4316c954_7313_11ec_a035_0242ac1c0002row5_col17\" class=\"data row5 col17\" >0</td>\n",
       "            </tr>\n",
       "            <tr>\n",
       "                        <th id=\"T_4316c954_7313_11ec_a035_0242ac1c0002level0_row6\" class=\"row_heading level0 row6\" >6</th>\n",
       "                        <td id=\"T_4316c954_7313_11ec_a035_0242ac1c0002row6_col0\" class=\"data row6 col0\" >0</td>\n",
       "                        <td id=\"T_4316c954_7313_11ec_a035_0242ac1c0002row6_col1\" class=\"data row6 col1\" >0</td>\n",
       "                        <td id=\"T_4316c954_7313_11ec_a035_0242ac1c0002row6_col2\" class=\"data row6 col2\" >0</td>\n",
       "                        <td id=\"T_4316c954_7313_11ec_a035_0242ac1c0002row6_col3\" class=\"data row6 col3\" >0</td>\n",
       "                        <td id=\"T_4316c954_7313_11ec_a035_0242ac1c0002row6_col4\" class=\"data row6 col4\" >0</td>\n",
       "                        <td id=\"T_4316c954_7313_11ec_a035_0242ac1c0002row6_col5\" class=\"data row6 col5\" >0</td>\n",
       "                        <td id=\"T_4316c954_7313_11ec_a035_0242ac1c0002row6_col6\" class=\"data row6 col6\" >0</td>\n",
       "                        <td id=\"T_4316c954_7313_11ec_a035_0242ac1c0002row6_col7\" class=\"data row6 col7\" >0</td>\n",
       "                        <td id=\"T_4316c954_7313_11ec_a035_0242ac1c0002row6_col8\" class=\"data row6 col8\" >0</td>\n",
       "                        <td id=\"T_4316c954_7313_11ec_a035_0242ac1c0002row6_col9\" class=\"data row6 col9\" >0</td>\n",
       "                        <td id=\"T_4316c954_7313_11ec_a035_0242ac1c0002row6_col10\" class=\"data row6 col10\" >249</td>\n",
       "                        <td id=\"T_4316c954_7313_11ec_a035_0242ac1c0002row6_col11\" class=\"data row6 col11\" >253</td>\n",
       "                        <td id=\"T_4316c954_7313_11ec_a035_0242ac1c0002row6_col12\" class=\"data row6 col12\" >245</td>\n",
       "                        <td id=\"T_4316c954_7313_11ec_a035_0242ac1c0002row6_col13\" class=\"data row6 col13\" >126</td>\n",
       "                        <td id=\"T_4316c954_7313_11ec_a035_0242ac1c0002row6_col14\" class=\"data row6 col14\" >0</td>\n",
       "                        <td id=\"T_4316c954_7313_11ec_a035_0242ac1c0002row6_col15\" class=\"data row6 col15\" >0</td>\n",
       "                        <td id=\"T_4316c954_7313_11ec_a035_0242ac1c0002row6_col16\" class=\"data row6 col16\" >0</td>\n",
       "                        <td id=\"T_4316c954_7313_11ec_a035_0242ac1c0002row6_col17\" class=\"data row6 col17\" >0</td>\n",
       "            </tr>\n",
       "            <tr>\n",
       "                        <th id=\"T_4316c954_7313_11ec_a035_0242ac1c0002level0_row7\" class=\"row_heading level0 row7\" >7</th>\n",
       "                        <td id=\"T_4316c954_7313_11ec_a035_0242ac1c0002row7_col0\" class=\"data row7 col0\" >0</td>\n",
       "                        <td id=\"T_4316c954_7313_11ec_a035_0242ac1c0002row7_col1\" class=\"data row7 col1\" >0</td>\n",
       "                        <td id=\"T_4316c954_7313_11ec_a035_0242ac1c0002row7_col2\" class=\"data row7 col2\" >0</td>\n",
       "                        <td id=\"T_4316c954_7313_11ec_a035_0242ac1c0002row7_col3\" class=\"data row7 col3\" >0</td>\n",
       "                        <td id=\"T_4316c954_7313_11ec_a035_0242ac1c0002row7_col4\" class=\"data row7 col4\" >0</td>\n",
       "                        <td id=\"T_4316c954_7313_11ec_a035_0242ac1c0002row7_col5\" class=\"data row7 col5\" >0</td>\n",
       "                        <td id=\"T_4316c954_7313_11ec_a035_0242ac1c0002row7_col6\" class=\"data row7 col6\" >0</td>\n",
       "                        <td id=\"T_4316c954_7313_11ec_a035_0242ac1c0002row7_col7\" class=\"data row7 col7\" >14</td>\n",
       "                        <td id=\"T_4316c954_7313_11ec_a035_0242ac1c0002row7_col8\" class=\"data row7 col8\" >101</td>\n",
       "                        <td id=\"T_4316c954_7313_11ec_a035_0242ac1c0002row7_col9\" class=\"data row7 col9\" >223</td>\n",
       "                        <td id=\"T_4316c954_7313_11ec_a035_0242ac1c0002row7_col10\" class=\"data row7 col10\" >253</td>\n",
       "                        <td id=\"T_4316c954_7313_11ec_a035_0242ac1c0002row7_col11\" class=\"data row7 col11\" >248</td>\n",
       "                        <td id=\"T_4316c954_7313_11ec_a035_0242ac1c0002row7_col12\" class=\"data row7 col12\" >124</td>\n",
       "                        <td id=\"T_4316c954_7313_11ec_a035_0242ac1c0002row7_col13\" class=\"data row7 col13\" >0</td>\n",
       "                        <td id=\"T_4316c954_7313_11ec_a035_0242ac1c0002row7_col14\" class=\"data row7 col14\" >0</td>\n",
       "                        <td id=\"T_4316c954_7313_11ec_a035_0242ac1c0002row7_col15\" class=\"data row7 col15\" >0</td>\n",
       "                        <td id=\"T_4316c954_7313_11ec_a035_0242ac1c0002row7_col16\" class=\"data row7 col16\" >0</td>\n",
       "                        <td id=\"T_4316c954_7313_11ec_a035_0242ac1c0002row7_col17\" class=\"data row7 col17\" >0</td>\n",
       "            </tr>\n",
       "            <tr>\n",
       "                        <th id=\"T_4316c954_7313_11ec_a035_0242ac1c0002level0_row8\" class=\"row_heading level0 row8\" >8</th>\n",
       "                        <td id=\"T_4316c954_7313_11ec_a035_0242ac1c0002row8_col0\" class=\"data row8 col0\" >0</td>\n",
       "                        <td id=\"T_4316c954_7313_11ec_a035_0242ac1c0002row8_col1\" class=\"data row8 col1\" >0</td>\n",
       "                        <td id=\"T_4316c954_7313_11ec_a035_0242ac1c0002row8_col2\" class=\"data row8 col2\" >0</td>\n",
       "                        <td id=\"T_4316c954_7313_11ec_a035_0242ac1c0002row8_col3\" class=\"data row8 col3\" >0</td>\n",
       "                        <td id=\"T_4316c954_7313_11ec_a035_0242ac1c0002row8_col4\" class=\"data row8 col4\" >0</td>\n",
       "                        <td id=\"T_4316c954_7313_11ec_a035_0242ac1c0002row8_col5\" class=\"data row8 col5\" >11</td>\n",
       "                        <td id=\"T_4316c954_7313_11ec_a035_0242ac1c0002row8_col6\" class=\"data row8 col6\" >166</td>\n",
       "                        <td id=\"T_4316c954_7313_11ec_a035_0242ac1c0002row8_col7\" class=\"data row8 col7\" >239</td>\n",
       "                        <td id=\"T_4316c954_7313_11ec_a035_0242ac1c0002row8_col8\" class=\"data row8 col8\" >253</td>\n",
       "                        <td id=\"T_4316c954_7313_11ec_a035_0242ac1c0002row8_col9\" class=\"data row8 col9\" >253</td>\n",
       "                        <td id=\"T_4316c954_7313_11ec_a035_0242ac1c0002row8_col10\" class=\"data row8 col10\" >253</td>\n",
       "                        <td id=\"T_4316c954_7313_11ec_a035_0242ac1c0002row8_col11\" class=\"data row8 col11\" >187</td>\n",
       "                        <td id=\"T_4316c954_7313_11ec_a035_0242ac1c0002row8_col12\" class=\"data row8 col12\" >30</td>\n",
       "                        <td id=\"T_4316c954_7313_11ec_a035_0242ac1c0002row8_col13\" class=\"data row8 col13\" >0</td>\n",
       "                        <td id=\"T_4316c954_7313_11ec_a035_0242ac1c0002row8_col14\" class=\"data row8 col14\" >0</td>\n",
       "                        <td id=\"T_4316c954_7313_11ec_a035_0242ac1c0002row8_col15\" class=\"data row8 col15\" >0</td>\n",
       "                        <td id=\"T_4316c954_7313_11ec_a035_0242ac1c0002row8_col16\" class=\"data row8 col16\" >0</td>\n",
       "                        <td id=\"T_4316c954_7313_11ec_a035_0242ac1c0002row8_col17\" class=\"data row8 col17\" >0</td>\n",
       "            </tr>\n",
       "            <tr>\n",
       "                        <th id=\"T_4316c954_7313_11ec_a035_0242ac1c0002level0_row9\" class=\"row_heading level0 row9\" >9</th>\n",
       "                        <td id=\"T_4316c954_7313_11ec_a035_0242ac1c0002row9_col0\" class=\"data row9 col0\" >0</td>\n",
       "                        <td id=\"T_4316c954_7313_11ec_a035_0242ac1c0002row9_col1\" class=\"data row9 col1\" >0</td>\n",
       "                        <td id=\"T_4316c954_7313_11ec_a035_0242ac1c0002row9_col2\" class=\"data row9 col2\" >0</td>\n",
       "                        <td id=\"T_4316c954_7313_11ec_a035_0242ac1c0002row9_col3\" class=\"data row9 col3\" >0</td>\n",
       "                        <td id=\"T_4316c954_7313_11ec_a035_0242ac1c0002row9_col4\" class=\"data row9 col4\" >0</td>\n",
       "                        <td id=\"T_4316c954_7313_11ec_a035_0242ac1c0002row9_col5\" class=\"data row9 col5\" >16</td>\n",
       "                        <td id=\"T_4316c954_7313_11ec_a035_0242ac1c0002row9_col6\" class=\"data row9 col6\" >248</td>\n",
       "                        <td id=\"T_4316c954_7313_11ec_a035_0242ac1c0002row9_col7\" class=\"data row9 col7\" >250</td>\n",
       "                        <td id=\"T_4316c954_7313_11ec_a035_0242ac1c0002row9_col8\" class=\"data row9 col8\" >253</td>\n",
       "                        <td id=\"T_4316c954_7313_11ec_a035_0242ac1c0002row9_col9\" class=\"data row9 col9\" >253</td>\n",
       "                        <td id=\"T_4316c954_7313_11ec_a035_0242ac1c0002row9_col10\" class=\"data row9 col10\" >253</td>\n",
       "                        <td id=\"T_4316c954_7313_11ec_a035_0242ac1c0002row9_col11\" class=\"data row9 col11\" >253</td>\n",
       "                        <td id=\"T_4316c954_7313_11ec_a035_0242ac1c0002row9_col12\" class=\"data row9 col12\" >232</td>\n",
       "                        <td id=\"T_4316c954_7313_11ec_a035_0242ac1c0002row9_col13\" class=\"data row9 col13\" >213</td>\n",
       "                        <td id=\"T_4316c954_7313_11ec_a035_0242ac1c0002row9_col14\" class=\"data row9 col14\" >111</td>\n",
       "                        <td id=\"T_4316c954_7313_11ec_a035_0242ac1c0002row9_col15\" class=\"data row9 col15\" >2</td>\n",
       "                        <td id=\"T_4316c954_7313_11ec_a035_0242ac1c0002row9_col16\" class=\"data row9 col16\" >0</td>\n",
       "                        <td id=\"T_4316c954_7313_11ec_a035_0242ac1c0002row9_col17\" class=\"data row9 col17\" >0</td>\n",
       "            </tr>\n",
       "            <tr>\n",
       "                        <th id=\"T_4316c954_7313_11ec_a035_0242ac1c0002level0_row10\" class=\"row_heading level0 row10\" >10</th>\n",
       "                        <td id=\"T_4316c954_7313_11ec_a035_0242ac1c0002row10_col0\" class=\"data row10 col0\" >0</td>\n",
       "                        <td id=\"T_4316c954_7313_11ec_a035_0242ac1c0002row10_col1\" class=\"data row10 col1\" >0</td>\n",
       "                        <td id=\"T_4316c954_7313_11ec_a035_0242ac1c0002row10_col2\" class=\"data row10 col2\" >0</td>\n",
       "                        <td id=\"T_4316c954_7313_11ec_a035_0242ac1c0002row10_col3\" class=\"data row10 col3\" >0</td>\n",
       "                        <td id=\"T_4316c954_7313_11ec_a035_0242ac1c0002row10_col4\" class=\"data row10 col4\" >0</td>\n",
       "                        <td id=\"T_4316c954_7313_11ec_a035_0242ac1c0002row10_col5\" class=\"data row10 col5\" >0</td>\n",
       "                        <td id=\"T_4316c954_7313_11ec_a035_0242ac1c0002row10_col6\" class=\"data row10 col6\" >0</td>\n",
       "                        <td id=\"T_4316c954_7313_11ec_a035_0242ac1c0002row10_col7\" class=\"data row10 col7\" >43</td>\n",
       "                        <td id=\"T_4316c954_7313_11ec_a035_0242ac1c0002row10_col8\" class=\"data row10 col8\" >98</td>\n",
       "                        <td id=\"T_4316c954_7313_11ec_a035_0242ac1c0002row10_col9\" class=\"data row10 col9\" >98</td>\n",
       "                        <td id=\"T_4316c954_7313_11ec_a035_0242ac1c0002row10_col10\" class=\"data row10 col10\" >208</td>\n",
       "                        <td id=\"T_4316c954_7313_11ec_a035_0242ac1c0002row10_col11\" class=\"data row10 col11\" >253</td>\n",
       "                        <td id=\"T_4316c954_7313_11ec_a035_0242ac1c0002row10_col12\" class=\"data row10 col12\" >253</td>\n",
       "                        <td id=\"T_4316c954_7313_11ec_a035_0242ac1c0002row10_col13\" class=\"data row10 col13\" >253</td>\n",
       "                        <td id=\"T_4316c954_7313_11ec_a035_0242ac1c0002row10_col14\" class=\"data row10 col14\" >253</td>\n",
       "                        <td id=\"T_4316c954_7313_11ec_a035_0242ac1c0002row10_col15\" class=\"data row10 col15\" >187</td>\n",
       "                        <td id=\"T_4316c954_7313_11ec_a035_0242ac1c0002row10_col16\" class=\"data row10 col16\" >22</td>\n",
       "                        <td id=\"T_4316c954_7313_11ec_a035_0242ac1c0002row10_col17\" class=\"data row10 col17\" >0</td>\n",
       "            </tr>\n",
       "    </tbody></table>"
      ],
      "text/plain": [
       "<pandas.io.formats.style.Styler at 0x7f646f867710>"
      ]
     },
     "execution_count": 96,
     "metadata": {},
     "output_type": "execute_result"
    }
   ],
   "source": [
    "# We can slice the array to pick just the part with the top of the digit and then use Pandas data frame to color code\n",
    "# the values using a gradient, which shows us clearly how the image is created from the pixel values\n",
    "im3_t = tensor(im3)\n",
    "df = pd.DataFrame(im3_t[4:15,4:22])\n",
    "df.style.set_properties(**{'font-size':'6pt'}).background_gradient('Greys')\n",
    "\n",
    "# You can see that the background white pixels are stored as the number 0, black is the number 255, \n",
    "# and shades of gray are between the two. The entire image contains 28 pixels across and 28 pixels down, \n",
    "# for a total of 784 pixels. (This is much smaller than an image that you would get from a phone camera, \n",
    "# which has millions of pixels, but is a convenient size for our initial learning and experiments. "
   ]
  },
  {
   "cell_type": "code",
   "execution_count": null,
   "metadata": {
    "id": "WT8MarjbWcG3"
   },
   "outputs": [],
   "source": []
  },
  {
   "cell_type": "code",
   "execution_count": 97,
   "metadata": {
    "colab": {
     "base_uri": "https://localhost:8080/",
     "height": 802
    },
    "id": "feRkg2SHVjb7",
    "outputId": "5b5da91b-6821-4cd6-9a7b-6c271fe90633"
   },
   "outputs": [
    {
     "data": {
      "text/html": [
       "<style  type=\"text/css\" >\n",
       "#T_464f6248_7313_11ec_a035_0242ac1c0002row0_col0,#T_464f6248_7313_11ec_a035_0242ac1c0002row0_col1,#T_464f6248_7313_11ec_a035_0242ac1c0002row0_col2,#T_464f6248_7313_11ec_a035_0242ac1c0002row0_col3,#T_464f6248_7313_11ec_a035_0242ac1c0002row0_col4,#T_464f6248_7313_11ec_a035_0242ac1c0002row0_col5,#T_464f6248_7313_11ec_a035_0242ac1c0002row0_col6,#T_464f6248_7313_11ec_a035_0242ac1c0002row0_col7,#T_464f6248_7313_11ec_a035_0242ac1c0002row0_col8,#T_464f6248_7313_11ec_a035_0242ac1c0002row0_col9,#T_464f6248_7313_11ec_a035_0242ac1c0002row0_col10,#T_464f6248_7313_11ec_a035_0242ac1c0002row0_col11,#T_464f6248_7313_11ec_a035_0242ac1c0002row0_col12,#T_464f6248_7313_11ec_a035_0242ac1c0002row0_col13,#T_464f6248_7313_11ec_a035_0242ac1c0002row0_col14,#T_464f6248_7313_11ec_a035_0242ac1c0002row0_col15,#T_464f6248_7313_11ec_a035_0242ac1c0002row0_col16,#T_464f6248_7313_11ec_a035_0242ac1c0002row0_col17,#T_464f6248_7313_11ec_a035_0242ac1c0002row0_col18,#T_464f6248_7313_11ec_a035_0242ac1c0002row0_col19,#T_464f6248_7313_11ec_a035_0242ac1c0002row0_col20,#T_464f6248_7313_11ec_a035_0242ac1c0002row0_col21,#T_464f6248_7313_11ec_a035_0242ac1c0002row0_col22,#T_464f6248_7313_11ec_a035_0242ac1c0002row0_col23,#T_464f6248_7313_11ec_a035_0242ac1c0002row1_col0,#T_464f6248_7313_11ec_a035_0242ac1c0002row1_col1,#T_464f6248_7313_11ec_a035_0242ac1c0002row1_col2,#T_464f6248_7313_11ec_a035_0242ac1c0002row1_col3,#T_464f6248_7313_11ec_a035_0242ac1c0002row1_col4,#T_464f6248_7313_11ec_a035_0242ac1c0002row1_col15,#T_464f6248_7313_11ec_a035_0242ac1c0002row1_col16,#T_464f6248_7313_11ec_a035_0242ac1c0002row1_col17,#T_464f6248_7313_11ec_a035_0242ac1c0002row1_col18,#T_464f6248_7313_11ec_a035_0242ac1c0002row1_col19,#T_464f6248_7313_11ec_a035_0242ac1c0002row1_col20,#T_464f6248_7313_11ec_a035_0242ac1c0002row1_col21,#T_464f6248_7313_11ec_a035_0242ac1c0002row1_col22,#T_464f6248_7313_11ec_a035_0242ac1c0002row1_col23,#T_464f6248_7313_11ec_a035_0242ac1c0002row2_col0,#T_464f6248_7313_11ec_a035_0242ac1c0002row2_col1,#T_464f6248_7313_11ec_a035_0242ac1c0002row2_col2,#T_464f6248_7313_11ec_a035_0242ac1c0002row2_col15,#T_464f6248_7313_11ec_a035_0242ac1c0002row2_col16,#T_464f6248_7313_11ec_a035_0242ac1c0002row2_col17,#T_464f6248_7313_11ec_a035_0242ac1c0002row2_col18,#T_464f6248_7313_11ec_a035_0242ac1c0002row2_col19,#T_464f6248_7313_11ec_a035_0242ac1c0002row2_col20,#T_464f6248_7313_11ec_a035_0242ac1c0002row2_col21,#T_464f6248_7313_11ec_a035_0242ac1c0002row2_col22,#T_464f6248_7313_11ec_a035_0242ac1c0002row2_col23,#T_464f6248_7313_11ec_a035_0242ac1c0002row3_col0,#T_464f6248_7313_11ec_a035_0242ac1c0002row3_col15,#T_464f6248_7313_11ec_a035_0242ac1c0002row3_col16,#T_464f6248_7313_11ec_a035_0242ac1c0002row3_col17,#T_464f6248_7313_11ec_a035_0242ac1c0002row3_col18,#T_464f6248_7313_11ec_a035_0242ac1c0002row3_col19,#T_464f6248_7313_11ec_a035_0242ac1c0002row3_col20,#T_464f6248_7313_11ec_a035_0242ac1c0002row3_col21,#T_464f6248_7313_11ec_a035_0242ac1c0002row3_col22,#T_464f6248_7313_11ec_a035_0242ac1c0002row3_col23,#T_464f6248_7313_11ec_a035_0242ac1c0002row4_col0,#T_464f6248_7313_11ec_a035_0242ac1c0002row4_col6,#T_464f6248_7313_11ec_a035_0242ac1c0002row4_col7,#T_464f6248_7313_11ec_a035_0242ac1c0002row4_col8,#T_464f6248_7313_11ec_a035_0242ac1c0002row4_col9,#T_464f6248_7313_11ec_a035_0242ac1c0002row4_col10,#T_464f6248_7313_11ec_a035_0242ac1c0002row4_col15,#T_464f6248_7313_11ec_a035_0242ac1c0002row4_col16,#T_464f6248_7313_11ec_a035_0242ac1c0002row4_col17,#T_464f6248_7313_11ec_a035_0242ac1c0002row4_col18,#T_464f6248_7313_11ec_a035_0242ac1c0002row4_col19,#T_464f6248_7313_11ec_a035_0242ac1c0002row4_col20,#T_464f6248_7313_11ec_a035_0242ac1c0002row4_col21,#T_464f6248_7313_11ec_a035_0242ac1c0002row4_col22,#T_464f6248_7313_11ec_a035_0242ac1c0002row4_col23,#T_464f6248_7313_11ec_a035_0242ac1c0002row5_col0,#T_464f6248_7313_11ec_a035_0242ac1c0002row5_col5,#T_464f6248_7313_11ec_a035_0242ac1c0002row5_col6,#T_464f6248_7313_11ec_a035_0242ac1c0002row5_col7,#T_464f6248_7313_11ec_a035_0242ac1c0002row5_col8,#T_464f6248_7313_11ec_a035_0242ac1c0002row5_col9,#T_464f6248_7313_11ec_a035_0242ac1c0002row5_col15,#T_464f6248_7313_11ec_a035_0242ac1c0002row5_col16,#T_464f6248_7313_11ec_a035_0242ac1c0002row5_col17,#T_464f6248_7313_11ec_a035_0242ac1c0002row5_col18,#T_464f6248_7313_11ec_a035_0242ac1c0002row5_col19,#T_464f6248_7313_11ec_a035_0242ac1c0002row5_col20,#T_464f6248_7313_11ec_a035_0242ac1c0002row5_col21,#T_464f6248_7313_11ec_a035_0242ac1c0002row5_col22,#T_464f6248_7313_11ec_a035_0242ac1c0002row5_col23,#T_464f6248_7313_11ec_a035_0242ac1c0002row6_col0,#T_464f6248_7313_11ec_a035_0242ac1c0002row6_col1,#T_464f6248_7313_11ec_a035_0242ac1c0002row6_col2,#T_464f6248_7313_11ec_a035_0242ac1c0002row6_col3,#T_464f6248_7313_11ec_a035_0242ac1c0002row6_col4,#T_464f6248_7313_11ec_a035_0242ac1c0002row6_col5,#T_464f6248_7313_11ec_a035_0242ac1c0002row6_col6,#T_464f6248_7313_11ec_a035_0242ac1c0002row6_col7,#T_464f6248_7313_11ec_a035_0242ac1c0002row6_col8,#T_464f6248_7313_11ec_a035_0242ac1c0002row6_col9,#T_464f6248_7313_11ec_a035_0242ac1c0002row6_col14,#T_464f6248_7313_11ec_a035_0242ac1c0002row6_col15,#T_464f6248_7313_11ec_a035_0242ac1c0002row6_col16,#T_464f6248_7313_11ec_a035_0242ac1c0002row6_col17,#T_464f6248_7313_11ec_a035_0242ac1c0002row6_col18,#T_464f6248_7313_11ec_a035_0242ac1c0002row6_col19,#T_464f6248_7313_11ec_a035_0242ac1c0002row6_col20,#T_464f6248_7313_11ec_a035_0242ac1c0002row6_col21,#T_464f6248_7313_11ec_a035_0242ac1c0002row6_col22,#T_464f6248_7313_11ec_a035_0242ac1c0002row6_col23,#T_464f6248_7313_11ec_a035_0242ac1c0002row7_col0,#T_464f6248_7313_11ec_a035_0242ac1c0002row7_col1,#T_464f6248_7313_11ec_a035_0242ac1c0002row7_col2,#T_464f6248_7313_11ec_a035_0242ac1c0002row7_col3,#T_464f6248_7313_11ec_a035_0242ac1c0002row7_col4,#T_464f6248_7313_11ec_a035_0242ac1c0002row7_col5,#T_464f6248_7313_11ec_a035_0242ac1c0002row7_col6,#T_464f6248_7313_11ec_a035_0242ac1c0002row7_col13,#T_464f6248_7313_11ec_a035_0242ac1c0002row7_col14,#T_464f6248_7313_11ec_a035_0242ac1c0002row7_col15,#T_464f6248_7313_11ec_a035_0242ac1c0002row7_col16,#T_464f6248_7313_11ec_a035_0242ac1c0002row7_col17,#T_464f6248_7313_11ec_a035_0242ac1c0002row7_col18,#T_464f6248_7313_11ec_a035_0242ac1c0002row7_col19,#T_464f6248_7313_11ec_a035_0242ac1c0002row7_col20,#T_464f6248_7313_11ec_a035_0242ac1c0002row7_col21,#T_464f6248_7313_11ec_a035_0242ac1c0002row7_col22,#T_464f6248_7313_11ec_a035_0242ac1c0002row7_col23,#T_464f6248_7313_11ec_a035_0242ac1c0002row8_col0,#T_464f6248_7313_11ec_a035_0242ac1c0002row8_col1,#T_464f6248_7313_11ec_a035_0242ac1c0002row8_col2,#T_464f6248_7313_11ec_a035_0242ac1c0002row8_col3,#T_464f6248_7313_11ec_a035_0242ac1c0002row8_col4,#T_464f6248_7313_11ec_a035_0242ac1c0002row8_col13,#T_464f6248_7313_11ec_a035_0242ac1c0002row8_col14,#T_464f6248_7313_11ec_a035_0242ac1c0002row8_col15,#T_464f6248_7313_11ec_a035_0242ac1c0002row8_col16,#T_464f6248_7313_11ec_a035_0242ac1c0002row8_col17,#T_464f6248_7313_11ec_a035_0242ac1c0002row8_col18,#T_464f6248_7313_11ec_a035_0242ac1c0002row8_col19,#T_464f6248_7313_11ec_a035_0242ac1c0002row8_col20,#T_464f6248_7313_11ec_a035_0242ac1c0002row8_col21,#T_464f6248_7313_11ec_a035_0242ac1c0002row8_col22,#T_464f6248_7313_11ec_a035_0242ac1c0002row8_col23,#T_464f6248_7313_11ec_a035_0242ac1c0002row9_col0,#T_464f6248_7313_11ec_a035_0242ac1c0002row9_col1,#T_464f6248_7313_11ec_a035_0242ac1c0002row9_col2,#T_464f6248_7313_11ec_a035_0242ac1c0002row9_col3,#T_464f6248_7313_11ec_a035_0242ac1c0002row9_col4,#T_464f6248_7313_11ec_a035_0242ac1c0002row9_col16,#T_464f6248_7313_11ec_a035_0242ac1c0002row9_col17,#T_464f6248_7313_11ec_a035_0242ac1c0002row9_col18,#T_464f6248_7313_11ec_a035_0242ac1c0002row9_col19,#T_464f6248_7313_11ec_a035_0242ac1c0002row9_col20,#T_464f6248_7313_11ec_a035_0242ac1c0002row9_col21,#T_464f6248_7313_11ec_a035_0242ac1c0002row9_col22,#T_464f6248_7313_11ec_a035_0242ac1c0002row9_col23,#T_464f6248_7313_11ec_a035_0242ac1c0002row10_col0,#T_464f6248_7313_11ec_a035_0242ac1c0002row10_col1,#T_464f6248_7313_11ec_a035_0242ac1c0002row10_col2,#T_464f6248_7313_11ec_a035_0242ac1c0002row10_col3,#T_464f6248_7313_11ec_a035_0242ac1c0002row10_col4,#T_464f6248_7313_11ec_a035_0242ac1c0002row10_col5,#T_464f6248_7313_11ec_a035_0242ac1c0002row10_col6,#T_464f6248_7313_11ec_a035_0242ac1c0002row10_col17,#T_464f6248_7313_11ec_a035_0242ac1c0002row10_col18,#T_464f6248_7313_11ec_a035_0242ac1c0002row10_col19,#T_464f6248_7313_11ec_a035_0242ac1c0002row10_col20,#T_464f6248_7313_11ec_a035_0242ac1c0002row10_col21,#T_464f6248_7313_11ec_a035_0242ac1c0002row10_col22,#T_464f6248_7313_11ec_a035_0242ac1c0002row10_col23,#T_464f6248_7313_11ec_a035_0242ac1c0002row11_col0,#T_464f6248_7313_11ec_a035_0242ac1c0002row11_col1,#T_464f6248_7313_11ec_a035_0242ac1c0002row11_col2,#T_464f6248_7313_11ec_a035_0242ac1c0002row11_col3,#T_464f6248_7313_11ec_a035_0242ac1c0002row11_col4,#T_464f6248_7313_11ec_a035_0242ac1c0002row11_col5,#T_464f6248_7313_11ec_a035_0242ac1c0002row11_col6,#T_464f6248_7313_11ec_a035_0242ac1c0002row11_col7,#T_464f6248_7313_11ec_a035_0242ac1c0002row11_col8,#T_464f6248_7313_11ec_a035_0242ac1c0002row11_col9,#T_464f6248_7313_11ec_a035_0242ac1c0002row11_col17,#T_464f6248_7313_11ec_a035_0242ac1c0002row11_col18,#T_464f6248_7313_11ec_a035_0242ac1c0002row11_col19,#T_464f6248_7313_11ec_a035_0242ac1c0002row11_col20,#T_464f6248_7313_11ec_a035_0242ac1c0002row11_col21,#T_464f6248_7313_11ec_a035_0242ac1c0002row11_col22,#T_464f6248_7313_11ec_a035_0242ac1c0002row11_col23,#T_464f6248_7313_11ec_a035_0242ac1c0002row12_col0,#T_464f6248_7313_11ec_a035_0242ac1c0002row12_col1,#T_464f6248_7313_11ec_a035_0242ac1c0002row12_col2,#T_464f6248_7313_11ec_a035_0242ac1c0002row12_col3,#T_464f6248_7313_11ec_a035_0242ac1c0002row12_col4,#T_464f6248_7313_11ec_a035_0242ac1c0002row12_col5,#T_464f6248_7313_11ec_a035_0242ac1c0002row12_col6,#T_464f6248_7313_11ec_a035_0242ac1c0002row12_col7,#T_464f6248_7313_11ec_a035_0242ac1c0002row12_col8,#T_464f6248_7313_11ec_a035_0242ac1c0002row12_col9,#T_464f6248_7313_11ec_a035_0242ac1c0002row12_col10,#T_464f6248_7313_11ec_a035_0242ac1c0002row12_col11,#T_464f6248_7313_11ec_a035_0242ac1c0002row12_col12,#T_464f6248_7313_11ec_a035_0242ac1c0002row12_col17,#T_464f6248_7313_11ec_a035_0242ac1c0002row12_col18,#T_464f6248_7313_11ec_a035_0242ac1c0002row12_col19,#T_464f6248_7313_11ec_a035_0242ac1c0002row12_col20,#T_464f6248_7313_11ec_a035_0242ac1c0002row12_col21,#T_464f6248_7313_11ec_a035_0242ac1c0002row12_col22,#T_464f6248_7313_11ec_a035_0242ac1c0002row12_col23,#T_464f6248_7313_11ec_a035_0242ac1c0002row13_col0,#T_464f6248_7313_11ec_a035_0242ac1c0002row13_col1,#T_464f6248_7313_11ec_a035_0242ac1c0002row13_col2,#T_464f6248_7313_11ec_a035_0242ac1c0002row13_col3,#T_464f6248_7313_11ec_a035_0242ac1c0002row13_col4,#T_464f6248_7313_11ec_a035_0242ac1c0002row13_col5,#T_464f6248_7313_11ec_a035_0242ac1c0002row13_col6,#T_464f6248_7313_11ec_a035_0242ac1c0002row13_col7,#T_464f6248_7313_11ec_a035_0242ac1c0002row13_col8,#T_464f6248_7313_11ec_a035_0242ac1c0002row13_col9,#T_464f6248_7313_11ec_a035_0242ac1c0002row13_col10,#T_464f6248_7313_11ec_a035_0242ac1c0002row13_col11,#T_464f6248_7313_11ec_a035_0242ac1c0002row13_col12,#T_464f6248_7313_11ec_a035_0242ac1c0002row13_col17,#T_464f6248_7313_11ec_a035_0242ac1c0002row13_col18,#T_464f6248_7313_11ec_a035_0242ac1c0002row13_col19,#T_464f6248_7313_11ec_a035_0242ac1c0002row13_col20,#T_464f6248_7313_11ec_a035_0242ac1c0002row13_col21,#T_464f6248_7313_11ec_a035_0242ac1c0002row13_col22,#T_464f6248_7313_11ec_a035_0242ac1c0002row13_col23,#T_464f6248_7313_11ec_a035_0242ac1c0002row14_col0,#T_464f6248_7313_11ec_a035_0242ac1c0002row14_col1,#T_464f6248_7313_11ec_a035_0242ac1c0002row14_col2,#T_464f6248_7313_11ec_a035_0242ac1c0002row14_col3,#T_464f6248_7313_11ec_a035_0242ac1c0002row14_col4,#T_464f6248_7313_11ec_a035_0242ac1c0002row14_col5,#T_464f6248_7313_11ec_a035_0242ac1c0002row14_col6,#T_464f6248_7313_11ec_a035_0242ac1c0002row14_col7,#T_464f6248_7313_11ec_a035_0242ac1c0002row14_col8,#T_464f6248_7313_11ec_a035_0242ac1c0002row14_col9,#T_464f6248_7313_11ec_a035_0242ac1c0002row14_col10,#T_464f6248_7313_11ec_a035_0242ac1c0002row14_col11,#T_464f6248_7313_11ec_a035_0242ac1c0002row14_col17,#T_464f6248_7313_11ec_a035_0242ac1c0002row14_col18,#T_464f6248_7313_11ec_a035_0242ac1c0002row14_col19,#T_464f6248_7313_11ec_a035_0242ac1c0002row14_col20,#T_464f6248_7313_11ec_a035_0242ac1c0002row14_col21,#T_464f6248_7313_11ec_a035_0242ac1c0002row14_col22,#T_464f6248_7313_11ec_a035_0242ac1c0002row14_col23,#T_464f6248_7313_11ec_a035_0242ac1c0002row15_col0,#T_464f6248_7313_11ec_a035_0242ac1c0002row15_col1,#T_464f6248_7313_11ec_a035_0242ac1c0002row15_col2,#T_464f6248_7313_11ec_a035_0242ac1c0002row15_col3,#T_464f6248_7313_11ec_a035_0242ac1c0002row15_col4,#T_464f6248_7313_11ec_a035_0242ac1c0002row15_col5,#T_464f6248_7313_11ec_a035_0242ac1c0002row15_col6,#T_464f6248_7313_11ec_a035_0242ac1c0002row15_col7,#T_464f6248_7313_11ec_a035_0242ac1c0002row15_col8,#T_464f6248_7313_11ec_a035_0242ac1c0002row15_col9,#T_464f6248_7313_11ec_a035_0242ac1c0002row15_col10,#T_464f6248_7313_11ec_a035_0242ac1c0002row15_col17,#T_464f6248_7313_11ec_a035_0242ac1c0002row15_col18,#T_464f6248_7313_11ec_a035_0242ac1c0002row15_col19,#T_464f6248_7313_11ec_a035_0242ac1c0002row15_col20,#T_464f6248_7313_11ec_a035_0242ac1c0002row15_col21,#T_464f6248_7313_11ec_a035_0242ac1c0002row15_col22,#T_464f6248_7313_11ec_a035_0242ac1c0002row15_col23,#T_464f6248_7313_11ec_a035_0242ac1c0002row16_col0,#T_464f6248_7313_11ec_a035_0242ac1c0002row16_col1,#T_464f6248_7313_11ec_a035_0242ac1c0002row16_col2,#T_464f6248_7313_11ec_a035_0242ac1c0002row16_col3,#T_464f6248_7313_11ec_a035_0242ac1c0002row16_col4,#T_464f6248_7313_11ec_a035_0242ac1c0002row16_col5,#T_464f6248_7313_11ec_a035_0242ac1c0002row16_col6,#T_464f6248_7313_11ec_a035_0242ac1c0002row16_col7,#T_464f6248_7313_11ec_a035_0242ac1c0002row16_col8,#T_464f6248_7313_11ec_a035_0242ac1c0002row16_col9,#T_464f6248_7313_11ec_a035_0242ac1c0002row16_col16,#T_464f6248_7313_11ec_a035_0242ac1c0002row16_col17,#T_464f6248_7313_11ec_a035_0242ac1c0002row16_col18,#T_464f6248_7313_11ec_a035_0242ac1c0002row16_col19,#T_464f6248_7313_11ec_a035_0242ac1c0002row16_col20,#T_464f6248_7313_11ec_a035_0242ac1c0002row16_col21,#T_464f6248_7313_11ec_a035_0242ac1c0002row16_col22,#T_464f6248_7313_11ec_a035_0242ac1c0002row16_col23,#T_464f6248_7313_11ec_a035_0242ac1c0002row17_col0,#T_464f6248_7313_11ec_a035_0242ac1c0002row17_col1,#T_464f6248_7313_11ec_a035_0242ac1c0002row17_col2,#T_464f6248_7313_11ec_a035_0242ac1c0002row17_col3,#T_464f6248_7313_11ec_a035_0242ac1c0002row17_col4,#T_464f6248_7313_11ec_a035_0242ac1c0002row17_col5,#T_464f6248_7313_11ec_a035_0242ac1c0002row17_col6,#T_464f6248_7313_11ec_a035_0242ac1c0002row17_col7,#T_464f6248_7313_11ec_a035_0242ac1c0002row17_col15,#T_464f6248_7313_11ec_a035_0242ac1c0002row17_col16,#T_464f6248_7313_11ec_a035_0242ac1c0002row17_col17,#T_464f6248_7313_11ec_a035_0242ac1c0002row17_col18,#T_464f6248_7313_11ec_a035_0242ac1c0002row17_col19,#T_464f6248_7313_11ec_a035_0242ac1c0002row17_col20,#T_464f6248_7313_11ec_a035_0242ac1c0002row17_col21,#T_464f6248_7313_11ec_a035_0242ac1c0002row17_col22,#T_464f6248_7313_11ec_a035_0242ac1c0002row17_col23,#T_464f6248_7313_11ec_a035_0242ac1c0002row18_col0,#T_464f6248_7313_11ec_a035_0242ac1c0002row18_col1,#T_464f6248_7313_11ec_a035_0242ac1c0002row18_col14,#T_464f6248_7313_11ec_a035_0242ac1c0002row18_col15,#T_464f6248_7313_11ec_a035_0242ac1c0002row18_col16,#T_464f6248_7313_11ec_a035_0242ac1c0002row18_col17,#T_464f6248_7313_11ec_a035_0242ac1c0002row18_col18,#T_464f6248_7313_11ec_a035_0242ac1c0002row18_col19,#T_464f6248_7313_11ec_a035_0242ac1c0002row18_col20,#T_464f6248_7313_11ec_a035_0242ac1c0002row18_col21,#T_464f6248_7313_11ec_a035_0242ac1c0002row18_col22,#T_464f6248_7313_11ec_a035_0242ac1c0002row18_col23,#T_464f6248_7313_11ec_a035_0242ac1c0002row19_col0,#T_464f6248_7313_11ec_a035_0242ac1c0002row19_col1,#T_464f6248_7313_11ec_a035_0242ac1c0002row19_col12,#T_464f6248_7313_11ec_a035_0242ac1c0002row19_col13,#T_464f6248_7313_11ec_a035_0242ac1c0002row19_col14,#T_464f6248_7313_11ec_a035_0242ac1c0002row19_col15,#T_464f6248_7313_11ec_a035_0242ac1c0002row19_col16,#T_464f6248_7313_11ec_a035_0242ac1c0002row19_col17,#T_464f6248_7313_11ec_a035_0242ac1c0002row19_col18,#T_464f6248_7313_11ec_a035_0242ac1c0002row19_col19,#T_464f6248_7313_11ec_a035_0242ac1c0002row19_col20,#T_464f6248_7313_11ec_a035_0242ac1c0002row19_col21,#T_464f6248_7313_11ec_a035_0242ac1c0002row19_col22,#T_464f6248_7313_11ec_a035_0242ac1c0002row19_col23,#T_464f6248_7313_11ec_a035_0242ac1c0002row20_col0,#T_464f6248_7313_11ec_a035_0242ac1c0002row20_col1,#T_464f6248_7313_11ec_a035_0242ac1c0002row20_col10,#T_464f6248_7313_11ec_a035_0242ac1c0002row20_col11,#T_464f6248_7313_11ec_a035_0242ac1c0002row20_col12,#T_464f6248_7313_11ec_a035_0242ac1c0002row20_col13,#T_464f6248_7313_11ec_a035_0242ac1c0002row20_col14,#T_464f6248_7313_11ec_a035_0242ac1c0002row20_col15,#T_464f6248_7313_11ec_a035_0242ac1c0002row20_col16,#T_464f6248_7313_11ec_a035_0242ac1c0002row20_col17,#T_464f6248_7313_11ec_a035_0242ac1c0002row20_col18,#T_464f6248_7313_11ec_a035_0242ac1c0002row20_col19,#T_464f6248_7313_11ec_a035_0242ac1c0002row20_col20,#T_464f6248_7313_11ec_a035_0242ac1c0002row20_col21,#T_464f6248_7313_11ec_a035_0242ac1c0002row20_col22,#T_464f6248_7313_11ec_a035_0242ac1c0002row20_col23,#T_464f6248_7313_11ec_a035_0242ac1c0002row21_col0,#T_464f6248_7313_11ec_a035_0242ac1c0002row21_col1,#T_464f6248_7313_11ec_a035_0242ac1c0002row21_col2,#T_464f6248_7313_11ec_a035_0242ac1c0002row21_col3,#T_464f6248_7313_11ec_a035_0242ac1c0002row21_col4,#T_464f6248_7313_11ec_a035_0242ac1c0002row21_col5,#T_464f6248_7313_11ec_a035_0242ac1c0002row21_col6,#T_464f6248_7313_11ec_a035_0242ac1c0002row21_col7,#T_464f6248_7313_11ec_a035_0242ac1c0002row21_col8,#T_464f6248_7313_11ec_a035_0242ac1c0002row21_col9,#T_464f6248_7313_11ec_a035_0242ac1c0002row21_col10,#T_464f6248_7313_11ec_a035_0242ac1c0002row21_col11,#T_464f6248_7313_11ec_a035_0242ac1c0002row21_col12,#T_464f6248_7313_11ec_a035_0242ac1c0002row21_col13,#T_464f6248_7313_11ec_a035_0242ac1c0002row21_col14,#T_464f6248_7313_11ec_a035_0242ac1c0002row21_col15,#T_464f6248_7313_11ec_a035_0242ac1c0002row21_col16,#T_464f6248_7313_11ec_a035_0242ac1c0002row21_col17,#T_464f6248_7313_11ec_a035_0242ac1c0002row21_col18,#T_464f6248_7313_11ec_a035_0242ac1c0002row21_col19,#T_464f6248_7313_11ec_a035_0242ac1c0002row21_col20,#T_464f6248_7313_11ec_a035_0242ac1c0002row21_col21,#T_464f6248_7313_11ec_a035_0242ac1c0002row21_col22,#T_464f6248_7313_11ec_a035_0242ac1c0002row21_col23,#T_464f6248_7313_11ec_a035_0242ac1c0002row22_col0,#T_464f6248_7313_11ec_a035_0242ac1c0002row22_col1,#T_464f6248_7313_11ec_a035_0242ac1c0002row22_col2,#T_464f6248_7313_11ec_a035_0242ac1c0002row22_col3,#T_464f6248_7313_11ec_a035_0242ac1c0002row22_col4,#T_464f6248_7313_11ec_a035_0242ac1c0002row22_col5,#T_464f6248_7313_11ec_a035_0242ac1c0002row22_col6,#T_464f6248_7313_11ec_a035_0242ac1c0002row22_col7,#T_464f6248_7313_11ec_a035_0242ac1c0002row22_col8,#T_464f6248_7313_11ec_a035_0242ac1c0002row22_col9,#T_464f6248_7313_11ec_a035_0242ac1c0002row22_col10,#T_464f6248_7313_11ec_a035_0242ac1c0002row22_col11,#T_464f6248_7313_11ec_a035_0242ac1c0002row22_col12,#T_464f6248_7313_11ec_a035_0242ac1c0002row22_col13,#T_464f6248_7313_11ec_a035_0242ac1c0002row22_col14,#T_464f6248_7313_11ec_a035_0242ac1c0002row22_col15,#T_464f6248_7313_11ec_a035_0242ac1c0002row22_col16,#T_464f6248_7313_11ec_a035_0242ac1c0002row22_col17,#T_464f6248_7313_11ec_a035_0242ac1c0002row22_col18,#T_464f6248_7313_11ec_a035_0242ac1c0002row22_col19,#T_464f6248_7313_11ec_a035_0242ac1c0002row22_col20,#T_464f6248_7313_11ec_a035_0242ac1c0002row22_col21,#T_464f6248_7313_11ec_a035_0242ac1c0002row22_col22,#T_464f6248_7313_11ec_a035_0242ac1c0002row22_col23,#T_464f6248_7313_11ec_a035_0242ac1c0002row23_col0,#T_464f6248_7313_11ec_a035_0242ac1c0002row23_col1,#T_464f6248_7313_11ec_a035_0242ac1c0002row23_col2,#T_464f6248_7313_11ec_a035_0242ac1c0002row23_col3,#T_464f6248_7313_11ec_a035_0242ac1c0002row23_col4,#T_464f6248_7313_11ec_a035_0242ac1c0002row23_col5,#T_464f6248_7313_11ec_a035_0242ac1c0002row23_col6,#T_464f6248_7313_11ec_a035_0242ac1c0002row23_col7,#T_464f6248_7313_11ec_a035_0242ac1c0002row23_col8,#T_464f6248_7313_11ec_a035_0242ac1c0002row23_col9,#T_464f6248_7313_11ec_a035_0242ac1c0002row23_col10,#T_464f6248_7313_11ec_a035_0242ac1c0002row23_col11,#T_464f6248_7313_11ec_a035_0242ac1c0002row23_col12,#T_464f6248_7313_11ec_a035_0242ac1c0002row23_col13,#T_464f6248_7313_11ec_a035_0242ac1c0002row23_col14,#T_464f6248_7313_11ec_a035_0242ac1c0002row23_col15,#T_464f6248_7313_11ec_a035_0242ac1c0002row23_col16,#T_464f6248_7313_11ec_a035_0242ac1c0002row23_col17,#T_464f6248_7313_11ec_a035_0242ac1c0002row23_col18,#T_464f6248_7313_11ec_a035_0242ac1c0002row23_col19,#T_464f6248_7313_11ec_a035_0242ac1c0002row23_col20,#T_464f6248_7313_11ec_a035_0242ac1c0002row23_col21,#T_464f6248_7313_11ec_a035_0242ac1c0002row23_col22,#T_464f6248_7313_11ec_a035_0242ac1c0002row23_col23{\n",
       "            font-size:  6pt;\n",
       "            background-color:  #ffffff;\n",
       "            color:  #000000;\n",
       "        }#T_464f6248_7313_11ec_a035_0242ac1c0002row1_col5,#T_464f6248_7313_11ec_a035_0242ac1c0002row8_col12{\n",
       "            font-size:  6pt;\n",
       "            background-color:  #f1f1f1;\n",
       "            color:  #000000;\n",
       "        }#T_464f6248_7313_11ec_a035_0242ac1c0002row1_col6,#T_464f6248_7313_11ec_a035_0242ac1c0002row1_col13{\n",
       "            font-size:  6pt;\n",
       "            background-color:  #7c7c7c;\n",
       "            color:  #000000;\n",
       "        }#T_464f6248_7313_11ec_a035_0242ac1c0002row1_col7{\n",
       "            font-size:  6pt;\n",
       "            background-color:  #4a4a4a;\n",
       "            color:  #f1f1f1;\n",
       "        }#T_464f6248_7313_11ec_a035_0242ac1c0002row1_col8,#T_464f6248_7313_11ec_a035_0242ac1c0002row1_col9,#T_464f6248_7313_11ec_a035_0242ac1c0002row1_col10,#T_464f6248_7313_11ec_a035_0242ac1c0002row2_col6,#T_464f6248_7313_11ec_a035_0242ac1c0002row2_col7,#T_464f6248_7313_11ec_a035_0242ac1c0002row2_col11,#T_464f6248_7313_11ec_a035_0242ac1c0002row2_col12,#T_464f6248_7313_11ec_a035_0242ac1c0002row2_col13,#T_464f6248_7313_11ec_a035_0242ac1c0002row3_col4,#T_464f6248_7313_11ec_a035_0242ac1c0002row3_col12,#T_464f6248_7313_11ec_a035_0242ac1c0002row3_col13,#T_464f6248_7313_11ec_a035_0242ac1c0002row4_col1,#T_464f6248_7313_11ec_a035_0242ac1c0002row4_col2,#T_464f6248_7313_11ec_a035_0242ac1c0002row4_col3,#T_464f6248_7313_11ec_a035_0242ac1c0002row4_col12,#T_464f6248_7313_11ec_a035_0242ac1c0002row4_col13,#T_464f6248_7313_11ec_a035_0242ac1c0002row5_col12,#T_464f6248_7313_11ec_a035_0242ac1c0002row6_col11,#T_464f6248_7313_11ec_a035_0242ac1c0002row9_col11,#T_464f6248_7313_11ec_a035_0242ac1c0002row10_col11,#T_464f6248_7313_11ec_a035_0242ac1c0002row10_col12,#T_464f6248_7313_11ec_a035_0242ac1c0002row10_col13,#T_464f6248_7313_11ec_a035_0242ac1c0002row10_col14,#T_464f6248_7313_11ec_a035_0242ac1c0002row11_col13,#T_464f6248_7313_11ec_a035_0242ac1c0002row11_col14,#T_464f6248_7313_11ec_a035_0242ac1c0002row11_col15,#T_464f6248_7313_11ec_a035_0242ac1c0002row12_col14,#T_464f6248_7313_11ec_a035_0242ac1c0002row12_col15,#T_464f6248_7313_11ec_a035_0242ac1c0002row12_col16,#T_464f6248_7313_11ec_a035_0242ac1c0002row13_col14,#T_464f6248_7313_11ec_a035_0242ac1c0002row13_col15,#T_464f6248_7313_11ec_a035_0242ac1c0002row14_col14,#T_464f6248_7313_11ec_a035_0242ac1c0002row14_col15,#T_464f6248_7313_11ec_a035_0242ac1c0002row15_col13,#T_464f6248_7313_11ec_a035_0242ac1c0002row15_col14,#T_464f6248_7313_11ec_a035_0242ac1c0002row16_col12,#T_464f6248_7313_11ec_a035_0242ac1c0002row16_col13,#T_464f6248_7313_11ec_a035_0242ac1c0002row17_col11,#T_464f6248_7313_11ec_a035_0242ac1c0002row17_col12,#T_464f6248_7313_11ec_a035_0242ac1c0002row19_col3,#T_464f6248_7313_11ec_a035_0242ac1c0002row19_col4,#T_464f6248_7313_11ec_a035_0242ac1c0002row19_col5,#T_464f6248_7313_11ec_a035_0242ac1c0002row19_col6,#T_464f6248_7313_11ec_a035_0242ac1c0002row19_col7,#T_464f6248_7313_11ec_a035_0242ac1c0002row20_col3,#T_464f6248_7313_11ec_a035_0242ac1c0002row20_col4,#T_464f6248_7313_11ec_a035_0242ac1c0002row20_col5,#T_464f6248_7313_11ec_a035_0242ac1c0002row20_col6,#T_464f6248_7313_11ec_a035_0242ac1c0002row20_col7{\n",
       "            font-size:  6pt;\n",
       "            background-color:  #000000;\n",
       "            color:  #f1f1f1;\n",
       "        }#T_464f6248_7313_11ec_a035_0242ac1c0002row1_col11{\n",
       "            font-size:  6pt;\n",
       "            background-color:  #606060;\n",
       "            color:  #f1f1f1;\n",
       "        }#T_464f6248_7313_11ec_a035_0242ac1c0002row1_col12{\n",
       "            font-size:  6pt;\n",
       "            background-color:  #4d4d4d;\n",
       "            color:  #f1f1f1;\n",
       "        }#T_464f6248_7313_11ec_a035_0242ac1c0002row1_col14{\n",
       "            font-size:  6pt;\n",
       "            background-color:  #bbbbbb;\n",
       "            color:  #000000;\n",
       "        }#T_464f6248_7313_11ec_a035_0242ac1c0002row2_col3,#T_464f6248_7313_11ec_a035_0242ac1c0002row4_col5{\n",
       "            font-size:  6pt;\n",
       "            background-color:  #e4e4e4;\n",
       "            color:  #000000;\n",
       "        }#T_464f6248_7313_11ec_a035_0242ac1c0002row2_col4,#T_464f6248_7313_11ec_a035_0242ac1c0002row8_col6{\n",
       "            font-size:  6pt;\n",
       "            background-color:  #6b6b6b;\n",
       "            color:  #000000;\n",
       "        }#T_464f6248_7313_11ec_a035_0242ac1c0002row2_col5,#T_464f6248_7313_11ec_a035_0242ac1c0002row5_col11{\n",
       "            font-size:  6pt;\n",
       "            background-color:  #222222;\n",
       "            color:  #f1f1f1;\n",
       "        }#T_464f6248_7313_11ec_a035_0242ac1c0002row2_col8,#T_464f6248_7313_11ec_a035_0242ac1c0002row2_col14,#T_464f6248_7313_11ec_a035_0242ac1c0002row3_col14,#T_464f6248_7313_11ec_a035_0242ac1c0002row17_col13{\n",
       "            font-size:  6pt;\n",
       "            background-color:  #171717;\n",
       "            color:  #f1f1f1;\n",
       "        }#T_464f6248_7313_11ec_a035_0242ac1c0002row2_col9,#T_464f6248_7313_11ec_a035_0242ac1c0002row3_col11{\n",
       "            font-size:  6pt;\n",
       "            background-color:  #4b4b4b;\n",
       "            color:  #f1f1f1;\n",
       "        }#T_464f6248_7313_11ec_a035_0242ac1c0002row2_col10,#T_464f6248_7313_11ec_a035_0242ac1c0002row7_col10,#T_464f6248_7313_11ec_a035_0242ac1c0002row8_col8,#T_464f6248_7313_11ec_a035_0242ac1c0002row8_col10,#T_464f6248_7313_11ec_a035_0242ac1c0002row9_col8,#T_464f6248_7313_11ec_a035_0242ac1c0002row9_col10,#T_464f6248_7313_11ec_a035_0242ac1c0002row18_col10,#T_464f6248_7313_11ec_a035_0242ac1c0002row19_col8{\n",
       "            font-size:  6pt;\n",
       "            background-color:  #010101;\n",
       "            color:  #f1f1f1;\n",
       "        }#T_464f6248_7313_11ec_a035_0242ac1c0002row3_col1{\n",
       "            font-size:  6pt;\n",
       "            background-color:  #272727;\n",
       "            color:  #f1f1f1;\n",
       "        }#T_464f6248_7313_11ec_a035_0242ac1c0002row3_col2{\n",
       "            font-size:  6pt;\n",
       "            background-color:  #0a0a0a;\n",
       "            color:  #f1f1f1;\n",
       "        }#T_464f6248_7313_11ec_a035_0242ac1c0002row3_col3,#T_464f6248_7313_11ec_a035_0242ac1c0002row14_col13{\n",
       "            font-size:  6pt;\n",
       "            background-color:  #050505;\n",
       "            color:  #f1f1f1;\n",
       "        }#T_464f6248_7313_11ec_a035_0242ac1c0002row3_col5,#T_464f6248_7313_11ec_a035_0242ac1c0002row8_col11,#T_464f6248_7313_11ec_a035_0242ac1c0002row10_col15,#T_464f6248_7313_11ec_a035_0242ac1c0002row19_col2{\n",
       "            font-size:  6pt;\n",
       "            background-color:  #545454;\n",
       "            color:  #f1f1f1;\n",
       "        }#T_464f6248_7313_11ec_a035_0242ac1c0002row3_col6{\n",
       "            font-size:  6pt;\n",
       "            background-color:  #e6e6e6;\n",
       "            color:  #000000;\n",
       "        }#T_464f6248_7313_11ec_a035_0242ac1c0002row3_col7,#T_464f6248_7313_11ec_a035_0242ac1c0002row3_col10,#T_464f6248_7313_11ec_a035_0242ac1c0002row8_col5{\n",
       "            font-size:  6pt;\n",
       "            background-color:  #fafafa;\n",
       "            color:  #000000;\n",
       "        }#T_464f6248_7313_11ec_a035_0242ac1c0002row3_col8,#T_464f6248_7313_11ec_a035_0242ac1c0002row11_col10,#T_464f6248_7313_11ec_a035_0242ac1c0002row16_col15{\n",
       "            font-size:  6pt;\n",
       "            background-color:  #fbfbfb;\n",
       "            color:  #000000;\n",
       "        }#T_464f6248_7313_11ec_a035_0242ac1c0002row3_col9{\n",
       "            font-size:  6pt;\n",
       "            background-color:  #fdfdfd;\n",
       "            color:  #000000;\n",
       "        }#T_464f6248_7313_11ec_a035_0242ac1c0002row4_col4{\n",
       "            font-size:  6pt;\n",
       "            background-color:  #1b1b1b;\n",
       "            color:  #f1f1f1;\n",
       "        }#T_464f6248_7313_11ec_a035_0242ac1c0002row4_col11{\n",
       "            font-size:  6pt;\n",
       "            background-color:  #4e4e4e;\n",
       "            color:  #f1f1f1;\n",
       "        }#T_464f6248_7313_11ec_a035_0242ac1c0002row4_col14{\n",
       "            font-size:  6pt;\n",
       "            background-color:  #767676;\n",
       "            color:  #000000;\n",
       "        }#T_464f6248_7313_11ec_a035_0242ac1c0002row5_col1{\n",
       "            font-size:  6pt;\n",
       "            background-color:  #fcfcfc;\n",
       "            color:  #000000;\n",
       "        }#T_464f6248_7313_11ec_a035_0242ac1c0002row5_col2,#T_464f6248_7313_11ec_a035_0242ac1c0002row5_col3,#T_464f6248_7313_11ec_a035_0242ac1c0002row15_col16{\n",
       "            font-size:  6pt;\n",
       "            background-color:  #f6f6f6;\n",
       "            color:  #000000;\n",
       "        }#T_464f6248_7313_11ec_a035_0242ac1c0002row5_col4,#T_464f6248_7313_11ec_a035_0242ac1c0002row7_col7{\n",
       "            font-size:  6pt;\n",
       "            background-color:  #f8f8f8;\n",
       "            color:  #000000;\n",
       "        }#T_464f6248_7313_11ec_a035_0242ac1c0002row5_col10,#T_464f6248_7313_11ec_a035_0242ac1c0002row10_col7{\n",
       "            font-size:  6pt;\n",
       "            background-color:  #e8e8e8;\n",
       "            color:  #000000;\n",
       "        }#T_464f6248_7313_11ec_a035_0242ac1c0002row5_col13,#T_464f6248_7313_11ec_a035_0242ac1c0002row6_col12{\n",
       "            font-size:  6pt;\n",
       "            background-color:  #090909;\n",
       "            color:  #f1f1f1;\n",
       "        }#T_464f6248_7313_11ec_a035_0242ac1c0002row5_col14{\n",
       "            font-size:  6pt;\n",
       "            background-color:  #d0d0d0;\n",
       "            color:  #000000;\n",
       "        }#T_464f6248_7313_11ec_a035_0242ac1c0002row6_col10,#T_464f6248_7313_11ec_a035_0242ac1c0002row7_col11,#T_464f6248_7313_11ec_a035_0242ac1c0002row9_col6{\n",
       "            font-size:  6pt;\n",
       "            background-color:  #060606;\n",
       "            color:  #f1f1f1;\n",
       "        }#T_464f6248_7313_11ec_a035_0242ac1c0002row6_col13{\n",
       "            font-size:  6pt;\n",
       "            background-color:  #979797;\n",
       "            color:  #000000;\n",
       "        }#T_464f6248_7313_11ec_a035_0242ac1c0002row7_col8{\n",
       "            font-size:  6pt;\n",
       "            background-color:  #b6b6b6;\n",
       "            color:  #000000;\n",
       "        }#T_464f6248_7313_11ec_a035_0242ac1c0002row7_col9{\n",
       "            font-size:  6pt;\n",
       "            background-color:  #252525;\n",
       "            color:  #f1f1f1;\n",
       "        }#T_464f6248_7313_11ec_a035_0242ac1c0002row7_col12{\n",
       "            font-size:  6pt;\n",
       "            background-color:  #999999;\n",
       "            color:  #000000;\n",
       "        }#T_464f6248_7313_11ec_a035_0242ac1c0002row8_col7,#T_464f6248_7313_11ec_a035_0242ac1c0002row18_col8{\n",
       "            font-size:  6pt;\n",
       "            background-color:  #101010;\n",
       "            color:  #f1f1f1;\n",
       "        }#T_464f6248_7313_11ec_a035_0242ac1c0002row8_col9,#T_464f6248_7313_11ec_a035_0242ac1c0002row9_col9,#T_464f6248_7313_11ec_a035_0242ac1c0002row17_col10,#T_464f6248_7313_11ec_a035_0242ac1c0002row18_col9,#T_464f6248_7313_11ec_a035_0242ac1c0002row19_col9{\n",
       "            font-size:  6pt;\n",
       "            background-color:  #020202;\n",
       "            color:  #f1f1f1;\n",
       "        }#T_464f6248_7313_11ec_a035_0242ac1c0002row9_col5{\n",
       "            font-size:  6pt;\n",
       "            background-color:  #f7f7f7;\n",
       "            color:  #000000;\n",
       "        }#T_464f6248_7313_11ec_a035_0242ac1c0002row9_col7,#T_464f6248_7313_11ec_a035_0242ac1c0002row18_col11{\n",
       "            font-size:  6pt;\n",
       "            background-color:  #030303;\n",
       "            color:  #f1f1f1;\n",
       "        }#T_464f6248_7313_11ec_a035_0242ac1c0002row9_col12{\n",
       "            font-size:  6pt;\n",
       "            background-color:  #181818;\n",
       "            color:  #f1f1f1;\n",
       "        }#T_464f6248_7313_11ec_a035_0242ac1c0002row9_col13{\n",
       "            font-size:  6pt;\n",
       "            background-color:  #303030;\n",
       "            color:  #f1f1f1;\n",
       "        }#T_464f6248_7313_11ec_a035_0242ac1c0002row9_col14{\n",
       "            font-size:  6pt;\n",
       "            background-color:  #a9a9a9;\n",
       "            color:  #000000;\n",
       "        }#T_464f6248_7313_11ec_a035_0242ac1c0002row9_col15{\n",
       "            font-size:  6pt;\n",
       "            background-color:  #fefefe;\n",
       "            color:  #000000;\n",
       "        }#T_464f6248_7313_11ec_a035_0242ac1c0002row10_col8,#T_464f6248_7313_11ec_a035_0242ac1c0002row10_col9,#T_464f6248_7313_11ec_a035_0242ac1c0002row16_col10{\n",
       "            font-size:  6pt;\n",
       "            background-color:  #bababa;\n",
       "            color:  #000000;\n",
       "        }#T_464f6248_7313_11ec_a035_0242ac1c0002row10_col10{\n",
       "            font-size:  6pt;\n",
       "            background-color:  #393939;\n",
       "            color:  #f1f1f1;\n",
       "        }#T_464f6248_7313_11ec_a035_0242ac1c0002row10_col16{\n",
       "            font-size:  6pt;\n",
       "            background-color:  #eaeaea;\n",
       "            color:  #000000;\n",
       "        }#T_464f6248_7313_11ec_a035_0242ac1c0002row11_col11{\n",
       "            font-size:  6pt;\n",
       "            background-color:  #e2e2e2;\n",
       "            color:  #000000;\n",
       "        }#T_464f6248_7313_11ec_a035_0242ac1c0002row11_col12{\n",
       "            font-size:  6pt;\n",
       "            background-color:  #9f9f9f;\n",
       "            color:  #000000;\n",
       "        }#T_464f6248_7313_11ec_a035_0242ac1c0002row11_col16{\n",
       "            font-size:  6pt;\n",
       "            background-color:  #898989;\n",
       "            color:  #000000;\n",
       "        }#T_464f6248_7313_11ec_a035_0242ac1c0002row12_col13{\n",
       "            font-size:  6pt;\n",
       "            background-color:  #585858;\n",
       "            color:  #f1f1f1;\n",
       "        }#T_464f6248_7313_11ec_a035_0242ac1c0002row13_col13{\n",
       "            font-size:  6pt;\n",
       "            background-color:  #5a5a5a;\n",
       "            color:  #f1f1f1;\n",
       "        }#T_464f6248_7313_11ec_a035_0242ac1c0002row13_col16{\n",
       "            font-size:  6pt;\n",
       "            background-color:  #525252;\n",
       "            color:  #f1f1f1;\n",
       "        }#T_464f6248_7313_11ec_a035_0242ac1c0002row14_col12,#T_464f6248_7313_11ec_a035_0242ac1c0002row19_col11{\n",
       "            font-size:  6pt;\n",
       "            background-color:  #c5c5c5;\n",
       "            color:  #000000;\n",
       "        }#T_464f6248_7313_11ec_a035_0242ac1c0002row14_col16{\n",
       "            font-size:  6pt;\n",
       "            background-color:  #d7d7d7;\n",
       "            color:  #000000;\n",
       "        }#T_464f6248_7313_11ec_a035_0242ac1c0002row15_col11,#T_464f6248_7313_11ec_a035_0242ac1c0002row18_col5{\n",
       "            font-size:  6pt;\n",
       "            background-color:  #dcdcdc;\n",
       "            color:  #000000;\n",
       "        }#T_464f6248_7313_11ec_a035_0242ac1c0002row15_col12{\n",
       "            font-size:  6pt;\n",
       "            background-color:  #2f2f2f;\n",
       "            color:  #f1f1f1;\n",
       "        }#T_464f6248_7313_11ec_a035_0242ac1c0002row15_col15{\n",
       "            font-size:  6pt;\n",
       "            background-color:  #636363;\n",
       "            color:  #f1f1f1;\n",
       "        }#T_464f6248_7313_11ec_a035_0242ac1c0002row16_col11{\n",
       "            font-size:  6pt;\n",
       "            background-color:  #070707;\n",
       "            color:  #f1f1f1;\n",
       "        }#T_464f6248_7313_11ec_a035_0242ac1c0002row16_col14{\n",
       "            font-size:  6pt;\n",
       "            background-color:  #1f1f1f;\n",
       "            color:  #f1f1f1;\n",
       "        }#T_464f6248_7313_11ec_a035_0242ac1c0002row17_col8,#T_464f6248_7313_11ec_a035_0242ac1c0002row18_col2,#T_464f6248_7313_11ec_a035_0242ac1c0002row18_col4{\n",
       "            font-size:  6pt;\n",
       "            background-color:  #e9e9e9;\n",
       "            color:  #000000;\n",
       "        }#T_464f6248_7313_11ec_a035_0242ac1c0002row17_col9{\n",
       "            font-size:  6pt;\n",
       "            background-color:  #7d7d7d;\n",
       "            color:  #000000;\n",
       "        }#T_464f6248_7313_11ec_a035_0242ac1c0002row17_col14{\n",
       "            font-size:  6pt;\n",
       "            background-color:  #e1e1e1;\n",
       "            color:  #000000;\n",
       "        }#T_464f6248_7313_11ec_a035_0242ac1c0002row18_col3,#T_464f6248_7313_11ec_a035_0242ac1c0002row18_col6{\n",
       "            font-size:  6pt;\n",
       "            background-color:  #a4a4a4;\n",
       "            color:  #000000;\n",
       "        }#T_464f6248_7313_11ec_a035_0242ac1c0002row18_col7{\n",
       "            font-size:  6pt;\n",
       "            background-color:  #727272;\n",
       "            color:  #000000;\n",
       "        }#T_464f6248_7313_11ec_a035_0242ac1c0002row18_col12{\n",
       "            font-size:  6pt;\n",
       "            background-color:  #616161;\n",
       "            color:  #f1f1f1;\n",
       "        }#T_464f6248_7313_11ec_a035_0242ac1c0002row18_col13{\n",
       "            font-size:  6pt;\n",
       "            background-color:  #f3f3f3;\n",
       "            color:  #000000;\n",
       "        }#T_464f6248_7313_11ec_a035_0242ac1c0002row19_col10{\n",
       "            font-size:  6pt;\n",
       "            background-color:  #484848;\n",
       "            color:  #f1f1f1;\n",
       "        }#T_464f6248_7313_11ec_a035_0242ac1c0002row20_col2{\n",
       "            font-size:  6pt;\n",
       "            background-color:  #b3b3b3;\n",
       "            color:  #000000;\n",
       "        }#T_464f6248_7313_11ec_a035_0242ac1c0002row20_col8{\n",
       "            font-size:  6pt;\n",
       "            background-color:  #1a1a1a;\n",
       "            color:  #f1f1f1;\n",
       "        }#T_464f6248_7313_11ec_a035_0242ac1c0002row20_col9{\n",
       "            font-size:  6pt;\n",
       "            background-color:  #d6d6d6;\n",
       "            color:  #000000;\n",
       "        }</style><table id=\"T_464f6248_7313_11ec_a035_0242ac1c0002\" class=\"dataframe\"><thead>    <tr>        <th class=\"blank level0\" ></th>        <th class=\"col_heading level0 col0\" >0</th>        <th class=\"col_heading level0 col1\" >1</th>        <th class=\"col_heading level0 col2\" >2</th>        <th class=\"col_heading level0 col3\" >3</th>        <th class=\"col_heading level0 col4\" >4</th>        <th class=\"col_heading level0 col5\" >5</th>        <th class=\"col_heading level0 col6\" >6</th>        <th class=\"col_heading level0 col7\" >7</th>        <th class=\"col_heading level0 col8\" >8</th>        <th class=\"col_heading level0 col9\" >9</th>        <th class=\"col_heading level0 col10\" >10</th>        <th class=\"col_heading level0 col11\" >11</th>        <th class=\"col_heading level0 col12\" >12</th>        <th class=\"col_heading level0 col13\" >13</th>        <th class=\"col_heading level0 col14\" >14</th>        <th class=\"col_heading level0 col15\" >15</th>        <th class=\"col_heading level0 col16\" >16</th>        <th class=\"col_heading level0 col17\" >17</th>        <th class=\"col_heading level0 col18\" >18</th>        <th class=\"col_heading level0 col19\" >19</th>        <th class=\"col_heading level0 col20\" >20</th>        <th class=\"col_heading level0 col21\" >21</th>        <th class=\"col_heading level0 col22\" >22</th>        <th class=\"col_heading level0 col23\" >23</th>    </tr></thead><tbody>\n",
       "                <tr>\n",
       "                        <th id=\"T_464f6248_7313_11ec_a035_0242ac1c0002level0_row0\" class=\"row_heading level0 row0\" >0</th>\n",
       "                        <td id=\"T_464f6248_7313_11ec_a035_0242ac1c0002row0_col0\" class=\"data row0 col0\" >0</td>\n",
       "                        <td id=\"T_464f6248_7313_11ec_a035_0242ac1c0002row0_col1\" class=\"data row0 col1\" >0</td>\n",
       "                        <td id=\"T_464f6248_7313_11ec_a035_0242ac1c0002row0_col2\" class=\"data row0 col2\" >0</td>\n",
       "                        <td id=\"T_464f6248_7313_11ec_a035_0242ac1c0002row0_col3\" class=\"data row0 col3\" >0</td>\n",
       "                        <td id=\"T_464f6248_7313_11ec_a035_0242ac1c0002row0_col4\" class=\"data row0 col4\" >0</td>\n",
       "                        <td id=\"T_464f6248_7313_11ec_a035_0242ac1c0002row0_col5\" class=\"data row0 col5\" >0</td>\n",
       "                        <td id=\"T_464f6248_7313_11ec_a035_0242ac1c0002row0_col6\" class=\"data row0 col6\" >0</td>\n",
       "                        <td id=\"T_464f6248_7313_11ec_a035_0242ac1c0002row0_col7\" class=\"data row0 col7\" >0</td>\n",
       "                        <td id=\"T_464f6248_7313_11ec_a035_0242ac1c0002row0_col8\" class=\"data row0 col8\" >0</td>\n",
       "                        <td id=\"T_464f6248_7313_11ec_a035_0242ac1c0002row0_col9\" class=\"data row0 col9\" >0</td>\n",
       "                        <td id=\"T_464f6248_7313_11ec_a035_0242ac1c0002row0_col10\" class=\"data row0 col10\" >0</td>\n",
       "                        <td id=\"T_464f6248_7313_11ec_a035_0242ac1c0002row0_col11\" class=\"data row0 col11\" >0</td>\n",
       "                        <td id=\"T_464f6248_7313_11ec_a035_0242ac1c0002row0_col12\" class=\"data row0 col12\" >0</td>\n",
       "                        <td id=\"T_464f6248_7313_11ec_a035_0242ac1c0002row0_col13\" class=\"data row0 col13\" >0</td>\n",
       "                        <td id=\"T_464f6248_7313_11ec_a035_0242ac1c0002row0_col14\" class=\"data row0 col14\" >0</td>\n",
       "                        <td id=\"T_464f6248_7313_11ec_a035_0242ac1c0002row0_col15\" class=\"data row0 col15\" >0</td>\n",
       "                        <td id=\"T_464f6248_7313_11ec_a035_0242ac1c0002row0_col16\" class=\"data row0 col16\" >0</td>\n",
       "                        <td id=\"T_464f6248_7313_11ec_a035_0242ac1c0002row0_col17\" class=\"data row0 col17\" >0</td>\n",
       "                        <td id=\"T_464f6248_7313_11ec_a035_0242ac1c0002row0_col18\" class=\"data row0 col18\" >0</td>\n",
       "                        <td id=\"T_464f6248_7313_11ec_a035_0242ac1c0002row0_col19\" class=\"data row0 col19\" >0</td>\n",
       "                        <td id=\"T_464f6248_7313_11ec_a035_0242ac1c0002row0_col20\" class=\"data row0 col20\" >0</td>\n",
       "                        <td id=\"T_464f6248_7313_11ec_a035_0242ac1c0002row0_col21\" class=\"data row0 col21\" >0</td>\n",
       "                        <td id=\"T_464f6248_7313_11ec_a035_0242ac1c0002row0_col22\" class=\"data row0 col22\" >0</td>\n",
       "                        <td id=\"T_464f6248_7313_11ec_a035_0242ac1c0002row0_col23\" class=\"data row0 col23\" >0</td>\n",
       "            </tr>\n",
       "            <tr>\n",
       "                        <th id=\"T_464f6248_7313_11ec_a035_0242ac1c0002level0_row1\" class=\"row_heading level0 row1\" >1</th>\n",
       "                        <td id=\"T_464f6248_7313_11ec_a035_0242ac1c0002row1_col0\" class=\"data row1 col0\" >0</td>\n",
       "                        <td id=\"T_464f6248_7313_11ec_a035_0242ac1c0002row1_col1\" class=\"data row1 col1\" >0</td>\n",
       "                        <td id=\"T_464f6248_7313_11ec_a035_0242ac1c0002row1_col2\" class=\"data row1 col2\" >0</td>\n",
       "                        <td id=\"T_464f6248_7313_11ec_a035_0242ac1c0002row1_col3\" class=\"data row1 col3\" >0</td>\n",
       "                        <td id=\"T_464f6248_7313_11ec_a035_0242ac1c0002row1_col4\" class=\"data row1 col4\" >0</td>\n",
       "                        <td id=\"T_464f6248_7313_11ec_a035_0242ac1c0002row1_col5\" class=\"data row1 col5\" >29</td>\n",
       "                        <td id=\"T_464f6248_7313_11ec_a035_0242ac1c0002row1_col6\" class=\"data row1 col6\" >150</td>\n",
       "                        <td id=\"T_464f6248_7313_11ec_a035_0242ac1c0002row1_col7\" class=\"data row1 col7\" >195</td>\n",
       "                        <td id=\"T_464f6248_7313_11ec_a035_0242ac1c0002row1_col8\" class=\"data row1 col8\" >254</td>\n",
       "                        <td id=\"T_464f6248_7313_11ec_a035_0242ac1c0002row1_col9\" class=\"data row1 col9\" >255</td>\n",
       "                        <td id=\"T_464f6248_7313_11ec_a035_0242ac1c0002row1_col10\" class=\"data row1 col10\" >254</td>\n",
       "                        <td id=\"T_464f6248_7313_11ec_a035_0242ac1c0002row1_col11\" class=\"data row1 col11\" >176</td>\n",
       "                        <td id=\"T_464f6248_7313_11ec_a035_0242ac1c0002row1_col12\" class=\"data row1 col12\" >193</td>\n",
       "                        <td id=\"T_464f6248_7313_11ec_a035_0242ac1c0002row1_col13\" class=\"data row1 col13\" >150</td>\n",
       "                        <td id=\"T_464f6248_7313_11ec_a035_0242ac1c0002row1_col14\" class=\"data row1 col14\" >96</td>\n",
       "                        <td id=\"T_464f6248_7313_11ec_a035_0242ac1c0002row1_col15\" class=\"data row1 col15\" >0</td>\n",
       "                        <td id=\"T_464f6248_7313_11ec_a035_0242ac1c0002row1_col16\" class=\"data row1 col16\" >0</td>\n",
       "                        <td id=\"T_464f6248_7313_11ec_a035_0242ac1c0002row1_col17\" class=\"data row1 col17\" >0</td>\n",
       "                        <td id=\"T_464f6248_7313_11ec_a035_0242ac1c0002row1_col18\" class=\"data row1 col18\" >0</td>\n",
       "                        <td id=\"T_464f6248_7313_11ec_a035_0242ac1c0002row1_col19\" class=\"data row1 col19\" >0</td>\n",
       "                        <td id=\"T_464f6248_7313_11ec_a035_0242ac1c0002row1_col20\" class=\"data row1 col20\" >0</td>\n",
       "                        <td id=\"T_464f6248_7313_11ec_a035_0242ac1c0002row1_col21\" class=\"data row1 col21\" >0</td>\n",
       "                        <td id=\"T_464f6248_7313_11ec_a035_0242ac1c0002row1_col22\" class=\"data row1 col22\" >0</td>\n",
       "                        <td id=\"T_464f6248_7313_11ec_a035_0242ac1c0002row1_col23\" class=\"data row1 col23\" >0</td>\n",
       "            </tr>\n",
       "            <tr>\n",
       "                        <th id=\"T_464f6248_7313_11ec_a035_0242ac1c0002level0_row2\" class=\"row_heading level0 row2\" >2</th>\n",
       "                        <td id=\"T_464f6248_7313_11ec_a035_0242ac1c0002row2_col0\" class=\"data row2 col0\" >0</td>\n",
       "                        <td id=\"T_464f6248_7313_11ec_a035_0242ac1c0002row2_col1\" class=\"data row2 col1\" >0</td>\n",
       "                        <td id=\"T_464f6248_7313_11ec_a035_0242ac1c0002row2_col2\" class=\"data row2 col2\" >0</td>\n",
       "                        <td id=\"T_464f6248_7313_11ec_a035_0242ac1c0002row2_col3\" class=\"data row2 col3\" >48</td>\n",
       "                        <td id=\"T_464f6248_7313_11ec_a035_0242ac1c0002row2_col4\" class=\"data row2 col4\" >166</td>\n",
       "                        <td id=\"T_464f6248_7313_11ec_a035_0242ac1c0002row2_col5\" class=\"data row2 col5\" >224</td>\n",
       "                        <td id=\"T_464f6248_7313_11ec_a035_0242ac1c0002row2_col6\" class=\"data row2 col6\" >253</td>\n",
       "                        <td id=\"T_464f6248_7313_11ec_a035_0242ac1c0002row2_col7\" class=\"data row2 col7\" >253</td>\n",
       "                        <td id=\"T_464f6248_7313_11ec_a035_0242ac1c0002row2_col8\" class=\"data row2 col8\" >234</td>\n",
       "                        <td id=\"T_464f6248_7313_11ec_a035_0242ac1c0002row2_col9\" class=\"data row2 col9\" >196</td>\n",
       "                        <td id=\"T_464f6248_7313_11ec_a035_0242ac1c0002row2_col10\" class=\"data row2 col10\" >253</td>\n",
       "                        <td id=\"T_464f6248_7313_11ec_a035_0242ac1c0002row2_col11\" class=\"data row2 col11\" >253</td>\n",
       "                        <td id=\"T_464f6248_7313_11ec_a035_0242ac1c0002row2_col12\" class=\"data row2 col12\" >253</td>\n",
       "                        <td id=\"T_464f6248_7313_11ec_a035_0242ac1c0002row2_col13\" class=\"data row2 col13\" >253</td>\n",
       "                        <td id=\"T_464f6248_7313_11ec_a035_0242ac1c0002row2_col14\" class=\"data row2 col14\" >233</td>\n",
       "                        <td id=\"T_464f6248_7313_11ec_a035_0242ac1c0002row2_col15\" class=\"data row2 col15\" >0</td>\n",
       "                        <td id=\"T_464f6248_7313_11ec_a035_0242ac1c0002row2_col16\" class=\"data row2 col16\" >0</td>\n",
       "                        <td id=\"T_464f6248_7313_11ec_a035_0242ac1c0002row2_col17\" class=\"data row2 col17\" >0</td>\n",
       "                        <td id=\"T_464f6248_7313_11ec_a035_0242ac1c0002row2_col18\" class=\"data row2 col18\" >0</td>\n",
       "                        <td id=\"T_464f6248_7313_11ec_a035_0242ac1c0002row2_col19\" class=\"data row2 col19\" >0</td>\n",
       "                        <td id=\"T_464f6248_7313_11ec_a035_0242ac1c0002row2_col20\" class=\"data row2 col20\" >0</td>\n",
       "                        <td id=\"T_464f6248_7313_11ec_a035_0242ac1c0002row2_col21\" class=\"data row2 col21\" >0</td>\n",
       "                        <td id=\"T_464f6248_7313_11ec_a035_0242ac1c0002row2_col22\" class=\"data row2 col22\" >0</td>\n",
       "                        <td id=\"T_464f6248_7313_11ec_a035_0242ac1c0002row2_col23\" class=\"data row2 col23\" >0</td>\n",
       "            </tr>\n",
       "            <tr>\n",
       "                        <th id=\"T_464f6248_7313_11ec_a035_0242ac1c0002level0_row3\" class=\"row_heading level0 row3\" >3</th>\n",
       "                        <td id=\"T_464f6248_7313_11ec_a035_0242ac1c0002row3_col0\" class=\"data row3 col0\" >0</td>\n",
       "                        <td id=\"T_464f6248_7313_11ec_a035_0242ac1c0002row3_col1\" class=\"data row3 col1\" >93</td>\n",
       "                        <td id=\"T_464f6248_7313_11ec_a035_0242ac1c0002row3_col2\" class=\"data row3 col2\" >244</td>\n",
       "                        <td id=\"T_464f6248_7313_11ec_a035_0242ac1c0002row3_col3\" class=\"data row3 col3\" >249</td>\n",
       "                        <td id=\"T_464f6248_7313_11ec_a035_0242ac1c0002row3_col4\" class=\"data row3 col4\" >253</td>\n",
       "                        <td id=\"T_464f6248_7313_11ec_a035_0242ac1c0002row3_col5\" class=\"data row3 col5\" >187</td>\n",
       "                        <td id=\"T_464f6248_7313_11ec_a035_0242ac1c0002row3_col6\" class=\"data row3 col6\" >46</td>\n",
       "                        <td id=\"T_464f6248_7313_11ec_a035_0242ac1c0002row3_col7\" class=\"data row3 col7\" >10</td>\n",
       "                        <td id=\"T_464f6248_7313_11ec_a035_0242ac1c0002row3_col8\" class=\"data row3 col8\" >8</td>\n",
       "                        <td id=\"T_464f6248_7313_11ec_a035_0242ac1c0002row3_col9\" class=\"data row3 col9\" >4</td>\n",
       "                        <td id=\"T_464f6248_7313_11ec_a035_0242ac1c0002row3_col10\" class=\"data row3 col10\" >10</td>\n",
       "                        <td id=\"T_464f6248_7313_11ec_a035_0242ac1c0002row3_col11\" class=\"data row3 col11\" >194</td>\n",
       "                        <td id=\"T_464f6248_7313_11ec_a035_0242ac1c0002row3_col12\" class=\"data row3 col12\" >253</td>\n",
       "                        <td id=\"T_464f6248_7313_11ec_a035_0242ac1c0002row3_col13\" class=\"data row3 col13\" >253</td>\n",
       "                        <td id=\"T_464f6248_7313_11ec_a035_0242ac1c0002row3_col14\" class=\"data row3 col14\" >233</td>\n",
       "                        <td id=\"T_464f6248_7313_11ec_a035_0242ac1c0002row3_col15\" class=\"data row3 col15\" >0</td>\n",
       "                        <td id=\"T_464f6248_7313_11ec_a035_0242ac1c0002row3_col16\" class=\"data row3 col16\" >0</td>\n",
       "                        <td id=\"T_464f6248_7313_11ec_a035_0242ac1c0002row3_col17\" class=\"data row3 col17\" >0</td>\n",
       "                        <td id=\"T_464f6248_7313_11ec_a035_0242ac1c0002row3_col18\" class=\"data row3 col18\" >0</td>\n",
       "                        <td id=\"T_464f6248_7313_11ec_a035_0242ac1c0002row3_col19\" class=\"data row3 col19\" >0</td>\n",
       "                        <td id=\"T_464f6248_7313_11ec_a035_0242ac1c0002row3_col20\" class=\"data row3 col20\" >0</td>\n",
       "                        <td id=\"T_464f6248_7313_11ec_a035_0242ac1c0002row3_col21\" class=\"data row3 col21\" >0</td>\n",
       "                        <td id=\"T_464f6248_7313_11ec_a035_0242ac1c0002row3_col22\" class=\"data row3 col22\" >0</td>\n",
       "                        <td id=\"T_464f6248_7313_11ec_a035_0242ac1c0002row3_col23\" class=\"data row3 col23\" >0</td>\n",
       "            </tr>\n",
       "            <tr>\n",
       "                        <th id=\"T_464f6248_7313_11ec_a035_0242ac1c0002level0_row4\" class=\"row_heading level0 row4\" >4</th>\n",
       "                        <td id=\"T_464f6248_7313_11ec_a035_0242ac1c0002row4_col0\" class=\"data row4 col0\" >0</td>\n",
       "                        <td id=\"T_464f6248_7313_11ec_a035_0242ac1c0002row4_col1\" class=\"data row4 col1\" >107</td>\n",
       "                        <td id=\"T_464f6248_7313_11ec_a035_0242ac1c0002row4_col2\" class=\"data row4 col2\" >253</td>\n",
       "                        <td id=\"T_464f6248_7313_11ec_a035_0242ac1c0002row4_col3\" class=\"data row4 col3\" >253</td>\n",
       "                        <td id=\"T_464f6248_7313_11ec_a035_0242ac1c0002row4_col4\" class=\"data row4 col4\" >230</td>\n",
       "                        <td id=\"T_464f6248_7313_11ec_a035_0242ac1c0002row4_col5\" class=\"data row4 col5\" >48</td>\n",
       "                        <td id=\"T_464f6248_7313_11ec_a035_0242ac1c0002row4_col6\" class=\"data row4 col6\" >0</td>\n",
       "                        <td id=\"T_464f6248_7313_11ec_a035_0242ac1c0002row4_col7\" class=\"data row4 col7\" >0</td>\n",
       "                        <td id=\"T_464f6248_7313_11ec_a035_0242ac1c0002row4_col8\" class=\"data row4 col8\" >0</td>\n",
       "                        <td id=\"T_464f6248_7313_11ec_a035_0242ac1c0002row4_col9\" class=\"data row4 col9\" >0</td>\n",
       "                        <td id=\"T_464f6248_7313_11ec_a035_0242ac1c0002row4_col10\" class=\"data row4 col10\" >0</td>\n",
       "                        <td id=\"T_464f6248_7313_11ec_a035_0242ac1c0002row4_col11\" class=\"data row4 col11\" >192</td>\n",
       "                        <td id=\"T_464f6248_7313_11ec_a035_0242ac1c0002row4_col12\" class=\"data row4 col12\" >253</td>\n",
       "                        <td id=\"T_464f6248_7313_11ec_a035_0242ac1c0002row4_col13\" class=\"data row4 col13\" >253</td>\n",
       "                        <td id=\"T_464f6248_7313_11ec_a035_0242ac1c0002row4_col14\" class=\"data row4 col14\" >156</td>\n",
       "                        <td id=\"T_464f6248_7313_11ec_a035_0242ac1c0002row4_col15\" class=\"data row4 col15\" >0</td>\n",
       "                        <td id=\"T_464f6248_7313_11ec_a035_0242ac1c0002row4_col16\" class=\"data row4 col16\" >0</td>\n",
       "                        <td id=\"T_464f6248_7313_11ec_a035_0242ac1c0002row4_col17\" class=\"data row4 col17\" >0</td>\n",
       "                        <td id=\"T_464f6248_7313_11ec_a035_0242ac1c0002row4_col18\" class=\"data row4 col18\" >0</td>\n",
       "                        <td id=\"T_464f6248_7313_11ec_a035_0242ac1c0002row4_col19\" class=\"data row4 col19\" >0</td>\n",
       "                        <td id=\"T_464f6248_7313_11ec_a035_0242ac1c0002row4_col20\" class=\"data row4 col20\" >0</td>\n",
       "                        <td id=\"T_464f6248_7313_11ec_a035_0242ac1c0002row4_col21\" class=\"data row4 col21\" >0</td>\n",
       "                        <td id=\"T_464f6248_7313_11ec_a035_0242ac1c0002row4_col22\" class=\"data row4 col22\" >0</td>\n",
       "                        <td id=\"T_464f6248_7313_11ec_a035_0242ac1c0002row4_col23\" class=\"data row4 col23\" >0</td>\n",
       "            </tr>\n",
       "            <tr>\n",
       "                        <th id=\"T_464f6248_7313_11ec_a035_0242ac1c0002level0_row5\" class=\"row_heading level0 row5\" >5</th>\n",
       "                        <td id=\"T_464f6248_7313_11ec_a035_0242ac1c0002row5_col0\" class=\"data row5 col0\" >0</td>\n",
       "                        <td id=\"T_464f6248_7313_11ec_a035_0242ac1c0002row5_col1\" class=\"data row5 col1\" >3</td>\n",
       "                        <td id=\"T_464f6248_7313_11ec_a035_0242ac1c0002row5_col2\" class=\"data row5 col2\" >20</td>\n",
       "                        <td id=\"T_464f6248_7313_11ec_a035_0242ac1c0002row5_col3\" class=\"data row5 col3\" >20</td>\n",
       "                        <td id=\"T_464f6248_7313_11ec_a035_0242ac1c0002row5_col4\" class=\"data row5 col4\" >15</td>\n",
       "                        <td id=\"T_464f6248_7313_11ec_a035_0242ac1c0002row5_col5\" class=\"data row5 col5\" >0</td>\n",
       "                        <td id=\"T_464f6248_7313_11ec_a035_0242ac1c0002row5_col6\" class=\"data row5 col6\" >0</td>\n",
       "                        <td id=\"T_464f6248_7313_11ec_a035_0242ac1c0002row5_col7\" class=\"data row5 col7\" >0</td>\n",
       "                        <td id=\"T_464f6248_7313_11ec_a035_0242ac1c0002row5_col8\" class=\"data row5 col8\" >0</td>\n",
       "                        <td id=\"T_464f6248_7313_11ec_a035_0242ac1c0002row5_col9\" class=\"data row5 col9\" >0</td>\n",
       "                        <td id=\"T_464f6248_7313_11ec_a035_0242ac1c0002row5_col10\" class=\"data row5 col10\" >43</td>\n",
       "                        <td id=\"T_464f6248_7313_11ec_a035_0242ac1c0002row5_col11\" class=\"data row5 col11\" >224</td>\n",
       "                        <td id=\"T_464f6248_7313_11ec_a035_0242ac1c0002row5_col12\" class=\"data row5 col12\" >253</td>\n",
       "                        <td id=\"T_464f6248_7313_11ec_a035_0242ac1c0002row5_col13\" class=\"data row5 col13\" >245</td>\n",
       "                        <td id=\"T_464f6248_7313_11ec_a035_0242ac1c0002row5_col14\" class=\"data row5 col14\" >74</td>\n",
       "                        <td id=\"T_464f6248_7313_11ec_a035_0242ac1c0002row5_col15\" class=\"data row5 col15\" >0</td>\n",
       "                        <td id=\"T_464f6248_7313_11ec_a035_0242ac1c0002row5_col16\" class=\"data row5 col16\" >0</td>\n",
       "                        <td id=\"T_464f6248_7313_11ec_a035_0242ac1c0002row5_col17\" class=\"data row5 col17\" >0</td>\n",
       "                        <td id=\"T_464f6248_7313_11ec_a035_0242ac1c0002row5_col18\" class=\"data row5 col18\" >0</td>\n",
       "                        <td id=\"T_464f6248_7313_11ec_a035_0242ac1c0002row5_col19\" class=\"data row5 col19\" >0</td>\n",
       "                        <td id=\"T_464f6248_7313_11ec_a035_0242ac1c0002row5_col20\" class=\"data row5 col20\" >0</td>\n",
       "                        <td id=\"T_464f6248_7313_11ec_a035_0242ac1c0002row5_col21\" class=\"data row5 col21\" >0</td>\n",
       "                        <td id=\"T_464f6248_7313_11ec_a035_0242ac1c0002row5_col22\" class=\"data row5 col22\" >0</td>\n",
       "                        <td id=\"T_464f6248_7313_11ec_a035_0242ac1c0002row5_col23\" class=\"data row5 col23\" >0</td>\n",
       "            </tr>\n",
       "            <tr>\n",
       "                        <th id=\"T_464f6248_7313_11ec_a035_0242ac1c0002level0_row6\" class=\"row_heading level0 row6\" >6</th>\n",
       "                        <td id=\"T_464f6248_7313_11ec_a035_0242ac1c0002row6_col0\" class=\"data row6 col0\" >0</td>\n",
       "                        <td id=\"T_464f6248_7313_11ec_a035_0242ac1c0002row6_col1\" class=\"data row6 col1\" >0</td>\n",
       "                        <td id=\"T_464f6248_7313_11ec_a035_0242ac1c0002row6_col2\" class=\"data row6 col2\" >0</td>\n",
       "                        <td id=\"T_464f6248_7313_11ec_a035_0242ac1c0002row6_col3\" class=\"data row6 col3\" >0</td>\n",
       "                        <td id=\"T_464f6248_7313_11ec_a035_0242ac1c0002row6_col4\" class=\"data row6 col4\" >0</td>\n",
       "                        <td id=\"T_464f6248_7313_11ec_a035_0242ac1c0002row6_col5\" class=\"data row6 col5\" >0</td>\n",
       "                        <td id=\"T_464f6248_7313_11ec_a035_0242ac1c0002row6_col6\" class=\"data row6 col6\" >0</td>\n",
       "                        <td id=\"T_464f6248_7313_11ec_a035_0242ac1c0002row6_col7\" class=\"data row6 col7\" >0</td>\n",
       "                        <td id=\"T_464f6248_7313_11ec_a035_0242ac1c0002row6_col8\" class=\"data row6 col8\" >0</td>\n",
       "                        <td id=\"T_464f6248_7313_11ec_a035_0242ac1c0002row6_col9\" class=\"data row6 col9\" >0</td>\n",
       "                        <td id=\"T_464f6248_7313_11ec_a035_0242ac1c0002row6_col10\" class=\"data row6 col10\" >249</td>\n",
       "                        <td id=\"T_464f6248_7313_11ec_a035_0242ac1c0002row6_col11\" class=\"data row6 col11\" >253</td>\n",
       "                        <td id=\"T_464f6248_7313_11ec_a035_0242ac1c0002row6_col12\" class=\"data row6 col12\" >245</td>\n",
       "                        <td id=\"T_464f6248_7313_11ec_a035_0242ac1c0002row6_col13\" class=\"data row6 col13\" >126</td>\n",
       "                        <td id=\"T_464f6248_7313_11ec_a035_0242ac1c0002row6_col14\" class=\"data row6 col14\" >0</td>\n",
       "                        <td id=\"T_464f6248_7313_11ec_a035_0242ac1c0002row6_col15\" class=\"data row6 col15\" >0</td>\n",
       "                        <td id=\"T_464f6248_7313_11ec_a035_0242ac1c0002row6_col16\" class=\"data row6 col16\" >0</td>\n",
       "                        <td id=\"T_464f6248_7313_11ec_a035_0242ac1c0002row6_col17\" class=\"data row6 col17\" >0</td>\n",
       "                        <td id=\"T_464f6248_7313_11ec_a035_0242ac1c0002row6_col18\" class=\"data row6 col18\" >0</td>\n",
       "                        <td id=\"T_464f6248_7313_11ec_a035_0242ac1c0002row6_col19\" class=\"data row6 col19\" >0</td>\n",
       "                        <td id=\"T_464f6248_7313_11ec_a035_0242ac1c0002row6_col20\" class=\"data row6 col20\" >0</td>\n",
       "                        <td id=\"T_464f6248_7313_11ec_a035_0242ac1c0002row6_col21\" class=\"data row6 col21\" >0</td>\n",
       "                        <td id=\"T_464f6248_7313_11ec_a035_0242ac1c0002row6_col22\" class=\"data row6 col22\" >0</td>\n",
       "                        <td id=\"T_464f6248_7313_11ec_a035_0242ac1c0002row6_col23\" class=\"data row6 col23\" >0</td>\n",
       "            </tr>\n",
       "            <tr>\n",
       "                        <th id=\"T_464f6248_7313_11ec_a035_0242ac1c0002level0_row7\" class=\"row_heading level0 row7\" >7</th>\n",
       "                        <td id=\"T_464f6248_7313_11ec_a035_0242ac1c0002row7_col0\" class=\"data row7 col0\" >0</td>\n",
       "                        <td id=\"T_464f6248_7313_11ec_a035_0242ac1c0002row7_col1\" class=\"data row7 col1\" >0</td>\n",
       "                        <td id=\"T_464f6248_7313_11ec_a035_0242ac1c0002row7_col2\" class=\"data row7 col2\" >0</td>\n",
       "                        <td id=\"T_464f6248_7313_11ec_a035_0242ac1c0002row7_col3\" class=\"data row7 col3\" >0</td>\n",
       "                        <td id=\"T_464f6248_7313_11ec_a035_0242ac1c0002row7_col4\" class=\"data row7 col4\" >0</td>\n",
       "                        <td id=\"T_464f6248_7313_11ec_a035_0242ac1c0002row7_col5\" class=\"data row7 col5\" >0</td>\n",
       "                        <td id=\"T_464f6248_7313_11ec_a035_0242ac1c0002row7_col6\" class=\"data row7 col6\" >0</td>\n",
       "                        <td id=\"T_464f6248_7313_11ec_a035_0242ac1c0002row7_col7\" class=\"data row7 col7\" >14</td>\n",
       "                        <td id=\"T_464f6248_7313_11ec_a035_0242ac1c0002row7_col8\" class=\"data row7 col8\" >101</td>\n",
       "                        <td id=\"T_464f6248_7313_11ec_a035_0242ac1c0002row7_col9\" class=\"data row7 col9\" >223</td>\n",
       "                        <td id=\"T_464f6248_7313_11ec_a035_0242ac1c0002row7_col10\" class=\"data row7 col10\" >253</td>\n",
       "                        <td id=\"T_464f6248_7313_11ec_a035_0242ac1c0002row7_col11\" class=\"data row7 col11\" >248</td>\n",
       "                        <td id=\"T_464f6248_7313_11ec_a035_0242ac1c0002row7_col12\" class=\"data row7 col12\" >124</td>\n",
       "                        <td id=\"T_464f6248_7313_11ec_a035_0242ac1c0002row7_col13\" class=\"data row7 col13\" >0</td>\n",
       "                        <td id=\"T_464f6248_7313_11ec_a035_0242ac1c0002row7_col14\" class=\"data row7 col14\" >0</td>\n",
       "                        <td id=\"T_464f6248_7313_11ec_a035_0242ac1c0002row7_col15\" class=\"data row7 col15\" >0</td>\n",
       "                        <td id=\"T_464f6248_7313_11ec_a035_0242ac1c0002row7_col16\" class=\"data row7 col16\" >0</td>\n",
       "                        <td id=\"T_464f6248_7313_11ec_a035_0242ac1c0002row7_col17\" class=\"data row7 col17\" >0</td>\n",
       "                        <td id=\"T_464f6248_7313_11ec_a035_0242ac1c0002row7_col18\" class=\"data row7 col18\" >0</td>\n",
       "                        <td id=\"T_464f6248_7313_11ec_a035_0242ac1c0002row7_col19\" class=\"data row7 col19\" >0</td>\n",
       "                        <td id=\"T_464f6248_7313_11ec_a035_0242ac1c0002row7_col20\" class=\"data row7 col20\" >0</td>\n",
       "                        <td id=\"T_464f6248_7313_11ec_a035_0242ac1c0002row7_col21\" class=\"data row7 col21\" >0</td>\n",
       "                        <td id=\"T_464f6248_7313_11ec_a035_0242ac1c0002row7_col22\" class=\"data row7 col22\" >0</td>\n",
       "                        <td id=\"T_464f6248_7313_11ec_a035_0242ac1c0002row7_col23\" class=\"data row7 col23\" >0</td>\n",
       "            </tr>\n",
       "            <tr>\n",
       "                        <th id=\"T_464f6248_7313_11ec_a035_0242ac1c0002level0_row8\" class=\"row_heading level0 row8\" >8</th>\n",
       "                        <td id=\"T_464f6248_7313_11ec_a035_0242ac1c0002row8_col0\" class=\"data row8 col0\" >0</td>\n",
       "                        <td id=\"T_464f6248_7313_11ec_a035_0242ac1c0002row8_col1\" class=\"data row8 col1\" >0</td>\n",
       "                        <td id=\"T_464f6248_7313_11ec_a035_0242ac1c0002row8_col2\" class=\"data row8 col2\" >0</td>\n",
       "                        <td id=\"T_464f6248_7313_11ec_a035_0242ac1c0002row8_col3\" class=\"data row8 col3\" >0</td>\n",
       "                        <td id=\"T_464f6248_7313_11ec_a035_0242ac1c0002row8_col4\" class=\"data row8 col4\" >0</td>\n",
       "                        <td id=\"T_464f6248_7313_11ec_a035_0242ac1c0002row8_col5\" class=\"data row8 col5\" >11</td>\n",
       "                        <td id=\"T_464f6248_7313_11ec_a035_0242ac1c0002row8_col6\" class=\"data row8 col6\" >166</td>\n",
       "                        <td id=\"T_464f6248_7313_11ec_a035_0242ac1c0002row8_col7\" class=\"data row8 col7\" >239</td>\n",
       "                        <td id=\"T_464f6248_7313_11ec_a035_0242ac1c0002row8_col8\" class=\"data row8 col8\" >253</td>\n",
       "                        <td id=\"T_464f6248_7313_11ec_a035_0242ac1c0002row8_col9\" class=\"data row8 col9\" >253</td>\n",
       "                        <td id=\"T_464f6248_7313_11ec_a035_0242ac1c0002row8_col10\" class=\"data row8 col10\" >253</td>\n",
       "                        <td id=\"T_464f6248_7313_11ec_a035_0242ac1c0002row8_col11\" class=\"data row8 col11\" >187</td>\n",
       "                        <td id=\"T_464f6248_7313_11ec_a035_0242ac1c0002row8_col12\" class=\"data row8 col12\" >30</td>\n",
       "                        <td id=\"T_464f6248_7313_11ec_a035_0242ac1c0002row8_col13\" class=\"data row8 col13\" >0</td>\n",
       "                        <td id=\"T_464f6248_7313_11ec_a035_0242ac1c0002row8_col14\" class=\"data row8 col14\" >0</td>\n",
       "                        <td id=\"T_464f6248_7313_11ec_a035_0242ac1c0002row8_col15\" class=\"data row8 col15\" >0</td>\n",
       "                        <td id=\"T_464f6248_7313_11ec_a035_0242ac1c0002row8_col16\" class=\"data row8 col16\" >0</td>\n",
       "                        <td id=\"T_464f6248_7313_11ec_a035_0242ac1c0002row8_col17\" class=\"data row8 col17\" >0</td>\n",
       "                        <td id=\"T_464f6248_7313_11ec_a035_0242ac1c0002row8_col18\" class=\"data row8 col18\" >0</td>\n",
       "                        <td id=\"T_464f6248_7313_11ec_a035_0242ac1c0002row8_col19\" class=\"data row8 col19\" >0</td>\n",
       "                        <td id=\"T_464f6248_7313_11ec_a035_0242ac1c0002row8_col20\" class=\"data row8 col20\" >0</td>\n",
       "                        <td id=\"T_464f6248_7313_11ec_a035_0242ac1c0002row8_col21\" class=\"data row8 col21\" >0</td>\n",
       "                        <td id=\"T_464f6248_7313_11ec_a035_0242ac1c0002row8_col22\" class=\"data row8 col22\" >0</td>\n",
       "                        <td id=\"T_464f6248_7313_11ec_a035_0242ac1c0002row8_col23\" class=\"data row8 col23\" >0</td>\n",
       "            </tr>\n",
       "            <tr>\n",
       "                        <th id=\"T_464f6248_7313_11ec_a035_0242ac1c0002level0_row9\" class=\"row_heading level0 row9\" >9</th>\n",
       "                        <td id=\"T_464f6248_7313_11ec_a035_0242ac1c0002row9_col0\" class=\"data row9 col0\" >0</td>\n",
       "                        <td id=\"T_464f6248_7313_11ec_a035_0242ac1c0002row9_col1\" class=\"data row9 col1\" >0</td>\n",
       "                        <td id=\"T_464f6248_7313_11ec_a035_0242ac1c0002row9_col2\" class=\"data row9 col2\" >0</td>\n",
       "                        <td id=\"T_464f6248_7313_11ec_a035_0242ac1c0002row9_col3\" class=\"data row9 col3\" >0</td>\n",
       "                        <td id=\"T_464f6248_7313_11ec_a035_0242ac1c0002row9_col4\" class=\"data row9 col4\" >0</td>\n",
       "                        <td id=\"T_464f6248_7313_11ec_a035_0242ac1c0002row9_col5\" class=\"data row9 col5\" >16</td>\n",
       "                        <td id=\"T_464f6248_7313_11ec_a035_0242ac1c0002row9_col6\" class=\"data row9 col6\" >248</td>\n",
       "                        <td id=\"T_464f6248_7313_11ec_a035_0242ac1c0002row9_col7\" class=\"data row9 col7\" >250</td>\n",
       "                        <td id=\"T_464f6248_7313_11ec_a035_0242ac1c0002row9_col8\" class=\"data row9 col8\" >253</td>\n",
       "                        <td id=\"T_464f6248_7313_11ec_a035_0242ac1c0002row9_col9\" class=\"data row9 col9\" >253</td>\n",
       "                        <td id=\"T_464f6248_7313_11ec_a035_0242ac1c0002row9_col10\" class=\"data row9 col10\" >253</td>\n",
       "                        <td id=\"T_464f6248_7313_11ec_a035_0242ac1c0002row9_col11\" class=\"data row9 col11\" >253</td>\n",
       "                        <td id=\"T_464f6248_7313_11ec_a035_0242ac1c0002row9_col12\" class=\"data row9 col12\" >232</td>\n",
       "                        <td id=\"T_464f6248_7313_11ec_a035_0242ac1c0002row9_col13\" class=\"data row9 col13\" >213</td>\n",
       "                        <td id=\"T_464f6248_7313_11ec_a035_0242ac1c0002row9_col14\" class=\"data row9 col14\" >111</td>\n",
       "                        <td id=\"T_464f6248_7313_11ec_a035_0242ac1c0002row9_col15\" class=\"data row9 col15\" >2</td>\n",
       "                        <td id=\"T_464f6248_7313_11ec_a035_0242ac1c0002row9_col16\" class=\"data row9 col16\" >0</td>\n",
       "                        <td id=\"T_464f6248_7313_11ec_a035_0242ac1c0002row9_col17\" class=\"data row9 col17\" >0</td>\n",
       "                        <td id=\"T_464f6248_7313_11ec_a035_0242ac1c0002row9_col18\" class=\"data row9 col18\" >0</td>\n",
       "                        <td id=\"T_464f6248_7313_11ec_a035_0242ac1c0002row9_col19\" class=\"data row9 col19\" >0</td>\n",
       "                        <td id=\"T_464f6248_7313_11ec_a035_0242ac1c0002row9_col20\" class=\"data row9 col20\" >0</td>\n",
       "                        <td id=\"T_464f6248_7313_11ec_a035_0242ac1c0002row9_col21\" class=\"data row9 col21\" >0</td>\n",
       "                        <td id=\"T_464f6248_7313_11ec_a035_0242ac1c0002row9_col22\" class=\"data row9 col22\" >0</td>\n",
       "                        <td id=\"T_464f6248_7313_11ec_a035_0242ac1c0002row9_col23\" class=\"data row9 col23\" >0</td>\n",
       "            </tr>\n",
       "            <tr>\n",
       "                        <th id=\"T_464f6248_7313_11ec_a035_0242ac1c0002level0_row10\" class=\"row_heading level0 row10\" >10</th>\n",
       "                        <td id=\"T_464f6248_7313_11ec_a035_0242ac1c0002row10_col0\" class=\"data row10 col0\" >0</td>\n",
       "                        <td id=\"T_464f6248_7313_11ec_a035_0242ac1c0002row10_col1\" class=\"data row10 col1\" >0</td>\n",
       "                        <td id=\"T_464f6248_7313_11ec_a035_0242ac1c0002row10_col2\" class=\"data row10 col2\" >0</td>\n",
       "                        <td id=\"T_464f6248_7313_11ec_a035_0242ac1c0002row10_col3\" class=\"data row10 col3\" >0</td>\n",
       "                        <td id=\"T_464f6248_7313_11ec_a035_0242ac1c0002row10_col4\" class=\"data row10 col4\" >0</td>\n",
       "                        <td id=\"T_464f6248_7313_11ec_a035_0242ac1c0002row10_col5\" class=\"data row10 col5\" >0</td>\n",
       "                        <td id=\"T_464f6248_7313_11ec_a035_0242ac1c0002row10_col6\" class=\"data row10 col6\" >0</td>\n",
       "                        <td id=\"T_464f6248_7313_11ec_a035_0242ac1c0002row10_col7\" class=\"data row10 col7\" >43</td>\n",
       "                        <td id=\"T_464f6248_7313_11ec_a035_0242ac1c0002row10_col8\" class=\"data row10 col8\" >98</td>\n",
       "                        <td id=\"T_464f6248_7313_11ec_a035_0242ac1c0002row10_col9\" class=\"data row10 col9\" >98</td>\n",
       "                        <td id=\"T_464f6248_7313_11ec_a035_0242ac1c0002row10_col10\" class=\"data row10 col10\" >208</td>\n",
       "                        <td id=\"T_464f6248_7313_11ec_a035_0242ac1c0002row10_col11\" class=\"data row10 col11\" >253</td>\n",
       "                        <td id=\"T_464f6248_7313_11ec_a035_0242ac1c0002row10_col12\" class=\"data row10 col12\" >253</td>\n",
       "                        <td id=\"T_464f6248_7313_11ec_a035_0242ac1c0002row10_col13\" class=\"data row10 col13\" >253</td>\n",
       "                        <td id=\"T_464f6248_7313_11ec_a035_0242ac1c0002row10_col14\" class=\"data row10 col14\" >253</td>\n",
       "                        <td id=\"T_464f6248_7313_11ec_a035_0242ac1c0002row10_col15\" class=\"data row10 col15\" >187</td>\n",
       "                        <td id=\"T_464f6248_7313_11ec_a035_0242ac1c0002row10_col16\" class=\"data row10 col16\" >22</td>\n",
       "                        <td id=\"T_464f6248_7313_11ec_a035_0242ac1c0002row10_col17\" class=\"data row10 col17\" >0</td>\n",
       "                        <td id=\"T_464f6248_7313_11ec_a035_0242ac1c0002row10_col18\" class=\"data row10 col18\" >0</td>\n",
       "                        <td id=\"T_464f6248_7313_11ec_a035_0242ac1c0002row10_col19\" class=\"data row10 col19\" >0</td>\n",
       "                        <td id=\"T_464f6248_7313_11ec_a035_0242ac1c0002row10_col20\" class=\"data row10 col20\" >0</td>\n",
       "                        <td id=\"T_464f6248_7313_11ec_a035_0242ac1c0002row10_col21\" class=\"data row10 col21\" >0</td>\n",
       "                        <td id=\"T_464f6248_7313_11ec_a035_0242ac1c0002row10_col22\" class=\"data row10 col22\" >0</td>\n",
       "                        <td id=\"T_464f6248_7313_11ec_a035_0242ac1c0002row10_col23\" class=\"data row10 col23\" >0</td>\n",
       "            </tr>\n",
       "            <tr>\n",
       "                        <th id=\"T_464f6248_7313_11ec_a035_0242ac1c0002level0_row11\" class=\"row_heading level0 row11\" >11</th>\n",
       "                        <td id=\"T_464f6248_7313_11ec_a035_0242ac1c0002row11_col0\" class=\"data row11 col0\" >0</td>\n",
       "                        <td id=\"T_464f6248_7313_11ec_a035_0242ac1c0002row11_col1\" class=\"data row11 col1\" >0</td>\n",
       "                        <td id=\"T_464f6248_7313_11ec_a035_0242ac1c0002row11_col2\" class=\"data row11 col2\" >0</td>\n",
       "                        <td id=\"T_464f6248_7313_11ec_a035_0242ac1c0002row11_col3\" class=\"data row11 col3\" >0</td>\n",
       "                        <td id=\"T_464f6248_7313_11ec_a035_0242ac1c0002row11_col4\" class=\"data row11 col4\" >0</td>\n",
       "                        <td id=\"T_464f6248_7313_11ec_a035_0242ac1c0002row11_col5\" class=\"data row11 col5\" >0</td>\n",
       "                        <td id=\"T_464f6248_7313_11ec_a035_0242ac1c0002row11_col6\" class=\"data row11 col6\" >0</td>\n",
       "                        <td id=\"T_464f6248_7313_11ec_a035_0242ac1c0002row11_col7\" class=\"data row11 col7\" >0</td>\n",
       "                        <td id=\"T_464f6248_7313_11ec_a035_0242ac1c0002row11_col8\" class=\"data row11 col8\" >0</td>\n",
       "                        <td id=\"T_464f6248_7313_11ec_a035_0242ac1c0002row11_col9\" class=\"data row11 col9\" >0</td>\n",
       "                        <td id=\"T_464f6248_7313_11ec_a035_0242ac1c0002row11_col10\" class=\"data row11 col10\" >9</td>\n",
       "                        <td id=\"T_464f6248_7313_11ec_a035_0242ac1c0002row11_col11\" class=\"data row11 col11\" >51</td>\n",
       "                        <td id=\"T_464f6248_7313_11ec_a035_0242ac1c0002row11_col12\" class=\"data row11 col12\" >119</td>\n",
       "                        <td id=\"T_464f6248_7313_11ec_a035_0242ac1c0002row11_col13\" class=\"data row11 col13\" >253</td>\n",
       "                        <td id=\"T_464f6248_7313_11ec_a035_0242ac1c0002row11_col14\" class=\"data row11 col14\" >253</td>\n",
       "                        <td id=\"T_464f6248_7313_11ec_a035_0242ac1c0002row11_col15\" class=\"data row11 col15\" >253</td>\n",
       "                        <td id=\"T_464f6248_7313_11ec_a035_0242ac1c0002row11_col16\" class=\"data row11 col16\" >76</td>\n",
       "                        <td id=\"T_464f6248_7313_11ec_a035_0242ac1c0002row11_col17\" class=\"data row11 col17\" >0</td>\n",
       "                        <td id=\"T_464f6248_7313_11ec_a035_0242ac1c0002row11_col18\" class=\"data row11 col18\" >0</td>\n",
       "                        <td id=\"T_464f6248_7313_11ec_a035_0242ac1c0002row11_col19\" class=\"data row11 col19\" >0</td>\n",
       "                        <td id=\"T_464f6248_7313_11ec_a035_0242ac1c0002row11_col20\" class=\"data row11 col20\" >0</td>\n",
       "                        <td id=\"T_464f6248_7313_11ec_a035_0242ac1c0002row11_col21\" class=\"data row11 col21\" >0</td>\n",
       "                        <td id=\"T_464f6248_7313_11ec_a035_0242ac1c0002row11_col22\" class=\"data row11 col22\" >0</td>\n",
       "                        <td id=\"T_464f6248_7313_11ec_a035_0242ac1c0002row11_col23\" class=\"data row11 col23\" >0</td>\n",
       "            </tr>\n",
       "            <tr>\n",
       "                        <th id=\"T_464f6248_7313_11ec_a035_0242ac1c0002level0_row12\" class=\"row_heading level0 row12\" >12</th>\n",
       "                        <td id=\"T_464f6248_7313_11ec_a035_0242ac1c0002row12_col0\" class=\"data row12 col0\" >0</td>\n",
       "                        <td id=\"T_464f6248_7313_11ec_a035_0242ac1c0002row12_col1\" class=\"data row12 col1\" >0</td>\n",
       "                        <td id=\"T_464f6248_7313_11ec_a035_0242ac1c0002row12_col2\" class=\"data row12 col2\" >0</td>\n",
       "                        <td id=\"T_464f6248_7313_11ec_a035_0242ac1c0002row12_col3\" class=\"data row12 col3\" >0</td>\n",
       "                        <td id=\"T_464f6248_7313_11ec_a035_0242ac1c0002row12_col4\" class=\"data row12 col4\" >0</td>\n",
       "                        <td id=\"T_464f6248_7313_11ec_a035_0242ac1c0002row12_col5\" class=\"data row12 col5\" >0</td>\n",
       "                        <td id=\"T_464f6248_7313_11ec_a035_0242ac1c0002row12_col6\" class=\"data row12 col6\" >0</td>\n",
       "                        <td id=\"T_464f6248_7313_11ec_a035_0242ac1c0002row12_col7\" class=\"data row12 col7\" >0</td>\n",
       "                        <td id=\"T_464f6248_7313_11ec_a035_0242ac1c0002row12_col8\" class=\"data row12 col8\" >0</td>\n",
       "                        <td id=\"T_464f6248_7313_11ec_a035_0242ac1c0002row12_col9\" class=\"data row12 col9\" >0</td>\n",
       "                        <td id=\"T_464f6248_7313_11ec_a035_0242ac1c0002row12_col10\" class=\"data row12 col10\" >0</td>\n",
       "                        <td id=\"T_464f6248_7313_11ec_a035_0242ac1c0002row12_col11\" class=\"data row12 col11\" >0</td>\n",
       "                        <td id=\"T_464f6248_7313_11ec_a035_0242ac1c0002row12_col12\" class=\"data row12 col12\" >1</td>\n",
       "                        <td id=\"T_464f6248_7313_11ec_a035_0242ac1c0002row12_col13\" class=\"data row12 col13\" >183</td>\n",
       "                        <td id=\"T_464f6248_7313_11ec_a035_0242ac1c0002row12_col14\" class=\"data row12 col14\" >253</td>\n",
       "                        <td id=\"T_464f6248_7313_11ec_a035_0242ac1c0002row12_col15\" class=\"data row12 col15\" >253</td>\n",
       "                        <td id=\"T_464f6248_7313_11ec_a035_0242ac1c0002row12_col16\" class=\"data row12 col16\" >139</td>\n",
       "                        <td id=\"T_464f6248_7313_11ec_a035_0242ac1c0002row12_col17\" class=\"data row12 col17\" >0</td>\n",
       "                        <td id=\"T_464f6248_7313_11ec_a035_0242ac1c0002row12_col18\" class=\"data row12 col18\" >0</td>\n",
       "                        <td id=\"T_464f6248_7313_11ec_a035_0242ac1c0002row12_col19\" class=\"data row12 col19\" >0</td>\n",
       "                        <td id=\"T_464f6248_7313_11ec_a035_0242ac1c0002row12_col20\" class=\"data row12 col20\" >0</td>\n",
       "                        <td id=\"T_464f6248_7313_11ec_a035_0242ac1c0002row12_col21\" class=\"data row12 col21\" >0</td>\n",
       "                        <td id=\"T_464f6248_7313_11ec_a035_0242ac1c0002row12_col22\" class=\"data row12 col22\" >0</td>\n",
       "                        <td id=\"T_464f6248_7313_11ec_a035_0242ac1c0002row12_col23\" class=\"data row12 col23\" >0</td>\n",
       "            </tr>\n",
       "            <tr>\n",
       "                        <th id=\"T_464f6248_7313_11ec_a035_0242ac1c0002level0_row13\" class=\"row_heading level0 row13\" >13</th>\n",
       "                        <td id=\"T_464f6248_7313_11ec_a035_0242ac1c0002row13_col0\" class=\"data row13 col0\" >0</td>\n",
       "                        <td id=\"T_464f6248_7313_11ec_a035_0242ac1c0002row13_col1\" class=\"data row13 col1\" >0</td>\n",
       "                        <td id=\"T_464f6248_7313_11ec_a035_0242ac1c0002row13_col2\" class=\"data row13 col2\" >0</td>\n",
       "                        <td id=\"T_464f6248_7313_11ec_a035_0242ac1c0002row13_col3\" class=\"data row13 col3\" >0</td>\n",
       "                        <td id=\"T_464f6248_7313_11ec_a035_0242ac1c0002row13_col4\" class=\"data row13 col4\" >0</td>\n",
       "                        <td id=\"T_464f6248_7313_11ec_a035_0242ac1c0002row13_col5\" class=\"data row13 col5\" >0</td>\n",
       "                        <td id=\"T_464f6248_7313_11ec_a035_0242ac1c0002row13_col6\" class=\"data row13 col6\" >0</td>\n",
       "                        <td id=\"T_464f6248_7313_11ec_a035_0242ac1c0002row13_col7\" class=\"data row13 col7\" >0</td>\n",
       "                        <td id=\"T_464f6248_7313_11ec_a035_0242ac1c0002row13_col8\" class=\"data row13 col8\" >0</td>\n",
       "                        <td id=\"T_464f6248_7313_11ec_a035_0242ac1c0002row13_col9\" class=\"data row13 col9\" >0</td>\n",
       "                        <td id=\"T_464f6248_7313_11ec_a035_0242ac1c0002row13_col10\" class=\"data row13 col10\" >0</td>\n",
       "                        <td id=\"T_464f6248_7313_11ec_a035_0242ac1c0002row13_col11\" class=\"data row13 col11\" >0</td>\n",
       "                        <td id=\"T_464f6248_7313_11ec_a035_0242ac1c0002row13_col12\" class=\"data row13 col12\" >0</td>\n",
       "                        <td id=\"T_464f6248_7313_11ec_a035_0242ac1c0002row13_col13\" class=\"data row13 col13\" >182</td>\n",
       "                        <td id=\"T_464f6248_7313_11ec_a035_0242ac1c0002row13_col14\" class=\"data row13 col14\" >253</td>\n",
       "                        <td id=\"T_464f6248_7313_11ec_a035_0242ac1c0002row13_col15\" class=\"data row13 col15\" >253</td>\n",
       "                        <td id=\"T_464f6248_7313_11ec_a035_0242ac1c0002row13_col16\" class=\"data row13 col16\" >104</td>\n",
       "                        <td id=\"T_464f6248_7313_11ec_a035_0242ac1c0002row13_col17\" class=\"data row13 col17\" >0</td>\n",
       "                        <td id=\"T_464f6248_7313_11ec_a035_0242ac1c0002row13_col18\" class=\"data row13 col18\" >0</td>\n",
       "                        <td id=\"T_464f6248_7313_11ec_a035_0242ac1c0002row13_col19\" class=\"data row13 col19\" >0</td>\n",
       "                        <td id=\"T_464f6248_7313_11ec_a035_0242ac1c0002row13_col20\" class=\"data row13 col20\" >0</td>\n",
       "                        <td id=\"T_464f6248_7313_11ec_a035_0242ac1c0002row13_col21\" class=\"data row13 col21\" >0</td>\n",
       "                        <td id=\"T_464f6248_7313_11ec_a035_0242ac1c0002row13_col22\" class=\"data row13 col22\" >0</td>\n",
       "                        <td id=\"T_464f6248_7313_11ec_a035_0242ac1c0002row13_col23\" class=\"data row13 col23\" >0</td>\n",
       "            </tr>\n",
       "            <tr>\n",
       "                        <th id=\"T_464f6248_7313_11ec_a035_0242ac1c0002level0_row14\" class=\"row_heading level0 row14\" >14</th>\n",
       "                        <td id=\"T_464f6248_7313_11ec_a035_0242ac1c0002row14_col0\" class=\"data row14 col0\" >0</td>\n",
       "                        <td id=\"T_464f6248_7313_11ec_a035_0242ac1c0002row14_col1\" class=\"data row14 col1\" >0</td>\n",
       "                        <td id=\"T_464f6248_7313_11ec_a035_0242ac1c0002row14_col2\" class=\"data row14 col2\" >0</td>\n",
       "                        <td id=\"T_464f6248_7313_11ec_a035_0242ac1c0002row14_col3\" class=\"data row14 col3\" >0</td>\n",
       "                        <td id=\"T_464f6248_7313_11ec_a035_0242ac1c0002row14_col4\" class=\"data row14 col4\" >0</td>\n",
       "                        <td id=\"T_464f6248_7313_11ec_a035_0242ac1c0002row14_col5\" class=\"data row14 col5\" >0</td>\n",
       "                        <td id=\"T_464f6248_7313_11ec_a035_0242ac1c0002row14_col6\" class=\"data row14 col6\" >0</td>\n",
       "                        <td id=\"T_464f6248_7313_11ec_a035_0242ac1c0002row14_col7\" class=\"data row14 col7\" >0</td>\n",
       "                        <td id=\"T_464f6248_7313_11ec_a035_0242ac1c0002row14_col8\" class=\"data row14 col8\" >0</td>\n",
       "                        <td id=\"T_464f6248_7313_11ec_a035_0242ac1c0002row14_col9\" class=\"data row14 col9\" >0</td>\n",
       "                        <td id=\"T_464f6248_7313_11ec_a035_0242ac1c0002row14_col10\" class=\"data row14 col10\" >0</td>\n",
       "                        <td id=\"T_464f6248_7313_11ec_a035_0242ac1c0002row14_col11\" class=\"data row14 col11\" >0</td>\n",
       "                        <td id=\"T_464f6248_7313_11ec_a035_0242ac1c0002row14_col12\" class=\"data row14 col12\" >85</td>\n",
       "                        <td id=\"T_464f6248_7313_11ec_a035_0242ac1c0002row14_col13\" class=\"data row14 col13\" >249</td>\n",
       "                        <td id=\"T_464f6248_7313_11ec_a035_0242ac1c0002row14_col14\" class=\"data row14 col14\" >253</td>\n",
       "                        <td id=\"T_464f6248_7313_11ec_a035_0242ac1c0002row14_col15\" class=\"data row14 col15\" >253</td>\n",
       "                        <td id=\"T_464f6248_7313_11ec_a035_0242ac1c0002row14_col16\" class=\"data row14 col16\" >36</td>\n",
       "                        <td id=\"T_464f6248_7313_11ec_a035_0242ac1c0002row14_col17\" class=\"data row14 col17\" >0</td>\n",
       "                        <td id=\"T_464f6248_7313_11ec_a035_0242ac1c0002row14_col18\" class=\"data row14 col18\" >0</td>\n",
       "                        <td id=\"T_464f6248_7313_11ec_a035_0242ac1c0002row14_col19\" class=\"data row14 col19\" >0</td>\n",
       "                        <td id=\"T_464f6248_7313_11ec_a035_0242ac1c0002row14_col20\" class=\"data row14 col20\" >0</td>\n",
       "                        <td id=\"T_464f6248_7313_11ec_a035_0242ac1c0002row14_col21\" class=\"data row14 col21\" >0</td>\n",
       "                        <td id=\"T_464f6248_7313_11ec_a035_0242ac1c0002row14_col22\" class=\"data row14 col22\" >0</td>\n",
       "                        <td id=\"T_464f6248_7313_11ec_a035_0242ac1c0002row14_col23\" class=\"data row14 col23\" >0</td>\n",
       "            </tr>\n",
       "            <tr>\n",
       "                        <th id=\"T_464f6248_7313_11ec_a035_0242ac1c0002level0_row15\" class=\"row_heading level0 row15\" >15</th>\n",
       "                        <td id=\"T_464f6248_7313_11ec_a035_0242ac1c0002row15_col0\" class=\"data row15 col0\" >0</td>\n",
       "                        <td id=\"T_464f6248_7313_11ec_a035_0242ac1c0002row15_col1\" class=\"data row15 col1\" >0</td>\n",
       "                        <td id=\"T_464f6248_7313_11ec_a035_0242ac1c0002row15_col2\" class=\"data row15 col2\" >0</td>\n",
       "                        <td id=\"T_464f6248_7313_11ec_a035_0242ac1c0002row15_col3\" class=\"data row15 col3\" >0</td>\n",
       "                        <td id=\"T_464f6248_7313_11ec_a035_0242ac1c0002row15_col4\" class=\"data row15 col4\" >0</td>\n",
       "                        <td id=\"T_464f6248_7313_11ec_a035_0242ac1c0002row15_col5\" class=\"data row15 col5\" >0</td>\n",
       "                        <td id=\"T_464f6248_7313_11ec_a035_0242ac1c0002row15_col6\" class=\"data row15 col6\" >0</td>\n",
       "                        <td id=\"T_464f6248_7313_11ec_a035_0242ac1c0002row15_col7\" class=\"data row15 col7\" >0</td>\n",
       "                        <td id=\"T_464f6248_7313_11ec_a035_0242ac1c0002row15_col8\" class=\"data row15 col8\" >0</td>\n",
       "                        <td id=\"T_464f6248_7313_11ec_a035_0242ac1c0002row15_col9\" class=\"data row15 col9\" >0</td>\n",
       "                        <td id=\"T_464f6248_7313_11ec_a035_0242ac1c0002row15_col10\" class=\"data row15 col10\" >0</td>\n",
       "                        <td id=\"T_464f6248_7313_11ec_a035_0242ac1c0002row15_col11\" class=\"data row15 col11\" >60</td>\n",
       "                        <td id=\"T_464f6248_7313_11ec_a035_0242ac1c0002row15_col12\" class=\"data row15 col12\" >214</td>\n",
       "                        <td id=\"T_464f6248_7313_11ec_a035_0242ac1c0002row15_col13\" class=\"data row15 col13\" >253</td>\n",
       "                        <td id=\"T_464f6248_7313_11ec_a035_0242ac1c0002row15_col14\" class=\"data row15 col14\" >253</td>\n",
       "                        <td id=\"T_464f6248_7313_11ec_a035_0242ac1c0002row15_col15\" class=\"data row15 col15\" >173</td>\n",
       "                        <td id=\"T_464f6248_7313_11ec_a035_0242ac1c0002row15_col16\" class=\"data row15 col16\" >11</td>\n",
       "                        <td id=\"T_464f6248_7313_11ec_a035_0242ac1c0002row15_col17\" class=\"data row15 col17\" >0</td>\n",
       "                        <td id=\"T_464f6248_7313_11ec_a035_0242ac1c0002row15_col18\" class=\"data row15 col18\" >0</td>\n",
       "                        <td id=\"T_464f6248_7313_11ec_a035_0242ac1c0002row15_col19\" class=\"data row15 col19\" >0</td>\n",
       "                        <td id=\"T_464f6248_7313_11ec_a035_0242ac1c0002row15_col20\" class=\"data row15 col20\" >0</td>\n",
       "                        <td id=\"T_464f6248_7313_11ec_a035_0242ac1c0002row15_col21\" class=\"data row15 col21\" >0</td>\n",
       "                        <td id=\"T_464f6248_7313_11ec_a035_0242ac1c0002row15_col22\" class=\"data row15 col22\" >0</td>\n",
       "                        <td id=\"T_464f6248_7313_11ec_a035_0242ac1c0002row15_col23\" class=\"data row15 col23\" >0</td>\n",
       "            </tr>\n",
       "            <tr>\n",
       "                        <th id=\"T_464f6248_7313_11ec_a035_0242ac1c0002level0_row16\" class=\"row_heading level0 row16\" >16</th>\n",
       "                        <td id=\"T_464f6248_7313_11ec_a035_0242ac1c0002row16_col0\" class=\"data row16 col0\" >0</td>\n",
       "                        <td id=\"T_464f6248_7313_11ec_a035_0242ac1c0002row16_col1\" class=\"data row16 col1\" >0</td>\n",
       "                        <td id=\"T_464f6248_7313_11ec_a035_0242ac1c0002row16_col2\" class=\"data row16 col2\" >0</td>\n",
       "                        <td id=\"T_464f6248_7313_11ec_a035_0242ac1c0002row16_col3\" class=\"data row16 col3\" >0</td>\n",
       "                        <td id=\"T_464f6248_7313_11ec_a035_0242ac1c0002row16_col4\" class=\"data row16 col4\" >0</td>\n",
       "                        <td id=\"T_464f6248_7313_11ec_a035_0242ac1c0002row16_col5\" class=\"data row16 col5\" >0</td>\n",
       "                        <td id=\"T_464f6248_7313_11ec_a035_0242ac1c0002row16_col6\" class=\"data row16 col6\" >0</td>\n",
       "                        <td id=\"T_464f6248_7313_11ec_a035_0242ac1c0002row16_col7\" class=\"data row16 col7\" >0</td>\n",
       "                        <td id=\"T_464f6248_7313_11ec_a035_0242ac1c0002row16_col8\" class=\"data row16 col8\" >0</td>\n",
       "                        <td id=\"T_464f6248_7313_11ec_a035_0242ac1c0002row16_col9\" class=\"data row16 col9\" >0</td>\n",
       "                        <td id=\"T_464f6248_7313_11ec_a035_0242ac1c0002row16_col10\" class=\"data row16 col10\" >98</td>\n",
       "                        <td id=\"T_464f6248_7313_11ec_a035_0242ac1c0002row16_col11\" class=\"data row16 col11\" >247</td>\n",
       "                        <td id=\"T_464f6248_7313_11ec_a035_0242ac1c0002row16_col12\" class=\"data row16 col12\" >253</td>\n",
       "                        <td id=\"T_464f6248_7313_11ec_a035_0242ac1c0002row16_col13\" class=\"data row16 col13\" >253</td>\n",
       "                        <td id=\"T_464f6248_7313_11ec_a035_0242ac1c0002row16_col14\" class=\"data row16 col14\" >226</td>\n",
       "                        <td id=\"T_464f6248_7313_11ec_a035_0242ac1c0002row16_col15\" class=\"data row16 col15\" >9</td>\n",
       "                        <td id=\"T_464f6248_7313_11ec_a035_0242ac1c0002row16_col16\" class=\"data row16 col16\" >0</td>\n",
       "                        <td id=\"T_464f6248_7313_11ec_a035_0242ac1c0002row16_col17\" class=\"data row16 col17\" >0</td>\n",
       "                        <td id=\"T_464f6248_7313_11ec_a035_0242ac1c0002row16_col18\" class=\"data row16 col18\" >0</td>\n",
       "                        <td id=\"T_464f6248_7313_11ec_a035_0242ac1c0002row16_col19\" class=\"data row16 col19\" >0</td>\n",
       "                        <td id=\"T_464f6248_7313_11ec_a035_0242ac1c0002row16_col20\" class=\"data row16 col20\" >0</td>\n",
       "                        <td id=\"T_464f6248_7313_11ec_a035_0242ac1c0002row16_col21\" class=\"data row16 col21\" >0</td>\n",
       "                        <td id=\"T_464f6248_7313_11ec_a035_0242ac1c0002row16_col22\" class=\"data row16 col22\" >0</td>\n",
       "                        <td id=\"T_464f6248_7313_11ec_a035_0242ac1c0002row16_col23\" class=\"data row16 col23\" >0</td>\n",
       "            </tr>\n",
       "            <tr>\n",
       "                        <th id=\"T_464f6248_7313_11ec_a035_0242ac1c0002level0_row17\" class=\"row_heading level0 row17\" >17</th>\n",
       "                        <td id=\"T_464f6248_7313_11ec_a035_0242ac1c0002row17_col0\" class=\"data row17 col0\" >0</td>\n",
       "                        <td id=\"T_464f6248_7313_11ec_a035_0242ac1c0002row17_col1\" class=\"data row17 col1\" >0</td>\n",
       "                        <td id=\"T_464f6248_7313_11ec_a035_0242ac1c0002row17_col2\" class=\"data row17 col2\" >0</td>\n",
       "                        <td id=\"T_464f6248_7313_11ec_a035_0242ac1c0002row17_col3\" class=\"data row17 col3\" >0</td>\n",
       "                        <td id=\"T_464f6248_7313_11ec_a035_0242ac1c0002row17_col4\" class=\"data row17 col4\" >0</td>\n",
       "                        <td id=\"T_464f6248_7313_11ec_a035_0242ac1c0002row17_col5\" class=\"data row17 col5\" >0</td>\n",
       "                        <td id=\"T_464f6248_7313_11ec_a035_0242ac1c0002row17_col6\" class=\"data row17 col6\" >0</td>\n",
       "                        <td id=\"T_464f6248_7313_11ec_a035_0242ac1c0002row17_col7\" class=\"data row17 col7\" >0</td>\n",
       "                        <td id=\"T_464f6248_7313_11ec_a035_0242ac1c0002row17_col8\" class=\"data row17 col8\" >42</td>\n",
       "                        <td id=\"T_464f6248_7313_11ec_a035_0242ac1c0002row17_col9\" class=\"data row17 col9\" >150</td>\n",
       "                        <td id=\"T_464f6248_7313_11ec_a035_0242ac1c0002row17_col10\" class=\"data row17 col10\" >252</td>\n",
       "                        <td id=\"T_464f6248_7313_11ec_a035_0242ac1c0002row17_col11\" class=\"data row17 col11\" >253</td>\n",
       "                        <td id=\"T_464f6248_7313_11ec_a035_0242ac1c0002row17_col12\" class=\"data row17 col12\" >253</td>\n",
       "                        <td id=\"T_464f6248_7313_11ec_a035_0242ac1c0002row17_col13\" class=\"data row17 col13\" >233</td>\n",
       "                        <td id=\"T_464f6248_7313_11ec_a035_0242ac1c0002row17_col14\" class=\"data row17 col14\" >53</td>\n",
       "                        <td id=\"T_464f6248_7313_11ec_a035_0242ac1c0002row17_col15\" class=\"data row17 col15\" >0</td>\n",
       "                        <td id=\"T_464f6248_7313_11ec_a035_0242ac1c0002row17_col16\" class=\"data row17 col16\" >0</td>\n",
       "                        <td id=\"T_464f6248_7313_11ec_a035_0242ac1c0002row17_col17\" class=\"data row17 col17\" >0</td>\n",
       "                        <td id=\"T_464f6248_7313_11ec_a035_0242ac1c0002row17_col18\" class=\"data row17 col18\" >0</td>\n",
       "                        <td id=\"T_464f6248_7313_11ec_a035_0242ac1c0002row17_col19\" class=\"data row17 col19\" >0</td>\n",
       "                        <td id=\"T_464f6248_7313_11ec_a035_0242ac1c0002row17_col20\" class=\"data row17 col20\" >0</td>\n",
       "                        <td id=\"T_464f6248_7313_11ec_a035_0242ac1c0002row17_col21\" class=\"data row17 col21\" >0</td>\n",
       "                        <td id=\"T_464f6248_7313_11ec_a035_0242ac1c0002row17_col22\" class=\"data row17 col22\" >0</td>\n",
       "                        <td id=\"T_464f6248_7313_11ec_a035_0242ac1c0002row17_col23\" class=\"data row17 col23\" >0</td>\n",
       "            </tr>\n",
       "            <tr>\n",
       "                        <th id=\"T_464f6248_7313_11ec_a035_0242ac1c0002level0_row18\" class=\"row_heading level0 row18\" >18</th>\n",
       "                        <td id=\"T_464f6248_7313_11ec_a035_0242ac1c0002row18_col0\" class=\"data row18 col0\" >0</td>\n",
       "                        <td id=\"T_464f6248_7313_11ec_a035_0242ac1c0002row18_col1\" class=\"data row18 col1\" >0</td>\n",
       "                        <td id=\"T_464f6248_7313_11ec_a035_0242ac1c0002row18_col2\" class=\"data row18 col2\" >42</td>\n",
       "                        <td id=\"T_464f6248_7313_11ec_a035_0242ac1c0002row18_col3\" class=\"data row18 col3\" >115</td>\n",
       "                        <td id=\"T_464f6248_7313_11ec_a035_0242ac1c0002row18_col4\" class=\"data row18 col4\" >42</td>\n",
       "                        <td id=\"T_464f6248_7313_11ec_a035_0242ac1c0002row18_col5\" class=\"data row18 col5\" >60</td>\n",
       "                        <td id=\"T_464f6248_7313_11ec_a035_0242ac1c0002row18_col6\" class=\"data row18 col6\" >115</td>\n",
       "                        <td id=\"T_464f6248_7313_11ec_a035_0242ac1c0002row18_col7\" class=\"data row18 col7\" >159</td>\n",
       "                        <td id=\"T_464f6248_7313_11ec_a035_0242ac1c0002row18_col8\" class=\"data row18 col8\" >240</td>\n",
       "                        <td id=\"T_464f6248_7313_11ec_a035_0242ac1c0002row18_col9\" class=\"data row18 col9\" >253</td>\n",
       "                        <td id=\"T_464f6248_7313_11ec_a035_0242ac1c0002row18_col10\" class=\"data row18 col10\" >253</td>\n",
       "                        <td id=\"T_464f6248_7313_11ec_a035_0242ac1c0002row18_col11\" class=\"data row18 col11\" >250</td>\n",
       "                        <td id=\"T_464f6248_7313_11ec_a035_0242ac1c0002row18_col12\" class=\"data row18 col12\" >175</td>\n",
       "                        <td id=\"T_464f6248_7313_11ec_a035_0242ac1c0002row18_col13\" class=\"data row18 col13\" >25</td>\n",
       "                        <td id=\"T_464f6248_7313_11ec_a035_0242ac1c0002row18_col14\" class=\"data row18 col14\" >0</td>\n",
       "                        <td id=\"T_464f6248_7313_11ec_a035_0242ac1c0002row18_col15\" class=\"data row18 col15\" >0</td>\n",
       "                        <td id=\"T_464f6248_7313_11ec_a035_0242ac1c0002row18_col16\" class=\"data row18 col16\" >0</td>\n",
       "                        <td id=\"T_464f6248_7313_11ec_a035_0242ac1c0002row18_col17\" class=\"data row18 col17\" >0</td>\n",
       "                        <td id=\"T_464f6248_7313_11ec_a035_0242ac1c0002row18_col18\" class=\"data row18 col18\" >0</td>\n",
       "                        <td id=\"T_464f6248_7313_11ec_a035_0242ac1c0002row18_col19\" class=\"data row18 col19\" >0</td>\n",
       "                        <td id=\"T_464f6248_7313_11ec_a035_0242ac1c0002row18_col20\" class=\"data row18 col20\" >0</td>\n",
       "                        <td id=\"T_464f6248_7313_11ec_a035_0242ac1c0002row18_col21\" class=\"data row18 col21\" >0</td>\n",
       "                        <td id=\"T_464f6248_7313_11ec_a035_0242ac1c0002row18_col22\" class=\"data row18 col22\" >0</td>\n",
       "                        <td id=\"T_464f6248_7313_11ec_a035_0242ac1c0002row18_col23\" class=\"data row18 col23\" >0</td>\n",
       "            </tr>\n",
       "            <tr>\n",
       "                        <th id=\"T_464f6248_7313_11ec_a035_0242ac1c0002level0_row19\" class=\"row_heading level0 row19\" >19</th>\n",
       "                        <td id=\"T_464f6248_7313_11ec_a035_0242ac1c0002row19_col0\" class=\"data row19 col0\" >0</td>\n",
       "                        <td id=\"T_464f6248_7313_11ec_a035_0242ac1c0002row19_col1\" class=\"data row19 col1\" >0</td>\n",
       "                        <td id=\"T_464f6248_7313_11ec_a035_0242ac1c0002row19_col2\" class=\"data row19 col2\" >187</td>\n",
       "                        <td id=\"T_464f6248_7313_11ec_a035_0242ac1c0002row19_col3\" class=\"data row19 col3\" >253</td>\n",
       "                        <td id=\"T_464f6248_7313_11ec_a035_0242ac1c0002row19_col4\" class=\"data row19 col4\" >253</td>\n",
       "                        <td id=\"T_464f6248_7313_11ec_a035_0242ac1c0002row19_col5\" class=\"data row19 col5\" >253</td>\n",
       "                        <td id=\"T_464f6248_7313_11ec_a035_0242ac1c0002row19_col6\" class=\"data row19 col6\" >253</td>\n",
       "                        <td id=\"T_464f6248_7313_11ec_a035_0242ac1c0002row19_col7\" class=\"data row19 col7\" >253</td>\n",
       "                        <td id=\"T_464f6248_7313_11ec_a035_0242ac1c0002row19_col8\" class=\"data row19 col8\" >253</td>\n",
       "                        <td id=\"T_464f6248_7313_11ec_a035_0242ac1c0002row19_col9\" class=\"data row19 col9\" >253</td>\n",
       "                        <td id=\"T_464f6248_7313_11ec_a035_0242ac1c0002row19_col10\" class=\"data row19 col10\" >197</td>\n",
       "                        <td id=\"T_464f6248_7313_11ec_a035_0242ac1c0002row19_col11\" class=\"data row19 col11\" >86</td>\n",
       "                        <td id=\"T_464f6248_7313_11ec_a035_0242ac1c0002row19_col12\" class=\"data row19 col12\" >0</td>\n",
       "                        <td id=\"T_464f6248_7313_11ec_a035_0242ac1c0002row19_col13\" class=\"data row19 col13\" >0</td>\n",
       "                        <td id=\"T_464f6248_7313_11ec_a035_0242ac1c0002row19_col14\" class=\"data row19 col14\" >0</td>\n",
       "                        <td id=\"T_464f6248_7313_11ec_a035_0242ac1c0002row19_col15\" class=\"data row19 col15\" >0</td>\n",
       "                        <td id=\"T_464f6248_7313_11ec_a035_0242ac1c0002row19_col16\" class=\"data row19 col16\" >0</td>\n",
       "                        <td id=\"T_464f6248_7313_11ec_a035_0242ac1c0002row19_col17\" class=\"data row19 col17\" >0</td>\n",
       "                        <td id=\"T_464f6248_7313_11ec_a035_0242ac1c0002row19_col18\" class=\"data row19 col18\" >0</td>\n",
       "                        <td id=\"T_464f6248_7313_11ec_a035_0242ac1c0002row19_col19\" class=\"data row19 col19\" >0</td>\n",
       "                        <td id=\"T_464f6248_7313_11ec_a035_0242ac1c0002row19_col20\" class=\"data row19 col20\" >0</td>\n",
       "                        <td id=\"T_464f6248_7313_11ec_a035_0242ac1c0002row19_col21\" class=\"data row19 col21\" >0</td>\n",
       "                        <td id=\"T_464f6248_7313_11ec_a035_0242ac1c0002row19_col22\" class=\"data row19 col22\" >0</td>\n",
       "                        <td id=\"T_464f6248_7313_11ec_a035_0242ac1c0002row19_col23\" class=\"data row19 col23\" >0</td>\n",
       "            </tr>\n",
       "            <tr>\n",
       "                        <th id=\"T_464f6248_7313_11ec_a035_0242ac1c0002level0_row20\" class=\"row_heading level0 row20\" >20</th>\n",
       "                        <td id=\"T_464f6248_7313_11ec_a035_0242ac1c0002row20_col0\" class=\"data row20 col0\" >0</td>\n",
       "                        <td id=\"T_464f6248_7313_11ec_a035_0242ac1c0002row20_col1\" class=\"data row20 col1\" >0</td>\n",
       "                        <td id=\"T_464f6248_7313_11ec_a035_0242ac1c0002row20_col2\" class=\"data row20 col2\" >103</td>\n",
       "                        <td id=\"T_464f6248_7313_11ec_a035_0242ac1c0002row20_col3\" class=\"data row20 col3\" >253</td>\n",
       "                        <td id=\"T_464f6248_7313_11ec_a035_0242ac1c0002row20_col4\" class=\"data row20 col4\" >253</td>\n",
       "                        <td id=\"T_464f6248_7313_11ec_a035_0242ac1c0002row20_col5\" class=\"data row20 col5\" >253</td>\n",
       "                        <td id=\"T_464f6248_7313_11ec_a035_0242ac1c0002row20_col6\" class=\"data row20 col6\" >253</td>\n",
       "                        <td id=\"T_464f6248_7313_11ec_a035_0242ac1c0002row20_col7\" class=\"data row20 col7\" >253</td>\n",
       "                        <td id=\"T_464f6248_7313_11ec_a035_0242ac1c0002row20_col8\" class=\"data row20 col8\" >232</td>\n",
       "                        <td id=\"T_464f6248_7313_11ec_a035_0242ac1c0002row20_col9\" class=\"data row20 col9\" >67</td>\n",
       "                        <td id=\"T_464f6248_7313_11ec_a035_0242ac1c0002row20_col10\" class=\"data row20 col10\" >1</td>\n",
       "                        <td id=\"T_464f6248_7313_11ec_a035_0242ac1c0002row20_col11\" class=\"data row20 col11\" >0</td>\n",
       "                        <td id=\"T_464f6248_7313_11ec_a035_0242ac1c0002row20_col12\" class=\"data row20 col12\" >0</td>\n",
       "                        <td id=\"T_464f6248_7313_11ec_a035_0242ac1c0002row20_col13\" class=\"data row20 col13\" >0</td>\n",
       "                        <td id=\"T_464f6248_7313_11ec_a035_0242ac1c0002row20_col14\" class=\"data row20 col14\" >0</td>\n",
       "                        <td id=\"T_464f6248_7313_11ec_a035_0242ac1c0002row20_col15\" class=\"data row20 col15\" >0</td>\n",
       "                        <td id=\"T_464f6248_7313_11ec_a035_0242ac1c0002row20_col16\" class=\"data row20 col16\" >0</td>\n",
       "                        <td id=\"T_464f6248_7313_11ec_a035_0242ac1c0002row20_col17\" class=\"data row20 col17\" >0</td>\n",
       "                        <td id=\"T_464f6248_7313_11ec_a035_0242ac1c0002row20_col18\" class=\"data row20 col18\" >0</td>\n",
       "                        <td id=\"T_464f6248_7313_11ec_a035_0242ac1c0002row20_col19\" class=\"data row20 col19\" >0</td>\n",
       "                        <td id=\"T_464f6248_7313_11ec_a035_0242ac1c0002row20_col20\" class=\"data row20 col20\" >0</td>\n",
       "                        <td id=\"T_464f6248_7313_11ec_a035_0242ac1c0002row20_col21\" class=\"data row20 col21\" >0</td>\n",
       "                        <td id=\"T_464f6248_7313_11ec_a035_0242ac1c0002row20_col22\" class=\"data row20 col22\" >0</td>\n",
       "                        <td id=\"T_464f6248_7313_11ec_a035_0242ac1c0002row20_col23\" class=\"data row20 col23\" >0</td>\n",
       "            </tr>\n",
       "            <tr>\n",
       "                        <th id=\"T_464f6248_7313_11ec_a035_0242ac1c0002level0_row21\" class=\"row_heading level0 row21\" >21</th>\n",
       "                        <td id=\"T_464f6248_7313_11ec_a035_0242ac1c0002row21_col0\" class=\"data row21 col0\" >0</td>\n",
       "                        <td id=\"T_464f6248_7313_11ec_a035_0242ac1c0002row21_col1\" class=\"data row21 col1\" >0</td>\n",
       "                        <td id=\"T_464f6248_7313_11ec_a035_0242ac1c0002row21_col2\" class=\"data row21 col2\" >0</td>\n",
       "                        <td id=\"T_464f6248_7313_11ec_a035_0242ac1c0002row21_col3\" class=\"data row21 col3\" >0</td>\n",
       "                        <td id=\"T_464f6248_7313_11ec_a035_0242ac1c0002row21_col4\" class=\"data row21 col4\" >0</td>\n",
       "                        <td id=\"T_464f6248_7313_11ec_a035_0242ac1c0002row21_col5\" class=\"data row21 col5\" >0</td>\n",
       "                        <td id=\"T_464f6248_7313_11ec_a035_0242ac1c0002row21_col6\" class=\"data row21 col6\" >0</td>\n",
       "                        <td id=\"T_464f6248_7313_11ec_a035_0242ac1c0002row21_col7\" class=\"data row21 col7\" >0</td>\n",
       "                        <td id=\"T_464f6248_7313_11ec_a035_0242ac1c0002row21_col8\" class=\"data row21 col8\" >0</td>\n",
       "                        <td id=\"T_464f6248_7313_11ec_a035_0242ac1c0002row21_col9\" class=\"data row21 col9\" >0</td>\n",
       "                        <td id=\"T_464f6248_7313_11ec_a035_0242ac1c0002row21_col10\" class=\"data row21 col10\" >0</td>\n",
       "                        <td id=\"T_464f6248_7313_11ec_a035_0242ac1c0002row21_col11\" class=\"data row21 col11\" >0</td>\n",
       "                        <td id=\"T_464f6248_7313_11ec_a035_0242ac1c0002row21_col12\" class=\"data row21 col12\" >0</td>\n",
       "                        <td id=\"T_464f6248_7313_11ec_a035_0242ac1c0002row21_col13\" class=\"data row21 col13\" >0</td>\n",
       "                        <td id=\"T_464f6248_7313_11ec_a035_0242ac1c0002row21_col14\" class=\"data row21 col14\" >0</td>\n",
       "                        <td id=\"T_464f6248_7313_11ec_a035_0242ac1c0002row21_col15\" class=\"data row21 col15\" >0</td>\n",
       "                        <td id=\"T_464f6248_7313_11ec_a035_0242ac1c0002row21_col16\" class=\"data row21 col16\" >0</td>\n",
       "                        <td id=\"T_464f6248_7313_11ec_a035_0242ac1c0002row21_col17\" class=\"data row21 col17\" >0</td>\n",
       "                        <td id=\"T_464f6248_7313_11ec_a035_0242ac1c0002row21_col18\" class=\"data row21 col18\" >0</td>\n",
       "                        <td id=\"T_464f6248_7313_11ec_a035_0242ac1c0002row21_col19\" class=\"data row21 col19\" >0</td>\n",
       "                        <td id=\"T_464f6248_7313_11ec_a035_0242ac1c0002row21_col20\" class=\"data row21 col20\" >0</td>\n",
       "                        <td id=\"T_464f6248_7313_11ec_a035_0242ac1c0002row21_col21\" class=\"data row21 col21\" >0</td>\n",
       "                        <td id=\"T_464f6248_7313_11ec_a035_0242ac1c0002row21_col22\" class=\"data row21 col22\" >0</td>\n",
       "                        <td id=\"T_464f6248_7313_11ec_a035_0242ac1c0002row21_col23\" class=\"data row21 col23\" >0</td>\n",
       "            </tr>\n",
       "            <tr>\n",
       "                        <th id=\"T_464f6248_7313_11ec_a035_0242ac1c0002level0_row22\" class=\"row_heading level0 row22\" >22</th>\n",
       "                        <td id=\"T_464f6248_7313_11ec_a035_0242ac1c0002row22_col0\" class=\"data row22 col0\" >0</td>\n",
       "                        <td id=\"T_464f6248_7313_11ec_a035_0242ac1c0002row22_col1\" class=\"data row22 col1\" >0</td>\n",
       "                        <td id=\"T_464f6248_7313_11ec_a035_0242ac1c0002row22_col2\" class=\"data row22 col2\" >0</td>\n",
       "                        <td id=\"T_464f6248_7313_11ec_a035_0242ac1c0002row22_col3\" class=\"data row22 col3\" >0</td>\n",
       "                        <td id=\"T_464f6248_7313_11ec_a035_0242ac1c0002row22_col4\" class=\"data row22 col4\" >0</td>\n",
       "                        <td id=\"T_464f6248_7313_11ec_a035_0242ac1c0002row22_col5\" class=\"data row22 col5\" >0</td>\n",
       "                        <td id=\"T_464f6248_7313_11ec_a035_0242ac1c0002row22_col6\" class=\"data row22 col6\" >0</td>\n",
       "                        <td id=\"T_464f6248_7313_11ec_a035_0242ac1c0002row22_col7\" class=\"data row22 col7\" >0</td>\n",
       "                        <td id=\"T_464f6248_7313_11ec_a035_0242ac1c0002row22_col8\" class=\"data row22 col8\" >0</td>\n",
       "                        <td id=\"T_464f6248_7313_11ec_a035_0242ac1c0002row22_col9\" class=\"data row22 col9\" >0</td>\n",
       "                        <td id=\"T_464f6248_7313_11ec_a035_0242ac1c0002row22_col10\" class=\"data row22 col10\" >0</td>\n",
       "                        <td id=\"T_464f6248_7313_11ec_a035_0242ac1c0002row22_col11\" class=\"data row22 col11\" >0</td>\n",
       "                        <td id=\"T_464f6248_7313_11ec_a035_0242ac1c0002row22_col12\" class=\"data row22 col12\" >0</td>\n",
       "                        <td id=\"T_464f6248_7313_11ec_a035_0242ac1c0002row22_col13\" class=\"data row22 col13\" >0</td>\n",
       "                        <td id=\"T_464f6248_7313_11ec_a035_0242ac1c0002row22_col14\" class=\"data row22 col14\" >0</td>\n",
       "                        <td id=\"T_464f6248_7313_11ec_a035_0242ac1c0002row22_col15\" class=\"data row22 col15\" >0</td>\n",
       "                        <td id=\"T_464f6248_7313_11ec_a035_0242ac1c0002row22_col16\" class=\"data row22 col16\" >0</td>\n",
       "                        <td id=\"T_464f6248_7313_11ec_a035_0242ac1c0002row22_col17\" class=\"data row22 col17\" >0</td>\n",
       "                        <td id=\"T_464f6248_7313_11ec_a035_0242ac1c0002row22_col18\" class=\"data row22 col18\" >0</td>\n",
       "                        <td id=\"T_464f6248_7313_11ec_a035_0242ac1c0002row22_col19\" class=\"data row22 col19\" >0</td>\n",
       "                        <td id=\"T_464f6248_7313_11ec_a035_0242ac1c0002row22_col20\" class=\"data row22 col20\" >0</td>\n",
       "                        <td id=\"T_464f6248_7313_11ec_a035_0242ac1c0002row22_col21\" class=\"data row22 col21\" >0</td>\n",
       "                        <td id=\"T_464f6248_7313_11ec_a035_0242ac1c0002row22_col22\" class=\"data row22 col22\" >0</td>\n",
       "                        <td id=\"T_464f6248_7313_11ec_a035_0242ac1c0002row22_col23\" class=\"data row22 col23\" >0</td>\n",
       "            </tr>\n",
       "            <tr>\n",
       "                        <th id=\"T_464f6248_7313_11ec_a035_0242ac1c0002level0_row23\" class=\"row_heading level0 row23\" >23</th>\n",
       "                        <td id=\"T_464f6248_7313_11ec_a035_0242ac1c0002row23_col0\" class=\"data row23 col0\" >0</td>\n",
       "                        <td id=\"T_464f6248_7313_11ec_a035_0242ac1c0002row23_col1\" class=\"data row23 col1\" >0</td>\n",
       "                        <td id=\"T_464f6248_7313_11ec_a035_0242ac1c0002row23_col2\" class=\"data row23 col2\" >0</td>\n",
       "                        <td id=\"T_464f6248_7313_11ec_a035_0242ac1c0002row23_col3\" class=\"data row23 col3\" >0</td>\n",
       "                        <td id=\"T_464f6248_7313_11ec_a035_0242ac1c0002row23_col4\" class=\"data row23 col4\" >0</td>\n",
       "                        <td id=\"T_464f6248_7313_11ec_a035_0242ac1c0002row23_col5\" class=\"data row23 col5\" >0</td>\n",
       "                        <td id=\"T_464f6248_7313_11ec_a035_0242ac1c0002row23_col6\" class=\"data row23 col6\" >0</td>\n",
       "                        <td id=\"T_464f6248_7313_11ec_a035_0242ac1c0002row23_col7\" class=\"data row23 col7\" >0</td>\n",
       "                        <td id=\"T_464f6248_7313_11ec_a035_0242ac1c0002row23_col8\" class=\"data row23 col8\" >0</td>\n",
       "                        <td id=\"T_464f6248_7313_11ec_a035_0242ac1c0002row23_col9\" class=\"data row23 col9\" >0</td>\n",
       "                        <td id=\"T_464f6248_7313_11ec_a035_0242ac1c0002row23_col10\" class=\"data row23 col10\" >0</td>\n",
       "                        <td id=\"T_464f6248_7313_11ec_a035_0242ac1c0002row23_col11\" class=\"data row23 col11\" >0</td>\n",
       "                        <td id=\"T_464f6248_7313_11ec_a035_0242ac1c0002row23_col12\" class=\"data row23 col12\" >0</td>\n",
       "                        <td id=\"T_464f6248_7313_11ec_a035_0242ac1c0002row23_col13\" class=\"data row23 col13\" >0</td>\n",
       "                        <td id=\"T_464f6248_7313_11ec_a035_0242ac1c0002row23_col14\" class=\"data row23 col14\" >0</td>\n",
       "                        <td id=\"T_464f6248_7313_11ec_a035_0242ac1c0002row23_col15\" class=\"data row23 col15\" >0</td>\n",
       "                        <td id=\"T_464f6248_7313_11ec_a035_0242ac1c0002row23_col16\" class=\"data row23 col16\" >0</td>\n",
       "                        <td id=\"T_464f6248_7313_11ec_a035_0242ac1c0002row23_col17\" class=\"data row23 col17\" >0</td>\n",
       "                        <td id=\"T_464f6248_7313_11ec_a035_0242ac1c0002row23_col18\" class=\"data row23 col18\" >0</td>\n",
       "                        <td id=\"T_464f6248_7313_11ec_a035_0242ac1c0002row23_col19\" class=\"data row23 col19\" >0</td>\n",
       "                        <td id=\"T_464f6248_7313_11ec_a035_0242ac1c0002row23_col20\" class=\"data row23 col20\" >0</td>\n",
       "                        <td id=\"T_464f6248_7313_11ec_a035_0242ac1c0002row23_col21\" class=\"data row23 col21\" >0</td>\n",
       "                        <td id=\"T_464f6248_7313_11ec_a035_0242ac1c0002row23_col22\" class=\"data row23 col22\" >0</td>\n",
       "                        <td id=\"T_464f6248_7313_11ec_a035_0242ac1c0002row23_col23\" class=\"data row23 col23\" >0</td>\n",
       "            </tr>\n",
       "    </tbody></table>"
      ],
      "text/plain": [
       "<pandas.io.formats.style.Styler at 0x7f64760f93d0>"
      ]
     },
     "execution_count": 97,
     "metadata": {},
     "output_type": "execute_result"
    }
   ],
   "source": [
    "# Another version of the same display with a different set of indices\n",
    "im3_t_2 = tensor(im3)\n",
    "df = pd.DataFrame(im3_t_2[4:55,4:55])\n",
    "df.style.set_properties(**{'font-size':'6pt'}).background_gradient('Greys')\n"
   ]
  },
  {
   "cell_type": "markdown",
   "metadata": {
    "id": "kJr9fJpbJ7_M"
   },
   "source": [
    "## First Try: Pixel Similarity"
   ]
  },
  {
   "cell_type": "code",
   "execution_count": 98,
   "metadata": {
    "id": "a28OtzIkaIPz"
   },
   "outputs": [],
   "source": [
    "# You can see that the background white pixels are stored as the number 0, black is the number 255, and shades of gray are between the two. \n",
    "# The entire image contains 28 pixels across and 28 pixels down, for a total of 784 pixels. \n",
    "# (This is much smaller than an image that you would get from a phone camera, which has millions of pixels, \n",
    "# but is a convenient size for our initial learning and experiments.                                                                                                                                                                                                                                   We will build up to bigger, full-color images soon.)\n",
    "# So, now you’ve seen what an image looks like to a computer, let’s recall our goal: \n",
    "# We need to create a model that can recognize 3s and 7s. \n",
    "# How might you go about getting a computer to do that? \n",
    "# This is now an exercise of thinking about features since the features of two dissimilar objects are going to have a different structure\n",
    "# What kind of features might the program need to understand and evaluate? \n",
    "# How would it identify those features? How would it combine those features?\n",
    "# You could start thinking about creating a vector of all the pixels for a 3 vs a 7\n",
    "# We could compute an average pixel value for every pixel of the 3s and do the same for the 7s. This would give us an ideal point \n",
    "# measure of 3 vs 7 and could provide a baseline. We could then measure the average of an incoming 3 data point and then compare it \n",
    "# to the baseline 3 as well as 7 and see how far away the average for the candidate data point are from the ideal and then \n",
    "# probabilistically assign it to either 3 or 7 depending on high the probability measure are. This where tensors come in. \n",
    "# We can create a tensor containing all of our 3s stacked together using python list comprehension\n",
    "# Review list comprehensions in python\n",
    "# A list comprehension looks like this: new_list = [f(o) for o in a_list if o>0]. \n",
    "# This will return every element of a_list that is greater than 0, after passing it to the function f. \n",
    "# There are three parts here: the collection you are iterating over (a_list), \n",
    "# an optional filter (if o>0) or if then condition, and something to do to each element (f(o)). \n",
    "# It’s not only shorter to write, but also way faster than the alternative ways of creating the same list with a loop.\n"
   ]
  },
  {
   "cell_type": "code",
   "execution_count": 99,
   "metadata": {
    "colab": {
     "base_uri": "https://localhost:8080/"
    },
    "id": "LKEvkThrJ7_S",
    "outputId": "8286ba62-2906-4de4-c057-598e24087848"
   },
   "outputs": [
    {
     "data": {
      "text/plain": [
       "(6131, 6265)"
      ]
     },
     "execution_count": 99,
     "metadata": {},
     "output_type": "execute_result"
    }
   ],
   "source": [
    "seven_tensors = [tensor(Image.open(o)) for o in sevens]\n",
    "three_tensors = [tensor(Image.open(o)) for o in threes]\n",
    "len(three_tensors),len(seven_tensors)"
   ]
  },
  {
   "cell_type": "code",
   "execution_count": null,
   "metadata": {
    "id": "w7K6erMRJ7_e"
   },
   "outputs": [],
   "source": [
    "show_image(three_tensors[1]);"
   ]
  },
  {
   "cell_type": "code",
   "execution_count": null,
   "metadata": {
    "id": "MNNe2uUZ7SFl"
   },
   "outputs": [],
   "source": []
  },
  {
   "cell_type": "code",
   "execution_count": 100,
   "metadata": {
    "colab": {
     "base_uri": "https://localhost:8080/"
    },
    "id": "qBbFuk2zJ7_f",
    "outputId": "2c648caf-dd1d-4dc4-e584-140a565c5d05"
   },
   "outputs": [
    {
     "data": {
      "text/plain": [
       "torch.Size([6131, 28, 28])"
      ]
     },
     "execution_count": 100,
     "metadata": {},
     "output_type": "execute_result"
    },
    {
     "data": {
      "text/plain": [
       "torch.Size([6265, 28, 28])"
      ]
     },
     "execution_count": 100,
     "metadata": {},
     "output_type": "execute_result"
    }
   ],
   "source": [
    "# For every pixel position, we want to compute the average over all the images of the intensity of that pixel. \n",
    "# To do this, we first combine all the images in this list into a single three-dimensional tensor. \n",
    "# The most common way to describe such a tensor is to call it a rank-3 tensor. \n",
    "# We often need to stack up individual tensors in a collection into a single tensor. \n",
    "# PyTorch has a function called stack that we can use for this purpose. \n",
    "# Since these images are floats, the pixel values are expected to be between 0 and 1 and we will divide by 255.\n",
    "# Why 255 - to convert RGB pixel values which are in the range of (0,255) to (0.0, 1.0). \n",
    "# Grey scale images have 256 values - 8 bit for each channel and 2^8 = 256!\n",
    "# Tensors - founded by Gregorio Ricci-Curbastro, Tullio Levi-Civita who popularised tensors in 1900 \n",
    "# – continuing the earlier work of Bernhard Riemann and Elwin Bruno Christoffel \n",
    "# Tensors - origin of the word from the muscle that stretche or tightens\n",
    "# Tensors are a generalization of matrices and vectors\n",
    "# The most important attributes of a tensor is its shape which for the threes have 6131 images - each of size 28 * 28. \n",
    "# There is nothing specifically about this tensor that says that the first axis is the number of images, the second is the height, \n",
    "# and the third is the width—the semantics of a tensor are entirely up to us, and how we construct it. \n",
    "# As far as PyTorch is concerned, it is just a bunch of numbers in memory. \n",
    "stacked_sevens = torch.stack(seven_tensors).float()/255\n",
    "stacked_threes = torch.stack(three_tensors).float()/255\n",
    "stacked_threes.shape\n",
    "stacked_sevens.shape"
   ]
  },
  {
   "cell_type": "code",
   "execution_count": 101,
   "metadata": {
    "colab": {
     "base_uri": "https://localhost:8080/"
    },
    "id": "Kzl0mYPj7XQZ",
    "outputId": "3a8ac8d7-dbee-41c1-89aa-392df62b2faa"
   },
   "outputs": [
    {
     "name": "stdout",
     "output_type": "stream",
     "text": [
      "49\n",
      "A scalar is of rank 0\n"
     ]
    }
   ],
   "source": [
    "# Scalars - is a single number\n",
    "x = np.array(49)\n",
    "print(x)\n",
    "print('A scalar is of rank %d' %(x.ndim))"
   ]
  },
  {
   "cell_type": "code",
   "execution_count": 102,
   "metadata": {
    "colab": {
     "base_uri": "https://localhost:8080/"
    },
    "id": "NZ-bOePc7x0h",
    "outputId": "3e118387-0cc3-4159-aaa8-168d1a0c3e05"
   },
   "outputs": [
    {
     "name": "stdout",
     "output_type": "stream",
     "text": [
      "[1 1 2 3 5 8]\n",
      "A vector is of rank 1\n"
     ]
    }
   ],
   "source": [
    "# Vector - single dimension (1D) tensor which is also refered to as an array. \n",
    "# A vector is made up of a series of numbers has 1 axis and is of rank 1\n",
    "x = np.array([1, 1, 2, 3, 5, 8])\n",
    "print(x)\n",
    "print('A vector is of rank %d' %(x.ndim))\n",
    " "
   ]
  },
  {
   "cell_type": "code",
   "execution_count": 103,
   "metadata": {
    "colab": {
     "base_uri": "https://localhost:8080/"
    },
    "id": "XvlS0kSN8F6W",
    "outputId": "e82d3e24-2f64-45be-ba7b-5219b776e242"
   },
   "outputs": [
    {
     "name": "stdout",
     "output_type": "stream",
     "text": [
      "[[1 2 3]\n",
      " [4 5 6]\n",
      " [7 8 9]]\n",
      "A matrix is of rank 2\n"
     ]
    }
   ],
   "source": [
    "# Matrix - A matrix is a tensor of rank 2, meaning that it has 2 axes. \n",
    "# A matrix is arranged as a grid of numbers (think rows and columns), and is technically a 2 dimension (2D) tensor\n",
    "x = np.array([[1, 2, 3],\n",
    "              [4, 5, 6],\n",
    "              [7, 8, 9]])\n",
    "print(x)\n",
    "print('A matrix is of rank %d' %(x.ndim))"
   ]
  },
  {
   "cell_type": "code",
   "execution_count": 104,
   "metadata": {
    "colab": {
     "base_uri": "https://localhost:8080/"
    },
    "id": "qjXtmfnv8ow7",
    "outputId": "dc05c34c-e325-46e7-b06b-a32e7cdd3c9d"
   },
   "outputs": [
    {
     "name": "stdout",
     "output_type": "stream",
     "text": [
      "[[[  1   4   7]\n",
      "  [  2   5   8]\n",
      "  [  3   6   9]]\n",
      "\n",
      " [[ 10  40  70]\n",
      "  [ 20  50  80]\n",
      "  [ 30  60  90]]\n",
      "\n",
      " [[100 400 700]\n",
      "  [200 500 800]\n",
      "  [300 600 900]]]\n",
      "This tensor is of rank 3\n"
     ]
    }
   ],
   "source": [
    "# Tensors - speaking of the generalization of the concept of a matrix to N >= 3 dimensions\n",
    "x = np.array([[[1, 4, 7],\n",
    "               [2, 5, 8],\n",
    "               [3, 6, 9]],\n",
    "              [[10, 40, 70],\n",
    "               [20, 50, 80],\n",
    "               [30, 60, 90]],\n",
    "              [[100, 400, 700],\n",
    "               [200, 500, 800],\n",
    "               [300, 600, 900]]])\n",
    "print(x)\n",
    "print('This tensor is of rank %d' %(x.ndim))"
   ]
  },
  {
   "cell_type": "code",
   "execution_count": 105,
   "metadata": {
    "colab": {
     "base_uri": "https://localhost:8080/"
    },
    "id": "TOqDQWwzJ7_k",
    "outputId": "d7d8f334-6744-485b-e639-fd2c42b1de9a"
   },
   "outputs": [
    {
     "data": {
      "text/plain": [
       "3"
      ]
     },
     "execution_count": 105,
     "metadata": {},
     "output_type": "execute_result"
    }
   ],
   "source": [
    "# The length of a tensor’s shape is its rank. It is important to commit to memory and practice these bits of tensor jargon: \n",
    "# Rank is the number of axes or dimensions in a tensor; shape is the size of each axis of a tensor. The rank of a tensor is different from \n",
    "# the rank of a matrix which is the number of independent dimensions of the matrix. A tensor has magnitude, direction and a plane and is a \n",
    "# generalization of matrices and vectors.\n",
    "# The word dimension has multiple meanings and it is best to translate all statements into terms of rank, axis and length - which are unambigous \n",
    "len(stacked_threes.shape)"
   ]
  },
  {
   "cell_type": "code",
   "execution_count": 106,
   "metadata": {
    "colab": {
     "base_uri": "https://localhost:8080/"
    },
    "id": "KhcDGDL0J7_1",
    "outputId": "da453fc1-c9a7-4a10-c049-18c32be77dec"
   },
   "outputs": [
    {
     "data": {
      "text/plain": [
       "3"
      ]
     },
     "execution_count": 106,
     "metadata": {},
     "output_type": "execute_result"
    }
   ],
   "source": [
    "# Rank of stacked_threes\n",
    "stacked_threes.ndim"
   ]
  },
  {
   "cell_type": "code",
   "execution_count": 107,
   "metadata": {
    "colab": {
     "base_uri": "https://localhost:8080/",
     "height": 85
    },
    "id": "pirXa7NCJ7_1",
    "outputId": "31f75fbf-4fc2-4432-c437-89646b633a43"
   },
   "outputs": [
    {
     "data": {
      "image/png": "[encoded data removed]",
      "text/plain": [
       "<Figure size 72x72 with 1 Axes>"
      ]
     },
     "metadata": {
      "needs_background": "light"
     },
     "output_type": "display_data"
    }
   ],
   "source": [
    "# Compute what an ideal 3 looks like. This will compute for every pixel position, the average of that pixel over all images. \n",
    "# The result will be one value for every pixel position, or a single image\n",
    "# The image is blurry and wispy as it is an average\n",
    "mean3 = stacked_threes.mean(0)\n",
    "show_image(mean3);"
   ]
  },
  {
   "cell_type": "code",
   "execution_count": 108,
   "metadata": {
    "colab": {
     "base_uri": "https://localhost:8080/",
     "height": 85
    },
    "id": "W18Y2G5EJ7_5",
    "outputId": "9d00c6b3-61ff-45d3-fa55-4a3db6134bc3"
   },
   "outputs": [
    {
     "data": {
      "image/png": "[encoded data removed]",
      "text/plain": [
       "<Figure size 72x72 with 1 Axes>"
      ]
     },
     "metadata": {
      "needs_background": "light"
     },
     "output_type": "display_data"
    }
   ],
   "source": [
    "mean7 = stacked_sevens.mean(0)\n",
    "show_image(mean7);"
   ]
  },
  {
   "cell_type": "code",
   "execution_count": 109,
   "metadata": {
    "colab": {
     "base_uri": "https://localhost:8080/",
     "height": 85
    },
    "id": "kVl_RBl-J8AA",
    "outputId": "06a71b1c-fc06-4af7-af11-7e279f221e9c"
   },
   "outputs": [
    {
     "data": {
      "image/png": "[encoded data removed]",
      "text/plain": [
       "<Figure size 72x72 with 1 Axes>"
      ]
     },
     "metadata": {
      "needs_background": "light"
     },
     "output_type": "display_data"
    }
   ],
   "source": [
    "# Let us pick an arbitrary 3 and measure its distance from our \"ideal digits\"\n",
    "a_3 = stacked_threes[1]\n",
    "show_image(a_3);"
   ]
  },
  {
   "cell_type": "code",
   "execution_count": 110,
   "metadata": {
    "colab": {
     "base_uri": "https://localhost:8080/"
    },
    "id": "RTS0DRLWJ8AA",
    "outputId": "0a524f4f-c383-4616-cbec-245ea89bc8fa"
   },
   "outputs": [
    {
     "data": {
      "text/plain": [
       "(tensor(0.1114), tensor(0.2021))"
      ]
     },
     "execution_count": 110,
     "metadata": {},
     "output_type": "execute_result"
    }
   ],
   "source": [
    "# There are two broad ways to do this \n",
    "# 1. The mean of the absolute value of differences, with negative values replaced with positive values - mean absolute difference - L1 norm\n",
    "# 2. The root mean square (RMSE) or the mean of the square of differences and then take the square root of the sum  - L2 norm\n",
    "dist_3_abs = (a_3 - mean3).abs().mean()\n",
    "dist_3_sqr = ((a_3 - mean3)**2).mean().sqrt()\n",
    "dist_3_abs,dist_3_sqr"
   ]
  },
  {
   "cell_type": "code",
   "execution_count": 111,
   "metadata": {
    "colab": {
     "base_uri": "https://localhost:8080/"
    },
    "id": "QE74bwnZJ8AB",
    "outputId": "16945b95-b2e5-45d7-ab3c-569d71da7e64"
   },
   "outputs": [
    {
     "data": {
      "text/plain": [
       "(tensor(0.1586), tensor(0.3021))"
      ]
     },
     "execution_count": 111,
     "metadata": {},
     "output_type": "execute_result"
    }
   ],
   "source": [
    "# Compute the distance of the arbitrary 3 from the 7 digit mean\n",
    "# In both cases, the distance between our 3 and the “ideal” 3 is less than the distance to the ideal 7, \n",
    "# so our simple model will give the right prediction in this case.\n",
    "# (tensor(0.1114), tensor(0.2021)) < (tensor(0.1586), tensor(0.3021))\n",
    "dist_7_abs = (a_3 - mean7).abs().mean()\n",
    "dist_7_sqr = ((a_3 - mean7)**2).mean().sqrt()\n",
    "dist_7_abs,dist_7_sqr"
   ]
  },
  {
   "cell_type": "code",
   "execution_count": 112,
   "metadata": {
    "colab": {
     "base_uri": "https://localhost:8080/"
    },
    "id": "lfuPwo4NJ8AC",
    "outputId": "712c6779-61eb-4f5f-f5a0-30dc07cbff25"
   },
   "outputs": [
    {
     "data": {
      "text/plain": [
       "(tensor(0.1586), tensor(0.3021))"
      ]
     },
     "execution_count": 112,
     "metadata": {},
     "output_type": "execute_result"
    }
   ],
   "source": [
    "# We use the loss function provided by PyTorch which is inside torch.nn.functional, which the PyTorch team recommends importing as F\n",
    "F.l1_loss(a_3.float(),mean7), F.mse_loss(a_3,mean7).sqrt()"
   ]
  },
  {
   "cell_type": "markdown",
   "metadata": {
    "id": "quBC5sGVJ8AE"
   },
   "source": [
    "### NumPy Arrays and PyTorch Tensors"
   ]
  },
  {
   "cell_type": "code",
   "execution_count": 113,
   "metadata": {
    "id": "86NPoAIlJ8AE"
   },
   "outputs": [],
   "source": [
    "# Numpy is the most widely used library for scientific and numeric programming in Python. \n",
    "# It provides similar functionality and a similar API to that provided by PyTorch; \n",
    "# however, it does not support using the GPU or calculating gradients, which are both critical for deep learning. \n",
    "# Therefore, we will generally use PyTorch tensors instead of NumPy arrays, where possible.\n",
    "# A PyTorch tensor is nearly the same thing as a NumPy array except it can live on the GPU and can run much faster\n",
    "# GPUs are specifically designed to accelerate computer workloads.\n",
    "# a PyTorch tensors also cannot be jagged. It is always a regularly shaped multidimensional rectangular structure.\n",
    "data = [[1,2,3],[4,5,6]]\n",
    "arr = array (data)\n",
    "tns = tensor(data)"
   ]
  },
  {
   "cell_type": "code",
   "execution_count": 114,
   "metadata": {
    "colab": {
     "base_uri": "https://localhost:8080/"
    },
    "id": "9HQkUNVnJ8AE",
    "outputId": "c65d812d-c729-47c9-9abb-8f84d402476b"
   },
   "outputs": [
    {
     "data": {
      "text/plain": [
       "array([[1, 2, 3],\n",
       "       [4, 5, 6]])"
      ]
     },
     "execution_count": 114,
     "metadata": {},
     "output_type": "execute_result"
    }
   ],
   "source": [
    "arr  # numpy"
   ]
  },
  {
   "cell_type": "code",
   "execution_count": 115,
   "metadata": {
    "colab": {
     "base_uri": "https://localhost:8080/"
    },
    "id": "bzPgKYlxJ8AF",
    "outputId": "703a91fb-5851-4863-df25-9b3cf891429f"
   },
   "outputs": [
    {
     "data": {
      "text/plain": [
       "tensor([[1, 2, 3],\n",
       "        [4, 5, 6]])"
      ]
     },
     "execution_count": 115,
     "metadata": {},
     "output_type": "execute_result"
    }
   ],
   "source": [
    "tns  # pytorch"
   ]
  },
  {
   "cell_type": "code",
   "execution_count": 116,
   "metadata": {
    "colab": {
     "base_uri": "https://localhost:8080/"
    },
    "id": "kwDnV47GJ8AG",
    "outputId": "e52d2ca5-c75c-4e5d-abad-8390ae3f0d2e"
   },
   "outputs": [
    {
     "data": {
      "text/plain": [
       "tensor([4, 5, 6])"
      ]
     },
     "execution_count": 116,
     "metadata": {},
     "output_type": "execute_result"
    }
   ],
   "source": [
    "# You can select a row - like lists in Python tensors are 0-indexed - so 1 refers to the second row / column\n",
    "tns[1]"
   ]
  },
  {
   "cell_type": "code",
   "execution_count": 117,
   "metadata": {
    "colab": {
     "base_uri": "https://localhost:8080/"
    },
    "id": "m_l8xHvxJ8AH",
    "outputId": "8b5ee38a-eb17-442a-e06f-0beccf491cec"
   },
   "outputs": [
    {
     "data": {
      "text/plain": [
       "tensor([2, 5])"
      ]
     },
     "execution_count": 117,
     "metadata": {},
     "output_type": "execute_result"
    }
   ],
   "source": [
    "# Indexing by column\n",
    "tns[:,1]"
   ]
  },
  {
   "cell_type": "code",
   "execution_count": 118,
   "metadata": {
    "colab": {
     "base_uri": "https://localhost:8080/"
    },
    "id": "RLhQsV9yJ8AH",
    "outputId": "52fc2d94-1345-4297-f10f-1b974439dab6"
   },
   "outputs": [
    {
     "data": {
      "text/plain": [
       "tensor([5, 6])"
      ]
     },
     "execution_count": 118,
     "metadata": {},
     "output_type": "execute_result"
    }
   ],
   "source": [
    "# Use the Python slice syntax ([start:end]) - start with the second row / column\n",
    "tns[1,1:3]"
   ]
  },
  {
   "cell_type": "code",
   "execution_count": 119,
   "metadata": {
    "colab": {
     "base_uri": "https://localhost:8080/"
    },
    "id": "NelzMHI6J8AH",
    "outputId": "19dff944-dfaa-45c4-b313-1b4aca436e99"
   },
   "outputs": [
    {
     "data": {
      "text/plain": [
       "tensor([[2, 3, 4],\n",
       "        [5, 6, 7]])"
      ]
     },
     "execution_count": 119,
     "metadata": {},
     "output_type": "execute_result"
    }
   ],
   "source": [
    "# Use standard operators\n",
    "tns+1"
   ]
  },
  {
   "cell_type": "code",
   "execution_count": 120,
   "metadata": {
    "colab": {
     "base_uri": "https://localhost:8080/",
     "height": 35
    },
    "id": "BLkvQfzcJ8AH",
    "outputId": "6c195cf9-facb-4eb6-9ae4-6dee5d414054"
   },
   "outputs": [
    {
     "data": {
      "application/vnd.google.colaboratory.intrinsic+json": {
       "type": "string"
      },
      "text/plain": [
       "'torch.LongTensor'"
      ]
     },
     "execution_count": 120,
     "metadata": {},
     "output_type": "execute_result"
    }
   ],
   "source": [
    "# Tensors have a type\n",
    "tns.type()"
   ]
  },
  {
   "cell_type": "code",
   "execution_count": 121,
   "metadata": {
    "colab": {
     "base_uri": "https://localhost:8080/"
    },
    "id": "plvpnnZpJ8AI",
    "outputId": "9f07587e-0672-4e5c-e76b-361ff9c42593"
   },
   "outputs": [
    {
     "data": {
      "text/plain": [
       "tensor([[1.5000, 3.0000, 4.5000],\n",
       "        [6.0000, 7.5000, 9.0000]])"
      ]
     },
     "execution_count": 121,
     "metadata": {},
     "output_type": "execute_result"
    }
   ],
   "source": [
    "# Will automatically change that type as needed; for example, from int to float:\n",
    "tns*1.5"
   ]
  },
  {
   "cell_type": "markdown",
   "metadata": {
    "id": "j0ldl1MoJ8AJ"
   },
   "source": [
    "## Computing Metrics Using Broadcasting"
   ]
  },
  {
   "cell_type": "code",
   "execution_count": 122,
   "metadata": {
    "colab": {
     "base_uri": "https://localhost:8080/"
    },
    "id": "AQ5BExhRJ8AJ",
    "outputId": "9d52a523-e6ff-4737-a424-d0e8492df158"
   },
   "outputs": [
    {
     "data": {
      "text/plain": [
       "(torch.Size([1010, 28, 28]), torch.Size([1028, 28, 28]))"
      ]
     },
     "execution_count": 122,
     "metadata": {},
     "output_type": "execute_result"
    }
   ],
   "source": [
    "# Is the baseline measure any good. For that we need to define metrics\n",
    "# The mse or rmse are not understandable to most people - and we need to define accuracy as the metric for classification models\n",
    "# We want to calculate our metric over a validation set. This is so that we do not inadvertently overfit—that is, train a model \n",
    "# to work well only on our training data. A validation dataset has already been created.\n",
    "# Create tensors for our 3s and 7s from that directory. \n",
    "# These are the tensors we will use to calculate a metric measuring the quality of our first effort / try model, \n",
    "# which measures distance from an ideal image:\n",
    "# These computations are from the validation dataset.\n",
    "# Check the shapes as you go. There are two tensors here - one representing the 3s validation data set of 1010 images of size 28*28\n",
    "# and the other representing the 7s validation set of 1028 images of size 28*28\n",
    "valid_3_tens = torch.stack([tensor(Image.open(o)) \n",
    "                            for o in (path/'valid'/'3').ls()])\n",
    "valid_3_tens = valid_3_tens.float()/255\n",
    "valid_7_tens = torch.stack([tensor(Image.open(o)) \n",
    "                            for o in (path/'valid'/'7').ls()])\n",
    "valid_7_tens = valid_7_tens.float()/255\n",
    "valid_3_tens.shape,valid_7_tens.shape"
   ]
  },
  {
   "cell_type": "code",
   "execution_count": 123,
   "metadata": {
    "colab": {
     "base_uri": "https://localhost:8080/"
    },
    "id": "H1kbpuDxJ8AJ",
    "outputId": "45abf2d6-aa54-4044-8371-73df6a10e543"
   },
   "outputs": [
    {
     "data": {
      "text/plain": [
       "tensor(0.1114)"
      ]
     },
     "execution_count": 123,
     "metadata": {},
     "output_type": "execute_result"
    }
   ],
   "source": [
    "#Define a simple function that calculates the mean absolute error and apply it on the arbitrary chosen 3 - same value as before\n",
    "def mnist_distance(a,b): \n",
    "  return (a-b).abs().mean((-1,-2))\n",
    "mnist_distance(a_3, mean3)"
   ]
  },
  {
   "cell_type": "code",
   "execution_count": 124,
   "metadata": {
    "colab": {
     "base_uri": "https://localhost:8080/"
    },
    "id": "qJHaBYamJ8AO",
    "outputId": "70277a7b-a26a-4b45-a20c-910f0779cf16"
   },
   "outputs": [
    {
     "data": {
      "text/plain": [
       "(tensor([0.1366, 0.1413, 0.1489,  ..., 0.1327, 0.1455, 0.1337]),\n",
       " torch.Size([1010]))"
      ]
     },
     "execution_count": 124,
     "metadata": {},
     "output_type": "execute_result"
    },
    {
     "data": {
      "text/plain": [
       "1"
      ]
     },
     "execution_count": 124,
     "metadata": {},
     "output_type": "execute_result"
    }
   ],
   "source": [
    "# We need to calculate the distance to the ideal 3 for every image in teh validation set. Normally we would use a for loop \n",
    "# over all the simgle image tensors and that are stacked within our validation set tensor valid_3_tens, which has a shape of [1010,28,28] representing 1,010 images\n",
    "# PyTorch, when it tries to perform a simple subtraction operation between two tensors of different ranks, will use broadcasting: \n",
    "# it will automatically expand the tensor with the smaller rank to have the same size as the one with the larger rank. \n",
    "# Broadcasting is an important capability that makes tensor code much easier to write.\n",
    "valid_3_dist = mnist_distance(valid_3_tens, mean3)\n",
    "valid_3_dist, valid_3_dist.shape\n",
    "valid_3_dist.ndim"
   ]
  },
  {
   "cell_type": "code",
   "execution_count": 125,
   "metadata": {
    "colab": {
     "base_uri": "https://localhost:8080/"
    },
    "id": "2dewKJdMJ8AO",
    "outputId": "058ac8e9-34c7-4f62-ddb1-b98b5d5fd331"
   },
   "outputs": [
    {
     "data": {
      "text/plain": [
       "tensor([2, 3, 4])"
      ]
     },
     "execution_count": 125,
     "metadata": {},
     "output_type": "execute_result"
    }
   ],
   "source": [
    "# Another example\n",
    "tensor([1,2,3]) + tensor([1,1,1])"
   ]
  },
  {
   "cell_type": "code",
   "execution_count": 126,
   "metadata": {
    "colab": {
     "base_uri": "https://localhost:8080/",
     "height": 131
    },
    "id": "aA69s0gCJ8AO",
    "outputId": "9e6fc521-2bff-48d9-aef8-32b6af0119ce"
   },
   "outputs": [
    {
     "ename": "SyntaxError",
     "evalue": "ignored",
     "output_type": "error",
     "traceback": [
      "\u001b[0;36m  File \u001b[0;32m\"<ipython-input-126-02ed077a99d0>\"\u001b[0;36m, line \u001b[0;32m3\u001b[0m\n\u001b[0;31m    There are a couple of important points about how broadcasting is implemented, which make it valuable not just for expressivity\u001b[0m\n\u001b[0m            ^\u001b[0m\n\u001b[0;31mSyntaxError\u001b[0m\u001b[0;31m:\u001b[0m invalid syntax\n"
     ]
    }
   ],
   "source": [
    "# So in this case, PyTorch treats mean3, a rank-2 tensor representing a single image, \n",
    "# as if it were 1,010 copies of the same image, and then subtracts each of those copies from each 3 in our validation set.\n",
    "# There are a couple of important points about how broadcasting is implemented, which make it valuable not just for expressivity \n",
    "# but also for performance:\n",
    "\n",
    "# PyTorch does not actually copy mean3 1,010 times. It pretends it were a tensor of that shape, but does not allocate any additional memory\n",
    "# It does the whole calculation in C (or, if you’re using a GPU, in CUDA, the equivalent of C on the GPU), \n",
    "# tens of thousands of times faster than pure Python (up to millions of times faster on a GPU!).\n",
    "# This is true of all broadcasting and elementwise operations and functions done in PyTorch. \n",
    "# It is the most important technique for you to know to create efficient PyTorch code.\n",
    "# There is in mnist_distance the abs function. \n",
    "# You might be able to guess now what this does when applied to a tensor. \n",
    "# It applies the method to each individual element in the tensor, and returns a tensor of the results \n",
    "# (that is, it applies the method elementwise). So in this case, we’ll get back 1,010 matrices of absolute values.\n",
    "# Finally, our function calls mean((-1,-2)). \n",
    "# The tuple (-1,-2) represents a range of axes. In Python, -1 refers to the last element, and -2 refers to the second-to-last. \n",
    "# So in this case, this tells PyTorch that we want to take the mean ranging over the values indexed by the last two axes of the tensor. \n",
    "# The last two axes are the horizontal and vertical dimensions of an image. After taking the mean over the last two axes, \n",
    "# we are left with just the first tensor axis, which indexes over our images, which is why our final size was (1010). \n",
    "# In other words, for every image, we averaged the intensity of all the pixels in that image.\n",
    "(valid_3_tens-mean3).shape"
   ]
  },
  {
   "cell_type": "code",
   "execution_count": 127,
   "metadata": {
    "id": "ABTpdpQ5J8AP"
   },
   "outputs": [],
   "source": [
    "# We can use mnist_distance to figure out whether an image is a 3 by using the following logic: \n",
    "# If the distance between the digit in question and the ideal 3 is less than the distance to the ideal 7, then it’s a 3. \n",
    "# This function will automatically do broadcasting and be applied elementwise, just like all PyTorch functions and operators: \n",
    "def is_3(x): \n",
    "  return mnist_distance(x,mean3) < mnist_distance(x,mean7)"
   ]
  },
  {
   "cell_type": "code",
   "execution_count": 128,
   "metadata": {
    "colab": {
     "base_uri": "https://localhost:8080/"
    },
    "id": "XImrSgfIJ8AP",
    "outputId": "8550deda-5ce7-4cf2-c821-536b80a77f49"
   },
   "outputs": [
    {
     "data": {
      "text/plain": [
       "(tensor(True), tensor(1.))"
      ]
     },
     "execution_count": 128,
     "metadata": {},
     "output_type": "execute_result"
    }
   ],
   "source": [
    "# Test it out in our example case - Converting a Boolean response to a float - we get 1.0 for True and 0.0 for False\n",
    "is_3(a_3), is_3(a_3).float()"
   ]
  },
  {
   "cell_type": "code",
   "execution_count": 129,
   "metadata": {
    "colab": {
     "base_uri": "https://localhost:8080/"
    },
    "id": "FTpaTE2IJ8AP",
    "outputId": "63fd5586-2f34-4d46-9d9b-45d4c70613e4"
   },
   "outputs": [
    {
     "data": {
      "text/plain": [
       "tensor([ True,  True, False,  ...,  True,  True,  True])"
      ]
     },
     "execution_count": 129,
     "metadata": {},
     "output_type": "execute_result"
    }
   ],
   "source": [
    "# Test it out on the full validation set of 3s - 1010 images\n",
    "is_3(valid_3_tens)"
   ]
  },
  {
   "cell_type": "code",
   "execution_count": 130,
   "metadata": {
    "colab": {
     "base_uri": "https://localhost:8080/"
    },
    "id": "6_9gbEoMJ8AQ",
    "outputId": "e133f81b-a080-428b-962b-3c8eda84eae4"
   },
   "outputs": [
    {
     "data": {
      "text/plain": [
       "(tensor(0.9168), tensor(0.9854), tensor(0.9511))"
      ]
     },
     "execution_count": 130,
     "metadata": {},
     "output_type": "execute_result"
    }
   ],
   "source": [
    "# Now we can calculate the accuracy for each of the 3s and 7s, by taking the average of that function for all 3s and \n",
    "# its inverse for all 7s: Our classification accuracy is very good!!!\n",
    "accuracy_3s =      is_3(valid_3_tens).float() .mean()\n",
    "accuracy_7s = (1 - is_3(valid_7_tens).float()).mean()\n",
    "\n",
    "accuracy_3s,accuracy_7s,(accuracy_3s+accuracy_7s)/2"
   ]
  },
  {
   "cell_type": "markdown",
   "metadata": {
    "id": "C9XfVQxQJ8AQ"
   },
   "source": [
    "## Stochastic Gradient Descent (SGD)"
   ]
  },
  {
   "cell_type": "code",
   "execution_count": null,
   "metadata": {
    "id": "Ic6bKIGcOFQA"
   },
   "outputs": [],
   "source": []
  },
  {
   "cell_type": "code",
   "execution_count": 324,
   "metadata": {
    "colab": {
     "base_uri": "https://localhost:8080/",
     "height": 125
    },
    "id": "59qt83ayJ8AR",
    "outputId": "0048f2bc-7321-4274-e6df-ec9d3ce6dcb9"
   },
   "outputs": [
    {
     "data": {
      "image/svg+xml": [
       "<?xml version=\"1.0\" encoding=\"UTF-8\" standalone=\"no\"?>\n",
       "<!DOCTYPE svg PUBLIC \"-//W3C//DTD SVG 1.1//EN\"\n",
       " \"http://www.w3.org/Graphics/SVG/1.1/DTD/svg11.dtd\">\n",
       "<!-- Generated by graphviz version 2.40.1 (20161225.0304)\n",
       " -->\n",
       "<!-- Title: G Pages: 1 -->\n",
       "<svg width=\"597pt\" height=\"78pt\"\n",
       " viewBox=\"0.00 0.00 596.69 78.00\" xmlns=\"http://www.w3.org/2000/svg\" xmlns:xlink=\"http://www.w3.org/1999/xlink\">\n",
       "<g id=\"graph0\" class=\"graph\" transform=\"scale(1 1) rotate(0) translate(4 74)\">\n",
       "<title>G</title>\n",
       "<polygon fill=\"#ffffff\" stroke=\"transparent\" points=\"-4,4 -4,-74 592.6863,-74 592.6863,4 -4,4\"/>\n",
       "<!-- init -->\n",
       "<g id=\"node1\" class=\"node\">\n",
       "<title>init</title>\n",
       "<ellipse fill=\"none\" stroke=\"#000000\" cx=\"27\" cy=\"-18\" rx=\"27\" ry=\"18\"/>\n",
       "<text text-anchor=\"middle\" x=\"27\" y=\"-14.3\" font-family=\"Times,serif\" font-size=\"14.00\" fill=\"#000000\">init</text>\n",
       "</g>\n",
       "<!-- predict -->\n",
       "<g id=\"node2\" class=\"node\">\n",
       "<title>predict</title>\n",
       "<ellipse fill=\"none\" stroke=\"#000000\" cx=\"127.3968\" cy=\"-18\" rx=\"36.2938\" ry=\"18\"/>\n",
       "<text text-anchor=\"middle\" x=\"127.3968\" y=\"-14.3\" font-family=\"Times,serif\" font-size=\"14.00\" fill=\"#000000\">predict</text>\n",
       "</g>\n",
       "<!-- init&#45;&gt;predict -->\n",
       "<g id=\"edge1\" class=\"edge\">\n",
       "<title>init&#45;&gt;predict</title>\n",
       "<path fill=\"none\" stroke=\"#000000\" d=\"M54.1688,-18C62.3543,-18 71.5827,-18 80.6596,-18\"/>\n",
       "<polygon fill=\"#000000\" stroke=\"#000000\" points=\"80.7795,-21.5001 90.7795,-18 80.7795,-14.5001 80.7795,-21.5001\"/>\n",
       "</g>\n",
       "<!-- loss -->\n",
       "<g id=\"node3\" class=\"node\">\n",
       "<title>loss</title>\n",
       "<ellipse fill=\"none\" stroke=\"#000000\" cx=\"227.7935\" cy=\"-52\" rx=\"27\" ry=\"18\"/>\n",
       "<text text-anchor=\"middle\" x=\"227.7935\" y=\"-48.3\" font-family=\"Times,serif\" font-size=\"14.00\" fill=\"#000000\">loss</text>\n",
       "</g>\n",
       "<!-- predict&#45;&gt;loss -->\n",
       "<g id=\"edge2\" class=\"edge\">\n",
       "<title>predict&#45;&gt;loss</title>\n",
       "<path fill=\"none\" stroke=\"#000000\" d=\"M157.5191,-28.2011C168.9806,-32.0826 182.1139,-36.5303 193.9014,-40.5222\"/>\n",
       "<polygon fill=\"#000000\" stroke=\"#000000\" points=\"192.8259,-43.8532 203.4202,-43.7458 195.0713,-37.2231 192.8259,-43.8532\"/>\n",
       "</g>\n",
       "<!-- gradient -->\n",
       "<g id=\"node4\" class=\"node\">\n",
       "<title>gradient</title>\n",
       "<ellipse fill=\"none\" stroke=\"#000000\" cx=\"365.7399\" cy=\"-52\" rx=\"40.8928\" ry=\"18\"/>\n",
       "<text text-anchor=\"middle\" x=\"365.7399\" y=\"-48.3\" font-family=\"Times,serif\" font-size=\"14.00\" fill=\"#000000\">gradient</text>\n",
       "</g>\n",
       "<!-- loss&#45;&gt;gradient -->\n",
       "<g id=\"edge3\" class=\"edge\">\n",
       "<title>loss&#45;&gt;gradient</title>\n",
       "<path fill=\"none\" stroke=\"#000000\" d=\"M255.0473,-52C272.0415,-52 294.4481,-52 314.6545,-52\"/>\n",
       "<polygon fill=\"#000000\" stroke=\"#000000\" points=\"314.671,-55.5001 324.671,-52 314.671,-48.5001 314.671,-55.5001\"/>\n",
       "</g>\n",
       "<!-- step -->\n",
       "<g id=\"node5\" class=\"node\">\n",
       "<title>step</title>\n",
       "<ellipse fill=\"none\" stroke=\"#000000\" cx=\"470.6863\" cy=\"-18\" rx=\"27\" ry=\"18\"/>\n",
       "<text text-anchor=\"middle\" x=\"470.6863\" y=\"-14.3\" font-family=\"Times,serif\" font-size=\"14.00\" fill=\"#000000\">step</text>\n",
       "</g>\n",
       "<!-- gradient&#45;&gt;step -->\n",
       "<g id=\"edge4\" class=\"edge\">\n",
       "<title>gradient&#45;&gt;step</title>\n",
       "<path fill=\"none\" stroke=\"#000000\" d=\"M398.9456,-41.2422C410.9558,-37.3512 424.5297,-32.9536 436.6132,-29.0388\"/>\n",
       "<polygon fill=\"#000000\" stroke=\"#000000\" points=\"437.9112,-32.2975 446.3457,-25.8857 435.7537,-25.6382 437.9112,-32.2975\"/>\n",
       "</g>\n",
       "<!-- step&#45;&gt;predict -->\n",
       "<g id=\"edge6\" class=\"edge\">\n",
       "<title>step&#45;&gt;predict</title>\n",
       "<path fill=\"none\" stroke=\"#000000\" d=\"M443.4266,-18C384.9297,-18 246.7861,-18 174.0495,-18\"/>\n",
       "<polygon fill=\"#000000\" stroke=\"#000000\" points=\"173.8098,-14.5001 163.8098,-18 173.8097,-21.5001 173.8098,-14.5001\"/>\n",
       "<text text-anchor=\"middle\" x=\"289.7935\" y=\"-21.8\" font-family=\"Times,serif\" font-size=\"14.00\" fill=\"#000000\">repeat</text>\n",
       "</g>\n",
       "<!-- stop -->\n",
       "<g id=\"node6\" class=\"node\">\n",
       "<title>stop</title>\n",
       "<ellipse fill=\"none\" stroke=\"#000000\" cx=\"561.6863\" cy=\"-18\" rx=\"27\" ry=\"18\"/>\n",
       "<text text-anchor=\"middle\" x=\"561.6863\" y=\"-14.3\" font-family=\"Times,serif\" font-size=\"14.00\" fill=\"#000000\">stop</text>\n",
       "</g>\n",
       "<!-- step&#45;&gt;stop -->\n",
       "<g id=\"edge5\" class=\"edge\">\n",
       "<title>step&#45;&gt;stop</title>\n",
       "<path fill=\"none\" stroke=\"#000000\" d=\"M497.9893,-18C506.2676,-18 515.508,-18 524.3268,-18\"/>\n",
       "<polygon fill=\"#000000\" stroke=\"#000000\" points=\"524.4026,-21.5001 534.4025,-18 524.4025,-14.5001 524.4026,-21.5001\"/>\n",
       "</g>\n",
       "</g>\n",
       "</svg>\n"
      ],
      "text/plain": [
       "<graphviz.files.Source at 0x7f64633e0cd0>"
      ]
     },
     "execution_count": 324,
     "metadata": {},
     "output_type": "execute_result"
    }
   ],
   "source": [
    "# As we discussed, this is the key to allowing us to have a model that can get better and better—that can learn. \n",
    "# But our pixel similarity approach does not really do this. \n",
    "# We do not have any kind of weight assignment, or any way of improving based on testing the effectiveness of a weight assignment. \n",
    "# In other words, we cannot really improve our pixel similarity approach by modifying a set of parameters. \n",
    "# To take advantage of the power of deep learning, we will first have to represent our task in the way that alters the weight assignment\n",
    "# so as to maximize perfromance.\n",
    "# Instead of trying to find the similarity between an image and an “ideal image,” \n",
    "# we could instead look at each individual pixel and come up with a set of weights for each, \n",
    "# such that the highest weights are associated with those pixels most likely to be black for a particular category. \n",
    "# For instance, pixels toward the bottom right are not very likely to be activated for a 7, \n",
    "# so they should have a low weight for a 7, but they are likely to be activated for an 3, \n",
    "# so they should have a high weight for an 3. \n",
    "# This can be represented as a function and set of weight values for each possible category—for instance, \n",
    "# the probability of being the number 3:\n",
    "\n",
    "def pr_three(x, w): \n",
    "  return (x*w).sum()\n",
    "\n",
    "gv('''\n",
    "init->predict->loss->gradient->step->stop\n",
    "step->predict[label=repeat]\n",
    "''')\n"
   ]
  },
  {
   "cell_type": "code",
   "execution_count": 131,
   "metadata": {
    "id": "RWQvz9GZOdY8"
   },
   "outputs": [],
   "source": [
    "# To be more specific, here are the steps required to turn this function into a machine learning classifier:\n",
    "# Initialize the weights. - We initialize the parameters to random values. \n",
    "     # This may sound surprising. There are certainly other choices we could make, such as initializing them to the percentage of \n",
    "     # times that pixel is activated for that category—but since we already know that we have a routine to improve these weights, \n",
    "     # it turns out that just starting with random weights works perfectly well.\n",
    "# For each image, use these weights to predict whether it appears to be a 3 or a 7.\n",
    "# Based on these predictions, calculate how good the model is (its loss).\n",
    "# Calculate the gradient, which measures for each weight how changing that weight would change the loss.\n",
    "     # We need to test the effectiveness of any current weight assignment in terms of actual performance. \n",
    "     # We need a function that will return a number that is small if the performance of the model is good \n",
    "     # (the standard approach is to treat a small loss as good and a large loss as bad, although this is just a convention).\n",
    "# Step (that is, change) all the weights based on that calculation.\n",
    "     # A simple way to figure out whether a weight should be increased a bit or decreased a bit would be just to try it: \n",
    "     # increase the weight by a small amount, and see if the loss goes up or down. \n",
    "     # Once you find the correct direction, you could then change that amount by a bit more, \n",
    "     # or a bit less, until you find an amount that works well. \n",
    "     # However, this is slow! As we will see, the magic of calculus allows us to directly figure out - using second derivatives\n",
    "     # in which direction, and by roughly how much, to change each weight, without having to try all these small changes. \n",
    "     # The way to do this is by calculating gradients. \n",
    "     # This is just a performance optimization; we would get exactly the same results by using the slower manual process as well.\n",
    "# Go back to step 2 and repeat the process.\n",
    "     # Once we have decided how many epochs to train the model for we apply that decision. \n",
    "     # For our digit classifier, we would keep training until the accuracy of the model started getting worse, or we ran out of time.\n",
    "# Iterate until you decide to stop the training process (for instance, because the model is good enough or you do not want to wait any longer).\n"
   ]
  },
  {
   "cell_type": "code",
   "execution_count": 132,
   "metadata": {
    "id": "G1u6u1-uJ8AR"
   },
   "outputs": [],
   "source": [
    "def f(x): return x**2"
   ]
  },
  {
   "cell_type": "code",
   "execution_count": 133,
   "metadata": {
    "colab": {
     "base_uri": "https://localhost:8080/",
     "height": 279
    },
    "id": "y6z55-7sJ8AT",
    "outputId": "45c5d8ca-f110-4262-b2db-70d754214105"
   },
   "outputs": [
    {
     "data": {
      "image/png": "[encoded data removed]",
      "text/plain": [
       "<Figure size 432x288 with 1 Axes>"
      ]
     },
     "metadata": {
      "needs_background": "light"
     },
     "output_type": "display_data"
    }
   ],
   "source": [
    "plot_function(f, 'x', 'x**2')"
   ]
  },
  {
   "cell_type": "code",
   "execution_count": 134,
   "metadata": {
    "colab": {
     "base_uri": "https://localhost:8080/",
     "height": 279
    },
    "id": "vHEXP2EaJ8AT",
    "outputId": "004b219b-6bb0-41fc-9132-afa3d79e3089"
   },
   "outputs": [
    {
     "data": {
      "image/png": "[encoded data removed]",
      "text/plain": [
       "<Figure size 432x288 with 1 Axes>"
      ]
     },
     "metadata": {
      "needs_background": "light"
     },
     "output_type": "display_data"
    }
   ],
   "source": [
    "# The sequence of steps we described earlier starts by picking a random value for a parameter, and calculating the value of the loss:\n",
    "# Now we look to see what would happen if we increased or decreased our parameter by a little bit—the adjustment. \n",
    "# This is simply the slope at a particular point:\n",
    "# We can change our weight by a little in the direction of the slope, calculate our loss and adjustment again, \n",
    "# and repeat this a few times. Eventually, we will get to the lowest point on our curve:\n",
    "plot_function(f, 'x', 'x**2')\n",
    "plt.scatter(-1.5, f(-1.5), color='red');"
   ]
  },
  {
   "cell_type": "markdown",
   "metadata": {
    "id": "HgwiQNUFJ8AU"
   },
   "source": [
    "### Calculating Gradients"
   ]
  },
  {
   "cell_type": "code",
   "execution_count": 155,
   "metadata": {
    "id": "5eG_fQuFJ8AU"
   },
   "outputs": [],
   "source": [
    "# Calculating gradients. We use calculus as a performance optimization; it allows us to more quickly calculate whether \n",
    "# our loss will go up or down when we adjust our parameters up or down. \n",
    "# In other words, the gradients will tell us how much we have to change each weight to make our model better.\n",
    "# You may remember from your high school calculus class that the derivative of a function tells you how much a change \n",
    "# in its parameters will change its result. \n",
    "# The key point about a derivative is this: for any function, such as the quadratic function we saw in the previous section, \n",
    "# we can calculate its derivative. The derivative is another function. \n",
    "# It calculates the change, rather than the value. For instance, the derivative of the quadratic function at the value 3 \n",
    "# tells us how rapidly the function changes at the value 3. More specifically, you may recall that gradient is defined as rise/run; \n",
    "# It tells us the change in the value of the function, divided by the change in the value of the parameter. \n",
    "# When we know how our function will change, we know what we need to do to make it smaller. \n",
    "# This is the key to machine learning: having a way to change the parameters of a function to make it smaller. \n",
    "# Calculus provides us with a computational shortcut, the derivative, which lets us directly calculate the gradients of our functions.\n",
    "# One important thing to be aware of is that our function has lots of weights that we need to adjust, \n",
    "# so when we calculate the derivative, we will not get back one number, but\n",
    "# multiple numbers — a gradient for every weight. But there is nothing mathematically tricky here; \n",
    "# you can calculate the derivative with respect to one weight and treat all the other ones as constant, \n",
    "# and then repeat that for each other weight. This is how all of the gradients are calculated, for every weight.\n",
    "# PyTorch is able to automatically compute the derivative of nearly any function! \n",
    "# First, let’s pick a tensor value at which we want gradients using the requires_grad_ function\n",
    "\n",
    "xt = tensor(3.).requires_grad_()\n",
    "xt_7 = tensor(7.).requires_grad_()\n"
   ]
  },
  {
   "cell_type": "code",
   "execution_count": 163,
   "metadata": {
    "colab": {
     "base_uri": "https://localhost:8080/",
     "height": 35
    },
    "id": "dY6JWiIhJ8AU",
    "outputId": "e52a6035-99f3-4978-a13c-f3f4a5d2c2a0"
   },
   "outputs": [
    {
     "data": {
      "text/plain": [
       "tensor(125., grad_fn=<SumBackward0>)"
      ]
     },
     "execution_count": 163,
     "metadata": {},
     "output_type": "execute_result"
    },
    {
     "data": {
      "application/vnd.google.colaboratory.intrinsic+json": {
       "type": "string"
      },
      "text/plain": [
       "','"
      ]
     },
     "execution_count": 163,
     "metadata": {},
     "output_type": "execute_result"
    },
    {
     "data": {
      "text/plain": [
       "tensor(49., grad_fn=<SumBackward0>)"
      ]
     },
     "execution_count": 163,
     "metadata": {},
     "output_type": "execute_result"
    }
   ],
   "source": [
    "# Now we calculate our function with that value. \n",
    "# Notice how PyTorch prints not just the value calculated, but also a note that it has a gradient function it will be \n",
    "# using to calculate our gradients when needed:\n",
    "yt = f(xt)\n",
    "yt\n",
    "','\n",
    "yt_7 = f(xt_7)\n",
    "yt_7"
   ]
  },
  {
   "cell_type": "code",
   "execution_count": 153,
   "metadata": {
    "id": "HIsIqqPMJ8AV"
   },
   "outputs": [],
   "source": [
    "# The “backward” here refers to backpropagation, which is the name given to the process of calculating the derivative of each layer. \n",
    "# This is called the backward pass of the network, as opposed to the forward pass, which is where the activations are calculated.\n",
    "yt.backward()"
   ]
  },
  {
   "cell_type": "code",
   "execution_count": 154,
   "metadata": {
    "colab": {
     "base_uri": "https://localhost:8080/"
    },
    "id": "JajAiYFWJ8AV",
    "outputId": "4ca80572-59ea-402c-a87b-4da544c9240f"
   },
   "outputs": [
    {
     "data": {
      "text/plain": [
       "tensor(6.)"
      ]
     },
     "execution_count": 154,
     "metadata": {},
     "output_type": "execute_result"
    }
   ],
   "source": [
    "# We can now view the gradients by checking the grad attribute of our tensor:\n",
    "# If you remember your high school calculus rules, the derivative of x**2 is 2*x, and we have x=3, \n",
    "# so the gradients should be 2*3=6, which is what PyTorch calculated for us!\n",
    "xt.grad"
   ]
  },
  {
   "cell_type": "code",
   "execution_count": 157,
   "metadata": {
    "colab": {
     "base_uri": "https://localhost:8080/"
    },
    "id": "OMwX3mk8J8AW",
    "outputId": "b9d373fa-2da6-4d33-f7cf-78d303493489"
   },
   "outputs": [
    {
     "data": {
      "text/plain": [
       "tensor([ 3.,  4., 10.], requires_grad=True)"
      ]
     },
     "execution_count": 157,
     "metadata": {},
     "output_type": "execute_result"
    }
   ],
   "source": [
    "# Repeat the preceding steps, but with a vector argument for our function:\n",
    "xt = tensor([3.,4.,10.]).requires_grad_()\n",
    "xt"
   ]
  },
  {
   "cell_type": "code",
   "execution_count": 158,
   "metadata": {
    "colab": {
     "base_uri": "https://localhost:8080/"
    },
    "id": "3ftoRVa-J8AW",
    "outputId": "bf88effe-df56-4a8d-bcac-2388ef3eb0f3"
   },
   "outputs": [
    {
     "data": {
      "text/plain": [
       "tensor(125., grad_fn=<SumBackward0>)"
      ]
     },
     "execution_count": 158,
     "metadata": {},
     "output_type": "execute_result"
    }
   ],
   "source": [
    "# Add sum to our function so it can take a vector (i.e., a rank-1 tensor) and return a scalar (i.e., a rank-0 tensor):\n",
    "def f(x): \n",
    "  return (x**2).sum()\n",
    "\n",
    "yt = f(xt)\n",
    "yt"
   ]
  },
  {
   "cell_type": "code",
   "execution_count": 164,
   "metadata": {
    "colab": {
     "base_uri": "https://localhost:8080/"
    },
    "id": "KqgPxtovJ8AX",
    "outputId": "84c4322b-b29f-492d-920e-1eb8dc9f6fca"
   },
   "outputs": [
    {
     "data": {
      "text/plain": [
       "tensor([ 6.,  8., 20.])"
      ]
     },
     "execution_count": 164,
     "metadata": {},
     "output_type": "execute_result"
    }
   ],
   "source": [
    "# Our gradients are 2*xt, as we’d expect!\n",
    "# The gradients tell us only the slope of our function; they do not tell us exactly how far to adjust the parameters. \n",
    "# But they do give us some idea of how far: if the slope is very large, that may suggest that we have more adjustments to do, \n",
    "# whereas if the slope is very small, that may suggest that we are close to the optimal value.\n",
    "yt.backward()\n",
    "xt.grad"
   ]
  },
  {
   "cell_type": "code",
   "execution_count": 166,
   "metadata": {
    "id": "GBJlAC40A4zc"
   },
   "outputs": [],
   "source": [
    "# Deciding how to change our parameters based on the values of the gradients is an important part of the deep learning process. \n",
    "# Nearly all approaches start with the basic idea of multiplying the gradient by some small number, called the learning rate (LR). \n",
    "# The learning rate is often a number between 0.001 and 0.1, although it could be anything. \n",
    "# Once you’ve picked a learning rate, you can adjust your parameters using this simple function:\n"
   ]
  },
  {
   "cell_type": "markdown",
   "metadata": {
    "id": "678NxitLJ8AX"
   },
   "source": [
    "### Stepping With a Learning Rate"
   ]
  },
  {
   "cell_type": "markdown",
   "metadata": {
    "id": "dlC-yYoHJ8AX"
   },
   "source": [
    "### An End-to-End SGD Example"
   ]
  },
  {
   "cell_type": "code",
   "execution_count": 280,
   "metadata": {
    "colab": {
     "base_uri": "https://localhost:8080/"
    },
    "id": "2-WXihDYJ8AX",
    "outputId": "89af90e4-ae3c-49f4-bfe2-73fed8261c60"
   },
   "outputs": [
    {
     "data": {
      "text/plain": [
       "tensor([ 0.,  1.,  2.,  3.,  4.,  5.,  6.,  7.,  8.,  9., 10., 11., 12., 13., 14., 15., 16., 17., 18., 19., 20., 21., 22., 23., 24., 25., 26., 27., 28., 29.])"
      ]
     },
     "execution_count": 280,
     "metadata": {},
     "output_type": "execute_result"
    }
   ],
   "source": [
    "# We have seen how to use gradients to minimize our loss. Now it is time to look at an SGD example and see how finding a minimum \n",
    "# can be used to train a model to fit data better.\n",
    "# Let us start with a simple, synthetic example model. Imagine you were measuring the speed of a roller coaster \n",
    "# as it went over the top of a hump. It would start fast, and then get slower as it went up the hill; \n",
    "# it would be slowest at the top, and it would then speed up again as it went downhill. \n",
    "# You want to build a model of how the speed changes over time. \n",
    "# If you were measuring the speed manually every second for 20 seconds, it might look something like this:\n",
    "time = torch.arange(0,30).float(); time"
   ]
  },
  {
   "cell_type": "code",
   "execution_count": 281,
   "metadata": {
    "colab": {
     "base_uri": "https://localhost:8080/",
     "height": 269
    },
    "id": "i-mwnE6bJ8AX",
    "outputId": "71d4322b-800b-4448-c34a-23bc8f8b728d"
   },
   "outputs": [
    {
     "data": {
      "image/png": "[encoded data removed]",
      "text/plain": [
       "<Figure size 432x288 with 1 Axes>"
      ]
     },
     "metadata": {
      "needs_background": "light"
     },
     "output_type": "display_data"
    }
   ],
   "source": [
    "speed = torch.randn(30)*3 + 0.75*(time-9.5)**2 + 1\n",
    "plt.scatter(time,speed);"
   ]
  },
  {
   "cell_type": "code",
   "execution_count": 282,
   "metadata": {
    "id": "F-MWGOLMJ8AX"
   },
   "outputs": [],
   "source": [
    "# We have added a bit of random noise, since measuring things manually is not precise.\n",
    "# This means it is not that easy to answer the question: what was the roller coaster’s speed? \n",
    "# Using SGD, we can try to find a function that matches our observations. \n",
    "# We cannot consider every possible function, so let us use a guess that it will be quadratic; \n",
    "# i.e., a function of the form a*(time**2)+(b*time)+c.\n",
    "# We want to distinguish clearly between the function’s input (the time when we are measuring the coaster’s speed) \n",
    "# and its parameters (the values that define which quadratic we’re trying). \n",
    "# So let us collect the parameters in one argument and thus separate the input, t, and the parameters, params, \n",
    "# in the function’s signature:def f(t, params):\n",
    "def f(t, params):\n",
    "    a,b,c = params\n",
    "    return a*(t**2) + (b*t) + c"
   ]
  },
  {
   "cell_type": "code",
   "execution_count": 283,
   "metadata": {
    "id": "H_lFBeRtJ8AY"
   },
   "outputs": [],
   "source": [
    "# In other words, we have restricted the problem of finding the best imaginable function that fits the data to finding the best \n",
    "# quadratic function. This greatly simplifies the problem, since every quadratic function is fully defined by the \n",
    "# three parameters a, b, and c. Thus, to find the best quadratic function, we need to find only the best values for a, b, and c.\n",
    "\n",
    "# If we can solve this problem for the three parameters of a quadratic function, we will be able to apply the same approach for other, \n",
    "# more complex functions with more parameters—such as a neural net. Let us find the parameters for f first, and then we will come back \n",
    "# and do the same thing for the MNIST dataset with a neural net.\n",
    "\n",
    "# We need to define first what we mean by “best.” We define this precisely by choosing a loss function, \n",
    "# which will return a value based on a prediction and a target, where lower values of the function correspond to “better” predictions. \n",
    "# For continuous data, it’s common to use mean squared error:def mse(preds, targets): return ((preds-targets)**2).mean().sqrt()"
   ]
  },
  {
   "cell_type": "markdown",
   "metadata": {
    "id": "iu5aJgZqJ8AY"
   },
   "source": [
    "#### Step 1: Initialize the parameters"
   ]
  },
  {
   "cell_type": "code",
   "execution_count": 284,
   "metadata": {
    "id": "q0L3QXY-J8AY"
   },
   "outputs": [],
   "source": [
    "# First, we initialize the parameters to random values and tell PyTorch that we want to track their gradients using requires_grad_:\n",
    "\n",
    "params = torch.randn(3).requires_grad_() "
   ]
  },
  {
   "cell_type": "code",
   "execution_count": 285,
   "metadata": {
    "id": "p-uTUr_8J8AY"
   },
   "outputs": [],
   "source": [
    "#hide\n",
    "orig_params = params.clone() "
   ]
  },
  {
   "cell_type": "markdown",
   "metadata": {
    "id": "BZvSybL_J8AZ"
   },
   "source": [
    "#### Step 2: Calculate the predictions"
   ]
  },
  {
   "cell_type": "code",
   "execution_count": 286,
   "metadata": {
    "id": "Quyc4y8bJ8AZ"
   },
   "outputs": [],
   "source": [
    "preds = f(time, params)"
   ]
  },
  {
   "cell_type": "code",
   "execution_count": 287,
   "metadata": {
    "id": "hEZOhrVVJ8AZ"
   },
   "outputs": [],
   "source": [
    "# Let us create a little function to see how close our predictions are to our targets, and take a look:\n",
    "def show_preds(preds, ax=None):\n",
    "    if ax is None: ax=plt.subplots()[1]\n",
    "    ax.scatter(time, speed)\n",
    "    ax.scatter(time, to_np(preds), color='red')\n",
    "    ax.set_ylim(-300,100) "
   ]
  },
  {
   "cell_type": "code",
   "execution_count": 288,
   "metadata": {
    "colab": {
     "base_uri": "https://localhost:8080/",
     "height": 269
    },
    "id": "YsHHTjTEJ8AZ",
    "outputId": "8efcc2de-1485-4c4e-995f-dc64838f5418"
   },
   "outputs": [
    {
     "data": {
      "image/png": "[encoded data removed]",
      "text/plain": [
       "<Figure size 432x288 with 1 Axes>"
      ]
     },
     "metadata": {
      "needs_background": "light"
     },
     "output_type": "display_data"
    }
   ],
   "source": [
    "# This does not look good. Our random parameters suggest that the roller coaster will end up going backward, since we have negative speeds!\n",
    "show_preds(preds)"
   ]
  },
  {
   "cell_type": "markdown",
   "metadata": {
    "id": "CBUPwABOJ8AZ"
   },
   "source": [
    "#### Step 3: Calculate the loss"
   ]
  },
  {
   "cell_type": "code",
   "execution_count": 289,
   "metadata": {
    "colab": {
     "base_uri": "https://localhost:8080/"
    },
    "id": "HPZvlakUJ8AZ",
    "outputId": "0b547af6-7d34-4650-f0b4-b606bc0a625b"
   },
   "outputs": [
    {
     "data": {
      "text/plain": [
       "TensorBase(454777.5625, grad_fn=<AliasBackward0>)"
      ]
     },
     "execution_count": 289,
     "metadata": {},
     "output_type": "execute_result"
    }
   ],
   "source": [
    "# We calculate the loss as follows:\n",
    "loss = mse(preds, speed)\n",
    "loss"
   ]
  },
  {
   "cell_type": "markdown",
   "metadata": {
    "id": "5vxeecBSJ8AZ"
   },
   "source": [
    "#### Step 4: Calculate the gradients"
   ]
  },
  {
   "cell_type": "code",
   "execution_count": 290,
   "metadata": {
    "colab": {
     "base_uri": "https://localhost:8080/"
    },
    "id": "6uXw8GieJ8Aa",
    "outputId": "84dffa40-3b87-462a-caa4-d7c7d571b230"
   },
   "outputs": [
    {
     "data": {
      "text/plain": [
       "tensor([-519768.5625,  -21897.7402,    -995.5009])"
      ]
     },
     "execution_count": 290,
     "metadata": {},
     "output_type": "execute_result"
    }
   ],
   "source": [
    "# Our goal is now to improve the loss function shown below. To do that, we will need to know the gradients.\n",
    "# The next step is to calculate the gradients, or an approximation of how the parameters need to change:\n",
    "\n",
    "loss.backward()\n",
    "params.grad"
   ]
  },
  {
   "cell_type": "code",
   "execution_count": 291,
   "metadata": {
    "colab": {
     "base_uri": "https://localhost:8080/"
    },
    "id": "OQEKNwGIJ8Aa",
    "outputId": "6bee60c9-a988-4cdc-e935-8a7fc217eff1"
   },
   "outputs": [
    {
     "data": {
      "text/plain": [
       "tensor([-5.1977, -0.2190, -0.0100])"
      ]
     },
     "execution_count": 291,
     "metadata": {},
     "output_type": "execute_result"
    }
   ],
   "source": [
    "# Multiplying with a learning parameter - 1/100000\n",
    "params.grad * 1e-5"
   ]
  },
  {
   "cell_type": "code",
   "execution_count": 292,
   "metadata": {
    "colab": {
     "base_uri": "https://localhost:8080/"
    },
    "collapsed": true,
    "id": "vqW2xp7nJ8Aa",
    "outputId": "db35aad6-9fe9-483f-cba4-4bdce21d4d33"
   },
   "outputs": [
    {
     "data": {
      "text/plain": [
       "tensor([-1.4220, -1.1712,  1.1226], requires_grad=True)"
      ]
     },
     "execution_count": 292,
     "metadata": {},
     "output_type": "execute_result"
    }
   ],
   "source": [
    "params"
   ]
  },
  {
   "cell_type": "markdown",
   "metadata": {
    "id": "DRFOlO7sJ8Aa"
   },
   "source": [
    "#### Step 5: Step the weights. "
   ]
  },
  {
   "cell_type": "code",
   "execution_count": 293,
   "metadata": {
    "id": "0nlWlz23J8Aa"
   },
   "outputs": [],
   "source": [
    "# Update the parameters based on the gradients we calculated\n",
    "lr = 1e-5\n",
    "params.data -= lr * params.grad.data\n",
    "params.grad = None"
   ]
  },
  {
   "cell_type": "code",
   "execution_count": 294,
   "metadata": {
    "colab": {
     "base_uri": "https://localhost:8080/"
    },
    "id": "YDdtt5FDJ8Ab",
    "outputId": "040eb3ee-8dd7-407b-aa9c-10c50d9c5390"
   },
   "outputs": [
    {
     "data": {
      "text/plain": [
       "TensorBase(1782750.8750, grad_fn=<AliasBackward0>)"
      ]
     },
     "execution_count": 294,
     "metadata": {},
     "output_type": "execute_result"
    }
   ],
   "source": [
    "# Has the loss improved?\n",
    "preds = f(time,params)\n",
    "mse(preds, speed)"
   ]
  },
  {
   "cell_type": "code",
   "execution_count": 186,
   "metadata": {
    "colab": {
     "base_uri": "https://localhost:8080/",
     "height": 269
    },
    "id": "7GaQPdfyJ8Ac",
    "outputId": "a51c31b9-7be5-42f9-d8d1-1992023e2a67"
   },
   "outputs": [
    {
     "data": {
      "image/png": "[encoded data removed]",
      "text/plain": [
       "<Figure size 432x288 with 1 Axes>"
      ]
     },
     "metadata": {
      "needs_background": "light"
     },
     "output_type": "display_data"
    }
   ],
   "source": [
    "show_preds(preds)"
   ]
  },
  {
   "cell_type": "code",
   "execution_count": 295,
   "metadata": {
    "id": "WcB90uG9J8Ad"
   },
   "outputs": [],
   "source": [
    "def apply_step(params, prn=True):\n",
    "    preds = f(time, params)\n",
    "    loss = mse(preds, speed)\n",
    "    loss.backward()\n",
    "    params.data -= lr * params.grad.data\n",
    "    params.grad = None\n",
    "    if prn: print(loss.item())\n",
    "    return preds"
   ]
  },
  {
   "cell_type": "markdown",
   "metadata": {
    "id": "q3BiFoVxJ8Ad"
   },
   "source": [
    "#### Step 6: Repeat the process "
   ]
  },
  {
   "cell_type": "code",
   "execution_count": 296,
   "metadata": {
    "colab": {
     "base_uri": "https://localhost:8080/"
    },
    "id": "cauiFA8nJ8Ad",
    "outputId": "78551e90-44a2-41ca-b573-43954bbf514c"
   },
   "outputs": [
    {
     "name": "stdout",
     "output_type": "stream",
     "text": [
      "1782750.875\n"
     ]
    },
    {
     "data": {
      "text/plain": [
       "tensor([1.1326e+00, 3.9559e+00, 1.4331e+01, 3.2256e+01, 5.7734e+01, 9.0762e+01, 1.3134e+02, 1.7947e+02, 2.3516e+02, 2.9839e+02, 3.6917e+02, 4.4751e+02, 5.3340e+02, 6.2684e+02, 7.2783e+02, 8.3637e+02,\n",
       "        9.5246e+02, 1.0761e+03, 1.2073e+03, 1.3460e+03, 1.4923e+03, 1.6462e+03, 1.8076e+03, 1.9765e+03, 2.1530e+03, 2.3371e+03, 2.5287e+03, 2.7279e+03, 2.9346e+03, 3.1488e+03],\n",
       "       grad_fn=<AddBackward0>)"
      ]
     },
     "execution_count": 296,
     "metadata": {},
     "output_type": "execute_result"
    },
    {
     "name": "stdout",
     "output_type": "stream",
     "text": [
      "6996082.5\n"
     ]
    },
    {
     "data": {
      "text/plain": [
       "tensor([ 1.1128e+00, -6.8001e+00, -2.7758e+01, -6.1762e+01, -1.0881e+02, -1.6891e+02, -2.4204e+02, -3.2823e+02, -4.2746e+02, -5.3974e+02, -6.6506e+02, -8.0342e+02, -9.5483e+02, -1.1193e+03,\n",
       "        -1.2968e+03, -1.4873e+03, -1.6909e+03, -1.9076e+03, -2.1373e+03, -2.3800e+03, -2.6358e+03, -2.9046e+03, -3.1864e+03, -3.4814e+03, -3.7893e+03, -4.1103e+03, -4.4444e+03, -4.7914e+03,\n",
       "        -5.1516e+03, -5.5248e+03], grad_fn=<AddBackward0>)"
      ]
     },
     "execution_count": 296,
     "metadata": {},
     "output_type": "execute_result"
    },
    {
     "name": "stdout",
     "output_type": "stream",
     "text": [
      "27462478.0\n"
     ]
    },
    {
     "data": {
      "text/plain": [
       "tensor([1.1519e+00, 1.4507e+01, 5.5627e+01, 1.2451e+02, 2.2116e+02, 3.4557e+02, 4.9775e+02, 6.7769e+02, 8.8540e+02, 1.1209e+03, 1.3841e+03, 1.6751e+03, 1.9939e+03, 2.3404e+03, 2.7147e+03, 3.1167e+03,\n",
       "        3.5466e+03, 4.0041e+03, 4.4895e+03, 5.0026e+03, 5.5435e+03, 6.1121e+03, 6.7085e+03, 7.3327e+03, 7.9846e+03, 8.6643e+03, 9.3718e+03, 1.0107e+04, 1.0870e+04, 1.1661e+04],\n",
       "       grad_fn=<AddBackward0>)"
      ]
     },
     "execution_count": 296,
     "metadata": {},
     "output_type": "execute_result"
    },
    {
     "name": "stdout",
     "output_type": "stream",
     "text": [
      "107809112.0\n"
     ]
    },
    {
     "data": {
      "text/plain": [
       "tensor([ 1.0744e+00, -2.7714e+01, -1.0960e+02, -2.4457e+02, -4.3264e+02, -6.7381e+02, -9.6807e+02, -1.3154e+03, -1.7159e+03, -2.1694e+03, -2.6760e+03, -3.2358e+03, -3.8486e+03, -4.5145e+03,\n",
       "        -5.2335e+03, -6.0056e+03, -6.8308e+03, -7.7091e+03, -8.6405e+03, -9.6250e+03, -1.0663e+04, -1.1753e+04, -1.2897e+04, -1.4094e+04, -1.5344e+04, -1.6647e+04, -1.8003e+04, -1.9412e+04,\n",
       "        -2.0874e+04, -2.2390e+04], grad_fn=<AddBackward0>)"
      ]
     },
     "execution_count": 296,
     "metadata": {},
     "output_type": "execute_result"
    },
    {
     "name": "stdout",
     "output_type": "stream",
     "text": [
      "423232288.0\n"
     ]
    },
    {
     "data": {
      "text/plain": [
       "tensor([1.2280e+00, 5.5938e+01, 2.1776e+02, 4.8671e+02, 8.6276e+02, 1.3459e+03, 1.9362e+03, 2.6336e+03, 3.4381e+03, 4.3498e+03, 5.3685e+03, 6.4944e+03, 7.7274e+03, 9.0675e+03, 1.0515e+04, 1.2069e+04,\n",
       "        1.3730e+04, 1.5499e+04, 1.7375e+04, 1.9357e+04, 2.1447e+04, 2.3644e+04, 2.5949e+04, 2.8360e+04, 3.0878e+04, 3.3504e+04, 3.6236e+04, 3.9076e+04, 4.2023e+04, 4.5077e+04],\n",
       "       grad_fn=<AddBackward0>)"
      ]
     },
     "execution_count": 296,
     "metadata": {},
     "output_type": "execute_result"
    },
    {
     "name": "stdout",
     "output_type": "stream",
     "text": [
      "1661515520.0\n"
     ]
    },
    {
     "data": {
      "text/plain": [
       "tensor([ 9.2367e-01, -1.0981e+02, -4.3086e+02, -9.6223e+02, -1.7039e+03, -2.6559e+03, -3.8182e+03, -5.1909e+03, -6.7738e+03, -8.5671e+03, -1.0571e+04, -1.2785e+04, -1.5209e+04, -1.7843e+04,\n",
       "        -2.0688e+04, -2.3743e+04, -2.7009e+04, -3.0485e+04, -3.4171e+04, -3.8067e+04, -4.2174e+04, -4.6491e+04, -5.1018e+04, -5.5756e+04, -6.0704e+04, -6.5862e+04, -7.1231e+04, -7.6810e+04,\n",
       "        -8.2599e+04, -8.8599e+04], grad_fn=<AddBackward0>)"
      ]
     },
     "execution_count": 296,
     "metadata": {},
     "output_type": "execute_result"
    },
    {
     "name": "stdout",
     "output_type": "stream",
     "text": [
      "6522742272.0\n"
     ]
    },
    {
     "data": {
      "text/plain": [
       "tensor([1.5266e+00, 2.1859e+02, 8.5429e+02, 1.9086e+03, 3.3816e+03, 5.2732e+03, 7.5834e+03, 1.0312e+04, 1.3460e+04, 1.7026e+04, 2.1011e+04, 2.5414e+04, 3.0236e+04, 3.5477e+04, 4.1136e+04, 4.7214e+04,\n",
       "        5.3710e+04, 6.0625e+04, 6.7959e+04, 7.5712e+04, 8.3883e+04, 9.2472e+04, 1.0148e+05, 1.1091e+05, 1.2075e+05, 1.3102e+05, 1.4170e+05, 1.5280e+05, 1.6432e+05, 1.7626e+05],\n",
       "       grad_fn=<AddBackward0>)"
      ]
     },
     "execution_count": 296,
     "metadata": {},
     "output_type": "execute_result"
    },
    {
     "name": "stdout",
     "output_type": "stream",
     "text": [
      "25606846464.0\n"
     ]
    },
    {
     "data": {
      "text/plain": [
       "tensor([ 3.3201e-01, -4.3210e+02, -1.6921e+03, -3.7796e+03, -6.6946e+03, -1.0437e+04, -1.5007e+04, -2.0405e+04, -2.6630e+04, -3.3683e+04, -4.1563e+04, -5.0271e+04, -5.9806e+04, -7.0169e+04,\n",
       "        -8.1360e+04, -9.3378e+04, -1.0622e+05, -1.1990e+05, -1.3440e+05, -1.4972e+05, -1.6588e+05, -1.8286e+05, -2.0067e+05, -2.1931e+05, -2.3878e+05, -2.5907e+05, -2.8019e+05, -3.0214e+05,\n",
       "        -3.2492e+05, -3.4852e+05], grad_fn=<AddBackward0>)"
      ]
     },
     "execution_count": 296,
     "metadata": {},
     "output_type": "execute_result"
    },
    {
     "name": "stdout",
     "output_type": "stream",
     "text": [
      "100526882816.0\n"
     ]
    },
    {
     "data": {
      "text/plain": [
       "tensor([2.6988e+00, 8.5716e+02, 3.3532e+03, 7.4908e+03, 1.3270e+04, 2.0691e+04, 2.9753e+04, 4.0457e+04, 5.2802e+04, 6.6789e+04, 8.2418e+04, 9.9688e+04, 1.1860e+05, 1.3915e+05, 1.6135e+05, 1.8518e+05,\n",
       "        2.1066e+05, 2.3778e+05, 2.6654e+05, 2.9695e+05, 3.2899e+05, 3.6268e+05, 3.9800e+05, 4.3497e+05, 4.7358e+05, 5.1383e+05, 5.5573e+05, 5.9926e+05, 6.4444e+05, 6.9126e+05],\n",
       "       grad_fn=<AddBackward0>)"
      ]
     },
     "execution_count": 296,
     "metadata": {},
     "output_type": "execute_result"
    },
    {
     "name": "stdout",
     "output_type": "stream",
     "text": [
      "394646716416.0\n"
     ]
    },
    {
     "data": {
      "text/plain": [
       "tensor([-1.9907e+00, -1.6973e+03, -6.6433e+03, -1.4840e+04, -2.6287e+04, -4.0985e+04, -5.8933e+04, -8.0132e+04, -1.0458e+05, -1.3228e+05, -1.6323e+05, -1.9743e+05, -2.3489e+05, -2.7559e+05,\n",
       "        -3.1954e+05, -3.6675e+05, -4.1720e+05, -4.7091e+05, -5.2786e+05, -5.8807e+05, -6.5153e+05, -7.1823e+05, -7.8819e+05, -8.6140e+05, -9.3786e+05, -1.0176e+06, -1.1005e+06, -1.1867e+06,\n",
       "        -1.2762e+06, -1.3689e+06], grad_fn=<AddBackward0>)"
      ]
     },
     "execution_count": 296,
     "metadata": {},
     "output_type": "execute_result"
    }
   ],
   "source": [
    "# Iterate and looping over the process, we can determien the improvement if any\n",
    "for i in range(10): apply_step(params)"
   ]
  },
  {
   "cell_type": "code",
   "execution_count": 189,
   "metadata": {
    "id": "zQOIKpIWJ8Ae"
   },
   "outputs": [],
   "source": [
    "#hide\n",
    "params = orig_params.detach().requires_grad_()"
   ]
  },
  {
   "cell_type": "code",
   "execution_count": 190,
   "metadata": {
    "colab": {
     "base_uri": "https://localhost:8080/",
     "height": 225
    },
    "id": "lLJJpjdrJ8Ae",
    "outputId": "58deee80-148c-41cb-a2f8-ea0edc48aa17"
   },
   "outputs": [
    {
     "data": {
      "image/png": "[encoded data removed]",
      "text/plain": [
       "<Figure size 864x216 with 4 Axes>"
      ]
     },
     "metadata": {
      "needs_background": "light"
     },
     "output_type": "display_data"
    }
   ],
   "source": [
    "# The loss is going down, just as we hoped! But looking only at these loss numbers disguises the fact that each iteration \n",
    "# represents an entirely different quadratic function being tried, on the way to finding the best possible quadratic function. \n",
    "# We can see this process visually if, instead of printing out the loss function, we plot the function at every step. \n",
    "# Then we can see how the shape is approaching the best possible quadratic function for our data:\n",
    "# We just decided to stop after 10 epochs arbitrarily. \n",
    "# In practice, we would watch the training and validation losses and our metrics to decide when to stop, as we’ve discussed.\n",
    "_,axs = plt.subplots(1,4,figsize=(12,3))\n",
    "for ax in axs: show_preds(apply_step(params, False), ax)\n",
    "plt.tight_layout()"
   ]
  },
  {
   "cell_type": "markdown",
   "metadata": {
    "id": "wAQ5Nh9LJ8Af"
   },
   "source": [
    "#### Step 7: stop"
   ]
  },
  {
   "cell_type": "markdown",
   "metadata": {
    "id": "iJQWUnXXJ8Ag"
   },
   "source": [
    "### Summarizing Gradient Descent"
   ]
  },
  {
   "cell_type": "code",
   "execution_count": 191,
   "metadata": {
    "colab": {
     "base_uri": "https://localhost:8080/",
     "height": 125
    },
    "id": "DGtSUl_OJ8Ag",
    "outputId": "de509e33-9038-47b0-e707-edf06e02b916"
   },
   "outputs": [
    {
     "data": {
      "image/svg+xml": [
       "<?xml version=\"1.0\" encoding=\"UTF-8\" standalone=\"no\"?>\n",
       "<!DOCTYPE svg PUBLIC \"-//W3C//DTD SVG 1.1//EN\"\n",
       " \"http://www.w3.org/Graphics/SVG/1.1/DTD/svg11.dtd\">\n",
       "<!-- Generated by graphviz version 2.40.1 (20161225.0304)\n",
       " -->\n",
       "<!-- Title: G Pages: 1 -->\n",
       "<svg width=\"597pt\" height=\"78pt\"\n",
       " viewBox=\"0.00 0.00 596.69 78.00\" xmlns=\"http://www.w3.org/2000/svg\" xmlns:xlink=\"http://www.w3.org/1999/xlink\">\n",
       "<g id=\"graph0\" class=\"graph\" transform=\"scale(1 1) rotate(0) translate(4 74)\">\n",
       "<title>G</title>\n",
       "<polygon fill=\"#ffffff\" stroke=\"transparent\" points=\"-4,4 -4,-74 592.6863,-74 592.6863,4 -4,4\"/>\n",
       "<!-- init -->\n",
       "<g id=\"node1\" class=\"node\">\n",
       "<title>init</title>\n",
       "<ellipse fill=\"none\" stroke=\"#000000\" cx=\"27\" cy=\"-18\" rx=\"27\" ry=\"18\"/>\n",
       "<text text-anchor=\"middle\" x=\"27\" y=\"-14.3\" font-family=\"Times,serif\" font-size=\"14.00\" fill=\"#000000\">init</text>\n",
       "</g>\n",
       "<!-- predict -->\n",
       "<g id=\"node2\" class=\"node\">\n",
       "<title>predict</title>\n",
       "<ellipse fill=\"none\" stroke=\"#000000\" cx=\"127.3968\" cy=\"-18\" rx=\"36.2938\" ry=\"18\"/>\n",
       "<text text-anchor=\"middle\" x=\"127.3968\" y=\"-14.3\" font-family=\"Times,serif\" font-size=\"14.00\" fill=\"#000000\">predict</text>\n",
       "</g>\n",
       "<!-- init&#45;&gt;predict -->\n",
       "<g id=\"edge1\" class=\"edge\">\n",
       "<title>init&#45;&gt;predict</title>\n",
       "<path fill=\"none\" stroke=\"#000000\" d=\"M54.1688,-18C62.3543,-18 71.5827,-18 80.6596,-18\"/>\n",
       "<polygon fill=\"#000000\" stroke=\"#000000\" points=\"80.7795,-21.5001 90.7795,-18 80.7795,-14.5001 80.7795,-21.5001\"/>\n",
       "</g>\n",
       "<!-- loss -->\n",
       "<g id=\"node3\" class=\"node\">\n",
       "<title>loss</title>\n",
       "<ellipse fill=\"none\" stroke=\"#000000\" cx=\"227.7935\" cy=\"-52\" rx=\"27\" ry=\"18\"/>\n",
       "<text text-anchor=\"middle\" x=\"227.7935\" y=\"-48.3\" font-family=\"Times,serif\" font-size=\"14.00\" fill=\"#000000\">loss</text>\n",
       "</g>\n",
       "<!-- predict&#45;&gt;loss -->\n",
       "<g id=\"edge2\" class=\"edge\">\n",
       "<title>predict&#45;&gt;loss</title>\n",
       "<path fill=\"none\" stroke=\"#000000\" d=\"M157.5191,-28.2011C168.9806,-32.0826 182.1139,-36.5303 193.9014,-40.5222\"/>\n",
       "<polygon fill=\"#000000\" stroke=\"#000000\" points=\"192.8259,-43.8532 203.4202,-43.7458 195.0713,-37.2231 192.8259,-43.8532\"/>\n",
       "</g>\n",
       "<!-- gradient -->\n",
       "<g id=\"node4\" class=\"node\">\n",
       "<title>gradient</title>\n",
       "<ellipse fill=\"none\" stroke=\"#000000\" cx=\"365.7399\" cy=\"-52\" rx=\"40.8928\" ry=\"18\"/>\n",
       "<text text-anchor=\"middle\" x=\"365.7399\" y=\"-48.3\" font-family=\"Times,serif\" font-size=\"14.00\" fill=\"#000000\">gradient</text>\n",
       "</g>\n",
       "<!-- loss&#45;&gt;gradient -->\n",
       "<g id=\"edge3\" class=\"edge\">\n",
       "<title>loss&#45;&gt;gradient</title>\n",
       "<path fill=\"none\" stroke=\"#000000\" d=\"M255.0473,-52C272.0415,-52 294.4481,-52 314.6545,-52\"/>\n",
       "<polygon fill=\"#000000\" stroke=\"#000000\" points=\"314.671,-55.5001 324.671,-52 314.671,-48.5001 314.671,-55.5001\"/>\n",
       "</g>\n",
       "<!-- step -->\n",
       "<g id=\"node5\" class=\"node\">\n",
       "<title>step</title>\n",
       "<ellipse fill=\"none\" stroke=\"#000000\" cx=\"470.6863\" cy=\"-18\" rx=\"27\" ry=\"18\"/>\n",
       "<text text-anchor=\"middle\" x=\"470.6863\" y=\"-14.3\" font-family=\"Times,serif\" font-size=\"14.00\" fill=\"#000000\">step</text>\n",
       "</g>\n",
       "<!-- gradient&#45;&gt;step -->\n",
       "<g id=\"edge4\" class=\"edge\">\n",
       "<title>gradient&#45;&gt;step</title>\n",
       "<path fill=\"none\" stroke=\"#000000\" d=\"M398.9456,-41.2422C410.9558,-37.3512 424.5297,-32.9536 436.6132,-29.0388\"/>\n",
       "<polygon fill=\"#000000\" stroke=\"#000000\" points=\"437.9112,-32.2975 446.3457,-25.8857 435.7537,-25.6382 437.9112,-32.2975\"/>\n",
       "</g>\n",
       "<!-- step&#45;&gt;predict -->\n",
       "<g id=\"edge6\" class=\"edge\">\n",
       "<title>step&#45;&gt;predict</title>\n",
       "<path fill=\"none\" stroke=\"#000000\" d=\"M443.4266,-18C384.9297,-18 246.7861,-18 174.0495,-18\"/>\n",
       "<polygon fill=\"#000000\" stroke=\"#000000\" points=\"173.8098,-14.5001 163.8098,-18 173.8097,-21.5001 173.8098,-14.5001\"/>\n",
       "<text text-anchor=\"middle\" x=\"289.7935\" y=\"-21.8\" font-family=\"Times,serif\" font-size=\"14.00\" fill=\"#000000\">repeat</text>\n",
       "</g>\n",
       "<!-- stop -->\n",
       "<g id=\"node6\" class=\"node\">\n",
       "<title>stop</title>\n",
       "<ellipse fill=\"none\" stroke=\"#000000\" cx=\"561.6863\" cy=\"-18\" rx=\"27\" ry=\"18\"/>\n",
       "<text text-anchor=\"middle\" x=\"561.6863\" y=\"-14.3\" font-family=\"Times,serif\" font-size=\"14.00\" fill=\"#000000\">stop</text>\n",
       "</g>\n",
       "<!-- step&#45;&gt;stop -->\n",
       "<g id=\"edge5\" class=\"edge\">\n",
       "<title>step&#45;&gt;stop</title>\n",
       "<path fill=\"none\" stroke=\"#000000\" d=\"M497.9893,-18C506.2676,-18 515.508,-18 524.3268,-18\"/>\n",
       "<polygon fill=\"#000000\" stroke=\"#000000\" points=\"524.4026,-21.5001 534.4025,-18 524.4025,-14.5001 524.4026,-21.5001\"/>\n",
       "</g>\n",
       "</g>\n",
       "</svg>\n"
      ],
      "text/plain": [
       "<graphviz.files.Source at 0x7f646edcdf50>"
      ]
     },
     "execution_count": 191,
     "metadata": {},
     "output_type": "execute_result"
    }
   ],
   "source": [
    "gv('''\n",
    "init->predict->loss->gradient->step->stop\n",
    "step->predict[label=repeat]\n",
    "''')"
   ]
  },
  {
   "cell_type": "markdown",
   "metadata": {
    "id": "fQRg3_jMJ8Ah"
   },
   "source": [
    "## The MNIST Loss Function"
   ]
  },
  {
   "cell_type": "code",
   "execution_count": 192,
   "metadata": {
    "id": "RQf7KOAvJ8Ah"
   },
   "outputs": [],
   "source": [
    "# We already have our xs—that is, our independent variables, the images themselves. \n",
    "# We will concatenate them all into a single tensor, and also change them from a list of matrices (a rank-3 tensor)\n",
    "# to a list of vectors (a rank-2 tensor). We can do this using view, which is a PyTorch method that changes the shape \n",
    "# of a tensor without changing its contents. -1 is a special parameter to view that means \n",
    "# “make this axis as big as necessary to fit all the data”:\n",
    "train_x = torch.cat([stacked_threes, stacked_sevens]).view(-1, 28*28)"
   ]
  },
  {
   "cell_type": "code",
   "execution_count": 193,
   "metadata": {
    "colab": {
     "base_uri": "https://localhost:8080/"
    },
    "id": "JcOQGdcWJ8Ai",
    "outputId": "fed643f9-3e44-4672-dabe-318dd4655424"
   },
   "outputs": [
    {
     "data": {
      "text/plain": [
       "(torch.Size([12396, 784]), torch.Size([12396, 1]))"
      ]
     },
     "execution_count": 193,
     "metadata": {},
     "output_type": "execute_result"
    }
   ],
   "source": [
    "# We need a label for each image. We will use 1 for 3s and 0 for 7s:\n",
    "\n",
    "train_y = tensor([1]*len(threes) + [0]*len(sevens)).unsqueeze(1)\n",
    "train_x.shape,train_y.shape"
   ]
  },
  {
   "cell_type": "code",
   "execution_count": 194,
   "metadata": {
    "colab": {
     "base_uri": "https://localhost:8080/"
    },
    "id": "jTuNf9-4J8Ai",
    "outputId": "0c93158d-8251-4f14-eb11-5f42baf54f96"
   },
   "outputs": [
    {
     "data": {
      "text/plain": [
       "(torch.Size([784]), tensor([1]))"
      ]
     },
     "execution_count": 194,
     "metadata": {},
     "output_type": "execute_result"
    }
   ],
   "source": [
    "# A Dataset in PyTorch is required to return a tuple of (x,y) when indexed. \n",
    "# Python provides a zip function that, when combined with list, provides a simple way to get this functionality:\n",
    "\n",
    "dset = list(zip(train_x,train_y))\n",
    "x,y = dset[0]\n",
    "x.shape,y"
   ]
  },
  {
   "cell_type": "code",
   "execution_count": 195,
   "metadata": {
    "id": "0CG9rj8ZJ8Ai"
   },
   "outputs": [],
   "source": [
    "\n",
    "valid_x = torch.cat([valid_3_tens, valid_7_tens]).view(-1, 28*28)\n",
    "valid_y = tensor([1]*len(valid_3_tens) + [0]*len(valid_7_tens)).unsqueeze(1)\n",
    "valid_dset = list(zip(valid_x,valid_y))"
   ]
  },
  {
   "cell_type": "code",
   "execution_count": 196,
   "metadata": {
    "id": "XhTwFomOJ8Am"
   },
   "outputs": [],
   "source": [
    "# Now we need an (initially random) weight for every pixel (this is the initialize step in our seven-step process):\n",
    "def init_params(size, std=1.0): \n",
    "  return (torch.randn(size)*std).requires_grad_()"
   ]
  },
  {
   "cell_type": "code",
   "execution_count": 197,
   "metadata": {
    "id": "AkFFAwtHJ8Ap"
   },
   "outputs": [],
   "source": [
    "# The function weights*pixels won’t be flexible enough—it is always equal to 0 when the pixels are equal to 0 \n",
    "# (i.e., its intercept is 0). You might remember from high school math that the formula for a line is y = w*x+b y = Ax = b\n",
    "# we still need the b. We’ll initialize it to a random number too:\n",
    "weights = init_params((28*28,1))"
   ]
  },
  {
   "cell_type": "code",
   "execution_count": 201,
   "metadata": {
    "id": "zYYOMRiSJ8Ap"
   },
   "outputs": [],
   "source": [
    "# In neural networks, the w in the equation y=w*x+b is called the weights, and the b is called the bias. \n",
    "# In statistical modeling alpha or A in the equation y = A*x+b is called the intercept, and the b is called the parameter\n",
    "# Together, the weights and bias make up the parameters.\n",
    "\n",
    "bias = init_params(1)"
   ]
  },
  {
   "cell_type": "code",
   "execution_count": 202,
   "metadata": {
    "colab": {
     "base_uri": "https://localhost:8080/"
    },
    "id": "RCwmZpccJ8Aq",
    "outputId": "757a7fb1-67a9-4a71-a057-14fee90934dd"
   },
   "outputs": [
    {
     "data": {
      "text/plain": [
       "tensor([16.4771], grad_fn=<AddBackward0>)"
      ]
     },
     "execution_count": 202,
     "metadata": {},
     "output_type": "execute_result"
    }
   ],
   "source": [
    "# We can now calculate a prediction for one image:\n",
    "(train_x[0]*weights.T).sum() + bias"
   ]
  },
  {
   "cell_type": "code",
   "execution_count": 203,
   "metadata": {
    "colab": {
     "base_uri": "https://localhost:8080/"
    },
    "id": "RSXDTgU-J8Ar",
    "outputId": "b1edc405-a854-41bb-ff4e-2389c9f84ca8"
   },
   "outputs": [
    {
     "data": {
      "text/plain": [
       "tensor([[ 1.6477e+01],\n",
       "        [ 1.3574e+01],\n",
       "        [ 8.4074e+00],\n",
       "        ...,\n",
       "        [-3.5249e-03],\n",
       "        [ 3.7751e+00],\n",
       "        [ 3.0716e+00]], grad_fn=<AddBackward0>)"
      ]
     },
     "execution_count": 203,
     "metadata": {},
     "output_type": "execute_result"
    }
   ],
   "source": [
    "# We use matrix multiplication here\n",
    "# The first element is the same as we calculated before, as we’d expect. This equation, batch @ weights + bias, \n",
    "# is one of the two fundamental equations of any neural network (the other one is the activation function, which we’ll see in a moment).\n",
    "# Let us check our accuracy. To decide if an output represents a 3 or a 7, we can just check whether it is greater than 0, \n",
    "# so our accuracy for each item can be calculated (using broadcasting, so no loops!) as follows:\n",
    "def linear1(xb): return xb@weights + bias\n",
    "preds = linear1(train_x)\n",
    "preds"
   ]
  },
  {
   "cell_type": "code",
   "execution_count": 204,
   "metadata": {
    "colab": {
     "base_uri": "https://localhost:8080/"
    },
    "id": "RIr7b7i3J8As",
    "outputId": "1cff2422-5377-4eef-c8fd-5b7eddcfc3a5"
   },
   "outputs": [
    {
     "data": {
      "text/plain": [
       "tensor([[ True],\n",
       "        [ True],\n",
       "        [ True],\n",
       "        ...,\n",
       "        [ True],\n",
       "        [False],\n",
       "        [False]])"
      ]
     },
     "execution_count": 204,
     "metadata": {},
     "output_type": "execute_result"
    }
   ],
   "source": [
    "\n",
    "corrects = (preds>0.0).float() == train_y\n",
    "corrects"
   ]
  },
  {
   "cell_type": "code",
   "execution_count": 205,
   "metadata": {
    "colab": {
     "base_uri": "https://localhost:8080/"
    },
    "id": "V1ylOpFOJ8As",
    "outputId": "b33360dd-b3a2-45dc-9906-706f8b8477ed"
   },
   "outputs": [
    {
     "data": {
      "text/plain": [
       "0.5282348990440369"
      ]
     },
     "execution_count": 205,
     "metadata": {},
     "output_type": "execute_result"
    }
   ],
   "source": [
    "# Now let us see what the change in accuracy is for a small change in one of the weights:\n",
    "corrects.float().mean().item()"
   ]
  },
  {
   "cell_type": "code",
   "execution_count": null,
   "metadata": {
    "id": "U6nflrOuJ8As"
   },
   "outputs": [],
   "source": [
    "weights[0] *= 1.0001"
   ]
  },
  {
   "cell_type": "code",
   "execution_count": 206,
   "metadata": {
    "colab": {
     "base_uri": "https://localhost:8080/"
    },
    "id": "6pLYl26kJ8As",
    "outputId": "26a0f085-7610-46e9-be17-737cc8d1aac6"
   },
   "outputs": [
    {
     "data": {
      "text/plain": [
       "0.5282348990440369"
      ]
     },
     "execution_count": 206,
     "metadata": {},
     "output_type": "execute_result"
    }
   ],
   "source": [
    "\n",
    "preds = linear1(train_x)\n",
    "((preds>0.0).float() == train_y).float().mean().item()"
   ]
  },
  {
   "cell_type": "code",
   "execution_count": 207,
   "metadata": {
    "id": "CTZldxcbJ8At"
   },
   "outputs": [],
   "source": [
    "# As we have seen, we need gradients in order to improve our model using SGD, and in order to calculate gradients we need a loss function \n",
    "# that represents how good our model is. That is because the gradients are a measure of how that loss function changes with small tweaks \n",
    "# to the weights.\n",
    "\n",
    "# So, we need to choose a loss function. The obvious approach would be to use accuracy, which is our metric, as our loss function as well. \n",
    "# In this case, we would calculate our prediction for each image, collect these values to calculate an overall accuracy, \n",
    "# and then calculate the gradients of each weight with respect to that overall accuracy.\n",
    "\n",
    "# Unfortunately, we have a significant technical problem here. The gradient of a function is its slope, or its steepness, \n",
    "# which can be defined as rise over run—that is, how much the value of the function goes up or down, divided by how much we changed the input. \n",
    "# We can write this mathematically as:\n",
    "\n",
    "# (y_new – y_old) / (x_new – x_old)\n",
    "# This gives a good approximation of the gradient when x_new is very similar to x_old, meaning that their difference is very small. \n",
    "# But accuracy changes at all only when a prediction changes from a 3 to a 7, or vice versa. \n",
    "# The problem is that a small change in weights from x_old to x_new isn’t likely to cause any prediction to change, so (y_new – y_old) \n",
    "# will almost always be 0. In other words, the gradient is 0 almost everywhere.\n",
    "\n",
    "# A very small change in the value of a weight will often not change the accuracy at all.\n",
    "# This means it is not useful to use accuracy as a loss function—if we do, most of the time our gradients will be 0, \n",
    "# and the model will not be able to learn from that number.\n",
    "\n",
    "# Instead, we need a loss function that, when our weights result in slightly better predictions, \n",
    "# gives us a slightly better loss. So what does a “slightly better prediction” look like, exactly? \n",
    "# Well, in this case, it means that if the correct answer is a 3, the score is a little higher, or if the correct answer is a 7, \n",
    "# the score is a little lower.\n",
    "\n",
    "# Let’s write such a function now. What form does it take?\n",
    "\n",
    "# The loss function receives not the images themselves, but the predictions from the model. \n",
    "# So let’s make one argument, prds, of values between 0 and 1, where each value is the prediction that an image is a 3. \n",
    "# It is a vector (i.e., a rank-1 tensor) indexed over the images.\n",
    "\n",
    "# The purpose of the loss function is to measure the difference between predicted values and the true values—that is, \n",
    "# the targets (aka labels). Let’s therefore make another argument, trgts, with values of 0 or 1 that tells whether an image actually is a 3 or not. It is also a vector (i.e., another rank-1 tensor) indexed over the images.\n",
    "\n",
    "# For instance, suppose we had three images that we knew were a 3, a 7, and a 3. \n",
    "# And suppose our model predicted with high confidence (0.9) that the first was a 3, with slight confidence (0.4) \n",
    "# that the second was a 7, and with fair confidence (0.2), but incorrectly, that the last was a 7. \n",
    "# This would mean our loss function would receive these values as its inputs:\n",
    "trgts  = tensor([1,0,1])\n",
    "prds   = tensor([0.9, 0.4, 0.2])"
   ]
  },
  {
   "cell_type": "code",
   "execution_count": 297,
   "metadata": {
    "id": "7UrMB1b-J8At"
   },
   "outputs": [],
   "source": [
    "# We’re using a new function, torch.where(a,b,c). \n",
    "# This is the same as running the list comprehension [b[i] if a[i] else c[i] for i in range(len(a))], \n",
    "# except it works on tensors, at C/CUDA speed. In plain English, this function will measure how distant each prediction is from 1 \n",
    "# if it should be 1, and how distant it is from 0 if it should be 0, and then it will take the mean of all those distances.\n",
    "\n",
    "def mnist_loss(predictions, targets):\n",
    "    return torch.where(targets==1, 1-predictions, predictions).mean()"
   ]
  },
  {
   "cell_type": "code",
   "execution_count": 209,
   "metadata": {
    "colab": {
     "base_uri": "https://localhost:8080/"
    },
    "id": "_Z82bChyJ8At",
    "outputId": "13660597-9054-46e1-f082-235849ca13d1"
   },
   "outputs": [
    {
     "data": {
      "text/plain": [
       "tensor([0.1000, 0.4000, 0.8000])"
      ]
     },
     "execution_count": 209,
     "metadata": {},
     "output_type": "execute_result"
    }
   ],
   "source": [
    "\n",
    "torch.where(trgts==1, 1-prds, prds)"
   ]
  },
  {
   "cell_type": "code",
   "execution_count": 210,
   "metadata": {
    "colab": {
     "base_uri": "https://localhost:8080/"
    },
    "id": "yutgffojJ8At",
    "outputId": "821d8072-4d9a-4884-e92e-32f77fe77ff3"
   },
   "outputs": [
    {
     "data": {
      "text/plain": [
       "tensor(0.4333)"
      ]
     },
     "execution_count": 210,
     "metadata": {},
     "output_type": "execute_result"
    }
   ],
   "source": [
    "# You can see that this function returns a lower number when predictions are more accurate, \n",
    "# when accurate predictions are more confident (higher absolute values), and when inaccurate predictions are less confident. \n",
    "# In PyTorch, we always assume that a lower value of a loss function is better. \n",
    "# Since we need a scalar for the final loss, mnist_loss takes the mean of the previous tensor:\n",
    "mnist_loss(prds,trgts)"
   ]
  },
  {
   "cell_type": "code",
   "execution_count": 211,
   "metadata": {
    "colab": {
     "base_uri": "https://localhost:8080/"
    },
    "id": "rw9fo9qDJ8At",
    "outputId": "7ea6adba-97d9-4233-9e17-46b3684375eb"
   },
   "outputs": [
    {
     "data": {
      "text/plain": [
       "tensor(0.2333)"
      ]
     },
     "execution_count": 211,
     "metadata": {},
     "output_type": "execute_result"
    }
   ],
   "source": [
    "# For instance, if we change our prediction for the one “false” target from 0.2 to 0.8, the loss will go down, \n",
    "# indicating that this is a better prediction:\n",
    "mnist_loss(tensor([0.9, 0.4, 0.8]),trgts)"
   ]
  },
  {
   "cell_type": "markdown",
   "metadata": {
    "id": "IGdXMTs8J8Au"
   },
   "source": [
    "### Sigmoid"
   ]
  },
  {
   "cell_type": "code",
   "execution_count": 212,
   "metadata": {
    "id": "1w5yZARuJ8Au"
   },
   "outputs": [],
   "source": [
    "# One problem with mnist_loss as currently defined is that it assumes that predictions are always between 0 and 1. \n",
    "# We need to ensure, then, that this is actually the case! As it happens, there is a function that does exactly that—let’s take a look.\n",
    "# The sigmoid function always outputs a number between 0 and 1. It’s defined as follows:\n",
    "# Also called the logistic function\n",
    "\n",
    "def sigmoid(x): return 1/(1+torch.exp(-x))"
   ]
  },
  {
   "cell_type": "code",
   "execution_count": 298,
   "metadata": {
    "colab": {
     "base_uri": "https://localhost:8080/",
     "height": 281
    },
    "id": "vMS4I91ZJ8Au",
    "outputId": "e890f943-47e7-4a33-823a-46ef5a7c83cc"
   },
   "outputs": [
    {
     "data": {
      "image/png": "[encoded data removed]",
      "text/plain": [
       "<Figure size 432x288 with 1 Axes>"
      ]
     },
     "metadata": {
      "needs_background": "light"
     },
     "output_type": "display_data"
    }
   ],
   "source": [
    "# As you can see, it takes any input value, positive or negative, and smooshes it into an output value between 0 and 1. \n",
    "# It is also a smooth curve that only goes up, which makes it easier for SGD to find meaningful gradients.\n",
    "# Let’s update mnist_loss to first apply sigmoid to the inputs:\n",
    "\n",
    "plot_function(torch.sigmoid, title='Sigmoid', min=-4, max=4)"
   ]
  },
  {
   "cell_type": "code",
   "execution_count": 213,
   "metadata": {
    "id": "y9gjmzneJ8Aw"
   },
   "outputs": [],
   "source": [
    "# Now we can be confident our loss function will work, even if the predictions are not between 0 and 1. \n",
    "# All that is required is that a higher prediction corresponds to higher confidence.\n",
    "\n",
    "# Having defined a loss function, now is a good moment to recapitulate why we did this. \n",
    "# After all, we already had a metric, which was overall accuracy. So why did we define a loss?\n",
    "\n",
    "# The key difference is that the metric is to drive human understanding and the loss is to drive automated learning. \n",
    "# To drive automated learning, the loss must be a function that has a meaningful derivative. It can’t have big flat sections and large jumps, but instead must be reasonably smooth. This is why we designed a loss function that would respond to small changes in confidence level. This requirement means that sometimes it does not really reflect exactly what we are trying to achieve, but is rather a compromise between our real goal and a function that can be optimized using its gradient. The loss function is calculated for each item in our dataset, and then at the end of an epoch, the loss values are all averaged and the overall mean is reported for the epoch.\n",
    "\n",
    "# Metrics, on the other hand, are the numbers that we care about. \n",
    "# These are the values that are printed at the end of each epoch that tell us how our model is doing. \n",
    "# It is important that we learn to focus on these metrics, rather than the loss, when judging the performance of a model.\n",
    "\n",
    "def mnist_loss(predictions, targets):\n",
    "    predictions = predictions.sigmoid()\n",
    "    return torch.where(targets==1, 1-predictions, predictions).mean()"
   ]
  },
  {
   "cell_type": "markdown",
   "metadata": {
    "id": "rN2h6RnDJ8Aw"
   },
   "source": [
    "### SGD and Mini-Batches"
   ]
  },
  {
   "cell_type": "code",
   "execution_count": 214,
   "metadata": {
    "colab": {
     "base_uri": "https://localhost:8080/"
    },
    "id": "sBwRP0sHJ8Aw",
    "outputId": "c0591ebd-f484-4276-f4c9-bad0718ba25f"
   },
   "outputs": [
    {
     "data": {
      "text/plain": [
       "[tensor([ 3, 12,  8, 10,  2]),\n",
       " tensor([ 9,  4,  7, 14,  5]),\n",
       " tensor([ 1, 13,  0,  6, 11])]"
      ]
     },
     "execution_count": 214,
     "metadata": {},
     "output_type": "execute_result"
    }
   ],
   "source": [
    "# Now that we have a loss function suitable for driving SGD, we can consider some of the details involved in the next \n",
    "# phase of the learning process, which is to change or update the weights based on the gradients. This is called an optimization step.\n",
    "\n",
    "# To take an optimization step, we need to calculate the loss over one or more data items. How many should we use? \n",
    "# We could calculate it for the whole dataset and take the average, or we could calculate it for a single data item. \n",
    "# But neither of these is ideal. Calculating it for the whole dataset would take a long time. \n",
    "# Calculating it for a single item would not use much information, so it would result in an imprecise and unstable gradient. \n",
    "# You’d be going to the trouble of updating the weights, but taking into account only how that would improve \n",
    "# the model’s performance on that single item.\n",
    "\n",
    "# So instead we compromise: we calculate the average loss for a few data items at a time. \n",
    "# This is called a mini-batch. The number of data items in the mini-batch is called the batch size. \n",
    "# A larger batch size means that you will get a more accurate and stable estimate of your dataset’s gradients \n",
    "# from the loss function, but it will take longer, and you will process fewer mini-batches per epoch. \n",
    "# Choosing a good batch size is one of the decisions you need to make as a deep learning practitioner to train \n",
    "# your model quickly and accurately. \n",
    "# Another good reason for using mini-batches rather than calculating the gradient on individual data items is that, \n",
    "# in practice, we nearly always do our training on an accelerator such as a GPU. \n",
    "# These accelerators perform well only if they have lots of work to do at a time, \n",
    "# so it’s helpful if we can give them lots of data items to work on. \n",
    "# Using mini-batches is one of the best ways to do this. \n",
    "# However, if you give them too much data to work on at once, they run out of memory—making GPUs happy is also tricky!\n",
    "# we get better generalization if we can vary things during training. \n",
    "# One simple and effective thing we can vary is what data items we put in each mini-batch. \n",
    "# Rather than simply enumerating our dataset in order for every epoch, \n",
    "# instead what we normally do is randomly shuffle it on every epoch, before we create mini-batches. \n",
    "# PyTorch and fastai provide a class that will do the shuffling and mini-batch collation for you, called DataLoader.\n",
    "\n",
    "# A DataLoader can take any Python collection and turn it into an iterator over many batches, like so:\n",
    "\n",
    "coll = range(15)\n",
    "dl = DataLoader(coll, batch_size=5, shuffle=True)\n",
    "list(dl)"
   ]
  },
  {
   "cell_type": "code",
   "execution_count": 215,
   "metadata": {
    "colab": {
     "base_uri": "https://localhost:8080/"
    },
    "id": "nfxG_sN_J8Ax",
    "outputId": "76935d70-3fe6-4e5b-ff1b-d8718ce50e6f"
   },
   "outputs": [
    {
     "data": {
      "text/plain": [
       "(#26) [(0, 'a'),(1, 'b'),(2, 'c'),(3, 'd'),(4, 'e'),(5, 'f'),(6, 'g'),(7, 'h'),(8, 'i'),(9, 'j')...]"
      ]
     },
     "execution_count": 215,
     "metadata": {},
     "output_type": "execute_result"
    }
   ],
   "source": [
    "# For training a model, we don’t just want any Python collection, but a collection containing independent and dependent variables \n",
    "# (the inputs and targets of the model). \n",
    "# A collection that contains tuples of independent and dependent variables is known in PyTorch as a Dataset. \n",
    "# Here’s an example of an extremely simple Dataset:\n",
    "\n",
    "ds = L(enumerate(string.ascii_lowercase))\n",
    "ds"
   ]
  },
  {
   "cell_type": "code",
   "execution_count": 299,
   "metadata": {
    "colab": {
     "base_uri": "https://localhost:8080/"
    },
    "id": "sw3AXA1RJ8Ax",
    "outputId": "16c1f501-2f53-456d-8dd1-6d119e80f03e"
   },
   "outputs": [
    {
     "data": {
      "text/plain": [
       "[(tensor([ 3, 16, 17,  8,  7,  2]), ('d', 'q', 'r', 'i', 'h', 'c')),\n",
       " (tensor([10, 22,  4, 14, 25, 15]), ('k', 'w', 'e', 'o', 'z', 'p')),\n",
       " (tensor([ 1, 12, 19,  5,  9, 11]), ('b', 'm', 't', 'f', 'j', 'l')),\n",
       " (tensor([ 0, 23, 21, 13, 18, 20]), ('a', 'x', 'v', 'n', 's', 'u')),\n",
       " (tensor([ 6, 24]), ('g', 'y'))]"
      ]
     },
     "execution_count": 299,
     "metadata": {},
     "output_type": "execute_result"
    }
   ],
   "source": [
    "# When we pass a Dataset to a DataLoader we will get back many batches that are themselves tuples of \n",
    "# tensors representing batches of independent and dependent variables:\n",
    "\n",
    "dl = DataLoader(ds, batch_size=6, shuffle=True)\n",
    "list(dl)"
   ]
  },
  {
   "cell_type": "markdown",
   "metadata": {
    "id": "NFrzJDanJ8Ay"
   },
   "source": [
    "## Putting It All Together"
   ]
  },
  {
   "cell_type": "code",
   "execution_count": 321,
   "metadata": {
    "colab": {
     "base_uri": "https://localhost:8080/",
     "height": 235
    },
    "collapsed": true,
    "id": "uhkowBJ9PljE",
    "outputId": "a507490f-2425-4916-f5ed-486d3fc6857a"
   },
   "outputs": [
    {
     "ename": "NameError",
     "evalue": "ignored",
     "output_type": "error",
     "traceback": [
      "\u001b[0;31m---------------------------------------------------------------------------\u001b[0m",
      "\u001b[0;31mNameError\u001b[0m                                 Traceback (most recent call last)",
      "\u001b[0;32m<ipython-input-321-77ef02921ec3>\u001b[0m in \u001b[0;36m<module>\u001b[0;34m()\u001b[0m\n\u001b[1;32m      1\u001b[0m \u001b[0;31m# In code, our process will be implemented something like this for each epoch:\u001b[0m\u001b[0;34m\u001b[0m\u001b[0;34m\u001b[0m\u001b[0;34m\u001b[0m\u001b[0m\n\u001b[1;32m      2\u001b[0m \u001b[0;32mfor\u001b[0m \u001b[0mx\u001b[0m\u001b[0;34m,\u001b[0m\u001b[0my\u001b[0m \u001b[0;32min\u001b[0m \u001b[0mdl\u001b[0m\u001b[0;34m:\u001b[0m\u001b[0;34m\u001b[0m\u001b[0;34m\u001b[0m\u001b[0m\n\u001b[0;32m----> 3\u001b[0;31m     \u001b[0mpred\u001b[0m \u001b[0;34m=\u001b[0m \u001b[0mmodel\u001b[0m\u001b[0;34m(\u001b[0m\u001b[0mx\u001b[0m\u001b[0;34m)\u001b[0m\u001b[0;34m\u001b[0m\u001b[0;34m\u001b[0m\u001b[0m\n\u001b[0m\u001b[1;32m      4\u001b[0m     \u001b[0mloss\u001b[0m \u001b[0;34m=\u001b[0m \u001b[0mloss_func\u001b[0m\u001b[0;34m(\u001b[0m\u001b[0mpred\u001b[0m\u001b[0;34m,\u001b[0m \u001b[0my\u001b[0m\u001b[0;34m)\u001b[0m\u001b[0;34m\u001b[0m\u001b[0;34m\u001b[0m\u001b[0m\n\u001b[1;32m      5\u001b[0m     \u001b[0mloss\u001b[0m\u001b[0;34m.\u001b[0m\u001b[0mbackward\u001b[0m\u001b[0;34m(\u001b[0m\u001b[0;34m)\u001b[0m\u001b[0;34m\u001b[0m\u001b[0;34m\u001b[0m\u001b[0m\n",
      "\u001b[0;31mNameError\u001b[0m: name 'model' is not defined"
     ]
    }
   ],
   "source": [
    "# In code, our process will be implemented something like this for each epoch:\n",
    "for x,y in dl:\n",
    "    pred = model(x)\n",
    "    loss = loss_func(pred, y)\n",
    "    loss.backward()\n",
    "    parameters -= parameters.grad * lr\n"
   ]
  },
  {
   "cell_type": "code",
   "execution_count": 313,
   "metadata": {
    "id": "RgiSmUF_J8A0"
   },
   "outputs": [],
   "source": [
    "weights = init_params((28*28,1))\n",
    "bias = init_params(1)"
   ]
  },
  {
   "cell_type": "code",
   "execution_count": 314,
   "metadata": {
    "colab": {
     "base_uri": "https://localhost:8080/"
    },
    "id": "sjOboTBSJ8A0",
    "outputId": "964690c9-5d76-40b4-a8de-f17ada09dc50"
   },
   "outputs": [
    {
     "data": {
      "text/plain": [
       "(torch.Size([256, 784]), torch.Size([256, 1]))"
      ]
     },
     "execution_count": 314,
     "metadata": {},
     "output_type": "execute_result"
    }
   ],
   "source": [
    "dl = DataLoader(dset, batch_size=256)\n",
    "xb,yb = first(dl)\n",
    "xb.shape,yb.shape"
   ]
  },
  {
   "cell_type": "code",
   "execution_count": 316,
   "metadata": {
    "id": "L-7mWBDrJ8A1"
   },
   "outputs": [],
   "source": [
    "valid_dl = DataLoader(valid_dset, batch_size=256)"
   ]
  },
  {
   "cell_type": "code",
   "execution_count": 315,
   "metadata": {
    "colab": {
     "base_uri": "https://localhost:8080/"
    },
    "id": "KHi2cirZJ8A1",
    "outputId": "99574588-7dad-4b7a-f65e-89dbf2a2c8cc"
   },
   "outputs": [
    {
     "data": {
      "text/plain": [
       "torch.Size([4, 784])"
      ]
     },
     "execution_count": 315,
     "metadata": {},
     "output_type": "execute_result"
    }
   ],
   "source": [
    "batch = train_x[:4]\n",
    "batch.shape"
   ]
  },
  {
   "cell_type": "code",
   "execution_count": 317,
   "metadata": {
    "colab": {
     "base_uri": "https://localhost:8080/"
    },
    "id": "Qj0W6CLIJ8A1",
    "outputId": "bb1c2c76-76c1-43c3-e920-fcdf20d9cfc2"
   },
   "outputs": [
    {
     "data": {
      "text/plain": [
       "tensor([[-1.0036],\n",
       "        [-4.9414],\n",
       "        [-6.4834],\n",
       "        [ 6.0567]], grad_fn=<AddBackward0>)"
      ]
     },
     "execution_count": 317,
     "metadata": {},
     "output_type": "execute_result"
    }
   ],
   "source": [
    "preds = linear1(batch)\n",
    "preds"
   ]
  },
  {
   "cell_type": "code",
   "execution_count": 318,
   "metadata": {
    "colab": {
     "base_uri": "https://localhost:8080/"
    },
    "id": "Njnnp-bpJ8A1",
    "outputId": "13505a50-e9d9-47e6-dd4b-f88f77f5506b"
   },
   "outputs": [
    {
     "data": {
      "text/plain": [
       "tensor(2.5929, grad_fn=<MeanBackward0>)"
      ]
     },
     "execution_count": 318,
     "metadata": {},
     "output_type": "execute_result"
    }
   ],
   "source": [
    "loss = mnist_loss(preds, train_y[:4])\n",
    "loss"
   ]
  },
  {
   "cell_type": "code",
   "execution_count": 319,
   "metadata": {
    "colab": {
     "base_uri": "https://localhost:8080/"
    },
    "id": "Eq4fsaQbJ8A2",
    "outputId": "e591ba01-ceb8-4099-fbdf-9cfdc7790ea2"
   },
   "outputs": [
    {
     "data": {
      "text/plain": [
       "(torch.Size([784, 1]), tensor(-0.1511), tensor([-1.]))"
      ]
     },
     "execution_count": 319,
     "metadata": {},
     "output_type": "execute_result"
    }
   ],
   "source": [
    " # Calculate the gradients\n",
    "loss.backward()\n",
    "weights.grad.shape,weights.grad.mean(),bias.grad"
   ]
  },
  {
   "cell_type": "code",
   "execution_count": 320,
   "metadata": {
    "id": "VGk4bJjgJ8A2"
   },
   "outputs": [],
   "source": [
    "# Put it in a function\n",
    "def calc_grad(xb, yb, model):\n",
    "    preds = model(xb)\n",
    "    loss = mnist_loss(preds, yb)\n",
    "    loss.backward()"
   ]
  },
  {
   "cell_type": "code",
   "execution_count": 308,
   "metadata": {
    "colab": {
     "base_uri": "https://localhost:8080/"
    },
    "id": "iJNlf2dKJ8A3",
    "outputId": "37182573-9d28-4a26-d4a6-e6a49058375a"
   },
   "outputs": [
    {
     "data": {
      "text/plain": [
       "(tensor(-0.3022), tensor([-2.]))"
      ]
     },
     "execution_count": 308,
     "metadata": {},
     "output_type": "execute_result"
    }
   ],
   "source": [
    "# test it\n",
    "calc_grad(batch, train_y[:4], linear1)\n",
    "weights.grad.mean(),bias.grad"
   ]
  },
  {
   "cell_type": "code",
   "execution_count": 309,
   "metadata": {
    "colab": {
     "base_uri": "https://localhost:8080/"
    },
    "id": "UypvCL9IJ8A3",
    "outputId": "96fce87d-bfc3-4fe1-bd24-539a3fb8a8a9"
   },
   "outputs": [
    {
     "data": {
      "text/plain": [
       "(tensor(-0.4534), tensor([-3.]))"
      ]
     },
     "execution_count": 309,
     "metadata": {},
     "output_type": "execute_result"
    }
   ],
   "source": [
    "\n",
    "calc_grad(batch, train_y[:4], linear1)\n",
    "weights.grad.mean(),bias.grad"
   ]
  },
  {
   "cell_type": "code",
   "execution_count": 310,
   "metadata": {
    "id": "DY6VR0vPJ8A4"
   },
   "outputs": [],
   "source": [
    "weights.grad.zero_()\n",
    "bias.grad.zero_();"
   ]
  },
  {
   "cell_type": "code",
   "execution_count": 227,
   "metadata": {
    "id": "oLG6Fd9uJ8A4"
   },
   "outputs": [],
   "source": [
    "# Our only remaining step is to update the weights and biases based on the gradient and learning rate. \n",
    "# When we do so, we have to tell PyTorch not to take the gradient of this step too—otherwise, \n",
    "# things will get confusing when we try to compute the derivative at the next batch! \n",
    "# If we assign to the data attribute of a tensor, PyTorch will not take the gradient of that step. \n",
    "# Here’s our basic training loop for an epoch:\n",
    "def train_epoch(model, lr, params):\n",
    "    for xb,yb in dl:\n",
    "        calc_grad(xb, yb, model)\n",
    "        for p in params:\n",
    "            p.data -= p.grad*lr\n",
    "            p.grad.zero_()"
   ]
  },
  {
   "cell_type": "code",
   "execution_count": 229,
   "metadata": {
    "colab": {
     "base_uri": "https://localhost:8080/"
    },
    "id": "F7yp8QdCJ8A4",
    "outputId": "7d0ddeeb-b362-465a-cd5b-f546d8b41186"
   },
   "outputs": [
    {
     "data": {
      "text/plain": [
       "tensor([[False],\n",
       "        [False],\n",
       "        [False],\n",
       "        [False]])"
      ]
     },
     "execution_count": 229,
     "metadata": {},
     "output_type": "execute_result"
    }
   ],
   "source": [
    "(preds>0.0).float() == train_y[:4]"
   ]
  },
  {
   "cell_type": "code",
   "execution_count": 230,
   "metadata": {
    "id": "qnyd7BRhJ8A5"
   },
   "outputs": [],
   "source": [
    "# That gives us this function to calculate our validation accuracy:\n",
    "def batch_accuracy(xb, yb):\n",
    "    preds = xb.sigmoid()\n",
    "    correct = (preds>0.5) == yb\n",
    "    return correct.float().mean()"
   ]
  },
  {
   "cell_type": "code",
   "execution_count": 231,
   "metadata": {
    "colab": {
     "base_uri": "https://localhost:8080/"
    },
    "id": "pASB38MPJ8A6",
    "outputId": "ecb6700d-cd41-4f5c-d3c9-c0444cb0ef85"
   },
   "outputs": [
    {
     "data": {
      "text/plain": [
       "tensor(0.)"
      ]
     },
     "execution_count": 231,
     "metadata": {},
     "output_type": "execute_result"
    }
   ],
   "source": [
    "batch_accuracy(linear1(batch), train_y[:4])"
   ]
  },
  {
   "cell_type": "code",
   "execution_count": 232,
   "metadata": {
    "id": "dtwjFCeEJ8A-"
   },
   "outputs": [],
   "source": [
    "# And then put the batches together:\n",
    "def validate_epoch(model):\n",
    "    accs = [batch_accuracy(model(xb), yb) for xb,yb in valid_dl]\n",
    "    return round(torch.stack(accs).mean().item(), 4)"
   ]
  },
  {
   "cell_type": "code",
   "execution_count": 233,
   "metadata": {
    "colab": {
     "base_uri": "https://localhost:8080/"
    },
    "id": "BofEcTxSJ8A-",
    "outputId": "d79725e0-090c-42fe-b6a2-dd0163c2dfa5"
   },
   "outputs": [
    {
     "data": {
      "text/plain": [
       "0.4883"
      ]
     },
     "execution_count": 233,
     "metadata": {},
     "output_type": "execute_result"
    }
   ],
   "source": [
    "# That’s our starting point. Let’s train for one epoch and see if the accuracy improves:\n",
    "\n",
    "validate_epoch(linear1)"
   ]
  },
  {
   "cell_type": "code",
   "execution_count": 234,
   "metadata": {
    "colab": {
     "base_uri": "https://localhost:8080/"
    },
    "id": "Ck7d_wW5J8A_",
    "outputId": "40a694ed-a546-466d-c3f6-fe5f4040558c"
   },
   "outputs": [
    {
     "data": {
      "text/plain": [
       "0.6718"
      ]
     },
     "execution_count": 234,
     "metadata": {},
     "output_type": "execute_result"
    }
   ],
   "source": [
    "lr = 1.\n",
    "params = weights,bias\n",
    "train_epoch(linear1, lr, params)\n",
    "validate_epoch(linear1)"
   ]
  },
  {
   "cell_type": "code",
   "execution_count": 235,
   "metadata": {
    "colab": {
     "base_uri": "https://localhost:8080/"
    },
    "id": "gwZFUdzaJ8A_",
    "outputId": "76136e6b-0826-4382-df59-e2920b426c77"
   },
   "outputs": [
    {
     "name": "stdout",
     "output_type": "stream",
     "text": [
      "0.8637 0.9125 0.9359 0.9476 0.953 0.9574 0.9613 0.9633 0.9647 0.9667 0.9672 0.9687 0.9696 0.9701 0.9711 0.9716 0.9721 0.9726 0.9726 0.973 "
     ]
    }
   ],
   "source": [
    "# Looking good! We’re already about at the same accuracy as our “pixel similarity” approach, \n",
    "# and we’ve created a general-purpose foundation we can build on. \n",
    "# Our next step will be to create an object that will handle the SGD step for us. In PyTorch, it’s called an optimizer.\n",
    "for i in range(20):\n",
    "    train_epoch(linear1, lr, params)\n",
    "    print(validate_epoch(linear1), end=' ')"
   ]
  },
  {
   "cell_type": "markdown",
   "metadata": {
    "id": "MYjgbcu3J8A_"
   },
   "source": [
    "### Creating an Optimizer"
   ]
  },
  {
   "cell_type": "code",
   "execution_count": 236,
   "metadata": {
    "id": "7jeqnBgVJ8BA"
   },
   "outputs": [],
   "source": [
    "# Because this is such a general foundation, PyTorch provides some useful classes to make it easier to implement. \n",
    "# The first thing we can do is replace our linear1 function with PyTorch’s nn.Linear module. \n",
    "# A module is an object of a class that inherits from the PyTorch nn.Module class. \n",
    "# Objects of this class behave identically to standard Python functions, in that you can call them using parentheses, \n",
    "# and they will return the activations of a model.\n",
    "\n",
    "# nn.Linear does the same thing as our init_params and linear together. \n",
    "# It contains both the weights and biases in a single class. \n",
    "# Here’s how we replicate our model from the previous section:\n",
    "\n",
    "linear_model = nn.Linear(28*28,1)"
   ]
  },
  {
   "cell_type": "code",
   "execution_count": 237,
   "metadata": {
    "colab": {
     "base_uri": "https://localhost:8080/"
    },
    "id": "1s2Ecri_J8BA",
    "outputId": "169db99c-23a9-4073-8e34-a115b0c6ba1e"
   },
   "outputs": [
    {
     "data": {
      "text/plain": [
       "(torch.Size([1, 784]), torch.Size([1]))"
      ]
     },
     "execution_count": 237,
     "metadata": {},
     "output_type": "execute_result"
    }
   ],
   "source": [
    "# Every PyTorch module knows what parameters it has that can be trained; they are available through the parameters method:\n",
    "\n",
    "\n",
    "w,b = linear_model.parameters()\n",
    "w.shape,b.shape"
   ]
  },
  {
   "cell_type": "code",
   "execution_count": 238,
   "metadata": {
    "id": "7BbNsulvJ8BA"
   },
   "outputs": [],
   "source": [
    "# We can use this information to create an optimizer:\n",
    "class BasicOptim:\n",
    "    def __init__(self,params,lr): self.params,self.lr = list(params),lr\n",
    "\n",
    "    def step(self, *args, **kwargs):\n",
    "        for p in self.params: p.data -= p.grad.data * self.lr\n",
    "\n",
    "    def zero_grad(self, *args, **kwargs):\n",
    "        for p in self.params: p.grad = None"
   ]
  },
  {
   "cell_type": "code",
   "execution_count": 239,
   "metadata": {
    "id": "BbeLS8B8J8BB"
   },
   "outputs": [],
   "source": [
    "# We can create our optimizer by passing in the model’s parameters:\n",
    "\n",
    "opt = BasicOptim(linear_model.parameters(), lr)"
   ]
  },
  {
   "cell_type": "code",
   "execution_count": 240,
   "metadata": {
    "id": "W8_fiPAPJ8BB"
   },
   "outputs": [],
   "source": [
    "# Our training loop can now be simplified:\n",
    "def train_epoch(model):\n",
    "    for xb,yb in dl:\n",
    "        calc_grad(xb, yb, model)\n",
    "        opt.step()\n",
    "        opt.zero_grad()"
   ]
  },
  {
   "cell_type": "code",
   "execution_count": null,
   "metadata": {
    "id": "NyVVHHXZPieb"
   },
   "outputs": [],
   "source": []
  },
  {
   "cell_type": "code",
   "execution_count": 241,
   "metadata": {
    "colab": {
     "base_uri": "https://localhost:8080/"
    },
    "id": "N8tbCdGaJ8BB",
    "outputId": "84ac75f4-605f-4a9d-fe2c-a2e530378536"
   },
   "outputs": [
    {
     "data": {
      "text/plain": [
       "0.4527"
      ]
     },
     "execution_count": 241,
     "metadata": {},
     "output_type": "execute_result"
    }
   ],
   "source": [
    "# Our validation function doesn’t need to change at all:\n",
    "\n",
    "validate_epoch(linear_model)"
   ]
  },
  {
   "cell_type": "code",
   "execution_count": 242,
   "metadata": {
    "id": "_jbWV8rqJ8BC"
   },
   "outputs": [],
   "source": [
    "# Let’s put our little training loop in a function, to make things simpler:\n",
    "\n",
    "def train_model(model, epochs):\n",
    "    for i in range(epochs):\n",
    "        train_epoch(model)\n",
    "        print(validate_epoch(model), end=' ')"
   ]
  },
  {
   "cell_type": "code",
   "execution_count": 243,
   "metadata": {
    "colab": {
     "base_uri": "https://localhost:8080/"
    },
    "id": "UG_g0xAbJ8BD",
    "outputId": "511ba022-5891-41ee-dd98-34f5af137aac"
   },
   "outputs": [
    {
     "name": "stdout",
     "output_type": "stream",
     "text": [
      "0.4932 0.8208 0.8433 0.9126 0.9331 0.9473 0.9561 0.9634 0.9653 0.9683 0.9702 0.9722 0.9746 0.9751 0.9761 0.9771 0.9775 0.9775 0.9785 0.979 "
     ]
    }
   ],
   "source": [
    "train_model(linear_model, 20)"
   ]
  },
  {
   "cell_type": "code",
   "execution_count": 244,
   "metadata": {
    "colab": {
     "base_uri": "https://localhost:8080/"
    },
    "id": "iXN6C6e7J8BG",
    "outputId": "2d11be5a-a949-4a21-b0e0-3168334b1aed"
   },
   "outputs": [
    {
     "name": "stdout",
     "output_type": "stream",
     "text": [
      "0.4932 0.5691 0.6821 0.8789 0.9209 0.9404 0.9521 0.9595 0.9644 0.9658 0.9683 0.9702 0.9722 0.9736 0.9746 0.9761 0.9771 0.9775 0.9775 0.978 "
     ]
    }
   ],
   "source": [
    "# fastai provides the SGD class that, by default, does the same thing as our BasicOptim:\n",
    "\n",
    "linear_model = nn.Linear(28*28,1)\n",
    "opt = SGD(linear_model.parameters(), lr)\n",
    "train_model(linear_model, 20)"
   ]
  },
  {
   "cell_type": "code",
   "execution_count": 245,
   "metadata": {
    "id": "q13Gu0-IJ8BG"
   },
   "outputs": [],
   "source": [
    "# fastai also provides Learner.fit, which we can use instead of train_model. \n",
    "# To create a Learner, we first need to create a DataLoaders, by passing in our training and validation DataLoaders:\n",
    "\n",
    "dls = DataLoaders(dl, valid_dl)"
   ]
  },
  {
   "cell_type": "code",
   "execution_count": 246,
   "metadata": {
    "id": "Qystuv9LJ8BH"
   },
   "outputs": [],
   "source": [
    "# To create a Learner without using an application (such as cnn_learner), \n",
    "# we need to pass in all the elements that we’ve created in this chapter: the DataLoaders, \n",
    "# the model, the optimization function (which will be passed the parameters), the loss function, and optionally any metrics to print:\n",
    "\n",
    "\n",
    "import requests\n",
    "learn = Learner(dls, nn.Linear(28*28,1), opt_func=SGD,\n",
    "                loss_func=mnist_loss, metrics=batch_accuracy)"
   ]
  },
  {
   "cell_type": "code",
   "execution_count": 247,
   "metadata": {
    "colab": {
     "base_uri": "https://localhost:8080/",
     "height": 363
    },
    "id": "ueqBqQr9J8BH",
    "outputId": "a8e54a80-0c25-4268-c2dc-8446f198d8d7"
   },
   "outputs": [
    {
     "data": {
      "text/html": [
       "<table border=\"1\" class=\"dataframe\">\n",
       "  <thead>\n",
       "    <tr style=\"text-align: left;\">\n",
       "      <th>epoch</th>\n",
       "      <th>train_loss</th>\n",
       "      <th>valid_loss</th>\n",
       "      <th>batch_accuracy</th>\n",
       "      <th>time</th>\n",
       "    </tr>\n",
       "  </thead>\n",
       "  <tbody>\n",
       "    <tr>\n",
       "      <td>0</td>\n",
       "      <td>0.637478</td>\n",
       "      <td>0.503210</td>\n",
       "      <td>0.495584</td>\n",
       "      <td>00:00</td>\n",
       "    </tr>\n",
       "    <tr>\n",
       "      <td>1</td>\n",
       "      <td>0.447612</td>\n",
       "      <td>0.272222</td>\n",
       "      <td>0.742395</td>\n",
       "      <td>00:00</td>\n",
       "    </tr>\n",
       "    <tr>\n",
       "      <td>2</td>\n",
       "      <td>0.168053</td>\n",
       "      <td>0.160805</td>\n",
       "      <td>0.855741</td>\n",
       "      <td>00:00</td>\n",
       "    </tr>\n",
       "    <tr>\n",
       "      <td>3</td>\n",
       "      <td>0.075343</td>\n",
       "      <td>0.099934</td>\n",
       "      <td>0.915604</td>\n",
       "      <td>00:00</td>\n",
       "    </tr>\n",
       "    <tr>\n",
       "      <td>4</td>\n",
       "      <td>0.041036</td>\n",
       "      <td>0.074606</td>\n",
       "      <td>0.934740</td>\n",
       "      <td>00:00</td>\n",
       "    </tr>\n",
       "    <tr>\n",
       "      <td>5</td>\n",
       "      <td>0.027523</td>\n",
       "      <td>0.060473</td>\n",
       "      <td>0.948970</td>\n",
       "      <td>00:00</td>\n",
       "    </tr>\n",
       "    <tr>\n",
       "      <td>6</td>\n",
       "      <td>0.021905</td>\n",
       "      <td>0.051516</td>\n",
       "      <td>0.957311</td>\n",
       "      <td>00:00</td>\n",
       "    </tr>\n",
       "    <tr>\n",
       "      <td>7</td>\n",
       "      <td>0.019370</td>\n",
       "      <td>0.045491</td>\n",
       "      <td>0.963199</td>\n",
       "      <td>00:00</td>\n",
       "    </tr>\n",
       "    <tr>\n",
       "      <td>8</td>\n",
       "      <td>0.018062</td>\n",
       "      <td>0.041231</td>\n",
       "      <td>0.966143</td>\n",
       "      <td>00:00</td>\n",
       "    </tr>\n",
       "    <tr>\n",
       "      <td>9</td>\n",
       "      <td>0.017264</td>\n",
       "      <td>0.038078</td>\n",
       "      <td>0.968597</td>\n",
       "      <td>00:00</td>\n",
       "    </tr>\n",
       "  </tbody>\n",
       "</table>"
      ],
      "text/plain": [
       "<IPython.core.display.HTML object>"
      ]
     },
     "metadata": {},
     "output_type": "display_data"
    }
   ],
   "source": [
    "learn.fit(10, lr=lr)"
   ]
  },
  {
   "cell_type": "markdown",
   "metadata": {
    "id": "tR6igkf7J8BH"
   },
   "source": [
    "## Adding a Nonlinearity"
   ]
  },
  {
   "cell_type": "code",
   "execution_count": 248,
   "metadata": {
    "id": "xLHbwFl8J8BH"
   },
   "outputs": [],
   "source": [
    "def simple_net(xb): \n",
    "    res = xb@w1 + b1\n",
    "    res = res.max(tensor(0.0))\n",
    "    res = res@w2 + b2\n",
    "    return res"
   ]
  },
  {
   "cell_type": "code",
   "execution_count": 249,
   "metadata": {
    "id": "or8LgiGOJ8BH"
   },
   "outputs": [],
   "source": [
    "w1 = init_params((28*28,30))\n",
    "b1 = init_params(30)\n",
    "w2 = init_params((30,1))\n",
    "b2 = init_params(1)"
   ]
  },
  {
   "cell_type": "code",
   "execution_count": 250,
   "metadata": {
    "colab": {
     "base_uri": "https://localhost:8080/",
     "height": 265
    },
    "id": "FYJP9E2EJ8BI",
    "outputId": "e93b8d47-215d-4bc9-d828-151ca4e136fe"
   },
   "outputs": [
    {
     "data": {
      "image/png": "[encoded data removed]",
      "text/plain": [
       "<Figure size 432x288 with 1 Axes>"
      ]
     },
     "metadata": {
      "needs_background": "light"
     },
     "output_type": "display_data"
    }
   ],
   "source": [
    "plot_function(F.relu)"
   ]
  },
  {
   "cell_type": "code",
   "execution_count": 251,
   "metadata": {
    "id": "pjgGcXwgJ8BI"
   },
   "outputs": [],
   "source": [
    "simple_net = nn.Sequential(\n",
    "    nn.Linear(28*28,30),\n",
    "    nn.ReLU(),\n",
    "    nn.Linear(30,1)\n",
    ")"
   ]
  },
  {
   "cell_type": "code",
   "execution_count": 252,
   "metadata": {
    "id": "MfMxWb9-J8BI"
   },
   "outputs": [],
   "source": [
    "learn = Learner(dls, simple_net, opt_func=SGD,\n",
    "                loss_func=mnist_loss, metrics=batch_accuracy)"
   ]
  },
  {
   "cell_type": "code",
   "execution_count": 253,
   "metadata": {
    "colab": {
     "base_uri": "https://localhost:8080/",
     "height": 1000
    },
    "id": "l0ckhkjUJ8BI",
    "outputId": "de0f87bd-5c73-41b9-8e3a-58d622854386"
   },
   "outputs": [
    {
     "data": {
      "text/html": [
       "<table border=\"1\" class=\"dataframe\">\n",
       "  <thead>\n",
       "    <tr style=\"text-align: left;\">\n",
       "      <th>epoch</th>\n",
       "      <th>train_loss</th>\n",
       "      <th>valid_loss</th>\n",
       "      <th>batch_accuracy</th>\n",
       "      <th>time</th>\n",
       "    </tr>\n",
       "  </thead>\n",
       "  <tbody>\n",
       "    <tr>\n",
       "      <td>0</td>\n",
       "      <td>0.284436</td>\n",
       "      <td>0.410935</td>\n",
       "      <td>0.505397</td>\n",
       "      <td>00:00</td>\n",
       "    </tr>\n",
       "    <tr>\n",
       "      <td>1</td>\n",
       "      <td>0.136610</td>\n",
       "      <td>0.214424</td>\n",
       "      <td>0.819921</td>\n",
       "      <td>00:00</td>\n",
       "    </tr>\n",
       "    <tr>\n",
       "      <td>2</td>\n",
       "      <td>0.076950</td>\n",
       "      <td>0.109428</td>\n",
       "      <td>0.920510</td>\n",
       "      <td>00:00</td>\n",
       "    </tr>\n",
       "    <tr>\n",
       "      <td>3</td>\n",
       "      <td>0.051449</td>\n",
       "      <td>0.075154</td>\n",
       "      <td>0.943081</td>\n",
       "      <td>00:00</td>\n",
       "    </tr>\n",
       "    <tr>\n",
       "      <td>4</td>\n",
       "      <td>0.039482</td>\n",
       "      <td>0.059288</td>\n",
       "      <td>0.958783</td>\n",
       "      <td>00:00</td>\n",
       "    </tr>\n",
       "    <tr>\n",
       "      <td>5</td>\n",
       "      <td>0.033271</td>\n",
       "      <td>0.050318</td>\n",
       "      <td>0.965162</td>\n",
       "      <td>00:00</td>\n",
       "    </tr>\n",
       "    <tr>\n",
       "      <td>6</td>\n",
       "      <td>0.029644</td>\n",
       "      <td>0.044625</td>\n",
       "      <td>0.966634</td>\n",
       "      <td>00:00</td>\n",
       "    </tr>\n",
       "    <tr>\n",
       "      <td>7</td>\n",
       "      <td>0.027256</td>\n",
       "      <td>0.040701</td>\n",
       "      <td>0.967615</td>\n",
       "      <td>00:00</td>\n",
       "    </tr>\n",
       "    <tr>\n",
       "      <td>8</td>\n",
       "      <td>0.025523</td>\n",
       "      <td>0.037828</td>\n",
       "      <td>0.969087</td>\n",
       "      <td>00:00</td>\n",
       "    </tr>\n",
       "    <tr>\n",
       "      <td>9</td>\n",
       "      <td>0.024177</td>\n",
       "      <td>0.035624</td>\n",
       "      <td>0.969578</td>\n",
       "      <td>00:00</td>\n",
       "    </tr>\n",
       "    <tr>\n",
       "      <td>10</td>\n",
       "      <td>0.023087</td>\n",
       "      <td>0.033868</td>\n",
       "      <td>0.972522</td>\n",
       "      <td>00:00</td>\n",
       "    </tr>\n",
       "    <tr>\n",
       "      <td>11</td>\n",
       "      <td>0.022178</td>\n",
       "      <td>0.032425</td>\n",
       "      <td>0.973503</td>\n",
       "      <td>00:00</td>\n",
       "    </tr>\n",
       "    <tr>\n",
       "      <td>12</td>\n",
       "      <td>0.021404</td>\n",
       "      <td>0.031209</td>\n",
       "      <td>0.973503</td>\n",
       "      <td>00:00</td>\n",
       "    </tr>\n",
       "    <tr>\n",
       "      <td>13</td>\n",
       "      <td>0.020735</td>\n",
       "      <td>0.030165</td>\n",
       "      <td>0.973994</td>\n",
       "      <td>00:00</td>\n",
       "    </tr>\n",
       "    <tr>\n",
       "      <td>14</td>\n",
       "      <td>0.020150</td>\n",
       "      <td>0.029255</td>\n",
       "      <td>0.974485</td>\n",
       "      <td>00:00</td>\n",
       "    </tr>\n",
       "    <tr>\n",
       "      <td>15</td>\n",
       "      <td>0.019632</td>\n",
       "      <td>0.028450</td>\n",
       "      <td>0.975466</td>\n",
       "      <td>00:00</td>\n",
       "    </tr>\n",
       "    <tr>\n",
       "      <td>16</td>\n",
       "      <td>0.019168</td>\n",
       "      <td>0.027733</td>\n",
       "      <td>0.976938</td>\n",
       "      <td>00:00</td>\n",
       "    </tr>\n",
       "    <tr>\n",
       "      <td>17</td>\n",
       "      <td>0.018751</td>\n",
       "      <td>0.027089</td>\n",
       "      <td>0.976938</td>\n",
       "      <td>00:00</td>\n",
       "    </tr>\n",
       "    <tr>\n",
       "      <td>18</td>\n",
       "      <td>0.018371</td>\n",
       "      <td>0.026506</td>\n",
       "      <td>0.977920</td>\n",
       "      <td>00:00</td>\n",
       "    </tr>\n",
       "    <tr>\n",
       "      <td>19</td>\n",
       "      <td>0.018023</td>\n",
       "      <td>0.025976</td>\n",
       "      <td>0.978901</td>\n",
       "      <td>00:00</td>\n",
       "    </tr>\n",
       "    <tr>\n",
       "      <td>20</td>\n",
       "      <td>0.017702</td>\n",
       "      <td>0.025493</td>\n",
       "      <td>0.978901</td>\n",
       "      <td>00:00</td>\n",
       "    </tr>\n",
       "    <tr>\n",
       "      <td>21</td>\n",
       "      <td>0.017405</td>\n",
       "      <td>0.025050</td>\n",
       "      <td>0.979392</td>\n",
       "      <td>00:00</td>\n",
       "    </tr>\n",
       "    <tr>\n",
       "      <td>22</td>\n",
       "      <td>0.017129</td>\n",
       "      <td>0.024642</td>\n",
       "      <td>0.979882</td>\n",
       "      <td>00:00</td>\n",
       "    </tr>\n",
       "    <tr>\n",
       "      <td>23</td>\n",
       "      <td>0.016870</td>\n",
       "      <td>0.024265</td>\n",
       "      <td>0.980373</td>\n",
       "      <td>00:00</td>\n",
       "    </tr>\n",
       "    <tr>\n",
       "      <td>24</td>\n",
       "      <td>0.016628</td>\n",
       "      <td>0.023916</td>\n",
       "      <td>0.980373</td>\n",
       "      <td>00:00</td>\n",
       "    </tr>\n",
       "    <tr>\n",
       "      <td>25</td>\n",
       "      <td>0.016401</td>\n",
       "      <td>0.023592</td>\n",
       "      <td>0.980373</td>\n",
       "      <td>00:00</td>\n",
       "    </tr>\n",
       "    <tr>\n",
       "      <td>26</td>\n",
       "      <td>0.016187</td>\n",
       "      <td>0.023290</td>\n",
       "      <td>0.980373</td>\n",
       "      <td>00:00</td>\n",
       "    </tr>\n",
       "    <tr>\n",
       "      <td>27</td>\n",
       "      <td>0.015983</td>\n",
       "      <td>0.023007</td>\n",
       "      <td>0.981354</td>\n",
       "      <td>00:00</td>\n",
       "    </tr>\n",
       "    <tr>\n",
       "      <td>28</td>\n",
       "      <td>0.015789</td>\n",
       "      <td>0.022744</td>\n",
       "      <td>0.981845</td>\n",
       "      <td>00:00</td>\n",
       "    </tr>\n",
       "    <tr>\n",
       "      <td>29</td>\n",
       "      <td>0.015605</td>\n",
       "      <td>0.022496</td>\n",
       "      <td>0.982826</td>\n",
       "      <td>00:00</td>\n",
       "    </tr>\n",
       "    <tr>\n",
       "      <td>30</td>\n",
       "      <td>0.015429</td>\n",
       "      <td>0.022264</td>\n",
       "      <td>0.982826</td>\n",
       "      <td>00:00</td>\n",
       "    </tr>\n",
       "    <tr>\n",
       "      <td>31</td>\n",
       "      <td>0.015261</td>\n",
       "      <td>0.022047</td>\n",
       "      <td>0.983317</td>\n",
       "      <td>00:00</td>\n",
       "    </tr>\n",
       "    <tr>\n",
       "      <td>32</td>\n",
       "      <td>0.015099</td>\n",
       "      <td>0.021842</td>\n",
       "      <td>0.983317</td>\n",
       "      <td>00:00</td>\n",
       "    </tr>\n",
       "    <tr>\n",
       "      <td>33</td>\n",
       "      <td>0.014944</td>\n",
       "      <td>0.021648</td>\n",
       "      <td>0.983317</td>\n",
       "      <td>00:00</td>\n",
       "    </tr>\n",
       "    <tr>\n",
       "      <td>34</td>\n",
       "      <td>0.014795</td>\n",
       "      <td>0.021464</td>\n",
       "      <td>0.983317</td>\n",
       "      <td>00:00</td>\n",
       "    </tr>\n",
       "    <tr>\n",
       "      <td>35</td>\n",
       "      <td>0.014652</td>\n",
       "      <td>0.021291</td>\n",
       "      <td>0.982826</td>\n",
       "      <td>00:00</td>\n",
       "    </tr>\n",
       "    <tr>\n",
       "      <td>36</td>\n",
       "      <td>0.014514</td>\n",
       "      <td>0.021126</td>\n",
       "      <td>0.982826</td>\n",
       "      <td>00:00</td>\n",
       "    </tr>\n",
       "    <tr>\n",
       "      <td>37</td>\n",
       "      <td>0.014381</td>\n",
       "      <td>0.020968</td>\n",
       "      <td>0.982826</td>\n",
       "      <td>00:00</td>\n",
       "    </tr>\n",
       "    <tr>\n",
       "      <td>38</td>\n",
       "      <td>0.014251</td>\n",
       "      <td>0.020819</td>\n",
       "      <td>0.982826</td>\n",
       "      <td>00:00</td>\n",
       "    </tr>\n",
       "    <tr>\n",
       "      <td>39</td>\n",
       "      <td>0.014126</td>\n",
       "      <td>0.020677</td>\n",
       "      <td>0.982826</td>\n",
       "      <td>00:00</td>\n",
       "    </tr>\n",
       "  </tbody>\n",
       "</table>"
      ],
      "text/plain": [
       "<IPython.core.display.HTML object>"
      ]
     },
     "metadata": {},
     "output_type": "display_data"
    }
   ],
   "source": [
    "learn.fit(40, 0.1)"
   ]
  },
  {
   "cell_type": "code",
   "execution_count": 254,
   "metadata": {
    "colab": {
     "base_uri": "https://localhost:8080/",
     "height": 266
    },
    "id": "FSGKaLqrJ8BI",
    "outputId": "4e809704-2133-4429-d4ed-492d96820d07"
   },
   "outputs": [
    {
     "data": {
      "image/png": "[encoded data removed]",
      "text/plain": [
       "<Figure size 432x288 with 1 Axes>"
      ]
     },
     "metadata": {
      "needs_background": "light"
     },
     "output_type": "display_data"
    }
   ],
   "source": [
    "plt.plot(L(learn.recorder.values).itemgot(2));"
   ]
  },
  {
   "cell_type": "code",
   "execution_count": 255,
   "metadata": {
    "colab": {
     "base_uri": "https://localhost:8080/"
    },
    "id": "m5fV47GKJ8BI",
    "outputId": "bb47a514-ea5d-4f15-9f2e-7df313629ddb"
   },
   "outputs": [
    {
     "data": {
      "text/plain": [
       "0.982826292514801"
      ]
     },
     "execution_count": 255,
     "metadata": {},
     "output_type": "execute_result"
    }
   ],
   "source": [
    "learn.recorder.values[-1][2]"
   ]
  },
  {
   "cell_type": "markdown",
   "metadata": {
    "id": "ys5ymtk1J8BJ"
   },
   "source": [
    "### Going Deeper"
   ]
  },
  {
   "cell_type": "code",
   "execution_count": 256,
   "metadata": {
    "colab": {
     "base_uri": "https://localhost:8080/",
     "height": 81
    },
    "id": "W7mvlIW9J8BJ",
    "outputId": "12b2393d-66ec-4fc8-9b91-73183a6a7a80"
   },
   "outputs": [
    {
     "data": {
      "text/html": [
       "<table border=\"1\" class=\"dataframe\">\n",
       "  <thead>\n",
       "    <tr style=\"text-align: left;\">\n",
       "      <th>epoch</th>\n",
       "      <th>train_loss</th>\n",
       "      <th>valid_loss</th>\n",
       "      <th>accuracy</th>\n",
       "      <th>time</th>\n",
       "    </tr>\n",
       "  </thead>\n",
       "  <tbody>\n",
       "    <tr>\n",
       "      <td>0</td>\n",
       "      <td>0.109901</td>\n",
       "      <td>0.005950</td>\n",
       "      <td>0.998037</td>\n",
       "      <td>03:23</td>\n",
       "    </tr>\n",
       "  </tbody>\n",
       "</table>"
      ],
      "text/plain": [
       "<IPython.core.display.HTML object>"
      ]
     },
     "metadata": {},
     "output_type": "display_data"
    }
   ],
   "source": [
    "dls = ImageDataLoaders.from_folder(path)\n",
    "learn = cnn_learner(dls, resnet18, pretrained=False,\n",
    "                    loss_func=F.cross_entropy, metrics=accuracy)\n",
    "learn.fit_one_cycle(1, 0.1)"
   ]
  },
  {
   "cell_type": "code",
   "execution_count": null,
   "metadata": {
    "id": "fseOt-ExJ8BW"
   },
   "outputs": [],
   "source": []
  }
 ],
 "metadata": {
  "colab": {
   "collapsed_sections": [
    "678NxitLJ8AX",
    "wAQ5Nh9LJ8Af",
    "JmJsI1U6J8BJ",
    "emvE7EWlJ8BU"
   ],
   "name": "04_mnist_basics.ipynb",
   "provenance": []
  },
  "jupytext": {
   "split_at_heading": true
  },
  "kernelspec": {
   "display_name": "Python 3 (ipykernel)",
   "language": "python",
   "name": "python3"
  },
  "language_info": {
   "codemirror_mode": {
    "name": "ipython",
    "version": 3
   },
   "file_extension": ".py",
   "mimetype": "text/x-python",
   "name": "python",
   "nbconvert_exporter": "python",
   "pygments_lexer": "ipython3",
   "version": "3.10.6"
  }
 },
 "nbformat": 4,
 "nbformat_minor": 1
}
