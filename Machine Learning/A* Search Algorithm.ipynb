{
 "cells": [
  {
   "cell_type": "markdown",
   "metadata": {
    "id": "dB4_y4GBm0tt"
   },
   "source": [
    "# A-Star Search Algorithm"
   ]
  },
  {
   "cell_type": "markdown",
   "metadata": {
    "id": "hRmWMPwTm5Ob"
   },
   "source": [
    "This notebook complements the walkthrough article [here](https://towardsdatascience.com/a-star-a-search-algorithm-eb495fb156bb) on the A-Star search algorithm. Throughout the notebook, we ask to you finish sections on your own and answer questions."
   ]
  },
  {
   "cell_type": "markdown",
   "metadata": {
    "id": "auBnTGWHoMle"
   },
   "source": [
    "## [Question - Describe A*]\n",
    "Describe A* search in your own words."
   ]
  },
  {
   "cell_type": "markdown",
   "metadata": {},
   "source": [
    "A* search is a type of algorithm used to find the shortest path between two points in a graph or a map. It is a variation of the popular Dijkstra's algorithm, but it also takes into account an estimate of the remaining distance to the target point, also known as the heuristic.\n",
    "A* search starts at the initial point and explores all possible paths to the target point. For each path, it calculates the cost of moving from the current point to the next point and the estimated remaining distance to the target point (using the heuristic). The algorithm then chooses the path with the lowest total cost, which is the sum of the cost of moving and the estimated remaining distance. The algorithm continues this process until it reaches the target point."
   ]
  },
  {
   "cell_type": "markdown",
   "metadata": {
    "id": "FsP7pSLAoooN"
   },
   "source": [
    "## [Question - Describe h and g]\n",
    "#### In A* search, describe the two key elements of *f(n)* (namely *h(n)* and *g(n)*). What do they represent in the algorithm and how do they differ?\n",
    "\n",
    "#### Answer: \n",
    "In an A* search, f(n) is a function that combines two other functions, h(n) and g(n), to estimate the total cost of reaching the goal state from a given node.\n",
    "\n",
    "F(n) = h(n) + g(n), by this formula f(n) finds and moves in the direction where F(n) has the lowest cost than the neighbouring node.\n",
    "\n",
    "g(n) represents the cost of the path from the start node to the current node n. This cost is often represented by the number of steps taken to reach the node or the actual cost of the path. for e.g. distance, time, etc.\n",
    "\n",
    "h(n) represents the estimated cost of the cheapest path from the current node n to the goal state. This cost is often represented by the heuristic function, which estimates the distance between a given node and the goal state.\n",
    "\n",
    "A* search uses the sum of these two costs, f(n) = g(n) + h(n), to determine the next node to expand in the search.\n"
   ]
  },
  {
   "cell_type": "markdown",
   "metadata": {
    "id": "-_VkEgNWuMDK"
   },
   "source": [
    "## [Activity - run Node]\n",
    "Examine and run the below code."
   ]
  },
  {
   "cell_type": "code",
   "execution_count": 1,
   "metadata": {
    "id": "ufRvBVJBmmxA"
   },
   "outputs": [],
   "source": [
    "\n",
    "class Node():\n",
    "    \"\"\"A node class for A* Pathfinding\"\"\"\n",
    "\n",
    "    def __init__(self, parent=None, position=None):\n",
    "        self.parent = parent\n",
    "        self.position = position\n",
    "\n",
    "        self.g = 0\n",
    "        self.h = 0\n",
    "        self.f = 0\n",
    "\n",
    "    def __eq__(self, other):\n",
    "        return self.position == other.position"
   ]
  },
  {
   "cell_type": "markdown",
   "metadata": {
    "id": "Ucsmb_lfuTrp"
   },
   "source": [
    "## [Question - Explain 'Node']\n",
    "\n",
    "#### In your own words, describe what the purpose of the *Node* class is. Why do we have to initialize a parent and a position?\n",
    "\n",
    "#### Answer:\n",
    "The purpose of the Node class is to represent a node in the search space of the A*  algorithm. Each instance of the Node class represents a point in the search space and contains information about that point, such as its position and its relationship to other points in the search space.\n",
    "\n",
    "The parent attribute represents the node that precedes the current node in the path from the start to the current node. The position attribute stores the coordinates of the node in the search space.\n",
    "\n",
    "The g, h, and f attributes are used to store the values of the g(n), h(n) and f(n) functions respectively. \n",
    "\n",
    "The g attribute represents the cost of the path from the start node to the current node, \n",
    "The h attribute represents the estimated cost of the path from the current node to the goal state.\n",
    "\n",
    "The f attribute is the sum of g and h, representing the total estimated cost of the path from start to goal via the current node. F(n) = g(n) + h(n)\n",
    "\n",
    "The __eq__ method is used to compare two nodes, it compares if the position attribute of the nodes are equal."
   ]
  },
  {
   "cell_type": "markdown",
   "metadata": {
    "id": "B6s0TVMuur8t"
   },
   "source": [
    "## [Activity - Run astar() ]"
   ]
  },
  {
   "cell_type": "code",
   "execution_count": 11,
   "metadata": {
    "id": "wYzrkdjZpxZs"
   },
   "outputs": [],
   "source": [
    "def astar(maze, start, end):\n",
    "    \"\"\"Returns a list of tuples as a path from the given start to the given end in the given maze\"\"\"\n",
    "\n",
    "    # Create start and end node\n",
    "    start_node = Node(None, start)\n",
    "    start_node.g = start_node.h = start_node.f = 0\n",
    "    end_node = Node(None, end)\n",
    "    end_node.g = end_node.h = end_node.f = 0\n",
    "\n",
    "    # Initialize both open and closed list\n",
    "    open_list = []\n",
    "    closed_list = []\n",
    "\n",
    "    # Add the start node\n",
    "    open_list.append(start_node)\n",
    "\n",
    "    # Loop until you find the end\n",
    "    while len(open_list) > 0:\n",
    "\n",
    "        # Get the current node\n",
    "        current_node = open_list[0]\n",
    "        current_index = 0\n",
    "        for index, item in enumerate(open_list):\n",
    "            if item.f < current_node.f:\n",
    "                current_node = item\n",
    "                current_index = index\n",
    "\n",
    "        # Pop current off open list, add to closed list\n",
    "        open_list.pop(current_index)\n",
    "        closed_list.append(current_node)\n",
    "\n",
    "        # Found the goal\n",
    "        if current_node == end_node:\n",
    "            path = []\n",
    "            current = current_node\n",
    "            while current is not None:\n",
    "                path.append(current.position)\n",
    "                current = current.parent\n",
    "            return path[::-1] # Return reversed path\n",
    "\n",
    "        # Generate children\n",
    "        children = []\n",
    "        for new_position in [(0, -1), (0, 1), (-1, 0), (1, 0), (-1, -1), (-1, 1), (1, -1), (1, 1)]: # Adjacent squares\n",
    "\n",
    "            # Get node position\n",
    "            node_position = (current_node.position[0] + new_position[0], current_node.position[1] + new_position[1])\n",
    "\n",
    "            # Make sure within range\n",
    "            if node_position[0] > (len(maze) - 1) or node_position[0] < 0 or node_position[1] > (len(maze[len(maze)-1]) -1) or node_position[1] < 0:\n",
    "                continue\n",
    "\n",
    "            # Make sure walkable terrain\n",
    "            if maze[node_position[0]][node_position[1]] != 0:\n",
    "                continue\n",
    "\n",
    "            # Create new node\n",
    "            new_node = Node(current_node, node_position)\n",
    "\n",
    "            # Append\n",
    "            children.append(new_node)\n",
    "\n",
    "        # Loop through children\n",
    "        for child in children:\n",
    "\n",
    "            # Child is on the closed list\n",
    "            if child in closed_list:\n",
    "                continue\n",
    "\n",
    "            # Create the f, g, and h values\n",
    "            child.g = current_node.g + 1\n",
    "            child.h = ((child.position[0] - end_node.position[0]) ** 2) + ((child.position[1] - end_node.position[1]) ** 2)\n",
    "            child.f = child.g + child.h\n",
    "\n",
    "            # Child is already in the open list\n",
    "            for open_node in open_list:\n",
    "                if child == open_node and child.g > open_node.g:\n",
    "                    continue\n",
    "\n",
    "            # Add the child to the open list\n",
    "            open_list.append(child)\n"
   ]
  },
  {
   "cell_type": "markdown",
   "metadata": {
    "id": "hral7UX2vF0z"
   },
   "source": [
    "## [Question - Explain maze]\n",
    "\n",
    "#### What type of input should value of *maze* be?\n",
    "\n",
    "The input for the 'maze' variable should be a 2-dimensional array or a list of lists. Each element in the array represents a point in the search space, with a 0 representing a walkable location and any other value representing an obstacle or non-walkable location. \n",
    "\n",
    "The value 0 represents walkable locations, while the value 1 represents obstacles or non-walkable locations.\n",
    "\n",
    "The astar function takes these three parameters as input, the maze, the start position and the end position, and returns a list of tuples as a path from the start to the end.\n"
   ]
  },
  {
   "cell_type": "markdown",
   "metadata": {
    "id": "EcB70Wbet1-w"
   },
   "source": [
    "## [Question - Build Main]\n",
    "Please use the above code that uses the astar() function to define a path from the beginning to the end of a maze. You can choose how the maze looks and where the start and end are."
   ]
  },
  {
   "cell_type": "code",
   "execution_count": 9,
   "metadata": {
    "id": "MY8tTsSbt1XE"
   },
   "outputs": [
    {
     "name": "stdout",
     "output_type": "stream",
     "text": [
      "The path from start to end is: [(0, 0), (0, 1), (0, 2), (1, 3), (2, 3), (3, 4), (4, 4), (5, 5), (6, 6)]\n"
     ]
    }
   ],
   "source": [
    "## [Your Code Here]\n",
    "if __name__ == \"__main__\":\n",
    "    maze = [[0,0,0,0,1,0,0],\n",
    "            [0,1,1,0,1,0,0],\n",
    "            [0,0,0,0,1,0,0],\n",
    "            [0,1,0,1,0,1,0],\n",
    "            [0,1,0,0,0,1,0],\n",
    "            [0,1,1,1,0,0,0],\n",
    "            [0,0,0,0,0,1,0]]\n",
    "    start = (0,0)\n",
    "    end = (6,6)\n",
    "    path = astar(maze, start, end)\n",
    "    print(\"The path from start to end is: \" + str(path))"
   ]
  },
  {
   "cell_type": "markdown",
   "metadata": {
    "id": "_t_M9LWSwc79"
   },
   "source": [
    "## [Question - Impossible Maze]\n",
    "Now create a maze that the algorithm cannot solve. What is the output of the algorithm?"
   ]
  },
  {
   "cell_type": "code",
   "execution_count": 10,
   "metadata": {
    "id": "yoQ3fuVbwnuv"
   },
   "outputs": [
    {
     "name": "stdout",
     "output_type": "stream",
     "text": [
      "The path from start to end is: None\n"
     ]
    }
   ],
   "source": [
    "## [Your Code Here]\n",
    "if __name__ == \"__main__\":\n",
    "    maze = [[1,1,1,1,1,1],\n",
    "            [1,0,0,0,0,1],\n",
    "            [1,0,1,1,0,1],\n",
    "            [1,0,1,1,0,1],\n",
    "            [1,0,0,1,0,1],\n",
    "            [1,0,0,0,0,1],\n",
    "            [1,1,1,1,1,1]]\n",
    "    start = (1,1)\n",
    "    end = (6,5)\n",
    "    path = astar(maze, start, end)\n",
    "    print(\"The path from start to end is: \" + str(path))"
   ]
  },
  {
   "cell_type": "markdown",
   "metadata": {},
   "source": [
    "Here, the algorithm starts at (1,1) and the end is at (6,5).\n",
    "The algorithm won't be able to find a path because there is a wall at (4,4) which blocks the passage from the start to the end.\n",
    "The output of the algorithm will be an empty list, [] which shows as None when printed."
   ]
  }
 ],
 "metadata": {
  "colab": {
   "collapsed_sections": [],
   "name": "eai6000-m02-hw.ipynb",
   "provenance": [],
   "toc_visible": true
  },
  "kernelspec": {
   "display_name": "Python 3 (ipykernel)",
   "language": "python",
   "name": "python3"
  },
  "language_info": {
   "codemirror_mode": {
    "name": "ipython",
    "version": 3
   },
   "file_extension": ".py",
   "mimetype": "text/x-python",
   "name": "python",
   "nbconvert_exporter": "python",
   "pygments_lexer": "ipython3",
   "version": "3.10.6"
  }
 },
 "nbformat": 4,
 "nbformat_minor": 1
}
